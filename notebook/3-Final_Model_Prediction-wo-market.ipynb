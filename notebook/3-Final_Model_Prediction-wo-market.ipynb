{
 "cells": [
  {
   "cell_type": "markdown",
   "id": "b14c953a",
   "metadata": {
    "toc": true
   },
   "source": [
    "<h1>Table of Contents<span class=\"tocSkip\"></span></h1>\n",
    "<div class=\"toc\"><ul class=\"toc-item\"><li><span><a href=\"#Import-Libraries-&amp;-Functions\" data-toc-modified-id=\"Import-Libraries-&amp;-Functions-1\"><span class=\"toc-item-num\">1&nbsp;&nbsp;</span>Import Libraries &amp; Functions</a></span></li><li><span><a href=\"#Read-the-Files\" data-toc-modified-id=\"Read-the-Files-2\"><span class=\"toc-item-num\">2&nbsp;&nbsp;</span>Read the Files</a></span><ul class=\"toc-item\"><li><span><a href=\"#Mapping-Ticker-Data\" data-toc-modified-id=\"Mapping-Ticker-Data-2.1\"><span class=\"toc-item-num\">2.1&nbsp;&nbsp;</span>Mapping Ticker Data</a></span></li><li><span><a href=\"#Market-Psych\" data-toc-modified-id=\"Market-Psych-2.2\"><span class=\"toc-item-num\">2.2&nbsp;&nbsp;</span>Market Psych</a></span></li><li><span><a href=\"#Training-Data\" data-toc-modified-id=\"Training-Data-2.3\"><span class=\"toc-item-num\">2.3&nbsp;&nbsp;</span>Training Data</a></span></li></ul></li><li><span><a href=\"#Standard-Scaller\" data-toc-modified-id=\"Standard-Scaller-3\"><span class=\"toc-item-num\">3&nbsp;&nbsp;</span>Standard Scaller</a></span></li><li><span><a href=\"#Principal-Component-Analysis\" data-toc-modified-id=\"Principal-Component-Analysis-4\"><span class=\"toc-item-num\">4&nbsp;&nbsp;</span>Principal Component Analysis</a></span></li><li><span><a href=\"#Regression-Model\" data-toc-modified-id=\"Regression-Model-5\"><span class=\"toc-item-num\">5&nbsp;&nbsp;</span>Regression Model</a></span><ul class=\"toc-item\"><li><span><a href=\"#XGBoost-Regressor\" data-toc-modified-id=\"XGBoost-Regressor-5.1\"><span class=\"toc-item-num\">5.1&nbsp;&nbsp;</span>XGBoost Regressor</a></span><ul class=\"toc-item\"><li><span><a href=\"#GridSearch\" data-toc-modified-id=\"GridSearch-5.1.1\"><span class=\"toc-item-num\">5.1.1&nbsp;&nbsp;</span>GridSearch</a></span></li><li><span><a href=\"#Fit-to-Whole-Training-Data\" data-toc-modified-id=\"Fit-to-Whole-Training-Data-5.1.2\"><span class=\"toc-item-num\">5.1.2&nbsp;&nbsp;</span>Fit to Whole Training Data</a></span></li><li><span><a href=\"#Performance-or-Classification\" data-toc-modified-id=\"Performance-or-Classification-5.1.3\"><span class=\"toc-item-num\">5.1.3&nbsp;&nbsp;</span>Performance or Classification</a></span></li></ul></li><li><span><a href=\"#Random-Forest-Regressor\" data-toc-modified-id=\"Random-Forest-Regressor-5.2\"><span class=\"toc-item-num\">5.2&nbsp;&nbsp;</span>Random Forest Regressor</a></span></li><li><span><a href=\"#Support-Vector-Regressor\" data-toc-modified-id=\"Support-Vector-Regressor-5.3\"><span class=\"toc-item-num\">5.3&nbsp;&nbsp;</span>Support Vector Regressor</a></span></li><li><span><a href=\"#Ensemble-Method\" data-toc-modified-id=\"Ensemble-Method-5.4\"><span class=\"toc-item-num\">5.4&nbsp;&nbsp;</span>Ensemble Method</a></span></li></ul></li><li><span><a href=\"#Test-Data\" data-toc-modified-id=\"Test-Data-6\"><span class=\"toc-item-num\">6&nbsp;&nbsp;</span>Test Data</a></span></li><li><span><a href=\"#Standard-Scaller\" data-toc-modified-id=\"Standard-Scaller-7\"><span class=\"toc-item-num\">7&nbsp;&nbsp;</span>Standard Scaller</a></span></li><li><span><a href=\"#Principal-Component-Analysis\" data-toc-modified-id=\"Principal-Component-Analysis-8\"><span class=\"toc-item-num\">8&nbsp;&nbsp;</span>Principal Component Analysis</a></span></li><li><span><a href=\"#Archive-Code\" data-toc-modified-id=\"Archive-Code-9\"><span class=\"toc-item-num\">9&nbsp;&nbsp;</span>Archive Code</a></span></li></ul></div>"
   ]
  },
  {
   "cell_type": "markdown",
   "id": "afbc6511",
   "metadata": {},
   "source": [
    "# Import Libraries & Functions"
   ]
  },
  {
   "cell_type": "code",
   "execution_count": 1,
   "id": "6b235e60",
   "metadata": {
    "ExecuteTime": {
     "end_time": "2023-05-25T21:39:39.114346Z",
     "start_time": "2023-05-25T21:39:37.701369Z"
    }
   },
   "outputs": [],
   "source": [
    "import numpy as np\n",
    "from sklearn.metrics import mean_squared_error\n",
    "from sklearn.model_selection import GridSearchCV\n",
    "from sklearn.model_selection import train_test_split\n",
    "from xgboost import XGBRegressor\n",
    "\n",
    "from sklearn.metrics import accuracy_score\n",
    "\n",
    "import numpy as np\n",
    "from sklearn.ensemble import RandomForestRegressor\n",
    "from sklearn.metrics import mean_squared_error\n",
    "from sklearn.model_selection import GridSearchCV\n",
    "from sklearn.model_selection import train_test_split\n",
    "from sklearn.svm import SVR\n",
    "\n",
    "import pandas as pd"
   ]
  },
  {
   "cell_type": "code",
   "execution_count": 2,
   "id": "e7c9da6f",
   "metadata": {
    "ExecuteTime": {
     "end_time": "2023-05-25T21:39:39.118038Z",
     "start_time": "2023-05-25T21:39:39.115537Z"
    }
   },
   "outputs": [],
   "source": [
    "def grade_calculation(score):\n",
    "    score = score / 100\n",
    "    \n",
    "    if score <= 0.250000:\n",
    "        val = 'D'\n",
    "    elif score <= 0.500000: \n",
    "        val = 'C'\n",
    "    elif score <= 0.750000: \n",
    "        val = 'B'\n",
    "    elif score > 0.75: \n",
    "        val = 'A'\n",
    "\n",
    "    return val"
   ]
  },
  {
   "cell_type": "markdown",
   "id": "cba6e307",
   "metadata": {},
   "source": [
    "# Read the Files"
   ]
  },
  {
   "cell_type": "markdown",
   "id": "94cf074a",
   "metadata": {},
   "source": [
    "## Mapping Ticker Data"
   ]
  },
  {
   "cell_type": "code",
   "execution_count": 3,
   "id": "d232be9d",
   "metadata": {
    "ExecuteTime": {
     "end_time": "2023-05-25T21:39:40.410618Z",
     "start_time": "2023-05-25T21:39:40.385348Z"
    }
   },
   "outputs": [],
   "source": [
    "fortune100 = pd.read_csv('../data/fortune100.csv')\n",
    "dax40 = pd.read_csv('../data/DAX40.csv')\n",
    "ftse100 = pd.read_csv('../data/FTSE100.csv')\n",
    "\n",
    "fortune100 = fortune100[['Symbol','RIC']]\n",
    "fortune100 = fortune100.rename(columns={'Symbol':'ticker_'})\n",
    "\n",
    "dax40 = dax40[['Ticker','RIC']]\n",
    "dax40 = dax40.rename(columns={'Ticker':'ticker_'})\n",
    "\n",
    "ftse100 = ftse100[['Ticker','Query']]\n",
    "ftse100 = ftse100.rename(columns={'Query':'RIC', 'Ticker':'ticker_'})"
   ]
  },
  {
   "cell_type": "code",
   "execution_count": 4,
   "id": "c88608f5",
   "metadata": {
    "ExecuteTime": {
     "end_time": "2023-05-25T21:39:41.385729Z",
     "start_time": "2023-05-25T21:39:41.380063Z"
    }
   },
   "outputs": [],
   "source": [
    "compile_indexes_df = pd.concat([fortune100, dax40, ftse100])"
   ]
  },
  {
   "cell_type": "markdown",
   "id": "d2447d94",
   "metadata": {},
   "source": [
    "## Market Psych"
   ]
  },
  {
   "cell_type": "code",
   "execution_count": 5,
   "id": "d14da30d",
   "metadata": {
    "ExecuteTime": {
     "end_time": "2023-05-25T21:39:41.750259Z",
     "start_time": "2023-05-25T21:39:41.738527Z"
    }
   },
   "outputs": [],
   "source": [
    "MarketPsych_df = pd.read_csv('/Users/yogi/Desktop/MPsych.csv')"
   ]
  },
  {
   "cell_type": "code",
   "execution_count": 6,
   "id": "719557c9",
   "metadata": {
    "ExecuteTime": {
     "end_time": "2023-05-25T21:39:42.053576Z",
     "start_time": "2023-05-25T21:39:42.043827Z"
    }
   },
   "outputs": [],
   "source": [
    "MarketPsych_df = MarketPsych_df.iloc[:, 1:]\n",
    "MarketPsych_df = pd.concat([MarketPsych_df[['ticker_', 'Y']] , MarketPsych_df.drop(['ticker_','Y'], axis=1)], axis=1)"
   ]
  },
  {
   "cell_type": "code",
   "execution_count": 7,
   "id": "be05ea6a",
   "metadata": {
    "ExecuteTime": {
     "end_time": "2023-05-25T21:39:43.046092Z",
     "start_time": "2023-05-25T21:39:43.014196Z"
    }
   },
   "outputs": [
    {
     "data": {
      "text/html": [
       "<div>\n",
       "<style scoped>\n",
       "    .dataframe tbody tr th:only-of-type {\n",
       "        vertical-align: middle;\n",
       "    }\n",
       "\n",
       "    .dataframe tbody tr th {\n",
       "        vertical-align: top;\n",
       "    }\n",
       "\n",
       "    .dataframe thead th {\n",
       "        text-align: right;\n",
       "    }\n",
       "</style>\n",
       "<table border=\"1\" class=\"dataframe\">\n",
       "  <thead>\n",
       "    <tr style=\"text-align: right;\">\n",
       "      <th></th>\n",
       "      <th>ticker_</th>\n",
       "      <th>Y</th>\n",
       "      <th>buzz_News</th>\n",
       "      <th>buzz_News_Headline</th>\n",
       "      <th>buzz_News_Social</th>\n",
       "      <th>buzz_Social</th>\n",
       "      <th>innovation_News</th>\n",
       "      <th>innovation_News_Headline</th>\n",
       "      <th>innovation_News_Social</th>\n",
       "      <th>innovation_Social</th>\n",
       "      <th>...</th>\n",
       "      <th>layoffs_News_Social</th>\n",
       "      <th>layoffs_Social</th>\n",
       "      <th>managementTrust_News</th>\n",
       "      <th>managementTrust_News_Headline</th>\n",
       "      <th>managementTrust_News_Social</th>\n",
       "      <th>managementTrust_Social</th>\n",
       "      <th>mentions_News</th>\n",
       "      <th>mentions_News_Headline</th>\n",
       "      <th>mentions_News_Social</th>\n",
       "      <th>mentions_Social</th>\n",
       "    </tr>\n",
       "  </thead>\n",
       "  <tbody>\n",
       "    <tr>\n",
       "      <th>0</th>\n",
       "      <td>LAND</td>\n",
       "      <td>2022</td>\n",
       "      <td>1498.70</td>\n",
       "      <td>63.0</td>\n",
       "      <td>1879.70</td>\n",
       "      <td>381.0</td>\n",
       "      <td>0.000000</td>\n",
       "      <td>0.000000</td>\n",
       "      <td>0.000000</td>\n",
       "      <td>0.000000</td>\n",
       "      <td>...</td>\n",
       "      <td>0.000000</td>\n",
       "      <td>0.000000</td>\n",
       "      <td>0.166667</td>\n",
       "      <td>0.000000</td>\n",
       "      <td>0.166667</td>\n",
       "      <td>0.000000</td>\n",
       "      <td>620.0</td>\n",
       "      <td>47.0</td>\n",
       "      <td>982.0</td>\n",
       "      <td>362.0</td>\n",
       "    </tr>\n",
       "    <tr>\n",
       "      <th>1</th>\n",
       "      <td>LAND</td>\n",
       "      <td>2023</td>\n",
       "      <td>934.00</td>\n",
       "      <td>13.0</td>\n",
       "      <td>979.00</td>\n",
       "      <td>45.0</td>\n",
       "      <td>0.000000</td>\n",
       "      <td>0.000000</td>\n",
       "      <td>0.000000</td>\n",
       "      <td>0.000000</td>\n",
       "      <td>...</td>\n",
       "      <td>0.000000</td>\n",
       "      <td>0.000000</td>\n",
       "      <td>0.176471</td>\n",
       "      <td>0.000000</td>\n",
       "      <td>0.200000</td>\n",
       "      <td>0.200000</td>\n",
       "      <td>469.0</td>\n",
       "      <td>27.0</td>\n",
       "      <td>483.0</td>\n",
       "      <td>14.0</td>\n",
       "    </tr>\n",
       "    <tr>\n",
       "      <th>2</th>\n",
       "      <td>BLND</td>\n",
       "      <td>2022</td>\n",
       "      <td>15537.50</td>\n",
       "      <td>705.5</td>\n",
       "      <td>20170.60</td>\n",
       "      <td>4633.1</td>\n",
       "      <td>0.090909</td>\n",
       "      <td>0.142857</td>\n",
       "      <td>0.125000</td>\n",
       "      <td>0.142857</td>\n",
       "      <td>...</td>\n",
       "      <td>0.086957</td>\n",
       "      <td>0.095238</td>\n",
       "      <td>0.090909</td>\n",
       "      <td>0.000000</td>\n",
       "      <td>0.047619</td>\n",
       "      <td>0.041667</td>\n",
       "      <td>3712.0</td>\n",
       "      <td>317.0</td>\n",
       "      <td>5664.0</td>\n",
       "      <td>1952.0</td>\n",
       "    </tr>\n",
       "    <tr>\n",
       "      <th>3</th>\n",
       "      <td>BLND</td>\n",
       "      <td>2023</td>\n",
       "      <td>7463.60</td>\n",
       "      <td>236.5</td>\n",
       "      <td>8992.50</td>\n",
       "      <td>1528.9</td>\n",
       "      <td>0.333333</td>\n",
       "      <td>0.000000</td>\n",
       "      <td>0.072727</td>\n",
       "      <td>0.062500</td>\n",
       "      <td>...</td>\n",
       "      <td>0.013158</td>\n",
       "      <td>0.019231</td>\n",
       "      <td>0.047059</td>\n",
       "      <td>0.000000</td>\n",
       "      <td>0.042105</td>\n",
       "      <td>0.000000</td>\n",
       "      <td>1909.0</td>\n",
       "      <td>120.0</td>\n",
       "      <td>2382.0</td>\n",
       "      <td>473.0</td>\n",
       "    </tr>\n",
       "    <tr>\n",
       "      <th>4</th>\n",
       "      <td>HL.</td>\n",
       "      <td>2022</td>\n",
       "      <td>72534.15</td>\n",
       "      <td>1474.0</td>\n",
       "      <td>85237.55</td>\n",
       "      <td>12703.4</td>\n",
       "      <td>0.025316</td>\n",
       "      <td>0.000000</td>\n",
       "      <td>0.025000</td>\n",
       "      <td>0.080000</td>\n",
       "      <td>...</td>\n",
       "      <td>0.036851</td>\n",
       "      <td>0.000000</td>\n",
       "      <td>0.117073</td>\n",
       "      <td>0.066667</td>\n",
       "      <td>0.081911</td>\n",
       "      <td>0.060606</td>\n",
       "      <td>12377.0</td>\n",
       "      <td>583.0</td>\n",
       "      <td>16391.0</td>\n",
       "      <td>4014.0</td>\n",
       "    </tr>\n",
       "  </tbody>\n",
       "</table>\n",
       "<p>5 rows × 26 columns</p>\n",
       "</div>"
      ],
      "text/plain": [
       "  ticker_     Y  buzz_News  buzz_News_Headline  buzz_News_Social  buzz_Social  \\\n",
       "0    LAND  2022    1498.70                63.0           1879.70        381.0   \n",
       "1    LAND  2023     934.00                13.0            979.00         45.0   \n",
       "2    BLND  2022   15537.50               705.5          20170.60       4633.1   \n",
       "3    BLND  2023    7463.60               236.5           8992.50       1528.9   \n",
       "4     HL.  2022   72534.15              1474.0          85237.55      12703.4   \n",
       "\n",
       "   innovation_News  innovation_News_Headline  innovation_News_Social  \\\n",
       "0         0.000000                  0.000000                0.000000   \n",
       "1         0.000000                  0.000000                0.000000   \n",
       "2         0.090909                  0.142857                0.125000   \n",
       "3         0.333333                  0.000000                0.072727   \n",
       "4         0.025316                  0.000000                0.025000   \n",
       "\n",
       "   innovation_Social  ...  layoffs_News_Social  layoffs_Social  \\\n",
       "0           0.000000  ...             0.000000        0.000000   \n",
       "1           0.000000  ...             0.000000        0.000000   \n",
       "2           0.142857  ...             0.086957        0.095238   \n",
       "3           0.062500  ...             0.013158        0.019231   \n",
       "4           0.080000  ...             0.036851        0.000000   \n",
       "\n",
       "   managementTrust_News  managementTrust_News_Headline  \\\n",
       "0              0.166667                       0.000000   \n",
       "1              0.176471                       0.000000   \n",
       "2              0.090909                       0.000000   \n",
       "3              0.047059                       0.000000   \n",
       "4              0.117073                       0.066667   \n",
       "\n",
       "   managementTrust_News_Social  managementTrust_Social  mentions_News  \\\n",
       "0                     0.166667                0.000000          620.0   \n",
       "1                     0.200000                0.200000          469.0   \n",
       "2                     0.047619                0.041667         3712.0   \n",
       "3                     0.042105                0.000000         1909.0   \n",
       "4                     0.081911                0.060606        12377.0   \n",
       "\n",
       "   mentions_News_Headline  mentions_News_Social  mentions_Social  \n",
       "0                    47.0                 982.0            362.0  \n",
       "1                    27.0                 483.0             14.0  \n",
       "2                   317.0                5664.0           1952.0  \n",
       "3                   120.0                2382.0            473.0  \n",
       "4                   583.0               16391.0           4014.0  \n",
       "\n",
       "[5 rows x 26 columns]"
      ]
     },
     "execution_count": 7,
     "metadata": {},
     "output_type": "execute_result"
    }
   ],
   "source": [
    "MarketPsych_df.head()"
   ]
  },
  {
   "cell_type": "markdown",
   "id": "6af6fc6a",
   "metadata": {},
   "source": [
    "## Training Data"
   ]
  },
  {
   "cell_type": "code",
   "execution_count": 8,
   "id": "da790f69",
   "metadata": {
    "ExecuteTime": {
     "end_time": "2023-05-25T21:39:44.529628Z",
     "start_time": "2023-05-25T21:39:44.456682Z"
    }
   },
   "outputs": [],
   "source": [
    "train_1 = pd.read_csv('../data/ML_Data/train_footsie_contains.csv')\n",
    "train_2 = pd.read_csv('../data/ML_Data/train_fortune100_contains.csv')\n",
    "train_3 = pd.read_csv('../data/ML_Data/train_DAX_contains.csv')\n",
    "\n",
    "train_df = pd.concat([train_1,train_2,train_3], axis=0)\n",
    "train_df = train_df.rename(columns={'firm':'RIC'})"
   ]
  },
  {
   "cell_type": "code",
   "execution_count": 9,
   "id": "a26e4b02",
   "metadata": {
    "ExecuteTime": {
     "end_time": "2023-05-25T21:39:45.873517Z",
     "start_time": "2023-05-25T21:39:45.861559Z"
    }
   },
   "outputs": [],
   "source": [
    "train_df = pd.merge(train_df, compile_indexes_df, how='left', on = 'RIC')"
   ]
  },
  {
   "cell_type": "code",
   "execution_count": 10,
   "id": "e8c9e241",
   "metadata": {
    "ExecuteTime": {
     "end_time": "2023-05-25T21:39:46.050249Z",
     "start_time": "2023-05-25T21:39:46.043473Z"
    }
   },
   "outputs": [],
   "source": [
    "train_df = pd.concat([train_df[['RIC', 'year' ,'ticker_']], train_df.drop(['RIC', 'year' ,'ticker_'], axis=1)], axis=1)"
   ]
  },
  {
   "cell_type": "code",
   "execution_count": 11,
   "id": "5715cbe6",
   "metadata": {
    "ExecuteTime": {
     "end_time": "2023-05-25T21:39:46.254320Z",
     "start_time": "2023-05-25T21:39:46.230757Z"
    }
   },
   "outputs": [
    {
     "data": {
      "text/html": [
       "<div>\n",
       "<style scoped>\n",
       "    .dataframe tbody tr th:only-of-type {\n",
       "        vertical-align: middle;\n",
       "    }\n",
       "\n",
       "    .dataframe tbody tr th {\n",
       "        vertical-align: top;\n",
       "    }\n",
       "\n",
       "    .dataframe thead th {\n",
       "        text-align: right;\n",
       "    }\n",
       "</style>\n",
       "<table border=\"1\" class=\"dataframe\">\n",
       "  <thead>\n",
       "    <tr style=\"text-align: right;\">\n",
       "      <th></th>\n",
       "      <th>RIC</th>\n",
       "      <th>year</th>\n",
       "      <th>ticker_</th>\n",
       "      <th>0</th>\n",
       "      <th>1</th>\n",
       "      <th>2</th>\n",
       "      <th>3</th>\n",
       "      <th>4</th>\n",
       "      <th>5</th>\n",
       "      <th>6</th>\n",
       "      <th>...</th>\n",
       "      <th>760</th>\n",
       "      <th>761</th>\n",
       "      <th>762</th>\n",
       "      <th>763</th>\n",
       "      <th>764</th>\n",
       "      <th>765</th>\n",
       "      <th>766</th>\n",
       "      <th>767</th>\n",
       "      <th>ESG Controversies Score</th>\n",
       "      <th>ESG Controversies Score Grade</th>\n",
       "    </tr>\n",
       "  </thead>\n",
       "  <tbody>\n",
       "    <tr>\n",
       "      <th>0</th>\n",
       "      <td>AAF.L</td>\n",
       "      <td>2022</td>\n",
       "      <td>AAF</td>\n",
       "      <td>-0.316090</td>\n",
       "      <td>0.325633</td>\n",
       "      <td>0.492556</td>\n",
       "      <td>-0.050070</td>\n",
       "      <td>0.381271</td>\n",
       "      <td>0.446845</td>\n",
       "      <td>-0.207054</td>\n",
       "      <td>...</td>\n",
       "      <td>0.180643</td>\n",
       "      <td>0.616740</td>\n",
       "      <td>-0.715521</td>\n",
       "      <td>0.880630</td>\n",
       "      <td>-0.490878</td>\n",
       "      <td>-0.111745</td>\n",
       "      <td>0.736818</td>\n",
       "      <td>0.420092</td>\n",
       "      <td>100.000000</td>\n",
       "      <td>A+</td>\n",
       "    </tr>\n",
       "    <tr>\n",
       "      <th>1</th>\n",
       "      <td>ABDN.L</td>\n",
       "      <td>2022</td>\n",
       "      <td>ABDN</td>\n",
       "      <td>-0.400195</td>\n",
       "      <td>-0.220467</td>\n",
       "      <td>-0.629772</td>\n",
       "      <td>0.436963</td>\n",
       "      <td>0.411417</td>\n",
       "      <td>-0.230281</td>\n",
       "      <td>0.104258</td>\n",
       "      <td>...</td>\n",
       "      <td>0.812860</td>\n",
       "      <td>0.249883</td>\n",
       "      <td>-0.261393</td>\n",
       "      <td>0.220430</td>\n",
       "      <td>-0.307368</td>\n",
       "      <td>-0.685380</td>\n",
       "      <td>-0.035406</td>\n",
       "      <td>0.278564</td>\n",
       "      <td>100.000000</td>\n",
       "      <td>A+</td>\n",
       "    </tr>\n",
       "    <tr>\n",
       "      <th>2</th>\n",
       "      <td>ABDN.L</td>\n",
       "      <td>2022</td>\n",
       "      <td>ABDN</td>\n",
       "      <td>-0.400195</td>\n",
       "      <td>-0.220467</td>\n",
       "      <td>-0.629772</td>\n",
       "      <td>0.436963</td>\n",
       "      <td>0.411417</td>\n",
       "      <td>-0.230281</td>\n",
       "      <td>0.104258</td>\n",
       "      <td>...</td>\n",
       "      <td>0.812860</td>\n",
       "      <td>0.249883</td>\n",
       "      <td>-0.261393</td>\n",
       "      <td>0.220430</td>\n",
       "      <td>-0.307368</td>\n",
       "      <td>-0.685380</td>\n",
       "      <td>-0.035406</td>\n",
       "      <td>0.278564</td>\n",
       "      <td>100.000000</td>\n",
       "      <td>A+</td>\n",
       "    </tr>\n",
       "    <tr>\n",
       "      <th>3</th>\n",
       "      <td>AHT.L</td>\n",
       "      <td>2022</td>\n",
       "      <td>AHT</td>\n",
       "      <td>-0.808410</td>\n",
       "      <td>0.125399</td>\n",
       "      <td>0.427910</td>\n",
       "      <td>0.202350</td>\n",
       "      <td>0.725803</td>\n",
       "      <td>0.359200</td>\n",
       "      <td>0.196529</td>\n",
       "      <td>...</td>\n",
       "      <td>0.937636</td>\n",
       "      <td>0.762159</td>\n",
       "      <td>-0.738225</td>\n",
       "      <td>0.972579</td>\n",
       "      <td>-0.804485</td>\n",
       "      <td>-0.530617</td>\n",
       "      <td>0.665348</td>\n",
       "      <td>0.749797</td>\n",
       "      <td>74.528302</td>\n",
       "      <td>B+</td>\n",
       "    </tr>\n",
       "    <tr>\n",
       "      <th>4</th>\n",
       "      <td>ANTO.L</td>\n",
       "      <td>2022</td>\n",
       "      <td>ANTO</td>\n",
       "      <td>-0.184318</td>\n",
       "      <td>-0.158951</td>\n",
       "      <td>-0.472866</td>\n",
       "      <td>0.285990</td>\n",
       "      <td>0.295325</td>\n",
       "      <td>-0.150287</td>\n",
       "      <td>-0.207242</td>\n",
       "      <td>...</td>\n",
       "      <td>0.642592</td>\n",
       "      <td>-0.064270</td>\n",
       "      <td>-0.249068</td>\n",
       "      <td>0.019297</td>\n",
       "      <td>0.019295</td>\n",
       "      <td>-0.622573</td>\n",
       "      <td>0.041856</td>\n",
       "      <td>-0.046189</td>\n",
       "      <td>100.000000</td>\n",
       "      <td>A+</td>\n",
       "    </tr>\n",
       "  </tbody>\n",
       "</table>\n",
       "<p>5 rows × 773 columns</p>\n",
       "</div>"
      ],
      "text/plain": [
       "      RIC  year ticker_         0         1         2         3         4  \\\n",
       "0   AAF.L  2022     AAF -0.316090  0.325633  0.492556 -0.050070  0.381271   \n",
       "1  ABDN.L  2022    ABDN -0.400195 -0.220467 -0.629772  0.436963  0.411417   \n",
       "2  ABDN.L  2022    ABDN -0.400195 -0.220467 -0.629772  0.436963  0.411417   \n",
       "3   AHT.L  2022     AHT -0.808410  0.125399  0.427910  0.202350  0.725803   \n",
       "4  ANTO.L  2022    ANTO -0.184318 -0.158951 -0.472866  0.285990  0.295325   \n",
       "\n",
       "          5         6  ...       760       761       762       763       764  \\\n",
       "0  0.446845 -0.207054  ...  0.180643  0.616740 -0.715521  0.880630 -0.490878   \n",
       "1 -0.230281  0.104258  ...  0.812860  0.249883 -0.261393  0.220430 -0.307368   \n",
       "2 -0.230281  0.104258  ...  0.812860  0.249883 -0.261393  0.220430 -0.307368   \n",
       "3  0.359200  0.196529  ...  0.937636  0.762159 -0.738225  0.972579 -0.804485   \n",
       "4 -0.150287 -0.207242  ...  0.642592 -0.064270 -0.249068  0.019297  0.019295   \n",
       "\n",
       "        765       766       767  ESG Controversies Score  \\\n",
       "0 -0.111745  0.736818  0.420092               100.000000   \n",
       "1 -0.685380 -0.035406  0.278564               100.000000   \n",
       "2 -0.685380 -0.035406  0.278564               100.000000   \n",
       "3 -0.530617  0.665348  0.749797                74.528302   \n",
       "4 -0.622573  0.041856 -0.046189               100.000000   \n",
       "\n",
       "   ESG Controversies Score Grade  \n",
       "0                             A+  \n",
       "1                             A+  \n",
       "2                             A+  \n",
       "3                             B+  \n",
       "4                             A+  \n",
       "\n",
       "[5 rows x 773 columns]"
      ]
     },
     "execution_count": 11,
     "metadata": {},
     "output_type": "execute_result"
    }
   ],
   "source": [
    "train_df.head()"
   ]
  },
  {
   "cell_type": "code",
   "execution_count": 12,
   "id": "60e4be5e",
   "metadata": {
    "ExecuteTime": {
     "end_time": "2023-05-25T21:40:21.425501Z",
     "start_time": "2023-05-25T21:40:21.406828Z"
    }
   },
   "outputs": [],
   "source": [
    "train_completed_df = train_df.drop(['RIC','year', 'ticker_','ESG Controversies Score Grade','ESG Controversies Score Grade'], axis=1).reset_index(drop=True)"
   ]
  },
  {
   "cell_type": "code",
   "execution_count": 14,
   "id": "d4e15ef0",
   "metadata": {
    "ExecuteTime": {
     "end_time": "2023-05-25T21:40:33.773348Z",
     "start_time": "2023-05-25T21:40:33.762954Z"
    }
   },
   "outputs": [],
   "source": [
    "y = train_completed_df.iloc[:,-1]\n",
    "X = train_completed_df.iloc[:,:-1]"
   ]
  },
  {
   "cell_type": "markdown",
   "id": "190e43f1",
   "metadata": {},
   "source": [
    "# Standard Scaller"
   ]
  },
  {
   "cell_type": "code",
   "execution_count": 15,
   "id": "9e4bb6a3",
   "metadata": {
    "ExecuteTime": {
     "end_time": "2023-05-25T21:40:35.182556Z",
     "start_time": "2023-05-25T21:40:35.177064Z"
    }
   },
   "outputs": [],
   "source": [
    "from sklearn.preprocessing import StandardScaler"
   ]
  },
  {
   "cell_type": "code",
   "execution_count": 16,
   "id": "a1e8d62d",
   "metadata": {
    "ExecuteTime": {
     "end_time": "2023-05-25T21:40:36.142128Z",
     "start_time": "2023-05-25T21:40:36.112505Z"
    }
   },
   "outputs": [],
   "source": [
    "stdscaller = StandardScaler()\n",
    "\n",
    "X_std_df = stdscaller.fit_transform(X)\n",
    "X_std_df = pd.DataFrame(X_std_df)"
   ]
  },
  {
   "cell_type": "markdown",
   "id": "3c6f122f",
   "metadata": {},
   "source": [
    "# Principal Component Analysis"
   ]
  },
  {
   "cell_type": "code",
   "execution_count": 17,
   "id": "a22f165f",
   "metadata": {
    "ExecuteTime": {
     "end_time": "2023-05-25T21:40:37.853333Z",
     "start_time": "2023-05-25T21:40:37.292922Z"
    }
   },
   "outputs": [
    {
     "data": {
      "image/png": "[encoded data removed]",
      "text/plain": [
       "<Figure size 640x480 with 1 Axes>"
      ]
     },
     "metadata": {},
     "output_type": "display_data"
    }
   ],
   "source": [
    "from sklearn.decomposition import PCA\n",
    "import matplotlib.pyplot as plt\n",
    "\n",
    "# Fit PCA to Xtrn_mn\n",
    "pca = PCA()\n",
    "\n",
    "pca.fit(X_std_df)\n",
    "\n",
    "# Calculate explained variance ratio\n",
    "explained_var_ratio = pca.explained_variance_ratio_\n",
    "\n",
    "# Calculate cumulative explained variance ratio\n",
    "cumulative_exp_var_ratio = np.cumsum(explained_var_ratio)\n",
    "\n",
    "# Plot the graph\n",
    "plt.plot(range(1, len(explained_var_ratio) + 1), cumulative_exp_var_ratio)\n",
    "plt.xlabel('Number of Principal Components')\n",
    "plt.ylabel('Cumulative Explained Variance Ratio')\n",
    "plt.show()"
   ]
  },
  {
   "cell_type": "code",
   "execution_count": 18,
   "id": "e8097d06",
   "metadata": {
    "ExecuteTime": {
     "end_time": "2023-05-25T21:40:38.502359Z",
     "start_time": "2023-05-25T21:40:38.494219Z"
    }
   },
   "outputs": [
    {
     "name": "stdout",
     "output_type": "stream",
     "text": [
      "Minimum number of principal components to explain 50.0% of variance: 1\n",
      "Minimum number of principal components to explain 60.0% of variance: 1\n",
      "Minimum number of principal components to explain 70.0% of variance: 2\n",
      "Minimum number of principal components to explain 80.0% of variance: 2\n",
      "Minimum number of principal components to explain 90.0% of variance: 2\n",
      "Minimum number of principal components to explain 95.0% of variance: 3\n",
      "Minimum number of principal components to explain 99.0% of variance: 15\n"
     ]
    }
   ],
   "source": [
    "#(3) Your code goes here\n",
    "\n",
    "# Calculate the cumulative explained variance ratio\n",
    "cumulative_explained_var_ratio = np.cumsum(pca.explained_variance_ratio_)\n",
    "\n",
    "# Find the minimum number of principal components required to explain a certain percentage of the total variance\n",
    "for percent in [0.5, 0.6, 0.7, 0.8, 0.9, 0.95, 0.99]:\n",
    "    num_components = np.argmax(cumulative_explained_var_ratio >= percent) + 1\n",
    "    print(f\"Minimum number of principal components to explain {percent*100}% of variance: {num_components}\")"
   ]
  },
  {
   "cell_type": "code",
   "execution_count": 19,
   "id": "bcee0c27",
   "metadata": {
    "ExecuteTime": {
     "end_time": "2023-05-25T21:40:42.509970Z",
     "start_time": "2023-05-25T21:40:40.494089Z"
    }
   },
   "outputs": [],
   "source": [
    "pca = PCA(n_components=num_components)\n",
    "X_pca = pca.fit_transform(X_std_df)"
   ]
  },
  {
   "cell_type": "code",
   "execution_count": 20,
   "id": "2d6caf72",
   "metadata": {
    "ExecuteTime": {
     "end_time": "2023-05-25T21:40:42.541944Z",
     "start_time": "2023-05-25T21:40:42.536334Z"
    }
   },
   "outputs": [],
   "source": [
    "X_train, X_val, y_train, y_val = train_test_split(X_pca, y, test_size=0.15, random_state=42)"
   ]
  },
  {
   "cell_type": "markdown",
   "id": "6ac10dd0",
   "metadata": {},
   "source": [
    "# Regression Model"
   ]
  },
  {
   "cell_type": "markdown",
   "id": "8d59fadc",
   "metadata": {},
   "source": [
    "## XGBoost Regressor"
   ]
  },
  {
   "cell_type": "code",
   "execution_count": 21,
   "id": "3e8fafce",
   "metadata": {
    "ExecuteTime": {
     "end_time": "2023-05-25T21:40:43.991254Z",
     "start_time": "2023-05-25T21:40:43.986236Z"
    }
   },
   "outputs": [],
   "source": [
    "# Create an XGBoostRegressor model\n",
    "XGB_model = XGBRegressor()\n",
    "\n",
    "# Define the parameter grid for grid search\n",
    "param_grid = {\n",
    "    'n_estimators': [100, 200, 300],  # Number of trees in the ensemble\n",
    "    'learning_rate': [0.1, 0.01, 0.001],  # Learning rate\n",
    "    'max_depth': [3, 4, 5]  # Maximum depth of each tree\n",
    "}"
   ]
  },
  {
   "cell_type": "markdown",
   "id": "c51fef5a",
   "metadata": {},
   "source": [
    "### GridSearch"
   ]
  },
  {
   "cell_type": "code",
   "execution_count": 22,
   "id": "b4233512",
   "metadata": {
    "ExecuteTime": {
     "end_time": "2023-05-25T21:40:49.454042Z",
     "start_time": "2023-05-25T21:40:45.656565Z"
    }
   },
   "outputs": [
    {
     "name": "stdout",
     "output_type": "stream",
     "text": [
      "Best Hyperparameters: {'learning_rate': 0.01, 'max_depth': 3, 'n_estimators': 300}\n",
      "Root Mean Squared Error: 12.51236361749467\n"
     ]
    }
   ],
   "source": [
    "grid_search = GridSearchCV(XGB_model, param_grid, cv=3)\n",
    "grid_search.fit(X_train, y_train)\n",
    "\n",
    "# Get the best model\n",
    "best_model = grid_search.best_estimator_\n",
    "\n",
    "y_train_pred = best_model.predict(X_train)\n",
    "mse = mean_squared_error(y_train, y_train_pred)\n",
    "rmse = np.sqrt(mse)\n",
    "\n",
    "# Print the best hyperparameters and evaluation metric\n",
    "print(\"Best Hyperparameters:\", grid_search.best_params_)\n",
    "print(\"Root Mean Squared Error:\", rmse)"
   ]
  },
  {
   "cell_type": "code",
   "execution_count": 23,
   "id": "12d3129d",
   "metadata": {
    "ExecuteTime": {
     "end_time": "2023-05-25T21:40:49.458825Z",
     "start_time": "2023-05-25T21:40:49.455987Z"
    }
   },
   "outputs": [
    {
     "name": "stdout",
     "output_type": "stream",
     "text": [
      "Best Hyperparameters: {'learning_rate': 0.01, 'max_depth': 3, 'n_estimators': 300}\n",
      "Root Mean Squared Error: 28.655941217068452\n"
     ]
    }
   ],
   "source": [
    "# Evaluate the best model on the test set\n",
    "y_pred = best_model.predict(X_val)\n",
    "mse = mean_squared_error(y_val, y_pred)\n",
    "rmse = np.sqrt(mse)\n",
    "\n",
    "# Print the best hyperparameters and evaluation metric\n",
    "print(\"Best Hyperparameters:\", grid_search.best_params_)\n",
    "print(\"Root Mean Squared Error:\", rmse)"
   ]
  },
  {
   "cell_type": "code",
   "execution_count": 63,
   "id": "4df0ccd1",
   "metadata": {
    "ExecuteTime": {
     "end_time": "2023-05-25T19:42:20.227051Z",
     "start_time": "2023-05-25T19:42:13.843758Z"
    }
   },
   "outputs": [
    {
     "name": "stdout",
     "output_type": "stream",
     "text": [
      "Best Hyperparameters: {'learning_rate': 0.1, 'max_depth': 3, 'n_estimators': 100}\n",
      "Root Mean Squared Error: 32.35878474854929\n"
     ]
    }
   ],
   "source": [
    "grid_search = GridSearchCV(XGB_model, param_grid, cv=3)\n",
    "grid_search.fit(X_train, y_train)\n",
    "\n",
    "# Get the best model\n",
    "best_model = grid_search.best_estimator_\n",
    "\n",
    "# Evaluate the best model on the test set\n",
    "y_pred = best_model.predict(X_val)\n",
    "mse = mean_squared_error(y_val, y_pred)\n",
    "rmse = np.sqrt(mse)\n",
    "\n",
    "# Print the best hyperparameters and evaluation metric\n",
    "print(\"Best Hyperparameters:\", grid_search.best_params_)\n",
    "print(\"Root Mean Squared Error:\", rmse)"
   ]
  },
  {
   "cell_type": "markdown",
   "id": "18b3ff1e",
   "metadata": {},
   "source": [
    "### Fit to Whole Training Data"
   ]
  },
  {
   "cell_type": "code",
   "execution_count": 24,
   "id": "23f31ad1",
   "metadata": {
    "ExecuteTime": {
     "end_time": "2023-05-25T21:41:14.533838Z",
     "start_time": "2023-05-25T21:41:14.339009Z"
    }
   },
   "outputs": [],
   "source": [
    "XGB_model = XGBRegressor(**grid_search.best_params_)\n",
    "XGB_model.fit(X_train, y_train)\n",
    "\n",
    "y_pred = XGB_model.predict(X_val)"
   ]
  },
  {
   "cell_type": "code",
   "execution_count": 25,
   "id": "09cf54ae",
   "metadata": {
    "ExecuteTime": {
     "end_time": "2023-05-25T21:41:14.725882Z",
     "start_time": "2023-05-25T21:41:14.722183Z"
    }
   },
   "outputs": [],
   "source": [
    "y_pred_grade = [grade_calculation(sc) for sc in y_pred]\n",
    "y_val_grade = [grade_calculation(sc) for sc in y_val]"
   ]
  },
  {
   "cell_type": "markdown",
   "id": "d3ffcee4",
   "metadata": {},
   "source": [
    "### Performance or Classification"
   ]
  },
  {
   "cell_type": "code",
   "execution_count": 26,
   "id": "348696cf",
   "metadata": {
    "ExecuteTime": {
     "end_time": "2023-05-25T21:41:15.395580Z",
     "start_time": "2023-05-25T21:41:15.388611Z"
    }
   },
   "outputs": [
    {
     "name": "stdout",
     "output_type": "stream",
     "text": [
      "0.5384615384615384\n",
      "['A', 'A', 'A', 'A', 'A', 'B', 'B', 'B', 'A', 'B', 'A', 'A', 'B']\n",
      "['A', 'A', 'D', 'A', 'A', 'A', 'A', 'C', 'A', 'B', 'B', 'A', 'D']\n"
     ]
    }
   ],
   "source": [
    "print(accuracy_score(y_pred_grade, y_val_grade))\n",
    "print(y_pred_grade)\n",
    "print(y_val_grade)"
   ]
  },
  {
   "cell_type": "markdown",
   "id": "c42f5a9c",
   "metadata": {},
   "source": [
    "## Random Forest Regressor"
   ]
  },
  {
   "cell_type": "code",
   "execution_count": 27,
   "id": "6ad786c9",
   "metadata": {
    "ExecuteTime": {
     "end_time": "2023-05-25T21:41:17.247888Z",
     "start_time": "2023-05-25T21:41:17.242181Z"
    }
   },
   "outputs": [],
   "source": [
    "# Random Forest Regressor\n",
    "rf_model = RandomForestRegressor(random_state=42)\n",
    "\n",
    "# Define the parameter grid for grid search\n",
    "rf_param_grid = {\n",
    "    'n_estimators': [50, 100, 200, 300],  # Number of trees in the forest\n",
    "    'max_depth': [None, 3, 5, 10],  # Maximum depth of each tree\n",
    "    'min_samples_split': [2, 5, 10],  # Minimum number of samples required to split an internal node\n",
    "    'min_samples_leaf': [1, 2, 4],  # Minimum number of samples required to be at a leaf node\n",
    "    'max_features': ['sqrt', 'log2'],  # Number of features to consider when looking for the best split\n",
    "}"
   ]
  },
  {
   "cell_type": "code",
   "execution_count": 28,
   "id": "08509e52",
   "metadata": {
    "ExecuteTime": {
     "end_time": "2023-05-25T21:42:21.725969Z",
     "start_time": "2023-05-25T21:41:19.092311Z"
    }
   },
   "outputs": [
    {
     "name": "stdout",
     "output_type": "stream",
     "text": [
      "Best Hyperparameters: {'max_depth': 3, 'max_features': 'sqrt', 'min_samples_leaf': 4, 'min_samples_split': 2, 'n_estimators': 300}\n",
      "Root Mean Squared Error: 22.767474722595647\n"
     ]
    }
   ],
   "source": [
    "grid_search = GridSearchCV(rf_model, rf_param_grid, cv=3)\n",
    "grid_search.fit(X_train, y_train)\n",
    "\n",
    "# Get the best model\n",
    "best_model = grid_search.best_estimator_\n",
    "\n",
    "y_train_pred = best_model.predict(X_train)\n",
    "mse = mean_squared_error(y_train, y_train_pred)\n",
    "rmse = np.sqrt(mse)\n",
    "\n",
    "# Print the best hyperparameters and evaluation metric\n",
    "print(\"Best Hyperparameters:\", grid_search.best_params_)\n",
    "print(\"Root Mean Squared Error:\", rmse)"
   ]
  },
  {
   "cell_type": "code",
   "execution_count": 29,
   "id": "50fba40b",
   "metadata": {
    "ExecuteTime": {
     "end_time": "2023-05-25T21:42:21.740350Z",
     "start_time": "2023-05-25T21:42:21.728567Z"
    }
   },
   "outputs": [
    {
     "name": "stdout",
     "output_type": "stream",
     "text": [
      "Best Hyperparameters: {'max_depth': 3, 'max_features': 'sqrt', 'min_samples_leaf': 4, 'min_samples_split': 2, 'n_estimators': 300}\n",
      "Root Mean Squared Error: 29.83666059798535\n"
     ]
    }
   ],
   "source": [
    "# Get the best model\n",
    "best_model = grid_search.best_estimator_\n",
    "\n",
    "# Evaluate the best model on the test set\n",
    "y_pred = best_model.predict(X_val)\n",
    "mse = mean_squared_error(y_val, y_pred)\n",
    "rmse = np.sqrt(mse)\n",
    "\n",
    "# Print the best hyperparameters and evaluation metric\n",
    "print(\"Best Hyperparameters:\", grid_search.best_params_)\n",
    "print(\"Root Mean Squared Error:\", rmse)"
   ]
  },
  {
   "cell_type": "code",
   "execution_count": 73,
   "id": "54e4013a",
   "metadata": {
    "ExecuteTime": {
     "end_time": "2023-05-25T19:45:16.707910Z",
     "start_time": "2023-05-25T19:44:14.144301Z"
    }
   },
   "outputs": [
    {
     "name": "stdout",
     "output_type": "stream",
     "text": [
      "Best Hyperparameters: {'max_depth': 3, 'max_features': 'sqrt', 'min_samples_leaf': 1, 'min_samples_split': 5, 'n_estimators': 50}\n",
      "Root Mean Squared Error: 30.763717619916108\n"
     ]
    }
   ],
   "source": [
    "grid_search = GridSearchCV(rf_model, rf_param_grid, cv=3)\n",
    "grid_search.fit(X_train, y_train)\n",
    "\n",
    "# Get the best model\n",
    "best_model = grid_search.best_estimator_\n",
    "\n",
    "# Evaluate the best model on the test set\n",
    "y_pred = best_model.predict(X_val)\n",
    "mse = mean_squared_error(y_val, y_pred)\n",
    "rmse = np.sqrt(mse)\n",
    "\n",
    "# Print the best hyperparameters and evaluation metric\n",
    "print(\"Best Hyperparameters:\", grid_search.best_params_)\n",
    "print(\"Root Mean Squared Error:\", rmse)"
   ]
  },
  {
   "cell_type": "code",
   "execution_count": 44,
   "id": "7130fa2d",
   "metadata": {
    "ExecuteTime": {
     "end_time": "2023-05-25T21:07:33.164709Z",
     "start_time": "2023-05-25T21:07:32.964341Z"
    }
   },
   "outputs": [],
   "source": [
    "rf_model = RandomForestRegressor(**grid_search.best_params_)\n",
    "rf_model.fit(X_train, y_train)\n",
    "\n",
    "y_pred = rf_model.predict(X_val)"
   ]
  },
  {
   "cell_type": "code",
   "execution_count": 45,
   "id": "8031f1a0",
   "metadata": {
    "ExecuteTime": {
     "end_time": "2023-05-25T21:07:33.363727Z",
     "start_time": "2023-05-25T21:07:33.359568Z"
    }
   },
   "outputs": [],
   "source": [
    "y_pred_grade = [grade_calculation(sc) for sc in y_pred]\n",
    "y_val_grade = [grade_calculation(sc) for sc in y_val]"
   ]
  },
  {
   "cell_type": "code",
   "execution_count": 46,
   "id": "109954e4",
   "metadata": {
    "ExecuteTime": {
     "end_time": "2023-05-25T21:07:34.163910Z",
     "start_time": "2023-05-25T21:07:34.158524Z"
    }
   },
   "outputs": [
    {
     "name": "stdout",
     "output_type": "stream",
     "text": [
      "0.6666666666666666\n",
      "['C', 'A', 'B', 'B', 'B', 'B', 'A', 'A', 'B', 'A', 'A', 'A', 'A', 'A', 'A', 'B', 'B', 'B', 'B', 'B', 'B', 'B', 'A', 'A']\n",
      "['D', 'A', 'A', 'A', 'B', 'B', 'A', 'A', 'B', 'A', 'A', 'A', 'A', 'A', 'A', 'B', 'C', 'D', 'B', 'A', 'A', 'A', 'A', 'A']\n"
     ]
    }
   ],
   "source": [
    "print(accuracy_score(y_pred_grade, y_val_grade))\n",
    "print(y_pred_grade)\n",
    "print(y_val_grade)"
   ]
  },
  {
   "cell_type": "markdown",
   "id": "e01c4b0c",
   "metadata": {},
   "source": [
    "## Support Vector Regressor"
   ]
  },
  {
   "cell_type": "code",
   "execution_count": 30,
   "id": "93289ce7",
   "metadata": {
    "ExecuteTime": {
     "end_time": "2023-05-25T21:43:12.255275Z",
     "start_time": "2023-05-25T21:43:12.237402Z"
    }
   },
   "outputs": [],
   "source": [
    "# Support Vector Regressor\n",
    "svr_model = SVR()\n",
    "\n",
    "# Define the parameter grid for grid search\n",
    "svr_param_grid = {\n",
    "    'C': [0.1, 1, 10, 100],  # Penalty parameter C\n",
    "    'epsilon': [0.01, 0.1, 0.5, 1.0],  # Epsilon parameter\n",
    "    'kernel': ['linear', 'rbf', 'poly'],  # Kernel type\n",
    "    'gamma': ['scale', 'auto'],  # Kernel coefficient for 'rbf' and 'poly' kernels\n",
    "}"
   ]
  },
  {
   "cell_type": "code",
   "execution_count": 31,
   "id": "d74cd54d",
   "metadata": {
    "ExecuteTime": {
     "end_time": "2023-05-25T21:43:17.544614Z",
     "start_time": "2023-05-25T21:43:12.376003Z"
    }
   },
   "outputs": [
    {
     "name": "stdout",
     "output_type": "stream",
     "text": [
      "Best Hyperparameters: {'C': 100, 'epsilon': 1.0, 'gamma': 'auto', 'kernel': 'rbf'}\n",
      "Root Mean Squared Error Training: 0.9999562238649125\n",
      "Best Hyperparameters: {'C': 100, 'epsilon': 1.0, 'gamma': 'auto', 'kernel': 'rbf'}\n",
      "Root Mean Squared Error Test: 32.0694878710298\n"
     ]
    }
   ],
   "source": [
    "grid_search = GridSearchCV(svr_model, svr_param_grid, cv=3)\n",
    "grid_search.fit(X_train, y_train)\n",
    "\n",
    "# Get the best model\n",
    "best_model = grid_search.best_estimator_\n",
    "\n",
    "y_train_pred = best_model.predict(X_train)\n",
    "mse = mean_squared_error(y_train, y_train_pred)\n",
    "rmse = np.sqrt(mse)\n",
    "\n",
    "# Print the best hyperparameters and evaluation metric\n",
    "print(\"Best Hyperparameters:\", grid_search.best_params_)\n",
    "print(\"Root Mean Squared Error Training:\", rmse)\n",
    "\n",
    "# Evaluate the best model on the test set\n",
    "y_pred = best_model.predict(X_val)\n",
    "mse = mean_squared_error(y_val, y_pred)\n",
    "rmse = np.sqrt(mse)\n",
    "\n",
    "# Print the best hyperparameters and evaluation metric\n",
    "print(\"Best Hyperparameters:\", grid_search.best_params_)\n",
    "print(\"Root Mean Squared Error Test:\", rmse)"
   ]
  },
  {
   "cell_type": "code",
   "execution_count": 79,
   "id": "d5a034cb",
   "metadata": {
    "ExecuteTime": {
     "end_time": "2023-05-25T19:47:53.940599Z",
     "start_time": "2023-05-25T19:47:52.436949Z"
    }
   },
   "outputs": [
    {
     "name": "stdout",
     "output_type": "stream",
     "text": [
      "Best Hyperparameters: {'C': 100, 'epsilon': 1.0, 'gamma': 'scale', 'kernel': 'rbf'}\n",
      "Root Mean Squared Error: 34.06233962438234\n"
     ]
    }
   ],
   "source": [
    "grid_search = GridSearchCV(svr_model, svr_param_grid, cv=3)\n",
    "grid_search.fit(X_train, y_train)\n",
    "\n",
    "# Get the best model\n",
    "best_model = grid_search.best_estimator_\n",
    "\n",
    "# Evaluate the best model on the test set\n",
    "y_pred = best_model.predict(X_val)\n",
    "mse = mean_squared_error(y_val, y_pred)\n",
    "rmse = np.sqrt(mse)\n",
    "\n",
    "# Print the best hyperparameters and evaluation metric\n",
    "print(\"Best Hyperparameters:\", grid_search.best_params_)\n",
    "print(\"Root Mean Squared Error:\", rmse)"
   ]
  },
  {
   "cell_type": "code",
   "execution_count": 51,
   "id": "480f7735",
   "metadata": {
    "ExecuteTime": {
     "end_time": "2023-05-25T21:08:14.656865Z",
     "start_time": "2023-05-25T21:08:14.631037Z"
    }
   },
   "outputs": [],
   "source": [
    "svr_model = SVR(**grid_search.best_params_)\n",
    "svr_model.fit(X_train, y_train)\n",
    "\n",
    "y_pred = svr_model.predict(X_val)"
   ]
  },
  {
   "cell_type": "code",
   "execution_count": 52,
   "id": "1ae5c5ad",
   "metadata": {
    "ExecuteTime": {
     "end_time": "2023-05-25T21:08:15.806280Z",
     "start_time": "2023-05-25T21:08:15.800813Z"
    }
   },
   "outputs": [],
   "source": [
    "y_pred_grade = [grade_calculation(sc) for sc in y_pred]\n",
    "y_val_grade = [grade_calculation(sc) for sc in y_val]"
   ]
  },
  {
   "cell_type": "code",
   "execution_count": 53,
   "id": "e7f95246",
   "metadata": {
    "ExecuteTime": {
     "end_time": "2023-05-25T21:08:16.076633Z",
     "start_time": "2023-05-25T21:08:16.069585Z"
    }
   },
   "outputs": [
    {
     "name": "stdout",
     "output_type": "stream",
     "text": [
      "0.75\n",
      "['A', 'A', 'A', 'B', 'B', 'B', 'A', 'A', 'B', 'A', 'B', 'A', 'A', 'A', 'A', 'B', 'B', 'B', 'B', 'B', 'A', 'A', 'A', 'A']\n",
      "['D', 'A', 'A', 'A', 'B', 'B', 'A', 'A', 'B', 'A', 'A', 'A', 'A', 'A', 'A', 'B', 'C', 'D', 'B', 'A', 'A', 'A', 'A', 'A']\n"
     ]
    }
   ],
   "source": [
    "print(accuracy_score(y_pred_grade, y_val_grade))\n",
    "print(y_pred_grade)\n",
    "print(y_val_grade)"
   ]
  },
  {
   "cell_type": "markdown",
   "id": "3a5b21b8",
   "metadata": {},
   "source": [
    "## Ensemble Method"
   ]
  },
  {
   "cell_type": "code",
   "execution_count": 32,
   "id": "8b0ccf48",
   "metadata": {
    "ExecuteTime": {
     "end_time": "2023-05-26T01:05:27.256319Z",
     "start_time": "2023-05-26T01:05:27.131059Z"
    }
   },
   "outputs": [],
   "source": [
    "from sklearn.ensemble import VotingRegressor"
   ]
  },
  {
   "cell_type": "code",
   "execution_count": 34,
   "id": "f7850fa1",
   "metadata": {
    "ExecuteTime": {
     "end_time": "2023-05-26T01:05:56.993527Z",
     "start_time": "2023-05-26T01:05:56.981434Z"
    }
   },
   "outputs": [],
   "source": [
    "from sklearn.linear_model import Ridge"
   ]
  },
  {
   "cell_type": "code",
   "execution_count": 35,
   "id": "19fce64a",
   "metadata": {
    "ExecuteTime": {
     "end_time": "2023-05-26T01:05:58.208623Z",
     "start_time": "2023-05-26T01:05:58.197604Z"
    }
   },
   "outputs": [],
   "source": [
    "# Define the individual regression models\n",
    "model1 = Ridge(**{'alpha': 10.0, 'fit_intercept': True, 'solver': 'saga'})\n",
    "model2 = RandomForestRegressor(**{'max_depth': None, 'max_features': 'sqrt', 'min_samples_leaf': 2, 'min_samples_split': 2, 'n_estimators': 200})\n",
    "model3 = SVR(**{'C': 100, 'epsilon': 1.0, 'gamma': 'scale', 'kernel': 'rbf'})\n",
    "\n",
    "# Create the ensemble model using VotingRegressor\n",
    "ensemble_model = VotingRegressor([('ridge', model1), ('RFR', model2), ('svr', model3)])"
   ]
  },
  {
   "cell_type": "code",
   "execution_count": 36,
   "id": "7cf9eb11",
   "metadata": {
    "ExecuteTime": {
     "end_time": "2023-05-26T01:06:02.091727Z",
     "start_time": "2023-05-26T01:06:01.888282Z"
    }
   },
   "outputs": [
    {
     "data": {
      "text/html": [
       "<style>#sk-container-id-1 {color: black;background-color: white;}#sk-container-id-1 pre{padding: 0;}#sk-container-id-1 div.sk-toggleable {background-color: white;}#sk-container-id-1 label.sk-toggleable__label {cursor: pointer;display: block;width: 100%;margin-bottom: 0;padding: 0.3em;box-sizing: border-box;text-align: center;}#sk-container-id-1 label.sk-toggleable__label-arrow:before {content: \"▸\";float: left;margin-right: 0.25em;color: #696969;}#sk-container-id-1 label.sk-toggleable__label-arrow:hover:before {color: black;}#sk-container-id-1 div.sk-estimator:hover label.sk-toggleable__label-arrow:before {color: black;}#sk-container-id-1 div.sk-toggleable__content {max-height: 0;max-width: 0;overflow: hidden;text-align: left;background-color: #f0f8ff;}#sk-container-id-1 div.sk-toggleable__content pre {margin: 0.2em;color: black;border-radius: 0.25em;background-color: #f0f8ff;}#sk-container-id-1 input.sk-toggleable__control:checked~div.sk-toggleable__content {max-height: 200px;max-width: 100%;overflow: auto;}#sk-container-id-1 input.sk-toggleable__control:checked~label.sk-toggleable__label-arrow:before {content: \"▾\";}#sk-container-id-1 div.sk-estimator input.sk-toggleable__control:checked~label.sk-toggleable__label {background-color: #d4ebff;}#sk-container-id-1 div.sk-label input.sk-toggleable__control:checked~label.sk-toggleable__label {background-color: #d4ebff;}#sk-container-id-1 input.sk-hidden--visually {border: 0;clip: rect(1px 1px 1px 1px);clip: rect(1px, 1px, 1px, 1px);height: 1px;margin: -1px;overflow: hidden;padding: 0;position: absolute;width: 1px;}#sk-container-id-1 div.sk-estimator {font-family: monospace;background-color: #f0f8ff;border: 1px dotted black;border-radius: 0.25em;box-sizing: border-box;margin-bottom: 0.5em;}#sk-container-id-1 div.sk-estimator:hover {background-color: #d4ebff;}#sk-container-id-1 div.sk-parallel-item::after {content: \"\";width: 100%;border-bottom: 1px solid gray;flex-grow: 1;}#sk-container-id-1 div.sk-label:hover label.sk-toggleable__label {background-color: #d4ebff;}#sk-container-id-1 div.sk-serial::before {content: \"\";position: absolute;border-left: 1px solid gray;box-sizing: border-box;top: 0;bottom: 0;left: 50%;z-index: 0;}#sk-container-id-1 div.sk-serial {display: flex;flex-direction: column;align-items: center;background-color: white;padding-right: 0.2em;padding-left: 0.2em;position: relative;}#sk-container-id-1 div.sk-item {position: relative;z-index: 1;}#sk-container-id-1 div.sk-parallel {display: flex;align-items: stretch;justify-content: center;background-color: white;position: relative;}#sk-container-id-1 div.sk-item::before, #sk-container-id-1 div.sk-parallel-item::before {content: \"\";position: absolute;border-left: 1px solid gray;box-sizing: border-box;top: 0;bottom: 0;left: 50%;z-index: -1;}#sk-container-id-1 div.sk-parallel-item {display: flex;flex-direction: column;z-index: 1;position: relative;background-color: white;}#sk-container-id-1 div.sk-parallel-item:first-child::after {align-self: flex-end;width: 50%;}#sk-container-id-1 div.sk-parallel-item:last-child::after {align-self: flex-start;width: 50%;}#sk-container-id-1 div.sk-parallel-item:only-child::after {width: 0;}#sk-container-id-1 div.sk-dashed-wrapped {border: 1px dashed gray;margin: 0 0.4em 0.5em 0.4em;box-sizing: border-box;padding-bottom: 0.4em;background-color: white;}#sk-container-id-1 div.sk-label label {font-family: monospace;font-weight: bold;display: inline-block;line-height: 1.2em;}#sk-container-id-1 div.sk-label-container {text-align: center;}#sk-container-id-1 div.sk-container {/* jupyter's `normalize.less` sets `[hidden] { display: none; }` but bootstrap.min.css set `[hidden] { display: none !important; }` so we also need the `!important` here to be able to override the default hidden behavior on the sphinx rendered scikit-learn.org. See: https://github.com/scikit-learn/scikit-learn/issues/21755 */display: inline-block !important;position: relative;}#sk-container-id-1 div.sk-text-repr-fallback {display: none;}</style><div id=\"sk-container-id-1\" class=\"sk-top-container\"><div class=\"sk-text-repr-fallback\"><pre>VotingRegressor(estimators=[(&#x27;ridge&#x27;, Ridge(alpha=10.0, solver=&#x27;saga&#x27;)),\n",
       "                            (&#x27;RFR&#x27;,\n",
       "                             RandomForestRegressor(max_features=&#x27;sqrt&#x27;,\n",
       "                                                   min_samples_leaf=2,\n",
       "                                                   n_estimators=200)),\n",
       "                            (&#x27;svr&#x27;, SVR(C=100, epsilon=1.0))])</pre><b>In a Jupyter environment, please rerun this cell to show the HTML representation or trust the notebook. <br />On GitHub, the HTML representation is unable to render, please try loading this page with nbviewer.org.</b></div><div class=\"sk-container\" hidden><div class=\"sk-item sk-dashed-wrapped\"><div class=\"sk-label-container\"><div class=\"sk-label sk-toggleable\"><input class=\"sk-toggleable__control sk-hidden--visually\" id=\"sk-estimator-id-1\" type=\"checkbox\" ><label for=\"sk-estimator-id-1\" class=\"sk-toggleable__label sk-toggleable__label-arrow\">VotingRegressor</label><div class=\"sk-toggleable__content\"><pre>VotingRegressor(estimators=[(&#x27;ridge&#x27;, Ridge(alpha=10.0, solver=&#x27;saga&#x27;)),\n",
       "                            (&#x27;RFR&#x27;,\n",
       "                             RandomForestRegressor(max_features=&#x27;sqrt&#x27;,\n",
       "                                                   min_samples_leaf=2,\n",
       "                                                   n_estimators=200)),\n",
       "                            (&#x27;svr&#x27;, SVR(C=100, epsilon=1.0))])</pre></div></div></div><div class=\"sk-parallel\"><div class=\"sk-parallel-item\"><div class=\"sk-item\"><div class=\"sk-label-container\"><div class=\"sk-label sk-toggleable\"><label>ridge</label></div></div><div class=\"sk-serial\"><div class=\"sk-item\"><div class=\"sk-estimator sk-toggleable\"><input class=\"sk-toggleable__control sk-hidden--visually\" id=\"sk-estimator-id-2\" type=\"checkbox\" ><label for=\"sk-estimator-id-2\" class=\"sk-toggleable__label sk-toggleable__label-arrow\">Ridge</label><div class=\"sk-toggleable__content\"><pre>Ridge(alpha=10.0, solver=&#x27;saga&#x27;)</pre></div></div></div></div></div></div><div class=\"sk-parallel-item\"><div class=\"sk-item\"><div class=\"sk-label-container\"><div class=\"sk-label sk-toggleable\"><label>RFR</label></div></div><div class=\"sk-serial\"><div class=\"sk-item\"><div class=\"sk-estimator sk-toggleable\"><input class=\"sk-toggleable__control sk-hidden--visually\" id=\"sk-estimator-id-3\" type=\"checkbox\" ><label for=\"sk-estimator-id-3\" class=\"sk-toggleable__label sk-toggleable__label-arrow\">RandomForestRegressor</label><div class=\"sk-toggleable__content\"><pre>RandomForestRegressor(max_features=&#x27;sqrt&#x27;, min_samples_leaf=2, n_estimators=200)</pre></div></div></div></div></div></div><div class=\"sk-parallel-item\"><div class=\"sk-item\"><div class=\"sk-label-container\"><div class=\"sk-label sk-toggleable\"><label>svr</label></div></div><div class=\"sk-serial\"><div class=\"sk-item\"><div class=\"sk-estimator sk-toggleable\"><input class=\"sk-toggleable__control sk-hidden--visually\" id=\"sk-estimator-id-4\" type=\"checkbox\" ><label for=\"sk-estimator-id-4\" class=\"sk-toggleable__label sk-toggleable__label-arrow\">SVR</label><div class=\"sk-toggleable__content\"><pre>SVR(C=100, epsilon=1.0)</pre></div></div></div></div></div></div></div></div></div></div>"
      ],
      "text/plain": [
       "VotingRegressor(estimators=[('ridge', Ridge(alpha=10.0, solver='saga')),\n",
       "                            ('RFR',\n",
       "                             RandomForestRegressor(max_features='sqrt',\n",
       "                                                   min_samples_leaf=2,\n",
       "                                                   n_estimators=200)),\n",
       "                            ('svr', SVR(C=100, epsilon=1.0))])"
      ]
     },
     "execution_count": 36,
     "metadata": {},
     "output_type": "execute_result"
    }
   ],
   "source": [
    "ensemble_model.fit(X_train, y_train)"
   ]
  },
  {
   "cell_type": "code",
   "execution_count": 37,
   "id": "c1627d2b",
   "metadata": {
    "ExecuteTime": {
     "end_time": "2023-05-26T01:06:15.761262Z",
     "start_time": "2023-05-26T01:06:15.721895Z"
    }
   },
   "outputs": [],
   "source": [
    "y_train_pred = ensemble_model.predict(X_train)\n",
    "# y_train_pred = [caps(val) for val in y_train_pred]\n",
    "mse = mean_squared_error(y_train, y_train_pred)\n",
    "rmse = np.sqrt(mse)"
   ]
  },
  {
   "cell_type": "code",
   "execution_count": 38,
   "id": "af4b4e16",
   "metadata": {
    "ExecuteTime": {
     "end_time": "2023-05-26T01:06:16.412848Z",
     "start_time": "2023-05-26T01:06:16.407853Z"
    }
   },
   "outputs": [
    {
     "name": "stdout",
     "output_type": "stream",
     "text": [
      "Root Mean Squared Error: 21.570077828849424\n"
     ]
    }
   ],
   "source": [
    "# evaluation metrics\n",
    "print(\"Root Mean Squared Error:\", rmse)"
   ]
  },
  {
   "cell_type": "code",
   "execution_count": 39,
   "id": "8d1f2d3e",
   "metadata": {
    "ExecuteTime": {
     "end_time": "2023-05-26T01:06:18.268496Z",
     "start_time": "2023-05-26T01:06:18.244949Z"
    }
   },
   "outputs": [
    {
     "name": "stdout",
     "output_type": "stream",
     "text": [
      "Best Hyperparameters: {'C': 100, 'epsilon': 1.0, 'gamma': 'auto', 'kernel': 'rbf'}\n",
      "Root Mean Squared Error: 30.937609934093942\n"
     ]
    }
   ],
   "source": [
    "# Evaluate the best model on the test set\n",
    "y_pred = ensemble_model.predict(X_val)\n",
    "mse = mean_squared_error(y_val, y_pred)\n",
    "rmse = np.sqrt(mse)\n",
    "\n",
    "# Print the best hyperparameters and evaluation metric\n",
    "print(\"Best Hyperparameters:\", grid_search.best_params_)\n",
    "print(\"Root Mean Squared Error:\", rmse)"
   ]
  },
  {
   "cell_type": "markdown",
   "id": "25e17f9b",
   "metadata": {},
   "source": [
    "# Test Data"
   ]
  },
  {
   "cell_type": "code",
   "execution_count": 41,
   "id": "7772460a",
   "metadata": {
    "ExecuteTime": {
     "end_time": "2023-05-26T01:18:35.554335Z",
     "start_time": "2023-05-26T01:18:35.465351Z"
    }
   },
   "outputs": [],
   "source": [
    "test_1 = pd.read_csv('../data/ML_Data/test_footsie_contains.csv')\n",
    "test_2 = pd.read_csv('../data/ML_Data/test_fortune100_contains.csv')\n",
    "test_3 = pd.read_csv('../data/ML_Data/test_DAX_contains.csv')\n",
    "\n",
    "test_df = pd.concat([test_1,test_2,test_3], axis=0)\n",
    "test_df = test_df.rename(columns={'firm':'RIC'})"
   ]
  },
  {
   "cell_type": "code",
   "execution_count": 42,
   "id": "1b74f13d",
   "metadata": {
    "ExecuteTime": {
     "end_time": "2023-05-26T01:20:10.046835Z",
     "start_time": "2023-05-26T01:20:09.986507Z"
    }
   },
   "outputs": [],
   "source": [
    "test_df = pd.merge(test_df, compile_indexes_df, how='left', on = 'RIC')"
   ]
  },
  {
   "cell_type": "code",
   "execution_count": 44,
   "id": "6541f663",
   "metadata": {
    "ExecuteTime": {
     "end_time": "2023-05-26T01:20:31.216167Z",
     "start_time": "2023-05-26T01:20:31.184494Z"
    }
   },
   "outputs": [],
   "source": [
    "test_df = pd.concat([test_df[['RIC', 'year' ,'ticker_']], test_df.drop(['RIC', 'year' ,'ticker_'], axis=1)], axis=1)"
   ]
  },
  {
   "cell_type": "code",
   "execution_count": 46,
   "id": "15fdf5ec",
   "metadata": {
    "ExecuteTime": {
     "end_time": "2023-05-26T01:21:02.225542Z",
     "start_time": "2023-05-26T01:21:02.191853Z"
    }
   },
   "outputs": [],
   "source": [
    "test_completed_df = test_df.drop(['RIC','year', 'ticker_','ESG Controversies Score Grade','ESG Controversies Score Grade'], axis=1).reset_index(drop=True)"
   ]
  },
  {
   "cell_type": "code",
   "execution_count": 14,
   "id": "4a0bbe52",
   "metadata": {
    "ExecuteTime": {
     "end_time": "2023-05-25T21:40:33.773348Z",
     "start_time": "2023-05-25T21:40:33.762954Z"
    }
   },
   "outputs": [],
   "source": [
    "y = train_completed_df.iloc[:,-1]\n",
    "X = train_completed_df.iloc[:,:-1]"
   ]
  },
  {
   "cell_type": "markdown",
   "id": "b3e7b361",
   "metadata": {},
   "source": [
    "# Standard Scaller"
   ]
  },
  {
   "cell_type": "code",
   "execution_count": 15,
   "id": "60451d5d",
   "metadata": {
    "ExecuteTime": {
     "end_time": "2023-05-25T21:40:35.182556Z",
     "start_time": "2023-05-25T21:40:35.177064Z"
    }
   },
   "outputs": [],
   "source": [
    "from sklearn.preprocessing import StandardScaler"
   ]
  },
  {
   "cell_type": "code",
   "execution_count": 16,
   "id": "c10cf288",
   "metadata": {
    "ExecuteTime": {
     "end_time": "2023-05-25T21:40:36.142128Z",
     "start_time": "2023-05-25T21:40:36.112505Z"
    }
   },
   "outputs": [],
   "source": [
    "stdscaller = StandardScaler()\n",
    "\n",
    "X_std_df = stdscaller.fit_transform(X)\n",
    "X_std_df = pd.DataFrame(X_std_df)"
   ]
  },
  {
   "cell_type": "markdown",
   "id": "3262b1a3",
   "metadata": {},
   "source": [
    "# Principal Component Analysis"
   ]
  },
  {
   "cell_type": "code",
   "execution_count": 17,
   "id": "53090bcf",
   "metadata": {
    "ExecuteTime": {
     "end_time": "2023-05-25T21:40:37.853333Z",
     "start_time": "2023-05-25T21:40:37.292922Z"
    }
   },
   "outputs": [
    {
     "data": {
      "image/png": "[encoded data removed]",
      "text/plain": [
       "<Figure size 640x480 with 1 Axes>"
      ]
     },
     "metadata": {},
     "output_type": "display_data"
    }
   ],
   "source": [
    "from sklearn.decomposition import PCA\n",
    "import matplotlib.pyplot as plt\n",
    "\n",
    "# Fit PCA to Xtrn_mn\n",
    "pca = PCA()\n",
    "\n",
    "pca.fit(X_std_df)\n",
    "\n",
    "# Calculate explained variance ratio\n",
    "explained_var_ratio = pca.explained_variance_ratio_\n",
    "\n",
    "# Calculate cumulative explained variance ratio\n",
    "cumulative_exp_var_ratio = np.cumsum(explained_var_ratio)\n",
    "\n",
    "# Plot the graph\n",
    "plt.plot(range(1, len(explained_var_ratio) + 1), cumulative_exp_var_ratio)\n",
    "plt.xlabel('Number of Principal Components')\n",
    "plt.ylabel('Cumulative Explained Variance Ratio')\n",
    "plt.show()"
   ]
  },
  {
   "cell_type": "code",
   "execution_count": 18,
   "id": "07456443",
   "metadata": {
    "ExecuteTime": {
     "end_time": "2023-05-25T21:40:38.502359Z",
     "start_time": "2023-05-25T21:40:38.494219Z"
    }
   },
   "outputs": [
    {
     "name": "stdout",
     "output_type": "stream",
     "text": [
      "Minimum number of principal components to explain 50.0% of variance: 1\n",
      "Minimum number of principal components to explain 60.0% of variance: 1\n",
      "Minimum number of principal components to explain 70.0% of variance: 2\n",
      "Minimum number of principal components to explain 80.0% of variance: 2\n",
      "Minimum number of principal components to explain 90.0% of variance: 2\n",
      "Minimum number of principal components to explain 95.0% of variance: 3\n",
      "Minimum number of principal components to explain 99.0% of variance: 15\n"
     ]
    }
   ],
   "source": [
    "#(3) Your code goes here\n",
    "\n",
    "# Calculate the cumulative explained variance ratio\n",
    "cumulative_explained_var_ratio = np.cumsum(pca.explained_variance_ratio_)\n",
    "\n",
    "# Find the minimum number of principal components required to explain a certain percentage of the total variance\n",
    "for percent in [0.5, 0.6, 0.7, 0.8, 0.9, 0.95, 0.99]:\n",
    "    num_components = np.argmax(cumulative_explained_var_ratio >= percent) + 1\n",
    "    print(f\"Minimum number of principal components to explain {percent*100}% of variance: {num_components}\")"
   ]
  },
  {
   "cell_type": "code",
   "execution_count": 19,
   "id": "e8c94a11",
   "metadata": {
    "ExecuteTime": {
     "end_time": "2023-05-25T21:40:42.509970Z",
     "start_time": "2023-05-25T21:40:40.494089Z"
    }
   },
   "outputs": [],
   "source": [
    "pca = PCA(n_components=num_components)\n",
    "X_pca = pca.fit_transform(X_std_df)"
   ]
  },
  {
   "cell_type": "code",
   "execution_count": 20,
   "id": "56620f49",
   "metadata": {
    "ExecuteTime": {
     "end_time": "2023-05-25T21:40:42.541944Z",
     "start_time": "2023-05-25T21:40:42.536334Z"
    }
   },
   "outputs": [],
   "source": [
    "X_train, X_val, y_train, y_val = train_test_split(X_pca, y, test_size=0.15, random_state=42)"
   ]
  },
  {
   "cell_type": "code",
   "execution_count": null,
   "id": "befd4bab",
   "metadata": {},
   "outputs": [],
   "source": []
  },
  {
   "cell_type": "code",
   "execution_count": null,
   "id": "2a2ccb70",
   "metadata": {},
   "outputs": [],
   "source": []
  },
  {
   "cell_type": "code",
   "execution_count": null,
   "id": "685cac33",
   "metadata": {},
   "outputs": [],
   "source": []
  },
  {
   "cell_type": "markdown",
   "id": "1c818438",
   "metadata": {},
   "source": [
    "# Archive Code"
   ]
  },
  {
   "cell_type": "code",
   "execution_count": 211,
   "id": "ef5a6cc3",
   "metadata": {
    "ExecuteTime": {
     "end_time": "2023-05-25T01:34:39.046966Z",
     "start_time": "2023-05-25T01:34:30.677273Z"
    }
   },
   "outputs": [
    {
     "name": "stdout",
     "output_type": "stream",
     "text": [
      "Best Hyperparameters: {'learning_rate': 0.1, 'max_depth': 3, 'n_estimators': 200}\n",
      "Root Mean Squared Error: 22.841653795025273\n"
     ]
    }
   ],
   "source": [
    "grid_search = GridSearchCV(model, param_grid, cv=4)\n",
    "grid_search.fit(X_train, y_train)\n",
    "\n",
    "# Get the best model\n",
    "best_model = grid_search.best_estimator_\n",
    "\n",
    "# Evaluate the best model on the test set\n",
    "y_pred = best_model.predict(X_val)\n",
    "mse = mean_squared_error(y_val, y_pred)\n",
    "rmse = np.sqrt(mse)\n",
    "\n",
    "# Print the best hyperparameters and evaluation metric\n",
    "print(\"Best Hyperparameters:\", grid_search.best_params_)\n",
    "print(\"Root Mean Squared Error:\", rmse)"
   ]
  }
 ],
 "metadata": {
  "kernelspec": {
   "display_name": "Python 3.10 (tensorflow)",
   "language": "python",
   "name": "tensorflow"
  },
  "language_info": {
   "codemirror_mode": {
    "name": "ipython",
    "version": 3
   },
   "file_extension": ".py",
   "mimetype": "text/x-python",
   "name": "python",
   "nbconvert_exporter": "python",
   "pygments_lexer": "ipython3",
   "version": "3.10.8"
  },
  "toc": {
   "base_numbering": 1,
   "nav_menu": {},
   "number_sections": true,
   "sideBar": true,
   "skip_h1_title": false,
   "title_cell": "Table of Contents",
   "title_sidebar": "Contents",
   "toc_cell": true,
   "toc_position": {
    "height": "calc(100% - 180px)",
    "left": "10px",
    "top": "150px",
    "width": "276.884px"
   },
   "toc_section_display": true,
   "toc_window_display": true
  }
 },
 "nbformat": 4,
 "nbformat_minor": 5
}
