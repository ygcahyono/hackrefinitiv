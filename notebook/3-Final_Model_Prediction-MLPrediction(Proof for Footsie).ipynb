{
 "cells": [
  {
   "cell_type": "markdown",
   "id": "5532a97a",
   "metadata": {
    "toc": true
   },
   "source": [
    "<h1>Table of Contents<span class=\"tocSkip\"></span></h1>\n",
    "<div class=\"toc\"><ul class=\"toc-item\"><li><span><a href=\"#Import-Libraries-&amp;-Functions\" data-toc-modified-id=\"Import-Libraries-&amp;-Functions-1\"><span class=\"toc-item-num\">1&nbsp;&nbsp;</span>Import Libraries &amp; Functions</a></span></li><li><span><a href=\"#Read-the-Files\" data-toc-modified-id=\"Read-the-Files-2\"><span class=\"toc-item-num\">2&nbsp;&nbsp;</span>Read the Files</a></span><ul class=\"toc-item\"><li><span><a href=\"#Mapping-Ticker-Data\" data-toc-modified-id=\"Mapping-Ticker-Data-2.1\"><span class=\"toc-item-num\">2.1&nbsp;&nbsp;</span>Mapping Ticker Data</a></span></li><li><span><a href=\"#Market-Psych\" data-toc-modified-id=\"Market-Psych-2.2\"><span class=\"toc-item-num\">2.2&nbsp;&nbsp;</span>Market Psych</a></span></li><li><span><a href=\"#Training-Data\" data-toc-modified-id=\"Training-Data-2.3\"><span class=\"toc-item-num\">2.3&nbsp;&nbsp;</span>Training Data</a></span></li></ul></li><li><span><a href=\"#Standard-Scaller\" data-toc-modified-id=\"Standard-Scaller-3\"><span class=\"toc-item-num\">3&nbsp;&nbsp;</span>Standard Scaller</a></span></li><li><span><a href=\"#Principal-Component-Analysis\" data-toc-modified-id=\"Principal-Component-Analysis-4\"><span class=\"toc-item-num\">4&nbsp;&nbsp;</span>Principal Component Analysis</a></span></li><li><span><a href=\"#Regression-Model\" data-toc-modified-id=\"Regression-Model-5\"><span class=\"toc-item-num\">5&nbsp;&nbsp;</span>Regression Model</a></span><ul class=\"toc-item\"><li><span><a href=\"#XGBoost-Regressor\" data-toc-modified-id=\"XGBoost-Regressor-5.1\"><span class=\"toc-item-num\">5.1&nbsp;&nbsp;</span>XGBoost Regressor</a></span><ul class=\"toc-item\"><li><span><a href=\"#GridSearch\" data-toc-modified-id=\"GridSearch-5.1.1\"><span class=\"toc-item-num\">5.1.1&nbsp;&nbsp;</span>GridSearch</a></span></li><li><span><a href=\"#Fit-to-Whole-Training-Data\" data-toc-modified-id=\"Fit-to-Whole-Training-Data-5.1.2\"><span class=\"toc-item-num\">5.1.2&nbsp;&nbsp;</span>Fit to Whole Training Data</a></span></li><li><span><a href=\"#Performance-or-Classification\" data-toc-modified-id=\"Performance-or-Classification-5.1.3\"><span class=\"toc-item-num\">5.1.3&nbsp;&nbsp;</span>Performance or Classification</a></span></li></ul></li><li><span><a href=\"#Random-Forest-Regressor\" data-toc-modified-id=\"Random-Forest-Regressor-5.2\"><span class=\"toc-item-num\">5.2&nbsp;&nbsp;</span>Random Forest Regressor</a></span></li><li><span><a href=\"#Support-Vector-Regressor\" data-toc-modified-id=\"Support-Vector-Regressor-5.3\"><span class=\"toc-item-num\">5.3&nbsp;&nbsp;</span>Support Vector Regressor</a></span></li></ul></li><li><span><a href=\"#Archive-Code\" data-toc-modified-id=\"Archive-Code-6\"><span class=\"toc-item-num\">6&nbsp;&nbsp;</span>Archive Code</a></span></li></ul></div>"
   ]
  },
  {
   "cell_type": "markdown",
   "id": "de161a14",
   "metadata": {},
   "source": [
    "# Import Libraries & Functions"
   ]
  },
  {
   "cell_type": "code",
   "execution_count": 1,
   "id": "a16fe6e0",
   "metadata": {
    "ExecuteTime": {
     "end_time": "2023-05-26T00:12:32.923276Z",
     "start_time": "2023-05-26T00:12:31.373235Z"
    }
   },
   "outputs": [],
   "source": [
    "import numpy as np\n",
    "from sklearn.metrics import mean_squared_error\n",
    "from sklearn.model_selection import GridSearchCV\n",
    "from sklearn.model_selection import train_test_split\n",
    "from xgboost import XGBRegressor\n",
    "\n",
    "from sklearn.metrics import accuracy_score\n",
    "\n",
    "import numpy as np\n",
    "from sklearn.ensemble import RandomForestRegressor\n",
    "from sklearn.metrics import mean_squared_error\n",
    "from sklearn.model_selection import GridSearchCV\n",
    "from sklearn.model_selection import train_test_split\n",
    "from sklearn.svm import SVR\n",
    "\n",
    "import pandas as pd"
   ]
  },
  {
   "cell_type": "code",
   "execution_count": 2,
   "id": "3e3767f2",
   "metadata": {
    "ExecuteTime": {
     "end_time": "2023-05-26T00:12:33.186566Z",
     "start_time": "2023-05-26T00:12:33.182278Z"
    }
   },
   "outputs": [],
   "source": [
    "def grade_calculation(score):\n",
    "    score = score / 100\n",
    "    \n",
    "    if score <= 0.250000:\n",
    "        val = 'D'\n",
    "    elif score <= 0.500000: \n",
    "        val = 'C'\n",
    "    elif score <= 0.750000: \n",
    "        val = 'B'\n",
    "    elif score > 0.75: \n",
    "        val = 'A'\n",
    "\n",
    "    return val"
   ]
  },
  {
   "cell_type": "markdown",
   "id": "40356e18",
   "metadata": {},
   "source": [
    "# Read the Files"
   ]
  },
  {
   "cell_type": "markdown",
   "id": "1342a530",
   "metadata": {},
   "source": [
    "## Mapping Ticker Data"
   ]
  },
  {
   "cell_type": "code",
   "execution_count": 3,
   "id": "f57c20e4",
   "metadata": {
    "ExecuteTime": {
     "end_time": "2023-05-26T00:12:34.754240Z",
     "start_time": "2023-05-26T00:12:34.724776Z"
    }
   },
   "outputs": [],
   "source": [
    "fortune100 = pd.read_csv('../data/fortune100.csv')\n",
    "dax40 = pd.read_csv('../data/DAX40.csv')\n",
    "ftse100 = pd.read_csv('../data/FTSE100.csv')\n",
    "\n",
    "fortune100 = fortune100[['Symbol','RIC']]\n",
    "fortune100 = fortune100.rename(columns={'Symbol':'ticker_'})\n",
    "\n",
    "dax40 = dax40[['Ticker','RIC']]\n",
    "dax40 = dax40.rename(columns={'Ticker':'ticker_'})\n",
    "\n",
    "ftse100 = ftse100[['Ticker','Query']]\n",
    "ftse100 = ftse100.rename(columns={'Query':'RIC', 'Ticker':'ticker_'})"
   ]
  },
  {
   "cell_type": "code",
   "execution_count": 4,
   "id": "65d2a34b",
   "metadata": {
    "ExecuteTime": {
     "end_time": "2023-05-26T00:12:34.923796Z",
     "start_time": "2023-05-26T00:12:34.918666Z"
    }
   },
   "outputs": [],
   "source": [
    "compile_indexes_df = pd.concat([fortune100, dax40, ftse100])"
   ]
  },
  {
   "cell_type": "markdown",
   "id": "f5ceb4a4",
   "metadata": {},
   "source": [
    "## Market Psych"
   ]
  },
  {
   "cell_type": "code",
   "execution_count": 5,
   "id": "4b5cf376",
   "metadata": {
    "ExecuteTime": {
     "end_time": "2023-05-26T00:12:36.374572Z",
     "start_time": "2023-05-26T00:12:36.363970Z"
    }
   },
   "outputs": [],
   "source": [
    "MarketPsych_df = pd.read_csv('/Users/yogi/Desktop/MPsych.csv')"
   ]
  },
  {
   "cell_type": "code",
   "execution_count": 6,
   "id": "d38b0c7f",
   "metadata": {
    "ExecuteTime": {
     "end_time": "2023-05-26T00:12:36.569346Z",
     "start_time": "2023-05-26T00:12:36.559322Z"
    }
   },
   "outputs": [],
   "source": [
    "MarketPsych_df = MarketPsych_df.iloc[:, 1:]\n",
    "MarketPsych_df = pd.concat([MarketPsych_df[['ticker_', 'Y']] , MarketPsych_df.drop(['ticker_','Y'], axis=1)], axis=1)"
   ]
  },
  {
   "cell_type": "code",
   "execution_count": 7,
   "id": "0ea797d2",
   "metadata": {
    "ExecuteTime": {
     "end_time": "2023-05-26T00:12:37.477346Z",
     "start_time": "2023-05-26T00:12:37.447588Z"
    }
   },
   "outputs": [
    {
     "data": {
      "text/html": [
       "<div>\n",
       "<style scoped>\n",
       "    .dataframe tbody tr th:only-of-type {\n",
       "        vertical-align: middle;\n",
       "    }\n",
       "\n",
       "    .dataframe tbody tr th {\n",
       "        vertical-align: top;\n",
       "    }\n",
       "\n",
       "    .dataframe thead th {\n",
       "        text-align: right;\n",
       "    }\n",
       "</style>\n",
       "<table border=\"1\" class=\"dataframe\">\n",
       "  <thead>\n",
       "    <tr style=\"text-align: right;\">\n",
       "      <th></th>\n",
       "      <th>ticker_</th>\n",
       "      <th>Y</th>\n",
       "      <th>buzz_News</th>\n",
       "      <th>buzz_News_Headline</th>\n",
       "      <th>buzz_News_Social</th>\n",
       "      <th>buzz_Social</th>\n",
       "      <th>innovation_News</th>\n",
       "      <th>innovation_News_Headline</th>\n",
       "      <th>innovation_News_Social</th>\n",
       "      <th>innovation_Social</th>\n",
       "      <th>...</th>\n",
       "      <th>layoffs_News_Social</th>\n",
       "      <th>layoffs_Social</th>\n",
       "      <th>managementTrust_News</th>\n",
       "      <th>managementTrust_News_Headline</th>\n",
       "      <th>managementTrust_News_Social</th>\n",
       "      <th>managementTrust_Social</th>\n",
       "      <th>mentions_News</th>\n",
       "      <th>mentions_News_Headline</th>\n",
       "      <th>mentions_News_Social</th>\n",
       "      <th>mentions_Social</th>\n",
       "    </tr>\n",
       "  </thead>\n",
       "  <tbody>\n",
       "    <tr>\n",
       "      <th>0</th>\n",
       "      <td>LAND</td>\n",
       "      <td>2022</td>\n",
       "      <td>1498.70</td>\n",
       "      <td>63.0</td>\n",
       "      <td>1879.70</td>\n",
       "      <td>381.0</td>\n",
       "      <td>0.000000</td>\n",
       "      <td>0.000000</td>\n",
       "      <td>0.000000</td>\n",
       "      <td>0.000000</td>\n",
       "      <td>...</td>\n",
       "      <td>0.000000</td>\n",
       "      <td>0.000000</td>\n",
       "      <td>0.166667</td>\n",
       "      <td>0.000000</td>\n",
       "      <td>0.166667</td>\n",
       "      <td>0.000000</td>\n",
       "      <td>620.0</td>\n",
       "      <td>47.0</td>\n",
       "      <td>982.0</td>\n",
       "      <td>362.0</td>\n",
       "    </tr>\n",
       "    <tr>\n",
       "      <th>1</th>\n",
       "      <td>LAND</td>\n",
       "      <td>2023</td>\n",
       "      <td>934.00</td>\n",
       "      <td>13.0</td>\n",
       "      <td>979.00</td>\n",
       "      <td>45.0</td>\n",
       "      <td>0.000000</td>\n",
       "      <td>0.000000</td>\n",
       "      <td>0.000000</td>\n",
       "      <td>0.000000</td>\n",
       "      <td>...</td>\n",
       "      <td>0.000000</td>\n",
       "      <td>0.000000</td>\n",
       "      <td>0.176471</td>\n",
       "      <td>0.000000</td>\n",
       "      <td>0.200000</td>\n",
       "      <td>0.200000</td>\n",
       "      <td>469.0</td>\n",
       "      <td>27.0</td>\n",
       "      <td>483.0</td>\n",
       "      <td>14.0</td>\n",
       "    </tr>\n",
       "    <tr>\n",
       "      <th>2</th>\n",
       "      <td>BLND</td>\n",
       "      <td>2022</td>\n",
       "      <td>15537.50</td>\n",
       "      <td>705.5</td>\n",
       "      <td>20170.60</td>\n",
       "      <td>4633.1</td>\n",
       "      <td>0.090909</td>\n",
       "      <td>0.142857</td>\n",
       "      <td>0.125000</td>\n",
       "      <td>0.142857</td>\n",
       "      <td>...</td>\n",
       "      <td>0.086957</td>\n",
       "      <td>0.095238</td>\n",
       "      <td>0.090909</td>\n",
       "      <td>0.000000</td>\n",
       "      <td>0.047619</td>\n",
       "      <td>0.041667</td>\n",
       "      <td>3712.0</td>\n",
       "      <td>317.0</td>\n",
       "      <td>5664.0</td>\n",
       "      <td>1952.0</td>\n",
       "    </tr>\n",
       "    <tr>\n",
       "      <th>3</th>\n",
       "      <td>BLND</td>\n",
       "      <td>2023</td>\n",
       "      <td>7463.60</td>\n",
       "      <td>236.5</td>\n",
       "      <td>8992.50</td>\n",
       "      <td>1528.9</td>\n",
       "      <td>0.333333</td>\n",
       "      <td>0.000000</td>\n",
       "      <td>0.072727</td>\n",
       "      <td>0.062500</td>\n",
       "      <td>...</td>\n",
       "      <td>0.013158</td>\n",
       "      <td>0.019231</td>\n",
       "      <td>0.047059</td>\n",
       "      <td>0.000000</td>\n",
       "      <td>0.042105</td>\n",
       "      <td>0.000000</td>\n",
       "      <td>1909.0</td>\n",
       "      <td>120.0</td>\n",
       "      <td>2382.0</td>\n",
       "      <td>473.0</td>\n",
       "    </tr>\n",
       "    <tr>\n",
       "      <th>4</th>\n",
       "      <td>HL.</td>\n",
       "      <td>2022</td>\n",
       "      <td>72534.15</td>\n",
       "      <td>1474.0</td>\n",
       "      <td>85237.55</td>\n",
       "      <td>12703.4</td>\n",
       "      <td>0.025316</td>\n",
       "      <td>0.000000</td>\n",
       "      <td>0.025000</td>\n",
       "      <td>0.080000</td>\n",
       "      <td>...</td>\n",
       "      <td>0.036851</td>\n",
       "      <td>0.000000</td>\n",
       "      <td>0.117073</td>\n",
       "      <td>0.066667</td>\n",
       "      <td>0.081911</td>\n",
       "      <td>0.060606</td>\n",
       "      <td>12377.0</td>\n",
       "      <td>583.0</td>\n",
       "      <td>16391.0</td>\n",
       "      <td>4014.0</td>\n",
       "    </tr>\n",
       "  </tbody>\n",
       "</table>\n",
       "<p>5 rows × 26 columns</p>\n",
       "</div>"
      ],
      "text/plain": [
       "  ticker_     Y  buzz_News  buzz_News_Headline  buzz_News_Social  buzz_Social  \\\n",
       "0    LAND  2022    1498.70                63.0           1879.70        381.0   \n",
       "1    LAND  2023     934.00                13.0            979.00         45.0   \n",
       "2    BLND  2022   15537.50               705.5          20170.60       4633.1   \n",
       "3    BLND  2023    7463.60               236.5           8992.50       1528.9   \n",
       "4     HL.  2022   72534.15              1474.0          85237.55      12703.4   \n",
       "\n",
       "   innovation_News  innovation_News_Headline  innovation_News_Social  \\\n",
       "0         0.000000                  0.000000                0.000000   \n",
       "1         0.000000                  0.000000                0.000000   \n",
       "2         0.090909                  0.142857                0.125000   \n",
       "3         0.333333                  0.000000                0.072727   \n",
       "4         0.025316                  0.000000                0.025000   \n",
       "\n",
       "   innovation_Social  ...  layoffs_News_Social  layoffs_Social  \\\n",
       "0           0.000000  ...             0.000000        0.000000   \n",
       "1           0.000000  ...             0.000000        0.000000   \n",
       "2           0.142857  ...             0.086957        0.095238   \n",
       "3           0.062500  ...             0.013158        0.019231   \n",
       "4           0.080000  ...             0.036851        0.000000   \n",
       "\n",
       "   managementTrust_News  managementTrust_News_Headline  \\\n",
       "0              0.166667                       0.000000   \n",
       "1              0.176471                       0.000000   \n",
       "2              0.090909                       0.000000   \n",
       "3              0.047059                       0.000000   \n",
       "4              0.117073                       0.066667   \n",
       "\n",
       "   managementTrust_News_Social  managementTrust_Social  mentions_News  \\\n",
       "0                     0.166667                0.000000          620.0   \n",
       "1                     0.200000                0.200000          469.0   \n",
       "2                     0.047619                0.041667         3712.0   \n",
       "3                     0.042105                0.000000         1909.0   \n",
       "4                     0.081911                0.060606        12377.0   \n",
       "\n",
       "   mentions_News_Headline  mentions_News_Social  mentions_Social  \n",
       "0                    47.0                 982.0            362.0  \n",
       "1                    27.0                 483.0             14.0  \n",
       "2                   317.0                5664.0           1952.0  \n",
       "3                   120.0                2382.0            473.0  \n",
       "4                   583.0               16391.0           4014.0  \n",
       "\n",
       "[5 rows x 26 columns]"
      ]
     },
     "execution_count": 7,
     "metadata": {},
     "output_type": "execute_result"
    }
   ],
   "source": [
    "MarketPsych_df.head()"
   ]
  },
  {
   "cell_type": "markdown",
   "id": "f6a52332",
   "metadata": {},
   "source": [
    "## Training Data"
   ]
  },
  {
   "cell_type": "code",
   "execution_count": 62,
   "id": "c5ae454c",
   "metadata": {
    "ExecuteTime": {
     "end_time": "2023-05-26T00:23:07.967600Z",
     "start_time": "2023-05-26T00:23:07.785560Z"
    }
   },
   "outputs": [],
   "source": [
    "train_df = pd.read_csv('../data/ML_Data/train_footsie_MLTRY.csv')\n",
    "train_df = pd.read_csv('../data/ML_Data/train_footsie_contains.csv')\n",
    "# train_2 = pd.read_csv('../data/ML_Data/train_fortune100_contains.csv')\n",
    "# train_3 = pd.read_csv('../data/ML_Data/train_DAX_contains.csv')\n",
    "\n",
    "# train_df = pd.concat([train_1,train_2,train_3], axis=0)\n",
    "train_df = train_df.rename(columns={'firm':'RIC'})"
   ]
  },
  {
   "cell_type": "code",
   "execution_count": 63,
   "id": "42b54390",
   "metadata": {
    "ExecuteTime": {
     "end_time": "2023-05-26T00:23:08.535707Z",
     "start_time": "2023-05-26T00:23:08.510209Z"
    }
   },
   "outputs": [],
   "source": [
    "train_df = pd.merge(train_df, compile_indexes_df, how='left', on = 'RIC')"
   ]
  },
  {
   "cell_type": "code",
   "execution_count": 64,
   "id": "023842bc",
   "metadata": {
    "ExecuteTime": {
     "end_time": "2023-05-26T00:23:08.727435Z",
     "start_time": "2023-05-26T00:23:08.709804Z"
    }
   },
   "outputs": [],
   "source": [
    "train_df = pd.concat([train_df[['RIC', 'year' ,'ticker_']], train_df.drop(['RIC', 'year' ,'ticker_'], axis=1)], axis=1)"
   ]
  },
  {
   "cell_type": "code",
   "execution_count": 65,
   "id": "9370ab20",
   "metadata": {
    "ExecuteTime": {
     "end_time": "2023-05-26T00:23:08.934382Z",
     "start_time": "2023-05-26T00:23:08.907211Z"
    }
   },
   "outputs": [
    {
     "data": {
      "text/html": [
       "<div>\n",
       "<style scoped>\n",
       "    .dataframe tbody tr th:only-of-type {\n",
       "        vertical-align: middle;\n",
       "    }\n",
       "\n",
       "    .dataframe tbody tr th {\n",
       "        vertical-align: top;\n",
       "    }\n",
       "\n",
       "    .dataframe thead th {\n",
       "        text-align: right;\n",
       "    }\n",
       "</style>\n",
       "<table border=\"1\" class=\"dataframe\">\n",
       "  <thead>\n",
       "    <tr style=\"text-align: right;\">\n",
       "      <th></th>\n",
       "      <th>RIC</th>\n",
       "      <th>year</th>\n",
       "      <th>ticker_</th>\n",
       "      <th>0</th>\n",
       "      <th>1</th>\n",
       "      <th>2</th>\n",
       "      <th>3</th>\n",
       "      <th>4</th>\n",
       "      <th>5</th>\n",
       "      <th>6</th>\n",
       "      <th>...</th>\n",
       "      <th>760</th>\n",
       "      <th>761</th>\n",
       "      <th>762</th>\n",
       "      <th>763</th>\n",
       "      <th>764</th>\n",
       "      <th>765</th>\n",
       "      <th>766</th>\n",
       "      <th>767</th>\n",
       "      <th>ESG Controversies Score</th>\n",
       "      <th>ESG Controversies Score Grade</th>\n",
       "    </tr>\n",
       "  </thead>\n",
       "  <tbody>\n",
       "    <tr>\n",
       "      <th>0</th>\n",
       "      <td>AAF.L</td>\n",
       "      <td>2022</td>\n",
       "      <td>AAF</td>\n",
       "      <td>-0.316090</td>\n",
       "      <td>0.325633</td>\n",
       "      <td>0.492556</td>\n",
       "      <td>-0.050070</td>\n",
       "      <td>0.381271</td>\n",
       "      <td>0.446845</td>\n",
       "      <td>-0.207054</td>\n",
       "      <td>...</td>\n",
       "      <td>0.180643</td>\n",
       "      <td>0.616740</td>\n",
       "      <td>-0.715521</td>\n",
       "      <td>0.880630</td>\n",
       "      <td>-0.490878</td>\n",
       "      <td>-0.111745</td>\n",
       "      <td>0.736818</td>\n",
       "      <td>0.420092</td>\n",
       "      <td>100.000000</td>\n",
       "      <td>A+</td>\n",
       "    </tr>\n",
       "    <tr>\n",
       "      <th>1</th>\n",
       "      <td>ABDN.L</td>\n",
       "      <td>2022</td>\n",
       "      <td>ABDN</td>\n",
       "      <td>-0.400195</td>\n",
       "      <td>-0.220467</td>\n",
       "      <td>-0.629772</td>\n",
       "      <td>0.436963</td>\n",
       "      <td>0.411417</td>\n",
       "      <td>-0.230281</td>\n",
       "      <td>0.104258</td>\n",
       "      <td>...</td>\n",
       "      <td>0.812860</td>\n",
       "      <td>0.249883</td>\n",
       "      <td>-0.261393</td>\n",
       "      <td>0.220430</td>\n",
       "      <td>-0.307368</td>\n",
       "      <td>-0.685380</td>\n",
       "      <td>-0.035406</td>\n",
       "      <td>0.278564</td>\n",
       "      <td>100.000000</td>\n",
       "      <td>A+</td>\n",
       "    </tr>\n",
       "    <tr>\n",
       "      <th>2</th>\n",
       "      <td>ABDN.L</td>\n",
       "      <td>2022</td>\n",
       "      <td>ABDN</td>\n",
       "      <td>-0.400195</td>\n",
       "      <td>-0.220467</td>\n",
       "      <td>-0.629772</td>\n",
       "      <td>0.436963</td>\n",
       "      <td>0.411417</td>\n",
       "      <td>-0.230281</td>\n",
       "      <td>0.104258</td>\n",
       "      <td>...</td>\n",
       "      <td>0.812860</td>\n",
       "      <td>0.249883</td>\n",
       "      <td>-0.261393</td>\n",
       "      <td>0.220430</td>\n",
       "      <td>-0.307368</td>\n",
       "      <td>-0.685380</td>\n",
       "      <td>-0.035406</td>\n",
       "      <td>0.278564</td>\n",
       "      <td>100.000000</td>\n",
       "      <td>A+</td>\n",
       "    </tr>\n",
       "    <tr>\n",
       "      <th>3</th>\n",
       "      <td>AHT.L</td>\n",
       "      <td>2022</td>\n",
       "      <td>AHT</td>\n",
       "      <td>-0.808410</td>\n",
       "      <td>0.125399</td>\n",
       "      <td>0.427910</td>\n",
       "      <td>0.202350</td>\n",
       "      <td>0.725803</td>\n",
       "      <td>0.359200</td>\n",
       "      <td>0.196529</td>\n",
       "      <td>...</td>\n",
       "      <td>0.937636</td>\n",
       "      <td>0.762159</td>\n",
       "      <td>-0.738225</td>\n",
       "      <td>0.972579</td>\n",
       "      <td>-0.804485</td>\n",
       "      <td>-0.530617</td>\n",
       "      <td>0.665348</td>\n",
       "      <td>0.749797</td>\n",
       "      <td>74.528302</td>\n",
       "      <td>B+</td>\n",
       "    </tr>\n",
       "    <tr>\n",
       "      <th>4</th>\n",
       "      <td>ANTO.L</td>\n",
       "      <td>2022</td>\n",
       "      <td>ANTO</td>\n",
       "      <td>-0.184318</td>\n",
       "      <td>-0.158951</td>\n",
       "      <td>-0.472866</td>\n",
       "      <td>0.285990</td>\n",
       "      <td>0.295325</td>\n",
       "      <td>-0.150287</td>\n",
       "      <td>-0.207242</td>\n",
       "      <td>...</td>\n",
       "      <td>0.642592</td>\n",
       "      <td>-0.064270</td>\n",
       "      <td>-0.249068</td>\n",
       "      <td>0.019297</td>\n",
       "      <td>0.019295</td>\n",
       "      <td>-0.622573</td>\n",
       "      <td>0.041856</td>\n",
       "      <td>-0.046189</td>\n",
       "      <td>100.000000</td>\n",
       "      <td>A+</td>\n",
       "    </tr>\n",
       "  </tbody>\n",
       "</table>\n",
       "<p>5 rows × 773 columns</p>\n",
       "</div>"
      ],
      "text/plain": [
       "      RIC  year ticker_         0         1         2         3         4  \\\n",
       "0   AAF.L  2022     AAF -0.316090  0.325633  0.492556 -0.050070  0.381271   \n",
       "1  ABDN.L  2022    ABDN -0.400195 -0.220467 -0.629772  0.436963  0.411417   \n",
       "2  ABDN.L  2022    ABDN -0.400195 -0.220467 -0.629772  0.436963  0.411417   \n",
       "3   AHT.L  2022     AHT -0.808410  0.125399  0.427910  0.202350  0.725803   \n",
       "4  ANTO.L  2022    ANTO -0.184318 -0.158951 -0.472866  0.285990  0.295325   \n",
       "\n",
       "          5         6  ...       760       761       762       763       764  \\\n",
       "0  0.446845 -0.207054  ...  0.180643  0.616740 -0.715521  0.880630 -0.490878   \n",
       "1 -0.230281  0.104258  ...  0.812860  0.249883 -0.261393  0.220430 -0.307368   \n",
       "2 -0.230281  0.104258  ...  0.812860  0.249883 -0.261393  0.220430 -0.307368   \n",
       "3  0.359200  0.196529  ...  0.937636  0.762159 -0.738225  0.972579 -0.804485   \n",
       "4 -0.150287 -0.207242  ...  0.642592 -0.064270 -0.249068  0.019297  0.019295   \n",
       "\n",
       "        765       766       767  ESG Controversies Score  \\\n",
       "0 -0.111745  0.736818  0.420092               100.000000   \n",
       "1 -0.685380 -0.035406  0.278564               100.000000   \n",
       "2 -0.685380 -0.035406  0.278564               100.000000   \n",
       "3 -0.530617  0.665348  0.749797                74.528302   \n",
       "4 -0.622573  0.041856 -0.046189               100.000000   \n",
       "\n",
       "   ESG Controversies Score Grade  \n",
       "0                             A+  \n",
       "1                             A+  \n",
       "2                             A+  \n",
       "3                             B+  \n",
       "4                             A+  \n",
       "\n",
       "[5 rows x 773 columns]"
      ]
     },
     "execution_count": 65,
     "metadata": {},
     "output_type": "execute_result"
    }
   ],
   "source": [
    "train_df.head()"
   ]
  },
  {
   "cell_type": "code",
   "execution_count": 66,
   "id": "8c38993d",
   "metadata": {
    "ExecuteTime": {
     "end_time": "2023-05-26T00:23:09.356310Z",
     "start_time": "2023-05-26T00:23:09.339626Z"
    }
   },
   "outputs": [],
   "source": [
    "train_completed_df = pd.merge(train_df, MarketPsych_df, how = 'left', on='ticker_')"
   ]
  },
  {
   "cell_type": "code",
   "execution_count": 67,
   "id": "d118a260",
   "metadata": {
    "ExecuteTime": {
     "end_time": "2023-05-26T00:23:09.548699Z",
     "start_time": "2023-05-26T00:23:09.535652Z"
    }
   },
   "outputs": [],
   "source": [
    "train_completed_df = pd.concat([\n",
    "    train_completed_df.drop(['ESG Controversies Score', 'ESG Controversies Score Grade'], axis=1), \n",
    "    train_completed_df[['ESG Controversies Score', 'ESG Controversies Score Grade']]], axis=1)"
   ]
  },
  {
   "cell_type": "code",
   "execution_count": 68,
   "id": "055bbb83",
   "metadata": {
    "ExecuteTime": {
     "end_time": "2023-05-26T00:23:09.761238Z",
     "start_time": "2023-05-26T00:23:09.749984Z"
    }
   },
   "outputs": [],
   "source": [
    "train_completed_df = train_completed_df[train_completed_df['managementTrust_News_Headline'].notnull()]\n",
    "train_completed_df = train_completed_df.reset_index(drop=True)"
   ]
  },
  {
   "cell_type": "code",
   "execution_count": 69,
   "id": "cddbc0bf",
   "metadata": {
    "ExecuteTime": {
     "end_time": "2023-05-26T00:23:10.009022Z",
     "start_time": "2023-05-26T00:23:10.000248Z"
    }
   },
   "outputs": [
    {
     "data": {
      "text/plain": [
       "(array(['A+', 'B+', 'B-', 'C', 'C+', 'D', 'D-'], dtype=object),\n",
       " array([72, 14,  8,  4,  2,  2,  4]))"
      ]
     },
     "execution_count": 69,
     "metadata": {},
     "output_type": "execute_result"
    }
   ],
   "source": [
    "np.unique(train_completed_df['ESG Controversies Score Grade'], return_counts=True)"
   ]
  },
  {
   "cell_type": "code",
   "execution_count": 70,
   "id": "61a99512",
   "metadata": {
    "ExecuteTime": {
     "end_time": "2023-05-26T00:23:10.212341Z",
     "start_time": "2023-05-26T00:23:10.205266Z"
    }
   },
   "outputs": [],
   "source": [
    "def grade_calculation(score):\n",
    "    score = score / 100\n",
    "    \n",
    "    if score <= 0.250000:\n",
    "        val = 'D'\n",
    "    elif score <= 0.500000: \n",
    "        val = 'C'\n",
    "    elif score <= 0.750000: \n",
    "        val = 'B'\n",
    "    elif score > 0.75: \n",
    "        val = 'A'\n",
    "\n",
    "    return val"
   ]
  },
  {
   "cell_type": "code",
   "execution_count": 71,
   "id": "9b963272",
   "metadata": {
    "ExecuteTime": {
     "end_time": "2023-05-26T00:23:10.683655Z",
     "start_time": "2023-05-26T00:23:10.675662Z"
    }
   },
   "outputs": [],
   "source": [
    "y_simple = train_completed_df['ESG Controversies Score'].apply(lambda x: grade_calculation(x))"
   ]
  },
  {
   "cell_type": "code",
   "execution_count": 72,
   "id": "3c46080a",
   "metadata": {
    "ExecuteTime": {
     "end_time": "2023-05-26T00:23:10.890421Z",
     "start_time": "2023-05-26T00:23:10.883633Z"
    }
   },
   "outputs": [],
   "source": [
    "train_completed_df = train_completed_df.drop(['RIC','year', 'ticker_','ESG Controversies Score Grade','ESG Controversies Score Grade'], axis=1).reset_index(drop=True)"
   ]
  },
  {
   "cell_type": "code",
   "execution_count": 73,
   "id": "81641c6a",
   "metadata": {
    "ExecuteTime": {
     "end_time": "2023-05-26T00:23:11.095884Z",
     "start_time": "2023-05-26T00:23:11.086902Z"
    }
   },
   "outputs": [],
   "source": [
    "train_completed_df = train_completed_df.dropna()"
   ]
  },
  {
   "cell_type": "code",
   "execution_count": 74,
   "id": "375cc382",
   "metadata": {
    "ExecuteTime": {
     "end_time": "2023-05-26T00:23:11.295506Z",
     "start_time": "2023-05-26T00:23:11.288722Z"
    }
   },
   "outputs": [],
   "source": [
    "y = train_completed_df.iloc[:,-1]\n",
    "X = train_completed_df.iloc[:,:-1]"
   ]
  },
  {
   "cell_type": "markdown",
   "id": "d1ed04a7",
   "metadata": {},
   "source": [
    "# Standard Scaller"
   ]
  },
  {
   "cell_type": "code",
   "execution_count": 75,
   "id": "d3716bfd",
   "metadata": {
    "ExecuteTime": {
     "end_time": "2023-05-26T00:23:11.713036Z",
     "start_time": "2023-05-26T00:23:11.708573Z"
    }
   },
   "outputs": [],
   "source": [
    "from sklearn.preprocessing import StandardScaler"
   ]
  },
  {
   "cell_type": "code",
   "execution_count": 76,
   "id": "7b725bec",
   "metadata": {
    "ExecuteTime": {
     "end_time": "2023-05-26T00:23:11.934739Z",
     "start_time": "2023-05-26T00:23:11.909737Z"
    }
   },
   "outputs": [],
   "source": [
    "stdscaller = StandardScaler()\n",
    "\n",
    "X_std_df = stdscaller.fit_transform(X)\n",
    "X_std_df = pd.DataFrame(X_std_df)"
   ]
  },
  {
   "cell_type": "markdown",
   "id": "e8ee278d",
   "metadata": {},
   "source": [
    "# Principal Component Analysis"
   ]
  },
  {
   "cell_type": "code",
   "execution_count": 77,
   "id": "de1271f5",
   "metadata": {
    "ExecuteTime": {
     "end_time": "2023-05-26T00:23:13.158579Z",
     "start_time": "2023-05-26T00:23:12.829259Z"
    }
   },
   "outputs": [
    {
     "data": {
      "image/png": "[encoded data removed]",
      "text/plain": [
       "<Figure size 640x480 with 1 Axes>"
      ]
     },
     "metadata": {},
     "output_type": "display_data"
    }
   ],
   "source": [
    "from sklearn.decomposition import PCA\n",
    "import matplotlib.pyplot as plt\n",
    "\n",
    "# Fit PCA to Xtrn_mn\n",
    "pca = PCA()\n",
    "\n",
    "pca.fit(X_std_df)\n",
    "\n",
    "# Calculate explained variance ratio\n",
    "explained_var_ratio = pca.explained_variance_ratio_\n",
    "\n",
    "# Calculate cumulative explained variance ratio\n",
    "cumulative_exp_var_ratio = np.cumsum(explained_var_ratio)\n",
    "\n",
    "# Plot the graph\n",
    "plt.plot(range(1, len(explained_var_ratio) + 1), cumulative_exp_var_ratio)\n",
    "plt.xlabel('Number of Principal Components')\n",
    "plt.ylabel('Cumulative Explained Variance Ratio')\n",
    "plt.show()"
   ]
  },
  {
   "cell_type": "code",
   "execution_count": 78,
   "id": "4135d537",
   "metadata": {
    "ExecuteTime": {
     "end_time": "2023-05-26T00:23:14.894057Z",
     "start_time": "2023-05-26T00:23:14.886248Z"
    }
   },
   "outputs": [
    {
     "name": "stdout",
     "output_type": "stream",
     "text": [
      "Minimum number of principal components to explain 50.0% of variance: 1\n",
      "Minimum number of principal components to explain 60.0% of variance: 1\n",
      "Minimum number of principal components to explain 70.0% of variance: 2\n",
      "Minimum number of principal components to explain 80.0% of variance: 2\n",
      "Minimum number of principal components to explain 90.0% of variance: 2\n",
      "Minimum number of principal components to explain 95.0% of variance: 5\n",
      "Minimum number of principal components to explain 99.0% of variance: 21\n"
     ]
    }
   ],
   "source": [
    "#(3) Your code goes here\n",
    "\n",
    "# Calculate the cumulative explained variance ratio\n",
    "cumulative_explained_var_ratio = np.cumsum(pca.explained_variance_ratio_)\n",
    "\n",
    "# Find the minimum number of principal components required to explain a certain percentage of the total variance\n",
    "for percent in [0.5, 0.6, 0.7, 0.8, 0.9, 0.95, 0.99]:\n",
    "    num_components = np.argmax(cumulative_explained_var_ratio >= percent) + 1\n",
    "    print(f\"Minimum number of principal components to explain {percent*100}% of variance: {num_components}\")"
   ]
  },
  {
   "cell_type": "code",
   "execution_count": 79,
   "id": "00ee3aca",
   "metadata": {
    "ExecuteTime": {
     "end_time": "2023-05-26T00:23:18.609323Z",
     "start_time": "2023-05-26T00:23:16.196030Z"
    }
   },
   "outputs": [],
   "source": [
    "pca = PCA(n_components=num_components)\n",
    "X_pca = pca.fit_transform(X_std_df)"
   ]
  },
  {
   "cell_type": "code",
   "execution_count": 80,
   "id": "21f5a6b4",
   "metadata": {
    "ExecuteTime": {
     "end_time": "2023-05-26T00:23:18.624987Z",
     "start_time": "2023-05-26T00:23:18.615534Z"
    }
   },
   "outputs": [],
   "source": [
    "X_train, X_val, y_train, y_val = train_test_split(X_pca, y, test_size=0.15, random_state=42)"
   ]
  },
  {
   "cell_type": "code",
   "execution_count": 44,
   "id": "ef4f9a1b",
   "metadata": {
    "ExecuteTime": {
     "end_time": "2023-05-26T00:16:03.999307Z",
     "start_time": "2023-05-26T00:16:03.605827Z"
    }
   },
   "outputs": [],
   "source": [
    "import seaborn as sns"
   ]
  },
  {
   "cell_type": "code",
   "execution_count": 45,
   "id": "0972edac",
   "metadata": {
    "ExecuteTime": {
     "end_time": "2023-05-26T00:16:04.003363Z",
     "start_time": "2023-05-26T00:16:04.000617Z"
    }
   },
   "outputs": [
    {
     "data": {
      "text/plain": [
       "(array(['A', 'B', 'C', 'D'], dtype=object), array([77, 22,  6,  6]))"
      ]
     },
     "execution_count": 45,
     "metadata": {},
     "output_type": "execute_result"
    }
   ],
   "source": [
    "np.unique(y_simple, return_counts=True)"
   ]
  },
  {
   "cell_type": "code",
   "execution_count": 46,
   "id": "d7c8d026",
   "metadata": {
    "ExecuteTime": {
     "end_time": "2023-05-26T00:16:04.496166Z",
     "start_time": "2023-05-26T00:16:04.490209Z"
    }
   },
   "outputs": [],
   "source": [
    "cc = []\n",
    "for i in y_simple:\n",
    "    \n",
    "    if i == 'A':\n",
    "        cc.append(1)\n",
    "    elif i == 'B':\n",
    "        cc.append(2)\n",
    "    elif i == 'C':\n",
    "        cc.append(3)\n",
    "    elif i == 'D':\n",
    "        cc.append(4)"
   ]
  },
  {
   "cell_type": "code",
   "execution_count": 47,
   "id": "549da029",
   "metadata": {
    "ExecuteTime": {
     "end_time": "2023-05-26T00:16:07.361052Z",
     "start_time": "2023-05-26T00:16:05.310696Z"
    }
   },
   "outputs": [
    {
     "ename": "ValueError",
     "evalue": "'c' argument has 111 elements, which is inconsistent with 'x' and 'y' with size 110.",
     "output_type": "error",
     "traceback": [
      "\u001b[0;31m---------------------------------------------------------------------------\u001b[0m",
      "\u001b[0;31mValueError\u001b[0m                                Traceback (most recent call last)",
      "File \u001b[0;32m~/miniconda3/envs/tensorflow/lib/python3.10/site-packages/matplotlib/axes/_axes.py:4375\u001b[0m, in \u001b[0;36mAxes._parse_scatter_color_args\u001b[0;34m(c, edgecolors, kwargs, xsize, get_next_color_func)\u001b[0m\n\u001b[1;32m   4374\u001b[0m \u001b[38;5;28;01mtry\u001b[39;00m:  \u001b[38;5;66;03m# Is 'c' acceptable as PathCollection facecolors?\u001b[39;00m\n\u001b[0;32m-> 4375\u001b[0m     colors \u001b[38;5;241m=\u001b[39m \u001b[43mmcolors\u001b[49m\u001b[38;5;241;43m.\u001b[39;49m\u001b[43mto_rgba_array\u001b[49m\u001b[43m(\u001b[49m\u001b[43mc\u001b[49m\u001b[43m)\u001b[49m\n\u001b[1;32m   4376\u001b[0m \u001b[38;5;28;01mexcept\u001b[39;00m (\u001b[38;5;167;01mTypeError\u001b[39;00m, \u001b[38;5;167;01mValueError\u001b[39;00m) \u001b[38;5;28;01mas\u001b[39;00m err:\n",
      "File \u001b[0;32m~/miniconda3/envs/tensorflow/lib/python3.10/site-packages/matplotlib/colors.py:487\u001b[0m, in \u001b[0;36mto_rgba_array\u001b[0;34m(c, alpha)\u001b[0m\n\u001b[1;32m    486\u001b[0m \u001b[38;5;28;01melse\u001b[39;00m:\n\u001b[0;32m--> 487\u001b[0m     rgba \u001b[38;5;241m=\u001b[39m np\u001b[38;5;241m.\u001b[39marray([to_rgba(cc) \u001b[38;5;28;01mfor\u001b[39;00m cc \u001b[38;5;129;01min\u001b[39;00m c])\n\u001b[1;32m    489\u001b[0m \u001b[38;5;28;01mif\u001b[39;00m alpha \u001b[38;5;129;01mis\u001b[39;00m \u001b[38;5;129;01mnot\u001b[39;00m \u001b[38;5;28;01mNone\u001b[39;00m:\n",
      "File \u001b[0;32m~/miniconda3/envs/tensorflow/lib/python3.10/site-packages/matplotlib/colors.py:487\u001b[0m, in \u001b[0;36m<listcomp>\u001b[0;34m(.0)\u001b[0m\n\u001b[1;32m    486\u001b[0m \u001b[38;5;28;01melse\u001b[39;00m:\n\u001b[0;32m--> 487\u001b[0m     rgba \u001b[38;5;241m=\u001b[39m np\u001b[38;5;241m.\u001b[39marray([\u001b[43mto_rgba\u001b[49m\u001b[43m(\u001b[49m\u001b[43mcc\u001b[49m\u001b[43m)\u001b[49m \u001b[38;5;28;01mfor\u001b[39;00m cc \u001b[38;5;129;01min\u001b[39;00m c])\n\u001b[1;32m    489\u001b[0m \u001b[38;5;28;01mif\u001b[39;00m alpha \u001b[38;5;129;01mis\u001b[39;00m \u001b[38;5;129;01mnot\u001b[39;00m \u001b[38;5;28;01mNone\u001b[39;00m:\n",
      "File \u001b[0;32m~/miniconda3/envs/tensorflow/lib/python3.10/site-packages/matplotlib/colors.py:299\u001b[0m, in \u001b[0;36mto_rgba\u001b[0;34m(c, alpha)\u001b[0m\n\u001b[1;32m    298\u001b[0m \u001b[38;5;28;01mif\u001b[39;00m rgba \u001b[38;5;129;01mis\u001b[39;00m \u001b[38;5;28;01mNone\u001b[39;00m:  \u001b[38;5;66;03m# Suppress exception chaining of cache lookup failure.\u001b[39;00m\n\u001b[0;32m--> 299\u001b[0m     rgba \u001b[38;5;241m=\u001b[39m \u001b[43m_to_rgba_no_colorcycle\u001b[49m\u001b[43m(\u001b[49m\u001b[43mc\u001b[49m\u001b[43m,\u001b[49m\u001b[43m \u001b[49m\u001b[43malpha\u001b[49m\u001b[43m)\u001b[49m\n\u001b[1;32m    300\u001b[0m     \u001b[38;5;28;01mtry\u001b[39;00m:\n",
      "File \u001b[0;32m~/miniconda3/envs/tensorflow/lib/python3.10/site-packages/matplotlib/colors.py:381\u001b[0m, in \u001b[0;36m_to_rgba_no_colorcycle\u001b[0;34m(c, alpha)\u001b[0m\n\u001b[1;32m    380\u001b[0m \u001b[38;5;28;01mif\u001b[39;00m \u001b[38;5;129;01mnot\u001b[39;00m np\u001b[38;5;241m.\u001b[39miterable(c):\n\u001b[0;32m--> 381\u001b[0m     \u001b[38;5;28;01mraise\u001b[39;00m \u001b[38;5;167;01mValueError\u001b[39;00m(\u001b[38;5;124mf\u001b[39m\u001b[38;5;124m\"\u001b[39m\u001b[38;5;124mInvalid RGBA argument: \u001b[39m\u001b[38;5;132;01m{\u001b[39;00morig_c\u001b[38;5;132;01m!r}\u001b[39;00m\u001b[38;5;124m\"\u001b[39m)\n\u001b[1;32m    382\u001b[0m \u001b[38;5;28;01mif\u001b[39;00m \u001b[38;5;28mlen\u001b[39m(c) \u001b[38;5;129;01mnot\u001b[39;00m \u001b[38;5;129;01min\u001b[39;00m [\u001b[38;5;241m3\u001b[39m, \u001b[38;5;241m4\u001b[39m]:\n",
      "\u001b[0;31mValueError\u001b[0m: Invalid RGBA argument: 1.0",
      "\nThe above exception was the direct cause of the following exception:\n",
      "\u001b[0;31mValueError\u001b[0m                                Traceback (most recent call last)",
      "Cell \u001b[0;32mIn[47], line 10\u001b[0m\n\u001b[1;32m      8\u001b[0m \u001b[38;5;66;03m# Plot the dimensionality-reduced data on the two-dimensional plane\u001b[39;00m\n\u001b[1;32m      9\u001b[0m fig, ax \u001b[38;5;241m=\u001b[39m plt\u001b[38;5;241m.\u001b[39msubplots(figsize\u001b[38;5;241m=\u001b[39m(\u001b[38;5;241m10\u001b[39m, \u001b[38;5;241m8\u001b[39m))\n\u001b[0;32m---> 10\u001b[0m scatter \u001b[38;5;241m=\u001b[39m \u001b[43max\u001b[49m\u001b[38;5;241;43m.\u001b[39;49m\u001b[43mscatter\u001b[49m\u001b[43m(\u001b[49m\u001b[43mXtrn_pca\u001b[49m\u001b[43m[\u001b[49m\u001b[43m:\u001b[49m\u001b[43m,\u001b[49m\u001b[43m \u001b[49m\u001b[38;5;241;43m0\u001b[39;49m\u001b[43m]\u001b[49m\u001b[43m,\u001b[49m\u001b[43m \u001b[49m\u001b[43mXtrn_pca\u001b[49m\u001b[43m[\u001b[49m\u001b[43m:\u001b[49m\u001b[43m,\u001b[49m\u001b[43m \u001b[49m\u001b[38;5;241;43m1\u001b[39;49m\u001b[43m]\u001b[49m\u001b[43m,\u001b[49m\u001b[43m \u001b[49m\u001b[43mc\u001b[49m\u001b[38;5;241;43m=\u001b[39;49m\u001b[43mcc\u001b[49m\u001b[43m,\u001b[49m\u001b[43m \u001b[49m\u001b[43mcmap\u001b[49m\u001b[38;5;241;43m=\u001b[39;49m\u001b[38;5;124;43m\"\u001b[39;49m\u001b[38;5;124;43mtab10\u001b[39;49m\u001b[38;5;124;43m\"\u001b[39;49m\u001b[43m,\u001b[49m\u001b[43m \u001b[49m\u001b[43ms\u001b[49m\u001b[38;5;241;43m=\u001b[39;49m\u001b[38;5;241;43m75\u001b[39;49m\u001b[43m)\u001b[49m\n\u001b[1;32m     11\u001b[0m plt\u001b[38;5;241m.\u001b[39mcolorbar(scatter, ax\u001b[38;5;241m=\u001b[39max)\n\u001b[1;32m     13\u001b[0m ax\u001b[38;5;241m.\u001b[39mset_xlabel(\u001b[38;5;124m\"\u001b[39m\u001b[38;5;124mPC1\u001b[39m\u001b[38;5;124m\"\u001b[39m)\n",
      "File \u001b[0;32m~/miniconda3/envs/tensorflow/lib/python3.10/site-packages/matplotlib/__init__.py:1423\u001b[0m, in \u001b[0;36m_preprocess_data.<locals>.inner\u001b[0;34m(ax, data, *args, **kwargs)\u001b[0m\n\u001b[1;32m   1420\u001b[0m \u001b[38;5;129m@functools\u001b[39m\u001b[38;5;241m.\u001b[39mwraps(func)\n\u001b[1;32m   1421\u001b[0m \u001b[38;5;28;01mdef\u001b[39;00m \u001b[38;5;21minner\u001b[39m(ax, \u001b[38;5;241m*\u001b[39margs, data\u001b[38;5;241m=\u001b[39m\u001b[38;5;28;01mNone\u001b[39;00m, \u001b[38;5;241m*\u001b[39m\u001b[38;5;241m*\u001b[39mkwargs):\n\u001b[1;32m   1422\u001b[0m     \u001b[38;5;28;01mif\u001b[39;00m data \u001b[38;5;129;01mis\u001b[39;00m \u001b[38;5;28;01mNone\u001b[39;00m:\n\u001b[0;32m-> 1423\u001b[0m         \u001b[38;5;28;01mreturn\u001b[39;00m \u001b[43mfunc\u001b[49m\u001b[43m(\u001b[49m\u001b[43max\u001b[49m\u001b[43m,\u001b[49m\u001b[43m \u001b[49m\u001b[38;5;241;43m*\u001b[39;49m\u001b[38;5;28;43mmap\u001b[39;49m\u001b[43m(\u001b[49m\u001b[43msanitize_sequence\u001b[49m\u001b[43m,\u001b[49m\u001b[43m \u001b[49m\u001b[43margs\u001b[49m\u001b[43m)\u001b[49m\u001b[43m,\u001b[49m\u001b[43m \u001b[49m\u001b[38;5;241;43m*\u001b[39;49m\u001b[38;5;241;43m*\u001b[39;49m\u001b[43mkwargs\u001b[49m\u001b[43m)\u001b[49m\n\u001b[1;32m   1425\u001b[0m     bound \u001b[38;5;241m=\u001b[39m new_sig\u001b[38;5;241m.\u001b[39mbind(ax, \u001b[38;5;241m*\u001b[39margs, \u001b[38;5;241m*\u001b[39m\u001b[38;5;241m*\u001b[39mkwargs)\n\u001b[1;32m   1426\u001b[0m     auto_label \u001b[38;5;241m=\u001b[39m (bound\u001b[38;5;241m.\u001b[39marguments\u001b[38;5;241m.\u001b[39mget(label_namer)\n\u001b[1;32m   1427\u001b[0m                   \u001b[38;5;129;01mor\u001b[39;00m bound\u001b[38;5;241m.\u001b[39mkwargs\u001b[38;5;241m.\u001b[39mget(label_namer))\n",
      "File \u001b[0;32m~/miniconda3/envs/tensorflow/lib/python3.10/site-packages/matplotlib/axes/_axes.py:4538\u001b[0m, in \u001b[0;36mAxes.scatter\u001b[0;34m(self, x, y, s, c, marker, cmap, norm, vmin, vmax, alpha, linewidths, edgecolors, plotnonfinite, **kwargs)\u001b[0m\n\u001b[1;32m   4535\u001b[0m \u001b[38;5;28;01mif\u001b[39;00m edgecolors \u001b[38;5;129;01mis\u001b[39;00m \u001b[38;5;28;01mNone\u001b[39;00m:\n\u001b[1;32m   4536\u001b[0m     orig_edgecolor \u001b[38;5;241m=\u001b[39m kwargs\u001b[38;5;241m.\u001b[39mget(\u001b[38;5;124m'\u001b[39m\u001b[38;5;124medgecolor\u001b[39m\u001b[38;5;124m'\u001b[39m, \u001b[38;5;28;01mNone\u001b[39;00m)\n\u001b[1;32m   4537\u001b[0m c, colors, edgecolors \u001b[38;5;241m=\u001b[39m \\\n\u001b[0;32m-> 4538\u001b[0m     \u001b[38;5;28;43mself\u001b[39;49m\u001b[38;5;241;43m.\u001b[39;49m\u001b[43m_parse_scatter_color_args\u001b[49m\u001b[43m(\u001b[49m\n\u001b[1;32m   4539\u001b[0m \u001b[43m        \u001b[49m\u001b[43mc\u001b[49m\u001b[43m,\u001b[49m\u001b[43m \u001b[49m\u001b[43medgecolors\u001b[49m\u001b[43m,\u001b[49m\u001b[43m \u001b[49m\u001b[43mkwargs\u001b[49m\u001b[43m,\u001b[49m\u001b[43m \u001b[49m\u001b[43mx\u001b[49m\u001b[38;5;241;43m.\u001b[39;49m\u001b[43msize\u001b[49m\u001b[43m,\u001b[49m\n\u001b[1;32m   4540\u001b[0m \u001b[43m        \u001b[49m\u001b[43mget_next_color_func\u001b[49m\u001b[38;5;241;43m=\u001b[39;49m\u001b[38;5;28;43mself\u001b[39;49m\u001b[38;5;241;43m.\u001b[39;49m\u001b[43m_get_patches_for_fill\u001b[49m\u001b[38;5;241;43m.\u001b[39;49m\u001b[43mget_next_color\u001b[49m\u001b[43m)\u001b[49m\n\u001b[1;32m   4542\u001b[0m \u001b[38;5;28;01mif\u001b[39;00m plotnonfinite \u001b[38;5;129;01mand\u001b[39;00m colors \u001b[38;5;129;01mis\u001b[39;00m \u001b[38;5;28;01mNone\u001b[39;00m:\n\u001b[1;32m   4543\u001b[0m     c \u001b[38;5;241m=\u001b[39m np\u001b[38;5;241m.\u001b[39mma\u001b[38;5;241m.\u001b[39mmasked_invalid(c)\n",
      "File \u001b[0;32m~/miniconda3/envs/tensorflow/lib/python3.10/site-packages/matplotlib/axes/_axes.py:4381\u001b[0m, in \u001b[0;36mAxes._parse_scatter_color_args\u001b[0;34m(c, edgecolors, kwargs, xsize, get_next_color_func)\u001b[0m\n\u001b[1;32m   4379\u001b[0m \u001b[38;5;28;01melse\u001b[39;00m:\n\u001b[1;32m   4380\u001b[0m     \u001b[38;5;28;01mif\u001b[39;00m \u001b[38;5;129;01mnot\u001b[39;00m valid_shape:\n\u001b[0;32m-> 4381\u001b[0m         \u001b[38;5;28;01mraise\u001b[39;00m invalid_shape_exception(c\u001b[38;5;241m.\u001b[39msize, xsize) \u001b[38;5;28;01mfrom\u001b[39;00m \u001b[38;5;21;01merr\u001b[39;00m\n\u001b[1;32m   4382\u001b[0m     \u001b[38;5;66;03m# Both the mapping *and* the RGBA conversion failed: pretty\u001b[39;00m\n\u001b[1;32m   4383\u001b[0m     \u001b[38;5;66;03m# severe failure => one may appreciate a verbose feedback.\u001b[39;00m\n\u001b[1;32m   4384\u001b[0m     \u001b[38;5;28;01mraise\u001b[39;00m \u001b[38;5;167;01mValueError\u001b[39;00m(\n\u001b[1;32m   4385\u001b[0m         \u001b[38;5;124mf\u001b[39m\u001b[38;5;124m\"\u001b[39m\u001b[38;5;124m'\u001b[39m\u001b[38;5;124mc\u001b[39m\u001b[38;5;124m'\u001b[39m\u001b[38;5;124m argument must be a color, a sequence of colors, \u001b[39m\u001b[38;5;124m\"\u001b[39m\n\u001b[1;32m   4386\u001b[0m         \u001b[38;5;124mf\u001b[39m\u001b[38;5;124m\"\u001b[39m\u001b[38;5;124mor a sequence of numbers, not \u001b[39m\u001b[38;5;132;01m{\u001b[39;00mc\u001b[38;5;132;01m}\u001b[39;00m\u001b[38;5;124m\"\u001b[39m) \u001b[38;5;28;01mfrom\u001b[39;00m \u001b[38;5;21;01merr\u001b[39;00m\n",
      "\u001b[0;31mValueError\u001b[0m: 'c' argument has 111 elements, which is inconsistent with 'x' and 'y' with size 110."
     ]
    },
    {
     "data": {
      "image/png": "[encoded data removed]",
      "text/plain": [
       "<Figure size 1000x800 with 1 Axes>"
      ]
     },
     "metadata": {},
     "output_type": "display_data"
    }
   ],
   "source": [
    "import matplotlib.pyplot as plt\n",
    "from sklearn.decomposition import PCA\n",
    "\n",
    "# Perform PCA to reduce dimensionality to two dimensions\n",
    "pca = PCA(n_components=2, random_state=0)\n",
    "Xtrn_pca = pca.fit_transform(X_std_df)\n",
    "\n",
    "# Plot the dimensionality-reduced data on the two-dimensional plane\n",
    "fig, ax = plt.subplots(figsize=(10, 8))\n",
    "scatter = ax.scatter(Xtrn_pca[:, 0], Xtrn_pca[:, 1], c=cc, cmap=\"tab10\", s=75)\n",
    "plt.colorbar(scatter, ax=ax)\n",
    "\n",
    "ax.set_xlabel(\"PC1\")\n",
    "ax.set_ylabel(\"PC2\")\n",
    "ax.set_title(\"PCA Plot of Xtrn_mn [components = 2]\")\n",
    "plt.show()"
   ]
  },
  {
   "cell_type": "code",
   "execution_count": 49,
   "id": "77d529f7",
   "metadata": {
    "ExecuteTime": {
     "end_time": "2023-05-26T00:16:28.274372Z",
     "start_time": "2023-05-26T00:16:26.140405Z"
    }
   },
   "outputs": [
    {
     "name": "stderr",
     "output_type": "stream",
     "text": [
      "/Users/yogi/miniconda3/envs/tensorflow/lib/python3.10/site-packages/seaborn/axisgrid.py:1760: UserWarning: Tight layout not applied. tight_layout cannot make axes width small enough to accommodate all axes decorations\n",
      "  f.tight_layout()\n",
      "/var/folders/hf/0mp7k_vd30z8kr8nkwwh037m0000gn/T/ipykernel_50855/4280848737.py:24: UserWarning: Tight layout not applied. tight_layout cannot make axes width small enough to accommodate all axes decorations\n",
      "  p.fig.tight_layout()\n"
     ]
    },
    {
     "data": {
      "image/png": "[encoded data removed]",
      "text/plain": [
       "<Figure size 500x500 with 3 Axes>"
      ]
     },
     "metadata": {},
     "output_type": "display_data"
    }
   ],
   "source": [
    "pca_g = PCA(n_components=2)\n",
    "pca_g.fit(X_std_df)\n",
    "\n",
    "# Assume y_trn is a 1D array of labels for each image sample\n",
    "unique_labels = np.unique(y_simple)\n",
    "\n",
    "# Plot the instances on the PCA plane with colors specific to the class\n",
    "\n",
    "plotting_ds=pd.DataFrame()\n",
    "\n",
    "\n",
    "for label in unique_labels:\n",
    "    idx = np.where(y_simple == label)[0]\n",
    "    reduced = pd.DataFrame(pca_g.transform(X_std_df))\n",
    "    reduced.columns= ['PC1','PC2']\n",
    "    reduced['label']=label\n",
    "    plotting_ds=pd.concat([plotting_ds,reduced], axis=0)\n",
    "\n",
    "p=sns.jointplot(data=plotting_ds.reset_index(drop=True),\n",
    "              x='PC1', y='PC2',  hue=\"label\", marker=\"o\", s=15,\n",
    "                 palette= 'tab10',height=5, ratio=20, marginal_ticks=True)\n",
    "\n",
    "p.fig.suptitle(\"All the training instances (Xtrn_mn) on the two-dimensional PCA plane\")\n",
    "p.fig.tight_layout()\n",
    "p.fig.subplots_adjust(top=0.92)\n",
    "\n",
    "plt.show()"
   ]
  },
  {
   "cell_type": "markdown",
   "id": "6ac10dd0",
   "metadata": {},
   "source": [
    "# Regression Model"
   ]
  },
  {
   "cell_type": "markdown",
   "id": "9abab3a2",
   "metadata": {},
   "source": [
    "## XGBoost Regressor"
   ]
  },
  {
   "cell_type": "code",
   "execution_count": 81,
   "id": "c033e1df",
   "metadata": {
    "ExecuteTime": {
     "end_time": "2023-05-26T00:23:31.528235Z",
     "start_time": "2023-05-26T00:23:31.518325Z"
    }
   },
   "outputs": [],
   "source": [
    "# Create an XGBoostRegressor model\n",
    "XGB_model = XGBRegressor()\n",
    "\n",
    "# Define the parameter grid for grid search\n",
    "param_grid = {\n",
    "    'n_estimators': [100, 200, 300],  # Number of trees in the ensemble\n",
    "    'learning_rate': [0.1, 0.01, 0.001],  # Learning rate\n",
    "    'max_depth': [3, 4, 5]  # Maximum depth of each tree\n",
    "}"
   ]
  },
  {
   "cell_type": "markdown",
   "id": "56a9fefd",
   "metadata": {},
   "source": [
    "### GridSearch"
   ]
  },
  {
   "cell_type": "code",
   "execution_count": 82,
   "id": "9dab724f",
   "metadata": {
    "ExecuteTime": {
     "end_time": "2023-05-26T00:23:41.138434Z",
     "start_time": "2023-05-26T00:23:36.236075Z"
    }
   },
   "outputs": [
    {
     "name": "stdout",
     "output_type": "stream",
     "text": [
      "Best Hyperparameters: {'learning_rate': 0.1, 'max_depth': 3, 'n_estimators': 200}\n",
      "Root Mean Squared Error: 0.09218525679969387\n"
     ]
    }
   ],
   "source": [
    "grid_search = GridSearchCV(XGB_model, param_grid, cv=3)\n",
    "grid_search.fit(X_train, y_train)\n",
    "\n",
    "# Get the best model\n",
    "best_model = grid_search.best_estimator_\n",
    "\n",
    "y_train_pred = best_model.predict(X_train)\n",
    "mse = mean_squared_error(y_train, y_train_pred)\n",
    "rmse = np.sqrt(mse)\n",
    "\n",
    "# Print the best hyperparameters and evaluation metric\n",
    "print(\"Best Hyperparameters:\", grid_search.best_params_)\n",
    "print(\"Root Mean Squared Error:\", rmse)"
   ]
  },
  {
   "cell_type": "code",
   "execution_count": 83,
   "id": "1ce4c5b4",
   "metadata": {
    "ExecuteTime": {
     "end_time": "2023-05-26T00:23:41.143636Z",
     "start_time": "2023-05-26T00:23:41.140335Z"
    }
   },
   "outputs": [
    {
     "name": "stdout",
     "output_type": "stream",
     "text": [
      "Best Hyperparameters: {'learning_rate': 0.1, 'max_depth': 3, 'n_estimators': 200}\n",
      "Root Mean Squared Error: 17.58784187620119\n"
     ]
    }
   ],
   "source": [
    "# Evaluate the best model on the test set\n",
    "y_pred = best_model.predict(X_val)\n",
    "mse = mean_squared_error(y_val, y_pred)\n",
    "rmse = np.sqrt(mse)\n",
    "\n",
    "# Print the best hyperparameters and evaluation metric\n",
    "print(\"Best Hyperparameters:\", grid_search.best_params_)\n",
    "print(\"Root Mean Squared Error:\", rmse)"
   ]
  },
  {
   "cell_type": "code",
   "execution_count": 56,
   "id": "09722987",
   "metadata": {
    "ExecuteTime": {
     "end_time": "2023-05-25T21:30:55.178361Z",
     "start_time": "2023-05-25T21:30:48.825144Z"
    }
   },
   "outputs": [],
   "source": [
    "grid_search = GridSearchCV(XGB_model, param_grid, cv=3)\n",
    "grid_search.fit(X_train, y_train)\n",
    "\n",
    "# Get the best model\n",
    "best_model = grid_search.best_estimator_\n",
    "\n",
    "y_train_pred = best_model.predict(X_train)\n",
    "mse = mean_squared_error(y_train, y_train_pred)\n",
    "rmse = np.sqrt(mse)\n",
    "\n",
    "# Print the best hyperparameters and evaluation metric\n",
    "print(\"Best Hyperparameters:\", grid_search.best_params_)\n",
    "print(\"Root Mean Squared Error:\", rmse)"
   ]
  },
  {
   "cell_type": "code",
   "execution_count": 59,
   "id": "488920e1",
   "metadata": {
    "ExecuteTime": {
     "end_time": "2023-05-25T21:32:05.673398Z",
     "start_time": "2023-05-25T21:32:05.654828Z"
    }
   },
   "outputs": [
    {
     "name": "stdout",
     "output_type": "stream",
     "text": [
      "Best Hyperparameters: {'learning_rate': 0.1, 'max_depth': 3, 'n_estimators': 100}\n",
      "Root Mean Squared Error: 24.109723349835853\n"
     ]
    }
   ],
   "source": [
    "# Evaluate the best model on the test set\n",
    "y_pred = best_model.predict(X_val)\n",
    "mse = mean_squared_error(y_val, y_pred)\n",
    "rmse = np.sqrt(mse)\n",
    "\n",
    "# Print the best hyperparameters and evaluation metric\n",
    "print(\"Best Hyperparameters:\", grid_search.best_params_)\n",
    "print(\"Root Mean Squared Error:\", rmse)"
   ]
  },
  {
   "cell_type": "code",
   "execution_count": 63,
   "id": "bf719608",
   "metadata": {
    "ExecuteTime": {
     "end_time": "2023-05-25T19:42:20.227051Z",
     "start_time": "2023-05-25T19:42:13.843758Z"
    }
   },
   "outputs": [
    {
     "name": "stdout",
     "output_type": "stream",
     "text": [
      "Best Hyperparameters: {'learning_rate': 0.1, 'max_depth': 3, 'n_estimators': 100}\n",
      "Root Mean Squared Error: 32.35878474854929\n"
     ]
    }
   ],
   "source": [
    "grid_search = GridSearchCV(XGB_model, param_grid, cv=3)\n",
    "grid_search.fit(X_train, y_train)\n",
    "\n",
    "# Get the best model\n",
    "best_model = grid_search.best_estimator_\n",
    "\n",
    "# Evaluate the best model on the test set\n",
    "y_pred = best_model.predict(X_val)\n",
    "mse = mean_squared_error(y_val, y_pred)\n",
    "rmse = np.sqrt(mse)\n",
    "\n",
    "# Print the best hyperparameters and evaluation metric\n",
    "print(\"Best Hyperparameters:\", grid_search.best_params_)\n",
    "print(\"Root Mean Squared Error:\", rmse)"
   ]
  },
  {
   "cell_type": "markdown",
   "id": "73ed9f9b",
   "metadata": {},
   "source": [
    "### Fit to Whole Training Data"
   ]
  },
  {
   "cell_type": "code",
   "execution_count": 60,
   "id": "c6658b9a",
   "metadata": {
    "ExecuteTime": {
     "end_time": "2023-05-25T21:32:41.588260Z",
     "start_time": "2023-05-25T21:32:41.510348Z"
    }
   },
   "outputs": [],
   "source": [
    "XGB_model = XGBRegressor(**grid_search.best_params_)\n",
    "XGB_model.fit(X_train, y_train)\n",
    "\n",
    "y_pred = XGB_model.predict(X_val)"
   ]
  },
  {
   "cell_type": "code",
   "execution_count": 61,
   "id": "1d1ff9eb",
   "metadata": {
    "ExecuteTime": {
     "end_time": "2023-05-25T21:32:41.753503Z",
     "start_time": "2023-05-25T21:32:41.750475Z"
    }
   },
   "outputs": [],
   "source": [
    "y_pred_grade = [grade_calculation(sc) for sc in y_pred]\n",
    "y_val_grade = [grade_calculation(sc) for sc in y_val]"
   ]
  },
  {
   "cell_type": "markdown",
   "id": "ac8aca7a",
   "metadata": {},
   "source": [
    "### Performance or Classification"
   ]
  },
  {
   "cell_type": "code",
   "execution_count": 62,
   "id": "5bb29046",
   "metadata": {
    "ExecuteTime": {
     "end_time": "2023-05-25T21:32:42.221304Z",
     "start_time": "2023-05-25T21:32:42.196291Z"
    }
   },
   "outputs": [
    {
     "name": "stdout",
     "output_type": "stream",
     "text": [
      "0.5833333333333334\n",
      "['C', 'A', 'C', 'B', 'B', 'B', 'A', 'A', 'B', 'A', 'B', 'B', 'A', 'A', 'A', 'B', 'B', 'C', 'B', 'B', 'B', 'B', 'A', 'A']\n",
      "['D', 'A', 'A', 'A', 'B', 'B', 'A', 'A', 'B', 'A', 'A', 'A', 'A', 'A', 'A', 'B', 'C', 'D', 'B', 'A', 'A', 'A', 'A', 'A']\n"
     ]
    }
   ],
   "source": [
    "print(accuracy_score(y_pred_grade, y_val_grade))\n",
    "print(y_pred_grade)\n",
    "print(y_val_grade)"
   ]
  },
  {
   "cell_type": "markdown",
   "id": "b6227bef",
   "metadata": {},
   "source": [
    "## Random Forest Regressor"
   ]
  },
  {
   "cell_type": "code",
   "execution_count": 84,
   "id": "99a7689e",
   "metadata": {
    "ExecuteTime": {
     "end_time": "2023-05-26T00:25:11.540706Z",
     "start_time": "2023-05-26T00:25:11.531713Z"
    }
   },
   "outputs": [],
   "source": [
    "# Random Forest Regressor\n",
    "rf_model = RandomForestRegressor(random_state=42)\n",
    "\n",
    "# Define the parameter grid for grid search\n",
    "rf_param_grid = {\n",
    "    'n_estimators': [50, 100, 200, 300],  # Number of trees in the forest\n",
    "    'max_depth': [None, 3, 5, 10],  # Maximum depth of each tree\n",
    "    'min_samples_split': [2, 5, 10],  # Minimum number of samples required to split an internal node\n",
    "    'min_samples_leaf': [1, 2, 4],  # Minimum number of samples required to be at a leaf node\n",
    "    'max_features': ['sqrt', 'log2'],  # Number of features to consider when looking for the best split\n",
    "}"
   ]
  },
  {
   "cell_type": "code",
   "execution_count": 85,
   "id": "a0b8fd68",
   "metadata": {
    "ExecuteTime": {
     "end_time": "2023-05-26T00:26:16.927172Z",
     "start_time": "2023-05-26T00:25:12.063828Z"
    }
   },
   "outputs": [
    {
     "name": "stdout",
     "output_type": "stream",
     "text": [
      "Best Hyperparameters: {'max_depth': None, 'max_features': 'sqrt', 'min_samples_leaf': 1, 'min_samples_split': 5, 'n_estimators': 100}\n",
      "Root Mean Squared Error: 10.30167349125108\n"
     ]
    }
   ],
   "source": [
    "grid_search = GridSearchCV(rf_model, rf_param_grid, cv=3)\n",
    "grid_search.fit(X_train, y_train)\n",
    "\n",
    "# Get the best model\n",
    "best_model = grid_search.best_estimator_\n",
    "\n",
    "y_train_pred = best_model.predict(X_train)\n",
    "mse = mean_squared_error(y_train, y_train_pred)\n",
    "rmse = np.sqrt(mse)\n",
    "\n",
    "# Print the best hyperparameters and evaluation metric\n",
    "print(\"Best Hyperparameters:\", grid_search.best_params_)\n",
    "print(\"Root Mean Squared Error:\", rmse)"
   ]
  },
  {
   "cell_type": "code",
   "execution_count": 86,
   "id": "8fef4974",
   "metadata": {
    "ExecuteTime": {
     "end_time": "2023-05-26T00:26:16.936302Z",
     "start_time": "2023-05-26T00:26:16.929121Z"
    }
   },
   "outputs": [
    {
     "name": "stdout",
     "output_type": "stream",
     "text": [
      "Best Hyperparameters: {'max_depth': None, 'max_features': 'sqrt', 'min_samples_leaf': 1, 'min_samples_split': 5, 'n_estimators': 100}\n",
      "Root Mean Squared Error: 13.20066569731725\n"
     ]
    }
   ],
   "source": [
    "# Get the best model\n",
    "best_model = grid_search.best_estimator_\n",
    "\n",
    "# Evaluate the best model on the test set\n",
    "y_pred = best_model.predict(X_val)\n",
    "mse = mean_squared_error(y_val, y_pred)\n",
    "rmse = np.sqrt(mse)\n",
    "\n",
    "# Print the best hyperparameters and evaluation metric\n",
    "print(\"Best Hyperparameters:\", grid_search.best_params_)\n",
    "print(\"Root Mean Squared Error:\", rmse)"
   ]
  },
  {
   "cell_type": "code",
   "execution_count": 73,
   "id": "ffca2134",
   "metadata": {
    "ExecuteTime": {
     "end_time": "2023-05-25T19:45:16.707910Z",
     "start_time": "2023-05-25T19:44:14.144301Z"
    }
   },
   "outputs": [
    {
     "name": "stdout",
     "output_type": "stream",
     "text": [
      "Best Hyperparameters: {'max_depth': 3, 'max_features': 'sqrt', 'min_samples_leaf': 1, 'min_samples_split': 5, 'n_estimators': 50}\n",
      "Root Mean Squared Error: 30.763717619916108\n"
     ]
    }
   ],
   "source": [
    "grid_search = GridSearchCV(rf_model, rf_param_grid, cv=3)\n",
    "grid_search.fit(X_train, y_train)\n",
    "\n",
    "# Get the best model\n",
    "best_model = grid_search.best_estimator_\n",
    "\n",
    "# Evaluate the best model on the test set\n",
    "y_pred = best_model.predict(X_val)\n",
    "mse = mean_squared_error(y_val, y_pred)\n",
    "rmse = np.sqrt(mse)\n",
    "\n",
    "# Print the best hyperparameters and evaluation metric\n",
    "print(\"Best Hyperparameters:\", grid_search.best_params_)\n",
    "print(\"Root Mean Squared Error:\", rmse)"
   ]
  },
  {
   "cell_type": "code",
   "execution_count": 44,
   "id": "393ea926",
   "metadata": {
    "ExecuteTime": {
     "end_time": "2023-05-25T21:07:33.164709Z",
     "start_time": "2023-05-25T21:07:32.964341Z"
    }
   },
   "outputs": [],
   "source": [
    "rf_model = RandomForestRegressor(**grid_search.best_params_)\n",
    "rf_model.fit(X_train, y_train)\n",
    "\n",
    "y_pred = rf_model.predict(X_val)"
   ]
  },
  {
   "cell_type": "code",
   "execution_count": 45,
   "id": "b543b49a",
   "metadata": {
    "ExecuteTime": {
     "end_time": "2023-05-25T21:07:33.363727Z",
     "start_time": "2023-05-25T21:07:33.359568Z"
    }
   },
   "outputs": [],
   "source": [
    "y_pred_grade = [grade_calculation(sc) for sc in y_pred]\n",
    "y_val_grade = [grade_calculation(sc) for sc in y_val]"
   ]
  },
  {
   "cell_type": "code",
   "execution_count": 46,
   "id": "24f1e3a3",
   "metadata": {
    "ExecuteTime": {
     "end_time": "2023-05-25T21:07:34.163910Z",
     "start_time": "2023-05-25T21:07:34.158524Z"
    }
   },
   "outputs": [
    {
     "name": "stdout",
     "output_type": "stream",
     "text": [
      "0.6666666666666666\n",
      "['C', 'A', 'B', 'B', 'B', 'B', 'A', 'A', 'B', 'A', 'A', 'A', 'A', 'A', 'A', 'B', 'B', 'B', 'B', 'B', 'B', 'B', 'A', 'A']\n",
      "['D', 'A', 'A', 'A', 'B', 'B', 'A', 'A', 'B', 'A', 'A', 'A', 'A', 'A', 'A', 'B', 'C', 'D', 'B', 'A', 'A', 'A', 'A', 'A']\n"
     ]
    }
   ],
   "source": [
    "print(accuracy_score(y_pred_grade, y_val_grade))\n",
    "print(y_pred_grade)\n",
    "print(y_val_grade)"
   ]
  },
  {
   "cell_type": "markdown",
   "id": "6d1cb63e",
   "metadata": {},
   "source": [
    "## Support Vector Regressor"
   ]
  },
  {
   "cell_type": "code",
   "execution_count": 87,
   "id": "3d1ddc21",
   "metadata": {
    "ExecuteTime": {
     "end_time": "2023-05-26T00:26:46.072531Z",
     "start_time": "2023-05-26T00:26:46.041652Z"
    }
   },
   "outputs": [],
   "source": [
    "# Support Vector Regressor\n",
    "svr_model = SVR()\n",
    "\n",
    "# Define the parameter grid for grid search\n",
    "svr_param_grid = {\n",
    "    'C': [0.1, 1, 10, 100],  # Penalty parameter C\n",
    "    'epsilon': [0.01, 0.1, 0.5, 1.0],  # Epsilon parameter\n",
    "    'kernel': ['linear', 'rbf', 'poly'],  # Kernel type\n",
    "    'gamma': ['scale', 'auto'],  # Kernel coefficient for 'rbf' and 'poly' kernels\n",
    "}"
   ]
  },
  {
   "cell_type": "code",
   "execution_count": 88,
   "id": "3f90ea63",
   "metadata": {
    "ExecuteTime": {
     "end_time": "2023-05-26T00:27:18.552906Z",
     "start_time": "2023-05-26T00:26:49.165492Z"
    }
   },
   "outputs": [
    {
     "name": "stdout",
     "output_type": "stream",
     "text": [
      "Best Hyperparameters: {'C': 1, 'epsilon': 0.01, 'gamma': 'scale', 'kernel': 'linear'}\n",
      "Root Mean Squared Error Training: 18.03819441996781\n",
      "Best Hyperparameters: {'C': 1, 'epsilon': 0.01, 'gamma': 'scale', 'kernel': 'linear'}\n",
      "Root Mean Squared Error Test: 14.849270611645622\n"
     ]
    }
   ],
   "source": [
    "grid_search = GridSearchCV(svr_model, svr_param_grid, cv=3)\n",
    "grid_search.fit(X_train, y_train)\n",
    "\n",
    "# Get the best model\n",
    "best_model = grid_search.best_estimator_\n",
    "\n",
    "y_train_pred = best_model.predict(X_train)\n",
    "mse = mean_squared_error(y_train, y_train_pred)\n",
    "rmse = np.sqrt(mse)\n",
    "\n",
    "# Print the best hyperparameters and evaluation metric\n",
    "print(\"Best Hyperparameters:\", grid_search.best_params_)\n",
    "print(\"Root Mean Squared Error Training:\", rmse)\n",
    "\n",
    "# Evaluate the best model on the test set\n",
    "y_pred = best_model.predict(X_val)\n",
    "mse = mean_squared_error(y_val, y_pred)\n",
    "rmse = np.sqrt(mse)\n",
    "\n",
    "# Print the best hyperparameters and evaluation metric\n",
    "print(\"Best Hyperparameters:\", grid_search.best_params_)\n",
    "print(\"Root Mean Squared Error Test:\", rmse)"
   ]
  },
  {
   "cell_type": "code",
   "execution_count": 58,
   "id": "b6f39163",
   "metadata": {
    "ExecuteTime": {
     "end_time": "2023-05-26T00:18:53.065837Z",
     "start_time": "2023-05-26T00:18:40.283008Z"
    }
   },
   "outputs": [
    {
     "name": "stdout",
     "output_type": "stream",
     "text": [
      "Best Hyperparameters: {'C': 1, 'epsilon': 1.0, 'gamma': 'scale', 'kernel': 'linear'}\n",
      "Root Mean Squared Error: 27.269795622730975\n"
     ]
    }
   ],
   "source": [
    "grid_search = GridSearchCV(svr_model, svr_param_grid, cv=3)\n",
    "grid_search.fit(X_train, y_train)\n",
    "\n",
    "# Get the best model\n",
    "best_model = grid_search.best_estimator_\n",
    "\n",
    "# Evaluate the best model on the test set\n",
    "y_pred = best_model.predict(X_val)\n",
    "mse = mean_squared_error(y_val, y_pred)\n",
    "rmse = np.sqrt(mse)\n",
    "\n",
    "# Print the best hyperparameters and evaluation metric\n",
    "print(\"Best Hyperparameters:\", grid_search.best_params_)\n",
    "print(\"Root Mean Squared Error:\", rmse)"
   ]
  },
  {
   "cell_type": "code",
   "execution_count": 59,
   "id": "37e2b73a",
   "metadata": {
    "ExecuteTime": {
     "end_time": "2023-05-26T00:19:03.176101Z",
     "start_time": "2023-05-26T00:19:03.146659Z"
    }
   },
   "outputs": [],
   "source": [
    "svr_model = SVR(**grid_search.best_params_)\n",
    "svr_model.fit(X_train, y_train)\n",
    "\n",
    "y_pred = svr_model.predict(X_val)"
   ]
  },
  {
   "cell_type": "code",
   "execution_count": 60,
   "id": "aa8575c3",
   "metadata": {
    "ExecuteTime": {
     "end_time": "2023-05-26T00:19:03.334151Z",
     "start_time": "2023-05-26T00:19:03.328254Z"
    }
   },
   "outputs": [],
   "source": [
    "y_pred_grade = [grade_calculation(sc) for sc in y_pred]\n",
    "y_val_grade = [grade_calculation(sc) for sc in y_val]"
   ]
  },
  {
   "cell_type": "code",
   "execution_count": 61,
   "id": "22778a1f",
   "metadata": {
    "ExecuteTime": {
     "end_time": "2023-05-26T00:19:03.527493Z",
     "start_time": "2023-05-26T00:19:03.518950Z"
    }
   },
   "outputs": [
    {
     "name": "stdout",
     "output_type": "stream",
     "text": [
      "0.5882352941176471\n",
      "['A', 'A', 'A', 'A', 'B', 'A', 'A', 'A', 'B', 'A', 'A', 'B', 'A', 'A', 'A', 'B', 'A']\n",
      "['A', 'B', 'A', 'A', 'A', 'A', 'B', 'A', 'B', 'B', 'A', 'D', 'A', 'D', 'A', 'A', 'A']\n"
     ]
    }
   ],
   "source": [
    "print(accuracy_score(y_pred_grade, y_val_grade))\n",
    "print(y_pred_grade)\n",
    "print(y_val_grade)"
   ]
  },
  {
   "cell_type": "markdown",
   "id": "ca8a3864",
   "metadata": {},
   "source": [
    "# Archive Code"
   ]
  },
  {
   "cell_type": "code",
   "execution_count": 211,
   "id": "371bf9cb",
   "metadata": {
    "ExecuteTime": {
     "end_time": "2023-05-25T01:34:39.046966Z",
     "start_time": "2023-05-25T01:34:30.677273Z"
    }
   },
   "outputs": [
    {
     "name": "stdout",
     "output_type": "stream",
     "text": [
      "Best Hyperparameters: {'learning_rate': 0.1, 'max_depth': 3, 'n_estimators': 200}\n",
      "Root Mean Squared Error: 22.841653795025273\n"
     ]
    }
   ],
   "source": [
    "grid_search = GridSearchCV(model, param_grid, cv=4)\n",
    "grid_search.fit(X_train, y_train)\n",
    "\n",
    "# Get the best model\n",
    "best_model = grid_search.best_estimator_\n",
    "\n",
    "# Evaluate the best model on the test set\n",
    "y_pred = best_model.predict(X_val)\n",
    "mse = mean_squared_error(y_val, y_pred)\n",
    "rmse = np.sqrt(mse)\n",
    "\n",
    "# Print the best hyperparameters and evaluation metric\n",
    "print(\"Best Hyperparameters:\", grid_search.best_params_)\n",
    "print(\"Root Mean Squared Error:\", rmse)"
   ]
  }
 ],
 "metadata": {
  "kernelspec": {
   "display_name": "Python 3.10 (tensorflow)",
   "language": "python",
   "name": "tensorflow"
  },
  "language_info": {
   "codemirror_mode": {
    "name": "ipython",
    "version": 3
   },
   "file_extension": ".py",
   "mimetype": "text/x-python",
   "name": "python",
   "nbconvert_exporter": "python",
   "pygments_lexer": "ipython3",
   "version": "3.10.8"
  },
  "toc": {
   "base_numbering": 1,
   "nav_menu": {},
   "number_sections": true,
   "sideBar": true,
   "skip_h1_title": false,
   "title_cell": "Table of Contents",
   "title_sidebar": "Contents",
   "toc_cell": true,
   "toc_position": {
    "height": "calc(100% - 180px)",
    "left": "10px",
    "top": "150px",
    "width": "276.884px"
   },
   "toc_section_display": true,
   "toc_window_display": true
  }
 },
 "nbformat": 4,
 "nbformat_minor": 5
}
