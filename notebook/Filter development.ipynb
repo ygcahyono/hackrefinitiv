{
 "cells": [
  {
   "cell_type": "code",
   "execution_count": 316,
   "id": "f94b81f4",
   "metadata": {},
   "outputs": [],
   "source": [
    "import pandas as pd\n",
    "import numpy as np\n",
    "import os\n",
    "\n",
    "import requests\n",
    "import string\n",
    "from bs4 import BeautifulSoup\n",
    "from datetime import date\n",
    "\n",
    "from sklearn.model_selection import train_test_split\n",
    "from sklearn.feature_extraction.text import CountVectorizer\n",
    "from sklearn import svm\n",
    "from sklearn.naive_bayes import GaussianNB, BernoulliNB, ComplementNB\n",
    "\n",
    "from matplotlib import pyplot as plt\n",
    "\n",
    "from sklearn.metrics import confusion_matrix\n",
    "from sklearn.metrics import ConfusionMatrixDisplay"
   ]
  },
  {
   "cell_type": "code",
   "execution_count": 3,
   "id": "df01db16-18c5-475d-97b5-59424aba4374",
   "metadata": {},
   "outputs": [
    {
     "name": "stderr",
     "output_type": "stream",
     "text": [
      "2023-05-23 16:45:23,436 P[4595] [MainThread 4613674496] Error: no proxy address identified.\n",
      "Check if Eikon Desktop or Eikon API Proxy is running.\n",
      "2023-05-23 16:45:23,437 P[4595] [MainThread 4613674496] Error on handshake url http://127.0.0.1:None/api/handshake : InvalidURL(\"Invalid port: 'None'\")\n",
      "2023-05-23 16:45:23,438 P[4595] [MainThread 4613674496] Error on handshake url http://127.0.0.1:None/api/handshake : InvalidURL(\"Invalid port: 'None'\")\n",
      "2023-05-23 16:45:23,439 P[4595] [MainThread 4613674496] Port number was not identified, cannot send any request\n"
     ]
    }
   ],
   "source": [
    "import eikon as ek\n",
    "from IPython.display import HTML\n",
    "from datetime import datetime, timedelta\n",
    "import pandas as pd\n",
    "\n",
    "ek.set_app_key('006f112652724224b9a6c0befae87ced9c033945')"
   ]
  },
  {
   "cell_type": "code",
   "execution_count": 58,
   "id": "709951f9",
   "metadata": {},
   "outputs": [],
   "source": [
    "def webscrapp_tittles(web, type_of_title, class_title, typeclass='class'):\n",
    "    headers = {\"user-agent\": \"Mozilla/5.0 (Windows NT 10.0; Win64; x64) AppleWebKit/537.36 (KHTML, like Gecko) Chrome/88.0.4324.182 Safari/537.36\"}\n",
    "    \n",
    "    res = requests.get(web, headers=headers)\n",
    "\n",
    "    soup = BeautifulSoup(res.content, 'html.parser')\n",
    "\n",
    "    headlines = soup.find_all(type_of_title,{typeclass:class_title})\n",
    "    headlines_text =[x.get_text() for x in headlines]\n",
    "\n",
    "    return headlines_text"
   ]
  },
  {
   "cell_type": "markdown",
   "id": "9ed64b01",
   "metadata": {},
   "source": [
    "## Web Scrapping"
   ]
  },
  {
   "cell_type": "markdown",
   "id": "6fb63571",
   "metadata": {},
   "source": [
    "### ESG News"
   ]
  },
  {
   "cell_type": "code",
   "execution_count": 59,
   "id": "7673e183",
   "metadata": {},
   "outputs": [],
   "source": [
    "ESGnews=webscrapp_tittles(\"https://esgnews.com/\",\n",
    "                  'h2', \n",
    "                  \"tw-mb-2.5 last:tw-mb-0 tw-font-serif tw-font-medium tw-text-base tw-leading-snug\")"
   ]
  },
  {
   "cell_type": "code",
   "execution_count": 60,
   "id": "b1b14771",
   "metadata": {},
   "outputs": [],
   "source": [
    "FTESG=webscrapp_tittles('https://www.ft.com/esg-investing',\n",
    "                        \"a\",\n",
    "                        \"js-teaser-heading-link\")"
   ]
  },
  {
   "cell_type": "code",
   "execution_count": 61,
   "id": "7eeaed47",
   "metadata": {},
   "outputs": [],
   "source": [
    "knowesg=webscrapp_tittles('https://www.knowesg.com/',\n",
    "                            'a',\n",
    "                            \"text-neutral-10 hover:text-primary-dark text-lg transition-colors duration-100 ease-linear sourceserif line-clamp-2\")\n"
   ]
  },
  {
   "cell_type": "code",
   "execution_count": 98,
   "id": "5100caad",
   "metadata": {},
   "outputs": [],
   "source": [
    "ReutersESG= webscrapp_tittles('https://www.reuters.com/sustainability/',\n",
    "                           'a', \n",
    "                           \"text__text__1FZLe text__dark-grey__3Ml43 text__medium__1kbOh text__heading_5_and_half__3YluN heading__base__2T28j heading_5_half title__title__1Sa2a title\")\n",
    "\n",
    "\n"
   ]
  },
  {
   "cell_type": "code",
   "execution_count": 65,
   "id": "a05ca3e4",
   "metadata": {},
   "outputs": [],
   "source": [
    "StandESG=webscrapp_tittles('https://www.standard.co.uk/topic/esg?CMP=ILC-refresh', \n",
    "                          'a',\n",
    "                           'title')"
   ]
  },
  {
   "cell_type": "code",
   "execution_count": 81,
   "id": "5cd028c8",
   "metadata": {},
   "outputs": [],
   "source": [
    "FTIA=webscrapp_tittles( 'https://www.ft.com/investor-activism',\n",
    "                        \"a\",\n",
    "                        \"js-teaser-heading-link\")"
   ]
  },
  {
   "cell_type": "code",
   "execution_count": 94,
   "id": "9aa3ebf3",
   "metadata": {},
   "outputs": [],
   "source": [
    "ESG_titles = ESGnews+ FTESG+ knowesg+ ReutersESG + StandESG + FTIA +"
   ]
  },
  {
   "cell_type": "code",
   "execution_count": 95,
   "id": "d3806fd6",
   "metadata": {},
   "outputs": [
    {
     "data": {
      "text/plain": [
       "163"
      ]
     },
     "execution_count": 95,
     "metadata": {},
     "output_type": "execute_result"
    }
   ],
   "source": [
    "len(ESG_titles)"
   ]
  },
  {
   "cell_type": "code",
   "execution_count": 108,
   "id": "3ac07729",
   "metadata": {},
   "outputs": [],
   "source": [
    "ESG_df=pd.DataFrame(ESG_titles, columns=['T'])\n",
    "ESG_df['S']=1"
   ]
  },
  {
   "cell_type": "code",
   "execution_count": 109,
   "id": "55e0a8dd",
   "metadata": {},
   "outputs": [
    {
     "data": {
      "text/html": [
       "<div>\n",
       "<style scoped>\n",
       "    .dataframe tbody tr th:only-of-type {\n",
       "        vertical-align: middle;\n",
       "    }\n",
       "\n",
       "    .dataframe tbody tr th {\n",
       "        vertical-align: top;\n",
       "    }\n",
       "\n",
       "    .dataframe thead th {\n",
       "        text-align: right;\n",
       "    }\n",
       "</style>\n",
       "<table border=\"1\" class=\"dataframe\">\n",
       "  <thead>\n",
       "    <tr style=\"text-align: right;\">\n",
       "      <th></th>\n",
       "      <th>T</th>\n",
       "      <th>S</th>\n",
       "    </tr>\n",
       "  </thead>\n",
       "  <tbody>\n",
       "    <tr>\n",
       "      <th>0</th>\n",
       "      <td>\\n\\n              Volvo Group Signs Deal With ...</td>\n",
       "      <td>1</td>\n",
       "    </tr>\n",
       "    <tr>\n",
       "      <th>1</th>\n",
       "      <td>\\n\\n              Solar Energy Group Europe (S...</td>\n",
       "      <td>1</td>\n",
       "    </tr>\n",
       "    <tr>\n",
       "      <th>2</th>\n",
       "      <td>\\n\\n              EU and Korea Launch Green Pa...</td>\n",
       "      <td>1</td>\n",
       "    </tr>\n",
       "    <tr>\n",
       "      <th>3</th>\n",
       "      <td>\\n\\n              NEOM Green Hydrogen Company ...</td>\n",
       "      <td>1</td>\n",
       "    </tr>\n",
       "    <tr>\n",
       "      <th>4</th>\n",
       "      <td>\\n\\n              Chinese EV Maker Nio Invests...</td>\n",
       "      <td>1</td>\n",
       "    </tr>\n",
       "    <tr>\n",
       "      <th>...</th>\n",
       "      <td>...</td>\n",
       "      <td>...</td>\n",
       "    </tr>\n",
       "    <tr>\n",
       "      <th>158</th>\n",
       "      <td>Nuns urge Citigroup to rethink financing of fo...</td>\n",
       "      <td>1</td>\n",
       "    </tr>\n",
       "    <tr>\n",
       "      <th>159</th>\n",
       "      <td>Investors to press TotalEnergies over climate ...</td>\n",
       "      <td>1</td>\n",
       "    </tr>\n",
       "    <tr>\n",
       "      <th>160</th>\n",
       "      <td>Illumina chief’s pay nearly doubles ahead of c...</td>\n",
       "      <td>1</td>\n",
       "    </tr>\n",
       "    <tr>\n",
       "      <th>161</th>\n",
       "      <td>Airbus drops deal with Atos digital unit after...</td>\n",
       "      <td>1</td>\n",
       "    </tr>\n",
       "    <tr>\n",
       "      <th>162</th>\n",
       "      <td>Activist investors smoke out South Korea’s und...</td>\n",
       "      <td>1</td>\n",
       "    </tr>\n",
       "  </tbody>\n",
       "</table>\n",
       "<p>163 rows × 2 columns</p>\n",
       "</div>"
      ],
      "text/plain": [
       "                                                     T  S\n",
       "0    \\n\\n              Volvo Group Signs Deal With ...  1\n",
       "1    \\n\\n              Solar Energy Group Europe (S...  1\n",
       "2    \\n\\n              EU and Korea Launch Green Pa...  1\n",
       "3    \\n\\n              NEOM Green Hydrogen Company ...  1\n",
       "4    \\n\\n              Chinese EV Maker Nio Invests...  1\n",
       "..                                                 ... ..\n",
       "158  Nuns urge Citigroup to rethink financing of fo...  1\n",
       "159  Investors to press TotalEnergies over climate ...  1\n",
       "160  Illumina chief’s pay nearly doubles ahead of c...  1\n",
       "161  Airbus drops deal with Atos digital unit after...  1\n",
       "162  Activist investors smoke out South Korea’s und...  1\n",
       "\n",
       "[163 rows x 2 columns]"
      ]
     },
     "execution_count": 109,
     "metadata": {},
     "output_type": "execute_result"
    }
   ],
   "source": [
    "ESG_df"
   ]
  },
  {
   "cell_type": "markdown",
   "id": "b5a6f101",
   "metadata": {},
   "source": [
    "### Non ESG News"
   ]
  },
  {
   "cell_type": "code",
   "execution_count": 80,
   "id": "b830cee4",
   "metadata": {},
   "outputs": [],
   "source": [
    "FTPE=webscrapp_tittles('https://www.ft.com/private-equity',\n",
    "                        \"a\",\n",
    "                        \"js-teaser-heading-link\")"
   ]
  },
  {
   "cell_type": "code",
   "execution_count": 96,
   "id": "89cc79a8",
   "metadata": {},
   "outputs": [],
   "source": [
    "FTPE=webscrapp_tittles('https://www.ft.com/private-equity',\n",
    "                        \"a\",\n",
    "                        \"js-teaser-heading-link\")\n",
    "\n",
    "FTIF= webscrapp_tittles('https://www.ft.com/investing-in-funds',\n",
    "                         \"a\",\n",
    "                        \"js-teaser-heading-link\")\n",
    "\n",
    "FTPS= webscrapp_tittles('https://www.ft.com/professional-services',\n",
    "                         \"a\",\n",
    "                        \"js-teaser-heading-link\")\n",
    "\n",
    "ReutersBF= webscrapp_tittles('https://www.reuters.com/business/finance/',\n",
    "                           'a', \n",
    "                           \"Heading\", \n",
    "                             typeclass='data-testid')\n",
    "\n",
    "\n",
    "ReutersBN= webscrapp_tittles('https://www.reuters.com/breakingviews/',\n",
    "                               'a', \n",
    "                               \"Heading\", \n",
    "                             typeclass='data-testid')"
   ]
  },
  {
   "cell_type": "code",
   "execution_count": 137,
   "id": "755b8a03",
   "metadata": {},
   "outputs": [],
   "source": [
    "NonESG=FTPE + FTIF + FTPS + ReutersBF + ReutersBN\n",
    "\n",
    "NonESG_df=pd.DataFrame(NonESG, columns=['T'])\n",
    "NonESG_df['S']=0"
   ]
  },
  {
   "cell_type": "code",
   "execution_count": 139,
   "id": "064b7ccf",
   "metadata": {},
   "outputs": [],
   "source": [
    "ESG_data=pd.concat([NonESG_df, ESG_df])\n",
    "ESG_data.reset_index(drop=True, inplace=True)"
   ]
  },
  {
   "cell_type": "code",
   "execution_count": 232,
   "id": "6b64ff3d",
   "metadata": {},
   "outputs": [
    {
     "data": {
      "text/html": [
       "<div>\n",
       "<style scoped>\n",
       "    .dataframe tbody tr th:only-of-type {\n",
       "        vertical-align: middle;\n",
       "    }\n",
       "\n",
       "    .dataframe tbody tr th {\n",
       "        vertical-align: top;\n",
       "    }\n",
       "\n",
       "    .dataframe thead th {\n",
       "        text-align: right;\n",
       "    }\n",
       "</style>\n",
       "<table border=\"1\" class=\"dataframe\">\n",
       "  <thead>\n",
       "    <tr style=\"text-align: right;\">\n",
       "      <th></th>\n",
       "      <th>T</th>\n",
       "      <th>S</th>\n",
       "    </tr>\n",
       "  </thead>\n",
       "  <tbody>\n",
       "    <tr>\n",
       "      <th>0</th>\n",
       "      <td>PE groups sell stakes at discount on expectati...</td>\n",
       "      <td>0</td>\n",
       "    </tr>\n",
       "    <tr>\n",
       "      <th>1</th>\n",
       "      <td>Fortress boss sees distressed debt boom as Sof...</td>\n",
       "      <td>0</td>\n",
       "    </tr>\n",
       "    <tr>\n",
       "      <th>2</th>\n",
       "      <td>UK asset manager Ruffer to open New York office</td>\n",
       "      <td>0</td>\n",
       "    </tr>\n",
       "    <tr>\n",
       "      <th>3</th>\n",
       "      <td>Will the bubble in private markets hiss or pop?</td>\n",
       "      <td>0</td>\n",
       "    </tr>\n",
       "    <tr>\n",
       "      <th>4</th>\n",
       "      <td>Calpers signals ‘appetite’ to increase bets on...</td>\n",
       "      <td>0</td>\n",
       "    </tr>\n",
       "    <tr>\n",
       "      <th>...</th>\n",
       "      <td>...</td>\n",
       "      <td>...</td>\n",
       "    </tr>\n",
       "    <tr>\n",
       "      <th>273</th>\n",
       "      <td>Nuns urge Citigroup to rethink financing of fo...</td>\n",
       "      <td>1</td>\n",
       "    </tr>\n",
       "    <tr>\n",
       "      <th>274</th>\n",
       "      <td>Investors to press TotalEnergies over climate ...</td>\n",
       "      <td>1</td>\n",
       "    </tr>\n",
       "    <tr>\n",
       "      <th>275</th>\n",
       "      <td>Illumina chief’s pay nearly doubles ahead of c...</td>\n",
       "      <td>1</td>\n",
       "    </tr>\n",
       "    <tr>\n",
       "      <th>276</th>\n",
       "      <td>Airbus drops deal with Atos digital unit after...</td>\n",
       "      <td>1</td>\n",
       "    </tr>\n",
       "    <tr>\n",
       "      <th>277</th>\n",
       "      <td>Activist investors smoke out South Korea’s und...</td>\n",
       "      <td>1</td>\n",
       "    </tr>\n",
       "  </tbody>\n",
       "</table>\n",
       "<p>278 rows × 2 columns</p>\n",
       "</div>"
      ],
      "text/plain": [
       "                                                     T  S\n",
       "0    PE groups sell stakes at discount on expectati...  0\n",
       "1    Fortress boss sees distressed debt boom as Sof...  0\n",
       "2     UK asset manager Ruffer to open New York office   0\n",
       "3      Will the bubble in private markets hiss or pop?  0\n",
       "4    Calpers signals ‘appetite’ to increase bets on...  0\n",
       "..                                                 ... ..\n",
       "273  Nuns urge Citigroup to rethink financing of fo...  1\n",
       "274  Investors to press TotalEnergies over climate ...  1\n",
       "275  Illumina chief’s pay nearly doubles ahead of c...  1\n",
       "276  Airbus drops deal with Atos digital unit after...  1\n",
       "277  Activist investors smoke out South Korea’s und...  1\n",
       "\n",
       "[278 rows x 2 columns]"
      ]
     },
     "execution_count": 232,
     "metadata": {},
     "output_type": "execute_result"
    }
   ],
   "source": [
    "ESG_data"
   ]
  },
  {
   "cell_type": "code",
   "execution_count": 180,
   "id": "dfb93973",
   "metadata": {},
   "outputs": [],
   "source": [
    "datapath=os.getcwd()[:-len('notebook')] + \"data/\"\n",
    "ESG_data.to_csv(datapath+'Categorized_ESG_data.csv')"
   ]
  },
  {
   "cell_type": "code",
   "execution_count": 188,
   "id": "cdbfc3d3",
   "metadata": {},
   "outputs": [
    {
     "data": {
      "text/plain": [
       "0      pe groups sell stakes at discount on expectati...\n",
       "1      fortress boss sees distressed debt boom as sof...\n",
       "2       uk asset manager ruffer to open new york office \n",
       "3        will the bubble in private markets hiss or pop?\n",
       "4      calpers signals ‘appetite’ to increase bets on...\n",
       "                             ...                        \n",
       "273    nuns urge citigroup to rethink financing of fo...\n",
       "274    investors to press totalenergies over climate ...\n",
       "275    illumina chief’s pay nearly doubles ahead of c...\n",
       "276    airbus drops deal with atos digital unit after...\n",
       "277    activist investors smoke out south korea’s und...\n",
       "Name: T, Length: 278, dtype: object"
      ]
     },
     "execution_count": 188,
     "metadata": {},
     "output_type": "execute_result"
    }
   ],
   "source": []
  },
  {
   "cell_type": "code",
   "execution_count": 190,
   "id": "2908e7b7",
   "metadata": {},
   "outputs": [],
   "source": [
    "x_train, x_test,y_train, y_test = train_test_split(ESG_data['T'].str.lower(),\n",
    "                                                   ESG_data['S'],\n",
    "                                                   test_size = 0.2, \n",
    "                                                   shuffle=True)"
   ]
  },
  {
   "cell_type": "code",
   "execution_count": 191,
   "id": "45c24355",
   "metadata": {},
   "outputs": [],
   "source": [
    "cv = CountVectorizer()\n",
    "features = cv.fit_transform(x_train)"
   ]
  },
  {
   "cell_type": "code",
   "execution_count": 192,
   "id": "88454000",
   "metadata": {},
   "outputs": [
    {
     "name": "stdout",
     "output_type": "stream",
     "text": [
      "Accuracy: 0.6785714285714286\n"
     ]
    }
   ],
   "source": [
    "model = svm.SVC()\n",
    "model.fit(features,y_train)\n",
    "\n",
    "features_test = cv.transform(x_test)\n",
    "print(\"Accuracy: {}\".format(model.score(features_test,y_test)))"
   ]
  },
  {
   "cell_type": "code",
   "execution_count": 215,
   "id": "9291a04b",
   "metadata": {},
   "outputs": [
    {
     "name": "stdout",
     "output_type": "stream",
     "text": [
      "Accuracy: 0.8392857142857143\n"
     ]
    }
   ],
   "source": [
    "modelgb = GaussianNB()\n",
    "modelgb.fit(features.toarray(),y_train)\n",
    "\n",
    "features_test = cv.transform(x_test)\n",
    "print(\"Accuracy: {}\".format(modelgb.score(features_test.toarray(),y_test)))"
   ]
  },
  {
   "cell_type": "code",
   "execution_count": 194,
   "id": "26eced7e",
   "metadata": {},
   "outputs": [
    {
     "name": "stdout",
     "output_type": "stream",
     "text": [
      "Accuracy: 0.6964285714285714\n"
     ]
    }
   ],
   "source": [
    "model = BernoulliNB()\n",
    "model.fit(features.toarray(),y_train)\n",
    "\n",
    "features_test = cv.transform(x_test)\n",
    "print(\"Accuracy: {}\".format(model.score(features_test.toarray(),y_test)))"
   ]
  },
  {
   "cell_type": "code",
   "execution_count": 195,
   "id": "99ea6101",
   "metadata": {},
   "outputs": [
    {
     "name": "stdout",
     "output_type": "stream",
     "text": [
      "Accuracy: 0.875\n"
     ]
    }
   ],
   "source": [
    "model = ComplementNB()\n",
    "model.fit(features.toarray(),y_train)\n",
    "\n",
    "features_test = cv.transform(x_test)\n",
    "print(\"Accuracy: {}\".format(model.score(features_test.toarray(),y_test)))"
   ]
  },
  {
   "cell_type": "code",
   "execution_count": 169,
   "id": "ef9a8e1e",
   "metadata": {},
   "outputs": [],
   "source": [
    "inputs=features.toarray().shape[1]"
   ]
  },
  {
   "cell_type": "code",
   "execution_count": 250,
   "id": "460c2a79",
   "metadata": {},
   "outputs": [
    {
     "data": {
      "text/plain": [
       "array([1, 1, 1, 0, 1, 1, 1, 1, 1, 1, 1, 1, 1, 1, 1, 1, 0, 1, 0, 1, 1, 0,\n",
       "       0, 0, 0, 1, 0, 1, 1, 1, 1, 1, 1, 1, 0, 0, 0, 1, 0, 1, 1, 1, 1, 1,\n",
       "       1, 0, 1, 1, 1, 0, 1, 0, 1, 1, 0, 1])"
      ]
     },
     "execution_count": 250,
     "metadata": {},
     "output_type": "execute_result"
    }
   ],
   "source": [
    "model.predict(features_test.toarray())"
   ]
  },
  {
   "cell_type": "code",
   "execution_count": 253,
   "id": "fb87bd3d",
   "metadata": {},
   "outputs": [
    {
     "data": {
      "text/plain": [
       "array([0.00330832, 0.99669168])"
      ]
     },
     "execution_count": 253,
     "metadata": {},
     "output_type": "execute_result"
    }
   ],
   "source": [
    "model.predict_proba(features_test.toarray())[0]"
   ]
  },
  {
   "cell_type": "code",
   "execution_count": 183,
   "id": "6a2b5d49",
   "metadata": {},
   "outputs": [],
   "source": [
    "Bar=pd.read_csv(datapath+'Barclays.csv')"
   ]
  },
  {
   "cell_type": "code",
   "execution_count": 198,
   "id": "6db132cf",
   "metadata": {},
   "outputs": [],
   "source": [
    "X=Bar.text.str.lower().str.replace('barclays', '')"
   ]
  },
  {
   "cell_type": "code",
   "execution_count": 242,
   "id": "9cdd70f1",
   "metadata": {},
   "outputs": [],
   "source": [
    "X_cv=cv.transform(X)\n",
    "Bar['ESG']=modelgb.predict_proba(X_cv.toarray())"
   ]
  },
  {
   "cell_type": "code",
   "execution_count": 243,
   "id": "14b1c8c5",
   "metadata": {},
   "outputs": [
    {
     "data": {
      "text/plain": [
       "1.0    761\n",
       "0.0    590\n",
       "Name: ESG, dtype: int64"
      ]
     },
     "execution_count": 243,
     "metadata": {},
     "output_type": "execute_result"
    }
   ],
   "source": [
    "Bar.ESG.value_counts()"
   ]
  },
  {
   "cell_type": "code",
   "execution_count": 239,
   "id": "9659516d",
   "metadata": {},
   "outputs": [
    {
     "data": {
      "text/html": [
       "<div>\n",
       "<style scoped>\n",
       "    .dataframe tbody tr th:only-of-type {\n",
       "        vertical-align: middle;\n",
       "    }\n",
       "\n",
       "    .dataframe tbody tr th {\n",
       "        vertical-align: top;\n",
       "    }\n",
       "\n",
       "    .dataframe thead th {\n",
       "        text-align: right;\n",
       "    }\n",
       "</style>\n",
       "<table border=\"1\" class=\"dataframe\">\n",
       "  <thead>\n",
       "    <tr style=\"text-align: right;\">\n",
       "      <th></th>\n",
       "      <th>versionCreated</th>\n",
       "      <th>text</th>\n",
       "      <th>storyId</th>\n",
       "      <th>sourceCode</th>\n",
       "      <th>ESG</th>\n",
       "    </tr>\n",
       "  </thead>\n",
       "  <tbody>\n",
       "    <tr>\n",
       "      <th>1</th>\n",
       "      <td>2022-12-22 10:14:26+00:00</td>\n",
       "      <td>BREAKINGVIEWS-Interlopers may yet crash the Gu...</td>\n",
       "      <td>urn:newsml:newswire.refinitiv.com:20221222:nL8...</td>\n",
       "      <td>NS:RTRS</td>\n",
       "      <td>0</td>\n",
       "    </tr>\n",
       "    <tr>\n",
       "      <th>2</th>\n",
       "      <td>2022-12-21 05:00:00+00:00</td>\n",
       "      <td>RPT-Recession, rate hikes seen jamming brakes ...</td>\n",
       "      <td>urn:newsml:newswire.refinitiv.com:20221221:nL1...</td>\n",
       "      <td>NS:RTRS</td>\n",
       "      <td>0</td>\n",
       "    </tr>\n",
       "    <tr>\n",
       "      <th>3</th>\n",
       "      <td>2022-12-21 01:01:00+00:00</td>\n",
       "      <td>RPT-Recession, rate hikes seen jamming brakes ...</td>\n",
       "      <td>urn:newsml:newswire.refinitiv.com:20221221:nL1...</td>\n",
       "      <td>NS:RTRS</td>\n",
       "      <td>0</td>\n",
       "    </tr>\n",
       "    <tr>\n",
       "      <th>5</th>\n",
       "      <td>2022-12-20 13:46:27+00:00</td>\n",
       "      <td>Recession, rate hikes seen jamming brakes on g...</td>\n",
       "      <td>urn:newsml:newswire.refinitiv.com:20221220:nL1...</td>\n",
       "      <td>NS:RTRS</td>\n",
       "      <td>0</td>\n",
       "    </tr>\n",
       "    <tr>\n",
       "      <th>6</th>\n",
       "      <td>2022-12-19 15:14:21+00:00</td>\n",
       "      <td>BREAKINGVIEWS-Intrepid bankers will find Bouti...</td>\n",
       "      <td>urn:newsml:newswire.refinitiv.com:20221219:nL1...</td>\n",
       "      <td>NS:RTRS</td>\n",
       "      <td>0</td>\n",
       "    </tr>\n",
       "    <tr>\n",
       "      <th>...</th>\n",
       "      <td>...</td>\n",
       "      <td>...</td>\n",
       "      <td>...</td>\n",
       "      <td>...</td>\n",
       "      <td>...</td>\n",
       "    </tr>\n",
       "    <tr>\n",
       "      <th>1340</th>\n",
       "      <td>2023-01-06 15:55:56.722000+00:00</td>\n",
       "      <td>Refinitiv Newscasts - Bali and Thailand await ...</td>\n",
       "      <td>urn:newsml:newswire.refinitiv.com:20230106:nRT...</td>\n",
       "      <td>NS:RTRS</td>\n",
       "      <td>0</td>\n",
       "    </tr>\n",
       "    <tr>\n",
       "      <th>1343</th>\n",
       "      <td>2023-01-05 11:00:02.297000+00:00</td>\n",
       "      <td>BARCLAYS PLC  - NOTICE OF REDEMPTION AND CANCE...</td>\n",
       "      <td>urn:newsml:newswire.refinitiv.com:20230105:nTU...</td>\n",
       "      <td>NS:RTRS</td>\n",
       "      <td>0</td>\n",
       "    </tr>\n",
       "    <tr>\n",
       "      <th>1347</th>\n",
       "      <td>2023-01-04 00:45:32+00:00</td>\n",
       "      <td>BREAKINGVIEWS-Banks will pump H2O to top of cl...</td>\n",
       "      <td>urn:newsml:newswire.refinitiv.com:20230104:nL4...</td>\n",
       "      <td>NS:RTRS</td>\n",
       "      <td>0</td>\n",
       "    </tr>\n",
       "    <tr>\n",
       "      <th>1348</th>\n",
       "      <td>2023-01-03 21:36:32+00:00</td>\n",
       "      <td>BRIEF-Barclays Bank Says Purchase Price Of Not...</td>\n",
       "      <td>urn:newsml:newswire.refinitiv.com:20230103:nTU...</td>\n",
       "      <td>NS:RTRS</td>\n",
       "      <td>0</td>\n",
       "    </tr>\n",
       "    <tr>\n",
       "      <th>1349</th>\n",
       "      <td>2023-01-03 21:32:00.297000+00:00</td>\n",
       "      <td>BARCLAYS - PURCHASE PRICE OF NOTES IS $202.08 ...</td>\n",
       "      <td>urn:newsml:newswire.refinitiv.com:20230103:nTU...</td>\n",
       "      <td>NS:RTRS</td>\n",
       "      <td>0</td>\n",
       "    </tr>\n",
       "  </tbody>\n",
       "</table>\n",
       "<p>761 rows × 5 columns</p>\n",
       "</div>"
      ],
      "text/plain": [
       "                        versionCreated  \\\n",
       "1            2022-12-22 10:14:26+00:00   \n",
       "2            2022-12-21 05:00:00+00:00   \n",
       "3            2022-12-21 01:01:00+00:00   \n",
       "5            2022-12-20 13:46:27+00:00   \n",
       "6            2022-12-19 15:14:21+00:00   \n",
       "...                                ...   \n",
       "1340  2023-01-06 15:55:56.722000+00:00   \n",
       "1343  2023-01-05 11:00:02.297000+00:00   \n",
       "1347         2023-01-04 00:45:32+00:00   \n",
       "1348         2023-01-03 21:36:32+00:00   \n",
       "1349  2023-01-03 21:32:00.297000+00:00   \n",
       "\n",
       "                                                   text  \\\n",
       "1     BREAKINGVIEWS-Interlopers may yet crash the Gu...   \n",
       "2     RPT-Recession, rate hikes seen jamming brakes ...   \n",
       "3     RPT-Recession, rate hikes seen jamming brakes ...   \n",
       "5     Recession, rate hikes seen jamming brakes on g...   \n",
       "6     BREAKINGVIEWS-Intrepid bankers will find Bouti...   \n",
       "...                                                 ...   \n",
       "1340  Refinitiv Newscasts - Bali and Thailand await ...   \n",
       "1343  BARCLAYS PLC  - NOTICE OF REDEMPTION AND CANCE...   \n",
       "1347  BREAKINGVIEWS-Banks will pump H2O to top of cl...   \n",
       "1348  BRIEF-Barclays Bank Says Purchase Price Of Not...   \n",
       "1349  BARCLAYS - PURCHASE PRICE OF NOTES IS $202.08 ...   \n",
       "\n",
       "                                                storyId sourceCode  ESG  \n",
       "1     urn:newsml:newswire.refinitiv.com:20221222:nL8...    NS:RTRS    0  \n",
       "2     urn:newsml:newswire.refinitiv.com:20221221:nL1...    NS:RTRS    0  \n",
       "3     urn:newsml:newswire.refinitiv.com:20221221:nL1...    NS:RTRS    0  \n",
       "5     urn:newsml:newswire.refinitiv.com:20221220:nL1...    NS:RTRS    0  \n",
       "6     urn:newsml:newswire.refinitiv.com:20221219:nL1...    NS:RTRS    0  \n",
       "...                                                 ...        ...  ...  \n",
       "1340  urn:newsml:newswire.refinitiv.com:20230106:nRT...    NS:RTRS    0  \n",
       "1343  urn:newsml:newswire.refinitiv.com:20230105:nTU...    NS:RTRS    0  \n",
       "1347  urn:newsml:newswire.refinitiv.com:20230104:nL4...    NS:RTRS    0  \n",
       "1348  urn:newsml:newswire.refinitiv.com:20230103:nTU...    NS:RTRS    0  \n",
       "1349  urn:newsml:newswire.refinitiv.com:20230103:nTU...    NS:RTRS    0  \n",
       "\n",
       "[761 rows x 5 columns]"
      ]
     },
     "execution_count": 239,
     "metadata": {},
     "output_type": "execute_result"
    }
   ],
   "source": [
    "Bar[Bar.ESG==0]"
   ]
  },
  {
   "cell_type": "code",
   "execution_count": 229,
   "id": "f05a5257",
   "metadata": {
    "scrolled": true
   },
   "outputs": [
    {
     "data": {
      "text/plain": [
       "-1     587\n",
       " 54      1\n",
       " 45      1\n",
       " 48      1\n",
       "Name: text, dtype: int64"
      ]
     },
     "execution_count": 229,
     "metadata": {},
     "output_type": "execute_result"
    }
   ],
   "source": [
    "Bar[Bar.ESG==1].reset_index().text.str.find('fossil').value_counts()"
   ]
  },
  {
   "cell_type": "code",
   "execution_count": 230,
   "id": "2a05a516",
   "metadata": {},
   "outputs": [
    {
     "data": {
      "text/plain": [
       "-1     760\n",
       " 39      1\n",
       "Name: text, dtype: int64"
      ]
     },
     "execution_count": 230,
     "metadata": {},
     "output_type": "execute_result"
    }
   ],
   "source": [
    "Bar[Bar.ESG==0].reset_index().text.str.find('fossil').value_counts()"
   ]
  },
  {
   "cell_type": "code",
   "execution_count": 237,
   "id": "c9a966e7",
   "metadata": {},
   "outputs": [
    {
     "data": {
      "text/html": [
       "<div>\n",
       "<style scoped>\n",
       "    .dataframe tbody tr th:only-of-type {\n",
       "        vertical-align: middle;\n",
       "    }\n",
       "\n",
       "    .dataframe tbody tr th {\n",
       "        vertical-align: top;\n",
       "    }\n",
       "\n",
       "    .dataframe thead th {\n",
       "        text-align: right;\n",
       "    }\n",
       "</style>\n",
       "<table border=\"1\" class=\"dataframe\">\n",
       "  <thead>\n",
       "    <tr style=\"text-align: right;\">\n",
       "      <th></th>\n",
       "      <th>versionCreated</th>\n",
       "      <th>text</th>\n",
       "      <th>storyId</th>\n",
       "      <th>sourceCode</th>\n",
       "      <th>ESG</th>\n",
       "    </tr>\n",
       "  </thead>\n",
       "  <tbody>\n",
       "    <tr>\n",
       "      <th>593</th>\n",
       "      <td>2022-05-24 11:45:23+00:00</td>\n",
       "      <td>UPDATE 1-Bank of England tells banks to take c...</td>\n",
       "      <td>urn:newsml:newswire.refinitiv.com:20220524:nL5...</td>\n",
       "      <td>NS:RTRS</td>\n",
       "      <td>1</td>\n",
       "    </tr>\n",
       "    <tr>\n",
       "      <th>596</th>\n",
       "      <td>2022-05-24 10:00:00.777000+00:00</td>\n",
       "      <td>Bank of England tells banks to take climate ac...</td>\n",
       "      <td>urn:newsml:newswire.refinitiv.com:20220524:nBE...</td>\n",
       "      <td>NS:RTRS</td>\n",
       "      <td>1</td>\n",
       "    </tr>\n",
       "    <tr>\n",
       "      <th>853</th>\n",
       "      <td>2022-03-22 10:05:18+00:00</td>\n",
       "      <td>UPDATE 1-Barclays says Ukraine crisis may hind...</td>\n",
       "      <td>urn:newsml:newswire.refinitiv.com:20220322:nL5...</td>\n",
       "      <td>NS:RTRS</td>\n",
       "      <td>1</td>\n",
       "    </tr>\n",
       "    <tr>\n",
       "      <th>854</th>\n",
       "      <td>2022-03-22 09:55:34+00:00</td>\n",
       "      <td>Barclays says Ukraine crisis may hinder progre...</td>\n",
       "      <td>urn:newsml:newswire.refinitiv.com:20220322:nL5...</td>\n",
       "      <td>NS:RTRS</td>\n",
       "      <td>1</td>\n",
       "    </tr>\n",
       "    <tr>\n",
       "      <th>1164</th>\n",
       "      <td>2023-03-13 11:25:02+00:00</td>\n",
       "      <td>UPDATE 1-Bank of England to study climate-rela...</td>\n",
       "      <td>urn:newsml:newswire.refinitiv.com:20230313:nL1...</td>\n",
       "      <td>NS:RTRS</td>\n",
       "      <td>1</td>\n",
       "    </tr>\n",
       "    <tr>\n",
       "      <th>1347</th>\n",
       "      <td>2023-01-04 00:45:32+00:00</td>\n",
       "      <td>BREAKINGVIEWS-Banks will pump H2O to top of cl...</td>\n",
       "      <td>urn:newsml:newswire.refinitiv.com:20230104:nL4...</td>\n",
       "      <td>NS:RTRS</td>\n",
       "      <td>0</td>\n",
       "    </tr>\n",
       "  </tbody>\n",
       "</table>\n",
       "</div>"
      ],
      "text/plain": [
       "                        versionCreated  \\\n",
       "593          2022-05-24 11:45:23+00:00   \n",
       "596   2022-05-24 10:00:00.777000+00:00   \n",
       "853          2022-03-22 10:05:18+00:00   \n",
       "854          2022-03-22 09:55:34+00:00   \n",
       "1164         2023-03-13 11:25:02+00:00   \n",
       "1347         2023-01-04 00:45:32+00:00   \n",
       "\n",
       "                                                   text  \\\n",
       "593   UPDATE 1-Bank of England tells banks to take c...   \n",
       "596   Bank of England tells banks to take climate ac...   \n",
       "853   UPDATE 1-Barclays says Ukraine crisis may hind...   \n",
       "854   Barclays says Ukraine crisis may hinder progre...   \n",
       "1164  UPDATE 1-Bank of England to study climate-rela...   \n",
       "1347  BREAKINGVIEWS-Banks will pump H2O to top of cl...   \n",
       "\n",
       "                                                storyId sourceCode  ESG  \n",
       "593   urn:newsml:newswire.refinitiv.com:20220524:nL5...    NS:RTRS    1  \n",
       "596   urn:newsml:newswire.refinitiv.com:20220524:nBE...    NS:RTRS    1  \n",
       "853   urn:newsml:newswire.refinitiv.com:20220322:nL5...    NS:RTRS    1  \n",
       "854   urn:newsml:newswire.refinitiv.com:20220322:nL5...    NS:RTRS    1  \n",
       "1164  urn:newsml:newswire.refinitiv.com:20230313:nL1...    NS:RTRS    1  \n",
       "1347  urn:newsml:newswire.refinitiv.com:20230104:nL4...    NS:RTRS    0  "
      ]
     },
     "execution_count": 237,
     "metadata": {},
     "output_type": "execute_result"
    }
   ],
   "source": [
    "Bar[Bar.text.str.contains('climate')]"
   ]
  },
  {
   "cell_type": "code",
   "execution_count": 271,
   "id": "fcb0b0ec",
   "metadata": {},
   "outputs": [],
   "source": [
    "def ESG_news_filter(company_df, text_col='text', inplace=True):\n",
    "    datapath=os.getcwd()[:-len('notebook')] + \"data/\"\n",
    "    ESG_data=pd.read_csv(datapath+'Categorized_ESG_data.csv')\n",
    "    \n",
    "    X=ESG_data['T'].str.lower()\n",
    "    y=ESG_data['S']\n",
    "    \n",
    "    cv = CountVectorizer()\n",
    "    features = cv.fit_transform(X)\n",
    "    \n",
    "    pre_trained_model = GaussianNB()\n",
    "    pre_trained_model.fit(features.toarray(),y)\n",
    "    \n",
    "    X_company=company_df[text_col]\n",
    "    Xf_company=cv.transform(X_company)\n",
    "    \n",
    "    ESG=pre_trained_model.predict(Xf_company.toarray())\n",
    "    \n",
    "    company_df['ESG']=ESG\n",
    "    \n",
    "    if inplace==True:\n",
    "        return company_df[company_df['ESG']==1].drop(columns='ESG')\n",
    "    else:\n",
    "        return company_df\n"
   ]
  },
  {
   "cell_type": "code",
   "execution_count": 276,
   "id": "38845288",
   "metadata": {},
   "outputs": [],
   "source": [
    "# dummy dataframe of headline for sentiment result\n",
    "esg_glossaries = pd.read_csv('../data/ESG Score Compile - Glossary.csv')                 \n",
    "\n",
    "# remove unused row number\n",
    "esg_glossaries = esg_glossaries.drop(['No'], axis=1)\n",
    "\n",
    "# lower the glossaries\n",
    "esg_glossaries['Keywords'] = esg_glossaries['Keywords'].str.lower()\n",
    "\n",
    "# remove duplicates\n",
    "esg_glossaries = esg_glossaries.drop_duplicates(['Keywords'])\n",
    "\n",
    "def filter_esg_news(df, esg_glossaries, column, verbose = False):\n",
    "\n",
    "    ESG_news_filter = pd.DataFrame()\n",
    "    cnt = 0\n",
    "    for key in esg_glossaries.Keywords:\n",
    "        cnt+=1\n",
    "        ESG_news_filter = pd.concat([ESG_news_filter, df[df[column].str.contains(key)]])\n",
    "\n",
    "        if verbose:\n",
    "            if cnt % 10 == 0:\n",
    "                print(cnt)\n",
    "            \n",
    "    return ESG_news_filter\n",
    "\n",
    "# 3. Barclays\n",
    "\n",
    "## 3.1 Pre-Processing\n",
    "\n",
    "### 3.1.1 Headline\n",
    "\n"
   ]
  },
  {
   "cell_type": "code",
   "execution_count": 290,
   "id": "04077a1b",
   "metadata": {},
   "outputs": [
    {
     "name": "stdout",
     "output_type": "stream",
     "text": [
      "preprocessing and drop duplicates news: 1267\n",
      "filter out non-esg news: 83\n"
     ]
    },
    {
     "name": "stderr",
     "output_type": "stream",
     "text": [
      "/var/folders/d6/7lynsrq96wn_w8fwq8knqm240000gn/T/ipykernel_4595/2902799566.py:19: UserWarning: This pattern has match groups. To actually get the groups, use str.extract.\n",
      "  ESG_news_filter = pd.concat([ESG_news_filter, df[df[column].str.contains(key)]])\n"
     ]
    }
   ],
   "source": [
    "def text_preprocessing(df, esg_glossaries, firm='barclays'):\n",
    "    df_copy = df.copy()\n",
    "\n",
    "    # assign a new seperate column text_pp for preprocessing\n",
    "    df_copy['text_pp'] = df_copy.text\n",
    "\n",
    "    # make the string lower\n",
    "    df_copy['text_pp'] = df_copy['text_pp'].apply(lambda x: x.lower())\n",
    "\n",
    "    # remove the punctuation\n",
    "    translator = str.maketrans(string.punctuation, ' '*len(string.punctuation)) #map punctuation to space\n",
    "    df_copy['text_pp'] = df_copy['text_pp'].apply(lambda x: x.translate(translator))\n",
    "\n",
    "    # remove unnecessary word\n",
    "    df_copy['text_pp'] = df_copy['text_pp'].apply(lambda x: x.replace('rpt',''))\n",
    "\n",
    "    # delete unnecessary double-space\n",
    "    df_copy['text_pp'] = df_copy['text_pp'].apply(lambda x: ' '.join(x.split()))\n",
    "\n",
    "    # filterout news that contains barclays in the headline news.\n",
    "    #df_copy = df_copy[df_copy.text_pp.str.contains(firm)]\n",
    "    \n",
    "    # remove duplicates of headers\n",
    "    df_copy = df_copy.drop_duplicates(['text_pp'])\n",
    "    print('preprocessing and drop duplicates news:', df_copy.shape[0])\n",
    "    \n",
    "    # filter out only ESG news\n",
    "    df_copy = filter_esg_news(df_copy, esg_glossaries, 'text_pp')\n",
    "    print('filter out non-esg news:', df_copy.shape[0])\n",
    "\n",
    "    return df_copy\n",
    "\n",
    "df_barc_pp = text_preprocessing(Bar, esg_glossaries, 'barclays')"
   ]
  },
  {
   "cell_type": "code",
   "execution_count": 291,
   "id": "593ca87a",
   "metadata": {},
   "outputs": [
    {
     "name": "stdout",
     "output_type": "stream",
     "text": [
      "preprocessing and drop duplicates news: 1267\n",
      "filter out non-esg news: 427\n"
     ]
    }
   ],
   "source": [
    "def text_preprocessing_v2(df, firm='barclays'):\n",
    "    df_copy = df.copy()\n",
    "\n",
    "    # assign a new seperate column text_pp for preprocessing\n",
    "    df_copy['text_pp'] = df_copy.text\n",
    "\n",
    "    # make the string lower\n",
    "    df_copy['text_pp'] = df_copy['text_pp'].apply(lambda x: x.lower())\n",
    "\n",
    "    # remove the punctuation\n",
    "    translator = str.maketrans(string.punctuation, ' '*len(string.punctuation)) #map punctuation to space\n",
    "    df_copy['text_pp'] = df_copy['text_pp'].apply(lambda x: x.translate(translator))\n",
    "\n",
    "    # remove unnecessary word\n",
    "    df_copy['text_pp'] = df_copy['text_pp'].apply(lambda x: x.replace('rpt',''))\n",
    "\n",
    "    # delete unnecessary double-space\n",
    "    df_copy['text_pp'] = df_copy['text_pp'].apply(lambda x: ' '.join(x.split()))\n",
    "\n",
    "    # filterout news that contains barclays in the headline news.\n",
    "    #df_copy = df_copy[df_copy.text_pp.str.contains(firm)]\n",
    "    \n",
    "    # remove duplicates of headers\n",
    "    df_copy = df_copy.drop_duplicates(['text_pp'])\n",
    "    print('preprocessing and drop duplicates news:', df_copy.shape[0])\n",
    "    \n",
    "    # filter out only ESG news\n",
    "    df_copy_fil = ESG_news_filter(df_copy, text_col='text_pp', inplace=True)\n",
    "    print('filter out non-esg news:', df_copy_fil.shape[0])\n",
    "\n",
    "    return df_copy_fil\n",
    "\n",
    "df_barc_pp = text_preprocessing_v2(Bar, 'barclays')"
   ]
  },
  {
   "cell_type": "code",
   "execution_count": 286,
   "id": "6efbc0b6",
   "metadata": {},
   "outputs": [
    {
     "data": {
      "text/html": [
       "<div>\n",
       "<style scoped>\n",
       "    .dataframe tbody tr th:only-of-type {\n",
       "        vertical-align: middle;\n",
       "    }\n",
       "\n",
       "    .dataframe tbody tr th {\n",
       "        vertical-align: top;\n",
       "    }\n",
       "\n",
       "    .dataframe thead th {\n",
       "        text-align: right;\n",
       "    }\n",
       "</style>\n",
       "<table border=\"1\" class=\"dataframe\">\n",
       "  <thead>\n",
       "    <tr style=\"text-align: right;\">\n",
       "      <th></th>\n",
       "      <th>text</th>\n",
       "      <th>S</th>\n",
       "    </tr>\n",
       "  </thead>\n",
       "  <tbody>\n",
       "    <tr>\n",
       "      <th>0</th>\n",
       "      <td>PE groups sell stakes at discount on expectati...</td>\n",
       "      <td>0</td>\n",
       "    </tr>\n",
       "    <tr>\n",
       "      <th>1</th>\n",
       "      <td>Fortress boss sees distressed debt boom as Sof...</td>\n",
       "      <td>0</td>\n",
       "    </tr>\n",
       "    <tr>\n",
       "      <th>2</th>\n",
       "      <td>UK asset manager Ruffer to open New York office</td>\n",
       "      <td>0</td>\n",
       "    </tr>\n",
       "    <tr>\n",
       "      <th>3</th>\n",
       "      <td>Will the bubble in private markets hiss or pop?</td>\n",
       "      <td>0</td>\n",
       "    </tr>\n",
       "    <tr>\n",
       "      <th>4</th>\n",
       "      <td>Calpers signals ‘appetite’ to increase bets on...</td>\n",
       "      <td>0</td>\n",
       "    </tr>\n",
       "    <tr>\n",
       "      <th>...</th>\n",
       "      <td>...</td>\n",
       "      <td>...</td>\n",
       "    </tr>\n",
       "    <tr>\n",
       "      <th>273</th>\n",
       "      <td>Nuns urge Citigroup to rethink financing of fo...</td>\n",
       "      <td>1</td>\n",
       "    </tr>\n",
       "    <tr>\n",
       "      <th>274</th>\n",
       "      <td>Investors to press TotalEnergies over climate ...</td>\n",
       "      <td>1</td>\n",
       "    </tr>\n",
       "    <tr>\n",
       "      <th>275</th>\n",
       "      <td>Illumina chief’s pay nearly doubles ahead of c...</td>\n",
       "      <td>1</td>\n",
       "    </tr>\n",
       "    <tr>\n",
       "      <th>276</th>\n",
       "      <td>Airbus drops deal with Atos digital unit after...</td>\n",
       "      <td>1</td>\n",
       "    </tr>\n",
       "    <tr>\n",
       "      <th>277</th>\n",
       "      <td>Activist investors smoke out South Korea’s und...</td>\n",
       "      <td>1</td>\n",
       "    </tr>\n",
       "  </tbody>\n",
       "</table>\n",
       "<p>278 rows × 2 columns</p>\n",
       "</div>"
      ],
      "text/plain": [
       "                                                  text  S\n",
       "0    PE groups sell stakes at discount on expectati...  0\n",
       "1    Fortress boss sees distressed debt boom as Sof...  0\n",
       "2     UK asset manager Ruffer to open New York office   0\n",
       "3      Will the bubble in private markets hiss or pop?  0\n",
       "4    Calpers signals ‘appetite’ to increase bets on...  0\n",
       "..                                                 ... ..\n",
       "273  Nuns urge Citigroup to rethink financing of fo...  1\n",
       "274  Investors to press TotalEnergies over climate ...  1\n",
       "275  Illumina chief’s pay nearly doubles ahead of c...  1\n",
       "276  Airbus drops deal with Atos digital unit after...  1\n",
       "277  Activist investors smoke out South Korea’s und...  1\n",
       "\n",
       "[278 rows x 2 columns]"
      ]
     },
     "execution_count": 286,
     "metadata": {},
     "output_type": "execute_result"
    }
   ],
   "source": [
    "ESG_data_test"
   ]
  },
  {
   "cell_type": "code",
   "execution_count": 292,
   "id": "8b2c9fa9",
   "metadata": {},
   "outputs": [],
   "source": [
    "ESG_data_test=ESG_data.rename(columns={'T':'text'})"
   ]
  },
  {
   "cell_type": "code",
   "execution_count": 293,
   "id": "5dea7af4",
   "metadata": {},
   "outputs": [
    {
     "name": "stdout",
     "output_type": "stream",
     "text": [
      "preprocessing and drop duplicates news: 256\n",
      "filter out non-esg news: 70\n"
     ]
    },
    {
     "name": "stderr",
     "output_type": "stream",
     "text": [
      "/var/folders/d6/7lynsrq96wn_w8fwq8knqm240000gn/T/ipykernel_4595/2902799566.py:19: UserWarning: This pattern has match groups. To actually get the groups, use str.extract.\n",
      "  ESG_news_filter = pd.concat([ESG_news_filter, df[df[column].str.contains(key)]])\n"
     ]
    }
   ],
   "source": [
    "v1=text_preprocessing(ESG_data_test, esg_glossaries, 'barclays')"
   ]
  },
  {
   "cell_type": "code",
   "execution_count": 294,
   "id": "5dd04ec2",
   "metadata": {},
   "outputs": [
    {
     "name": "stdout",
     "output_type": "stream",
     "text": [
      "preprocessing and drop duplicates news: 256\n",
      "filter out non-esg news: 142\n"
     ]
    }
   ],
   "source": [
    "v2=text_preprocessing_v2(ESG_data_test, 'barclays')"
   ]
  },
  {
   "cell_type": "code",
   "execution_count": 295,
   "id": "58e625e3",
   "metadata": {},
   "outputs": [
    {
     "data": {
      "text/html": [
       "<div>\n",
       "<style scoped>\n",
       "    .dataframe tbody tr th:only-of-type {\n",
       "        vertical-align: middle;\n",
       "    }\n",
       "\n",
       "    .dataframe tbody tr th {\n",
       "        vertical-align: top;\n",
       "    }\n",
       "\n",
       "    .dataframe thead th {\n",
       "        text-align: right;\n",
       "    }\n",
       "</style>\n",
       "<table border=\"1\" class=\"dataframe\">\n",
       "  <thead>\n",
       "    <tr style=\"text-align: right;\">\n",
       "      <th></th>\n",
       "      <th>text</th>\n",
       "      <th>S</th>\n",
       "      <th>text_pp</th>\n",
       "    </tr>\n",
       "  </thead>\n",
       "  <tbody>\n",
       "    <tr>\n",
       "      <th>140</th>\n",
       "      <td>\\n\\n              Reserve Bank of India Projec...</td>\n",
       "      <td>1</td>\n",
       "      <td>reserve bank of india projects country’s cost ...</td>\n",
       "    </tr>\n",
       "    <tr>\n",
       "      <th>205</th>\n",
       "      <td>Ahlstrom Aids Renewable Energy Shift with Elek...</td>\n",
       "      <td>1</td>\n",
       "      <td>ahlstrom aids renewable energy shift with elek...</td>\n",
       "    </tr>\n",
       "    <tr>\n",
       "      <th>180</th>\n",
       "      <td>Can biodiversity funds help investors protect ...</td>\n",
       "      <td>1</td>\n",
       "      <td>can biodiversity funds help investors protect ...</td>\n",
       "    </tr>\n",
       "    <tr>\n",
       "      <th>231</th>\n",
       "      <td>Aviva adds biodiversity and human rights to ES...</td>\n",
       "      <td>1</td>\n",
       "      <td>aviva adds biodiversity and human rights to es...</td>\n",
       "    </tr>\n",
       "    <tr>\n",
       "      <th>231</th>\n",
       "      <td>Aviva adds biodiversity and human rights to ES...</td>\n",
       "      <td>1</td>\n",
       "      <td>aviva adds biodiversity and human rights to es...</td>\n",
       "    </tr>\n",
       "    <tr>\n",
       "      <th>...</th>\n",
       "      <td>...</td>\n",
       "      <td>...</td>\n",
       "      <td>...</td>\n",
       "    </tr>\n",
       "    <tr>\n",
       "      <th>180</th>\n",
       "      <td>Can biodiversity funds help investors protect ...</td>\n",
       "      <td>1</td>\n",
       "      <td>can biodiversity funds help investors protect ...</td>\n",
       "    </tr>\n",
       "    <tr>\n",
       "      <th>231</th>\n",
       "      <td>Aviva adds biodiversity and human rights to ES...</td>\n",
       "      <td>1</td>\n",
       "      <td>aviva adds biodiversity and human rights to es...</td>\n",
       "    </tr>\n",
       "    <tr>\n",
       "      <th>242</th>\n",
       "      <td>Diversity in the boardroom must be more than j...</td>\n",
       "      <td>1</td>\n",
       "      <td>diversity in the boardroom must be more than j...</td>\n",
       "    </tr>\n",
       "    <tr>\n",
       "      <th>65</th>\n",
       "      <td>Shortage of young accountants leads BDO USA to...</td>\n",
       "      <td>0</td>\n",
       "      <td>shortage of young accountants leads bdo usa to...</td>\n",
       "    </tr>\n",
       "    <tr>\n",
       "      <th>217</th>\n",
       "      <td>Shein admits factory working hour breaches and...</td>\n",
       "      <td>1</td>\n",
       "      <td>shein admits factory working hour breaches and...</td>\n",
       "    </tr>\n",
       "  </tbody>\n",
       "</table>\n",
       "<p>70 rows × 3 columns</p>\n",
       "</div>"
      ],
      "text/plain": [
       "                                                  text  S  \\\n",
       "140  \\n\\n              Reserve Bank of India Projec...  1   \n",
       "205  Ahlstrom Aids Renewable Energy Shift with Elek...  1   \n",
       "180  Can biodiversity funds help investors protect ...  1   \n",
       "231  Aviva adds biodiversity and human rights to ES...  1   \n",
       "231  Aviva adds biodiversity and human rights to ES...  1   \n",
       "..                                                 ... ..   \n",
       "180  Can biodiversity funds help investors protect ...  1   \n",
       "231  Aviva adds biodiversity and human rights to ES...  1   \n",
       "242  Diversity in the boardroom must be more than j...  1   \n",
       "65   Shortage of young accountants leads BDO USA to...  0   \n",
       "217  Shein admits factory working hour breaches and...  1   \n",
       "\n",
       "                                               text_pp  \n",
       "140  reserve bank of india projects country’s cost ...  \n",
       "205  ahlstrom aids renewable energy shift with elek...  \n",
       "180  can biodiversity funds help investors protect ...  \n",
       "231  aviva adds biodiversity and human rights to es...  \n",
       "231  aviva adds biodiversity and human rights to es...  \n",
       "..                                                 ...  \n",
       "180  can biodiversity funds help investors protect ...  \n",
       "231  aviva adds biodiversity and human rights to es...  \n",
       "242  diversity in the boardroom must be more than j...  \n",
       "65   shortage of young accountants leads bdo usa to...  \n",
       "217  shein admits factory working hour breaches and...  \n",
       "\n",
       "[70 rows x 3 columns]"
      ]
     },
     "execution_count": 295,
     "metadata": {},
     "output_type": "execute_result"
    }
   ],
   "source": [
    "v1"
   ]
  },
  {
   "cell_type": "code",
   "execution_count": 296,
   "id": "0a75111f",
   "metadata": {},
   "outputs": [
    {
     "data": {
      "text/html": [
       "<div>\n",
       "<style scoped>\n",
       "    .dataframe tbody tr th:only-of-type {\n",
       "        vertical-align: middle;\n",
       "    }\n",
       "\n",
       "    .dataframe tbody tr th {\n",
       "        vertical-align: top;\n",
       "    }\n",
       "\n",
       "    .dataframe thead th {\n",
       "        text-align: right;\n",
       "    }\n",
       "</style>\n",
       "<table border=\"1\" class=\"dataframe\">\n",
       "  <thead>\n",
       "    <tr style=\"text-align: right;\">\n",
       "      <th></th>\n",
       "      <th>text</th>\n",
       "      <th>S</th>\n",
       "      <th>text_pp</th>\n",
       "    </tr>\n",
       "  </thead>\n",
       "  <tbody>\n",
       "    <tr>\n",
       "      <th>115</th>\n",
       "      <td>\\n\\n              Volvo Group Signs Deal With ...</td>\n",
       "      <td>1</td>\n",
       "      <td>volvo group signs deal with vattenfall to buy ...</td>\n",
       "    </tr>\n",
       "    <tr>\n",
       "      <th>116</th>\n",
       "      <td>\\n\\n              Solar Energy Group Europe (S...</td>\n",
       "      <td>1</td>\n",
       "      <td>solar energy group europe sege starts building...</td>\n",
       "    </tr>\n",
       "    <tr>\n",
       "      <th>117</th>\n",
       "      <td>\\n\\n              EU and Korea Launch Green Pa...</td>\n",
       "      <td>1</td>\n",
       "      <td>eu and korea launch green partnership to deepe...</td>\n",
       "    </tr>\n",
       "    <tr>\n",
       "      <th>118</th>\n",
       "      <td>\\n\\n              NEOM Green Hydrogen Company ...</td>\n",
       "      <td>1</td>\n",
       "      <td>neom green hydrogen company closes on 8 4 bill...</td>\n",
       "    </tr>\n",
       "    <tr>\n",
       "      <th>119</th>\n",
       "      <td>\\n\\n              Chinese EV Maker Nio Invests...</td>\n",
       "      <td>1</td>\n",
       "      <td>chinese ev maker nio invests in nuclear fusion...</td>\n",
       "    </tr>\n",
       "    <tr>\n",
       "      <th>...</th>\n",
       "      <td>...</td>\n",
       "      <td>...</td>\n",
       "      <td>...</td>\n",
       "    </tr>\n",
       "    <tr>\n",
       "      <th>273</th>\n",
       "      <td>Nuns urge Citigroup to rethink financing of fo...</td>\n",
       "      <td>1</td>\n",
       "      <td>nuns urge citigroup to rethink financing of fo...</td>\n",
       "    </tr>\n",
       "    <tr>\n",
       "      <th>274</th>\n",
       "      <td>Investors to press TotalEnergies over climate ...</td>\n",
       "      <td>1</td>\n",
       "      <td>investors to press totalenergies over climate ...</td>\n",
       "    </tr>\n",
       "    <tr>\n",
       "      <th>275</th>\n",
       "      <td>Illumina chief’s pay nearly doubles ahead of c...</td>\n",
       "      <td>1</td>\n",
       "      <td>illumina chief’s pay nearly doubles ahead of c...</td>\n",
       "    </tr>\n",
       "    <tr>\n",
       "      <th>276</th>\n",
       "      <td>Airbus drops deal with Atos digital unit after...</td>\n",
       "      <td>1</td>\n",
       "      <td>airbus drops deal with atos digital unit after...</td>\n",
       "    </tr>\n",
       "    <tr>\n",
       "      <th>277</th>\n",
       "      <td>Activist investors smoke out South Korea’s und...</td>\n",
       "      <td>1</td>\n",
       "      <td>activist investors smoke out south korea’s und...</td>\n",
       "    </tr>\n",
       "  </tbody>\n",
       "</table>\n",
       "<p>142 rows × 3 columns</p>\n",
       "</div>"
      ],
      "text/plain": [
       "                                                  text  S  \\\n",
       "115  \\n\\n              Volvo Group Signs Deal With ...  1   \n",
       "116  \\n\\n              Solar Energy Group Europe (S...  1   \n",
       "117  \\n\\n              EU and Korea Launch Green Pa...  1   \n",
       "118  \\n\\n              NEOM Green Hydrogen Company ...  1   \n",
       "119  \\n\\n              Chinese EV Maker Nio Invests...  1   \n",
       "..                                                 ... ..   \n",
       "273  Nuns urge Citigroup to rethink financing of fo...  1   \n",
       "274  Investors to press TotalEnergies over climate ...  1   \n",
       "275  Illumina chief’s pay nearly doubles ahead of c...  1   \n",
       "276  Airbus drops deal with Atos digital unit after...  1   \n",
       "277  Activist investors smoke out South Korea’s und...  1   \n",
       "\n",
       "                                               text_pp  \n",
       "115  volvo group signs deal with vattenfall to buy ...  \n",
       "116  solar energy group europe sege starts building...  \n",
       "117  eu and korea launch green partnership to deepe...  \n",
       "118  neom green hydrogen company closes on 8 4 bill...  \n",
       "119  chinese ev maker nio invests in nuclear fusion...  \n",
       "..                                                 ...  \n",
       "273  nuns urge citigroup to rethink financing of fo...  \n",
       "274  investors to press totalenergies over climate ...  \n",
       "275  illumina chief’s pay nearly doubles ahead of c...  \n",
       "276  airbus drops deal with atos digital unit after...  \n",
       "277  activist investors smoke out south korea’s und...  \n",
       "\n",
       "[142 rows x 3 columns]"
      ]
     },
     "execution_count": 296,
     "metadata": {},
     "output_type": "execute_result"
    }
   ],
   "source": [
    "v2"
   ]
  },
  {
   "cell_type": "code",
   "execution_count": 305,
   "id": "1f81f53e",
   "metadata": {},
   "outputs": [],
   "source": [
    "ESG_data['V1']=ESG_data['T'].isin(v1.text.tolist()).astype(int)\n",
    "ESG_data['V2']=ESG_data['T'].isin(v2.text.tolist()).astype(int)"
   ]
  },
  {
   "cell_type": "code",
   "execution_count": 312,
   "id": "f4c0afe1",
   "metadata": {},
   "outputs": [
    {
     "data": {
      "text/plain": [
       "163"
      ]
     },
     "execution_count": 312,
     "metadata": {},
     "output_type": "execute_result"
    }
   ],
   "source": [
    "ESG_data['S'].sum()"
   ]
  },
  {
   "cell_type": "code",
   "execution_count": 320,
   "id": "de1ed382",
   "metadata": {},
   "outputs": [
    {
     "data": {
      "image/png": "[encoded data removed]",
      "text/plain": [
       "<Figure size 1000x500 with 4 Axes>"
      ]
     },
     "metadata": {},
     "output_type": "display_data"
    }
   ],
   "source": [
    "lab=['No ESG', 'ESG']\n",
    "\n",
    "#report the confusion matrix for the training set\n",
    "cm_v1 = confusion_matrix(ESG_data.S, \n",
    "                         ESG_data.V1)\n",
    "\n",
    "disp_v1 = ConfusionMatrixDisplay(confusion_matrix=cm_v1)\n",
    "\n",
    "#report the confusion matrix for the test set \n",
    "cm_v2 = confusion_matrix(ESG_data.S, \n",
    "                         ESG_data.V2)\n",
    "\n",
    "disp_v2 = ConfusionMatrixDisplay(confusion_matrix=cm_v2)\n",
    "\n",
    "#Plot the confusion matrix for the  training set and test set\n",
    "fig, axs =plt.subplots(1,2, figsize=(10,5))\n",
    "\n",
    "disp_v1.plot(cmap='Blues', ax=axs[0])\n",
    "disp_v2.plot(cmap='Blues', ax=axs[1])\n",
    "\n",
    "axs[0].set_title('Version 1 Confusion Matrix')\n",
    "axs[1].set_title('Version 2 Confusion Matrix')\n",
    "\n",
    "fig.suptitle(\"Comaparing filters version 1 (Prototype) and version 2 (Final)\")\n",
    "\n",
    "plt.show()"
   ]
  },
  {
   "cell_type": "code",
   "execution_count": null,
   "id": "3f84727f",
   "metadata": {},
   "outputs": [],
   "source": []
  }
 ],
 "metadata": {
  "kernelspec": {
   "display_name": "Python 3 (ipykernel)",
   "language": "python",
   "name": "python3"
  },
  "language_info": {
   "codemirror_mode": {
    "name": "ipython",
    "version": 3
   },
   "file_extension": ".py",
   "mimetype": "text/x-python",
   "name": "python",
   "nbconvert_exporter": "python",
   "pygments_lexer": "ipython3",
   "version": "3.9.7"
  }
 },
 "nbformat": 4,
 "nbformat_minor": 5
}
