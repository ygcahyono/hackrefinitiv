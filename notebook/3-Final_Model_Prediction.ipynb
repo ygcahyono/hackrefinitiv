{
 "cells": [
  {
   "cell_type": "markdown",
   "id": "415b9202",
   "metadata": {
    "toc": true
   },
   "source": [
    "<h1>Table of Contents<span class=\"tocSkip\"></span></h1>\n",
    "<div class=\"toc\"><ul class=\"toc-item\"><li><span><a href=\"#Import-Libraries-&amp;-Functions\" data-toc-modified-id=\"Import-Libraries-&amp;-Functions-1\"><span class=\"toc-item-num\">1&nbsp;&nbsp;</span>Import Libraries &amp; Functions</a></span></li><li><span><a href=\"#Read-the-Files\" data-toc-modified-id=\"Read-the-Files-2\"><span class=\"toc-item-num\">2&nbsp;&nbsp;</span>Read the Files</a></span></li><li><span><a href=\"#Principal-Component-Analysis\" data-toc-modified-id=\"Principal-Component-Analysis-3\"><span class=\"toc-item-num\">3&nbsp;&nbsp;</span>Principal Component Analysis</a></span></li><li><span><a href=\"#Regression-Model\" data-toc-modified-id=\"Regression-Model-4\"><span class=\"toc-item-num\">4&nbsp;&nbsp;</span>Regression Model</a></span><ul class=\"toc-item\"><li><span><a href=\"#XGBoost-Regressor\" data-toc-modified-id=\"XGBoost-Regressor-4.1\"><span class=\"toc-item-num\">4.1&nbsp;&nbsp;</span>XGBoost Regressor</a></span><ul class=\"toc-item\"><li><span><a href=\"#GridSearch\" data-toc-modified-id=\"GridSearch-4.1.1\"><span class=\"toc-item-num\">4.1.1&nbsp;&nbsp;</span>GridSearch</a></span></li><li><span><a href=\"#Fit-to-Whole-Training-Data\" data-toc-modified-id=\"Fit-to-Whole-Training-Data-4.1.2\"><span class=\"toc-item-num\">4.1.2&nbsp;&nbsp;</span>Fit to Whole Training Data</a></span></li><li><span><a href=\"#Performance-or-Classification\" data-toc-modified-id=\"Performance-or-Classification-4.1.3\"><span class=\"toc-item-num\">4.1.3&nbsp;&nbsp;</span>Performance or Classification</a></span></li></ul></li><li><span><a href=\"#Random-Forest-Regressor\" data-toc-modified-id=\"Random-Forest-Regressor-4.2\"><span class=\"toc-item-num\">4.2&nbsp;&nbsp;</span>Random Forest Regressor</a></span></li><li><span><a href=\"#Support-Vector-Regressor\" data-toc-modified-id=\"Support-Vector-Regressor-4.3\"><span class=\"toc-item-num\">4.3&nbsp;&nbsp;</span>Support Vector Regressor</a></span></li></ul></li><li><span><a href=\"#Archive-Code\" data-toc-modified-id=\"Archive-Code-5\"><span class=\"toc-item-num\">5&nbsp;&nbsp;</span>Archive Code</a></span></li></ul></div>"
   ]
  },
  {
   "cell_type": "markdown",
   "id": "b14dcd01",
   "metadata": {},
   "source": [
    "# Import Libraries & Functions"
   ]
  },
  {
   "cell_type": "code",
   "execution_count": 54,
   "id": "bf022338",
   "metadata": {
    "ExecuteTime": {
     "end_time": "2023-05-25T19:37:17.372274Z",
     "start_time": "2023-05-25T19:37:16.930807Z"
    }
   },
   "outputs": [],
   "source": [
    "import numpy as np\n",
    "from sklearn.metrics import mean_squared_error\n",
    "from sklearn.model_selection import GridSearchCV\n",
    "from sklearn.model_selection import train_test_split\n",
    "from xgboost import XGBRegressor\n",
    "\n",
    "from sklearn.metrics import accuracy_score\n",
    "\n",
    "import numpy as np\n",
    "from sklearn.ensemble import RandomForestRegressor\n",
    "from sklearn.metrics import mean_squared_error\n",
    "from sklearn.model_selection import GridSearchCV\n",
    "from sklearn.model_selection import train_test_split\n",
    "from sklearn.svm import SVR\n",
    "\n",
    "import pandas as pd"
   ]
  },
  {
   "cell_type": "code",
   "execution_count": 32,
   "id": "47a66698",
   "metadata": {
    "ExecuteTime": {
     "end_time": "2023-05-25T19:30:29.523636Z",
     "start_time": "2023-05-25T19:30:29.511501Z"
    }
   },
   "outputs": [],
   "source": [
    "def grade_calculation(score):\n",
    "    score = score / 100\n",
    "    \n",
    "    if score <= 0.250000:\n",
    "        val = 'D'\n",
    "    elif score <= 0.500000: \n",
    "        val = 'C'\n",
    "    elif score <= 0.750000: \n",
    "        val = 'B'\n",
    "    elif score > 0.75: \n",
    "        val = 'A'\n",
    "\n",
    "    return val"
   ]
  },
  {
   "cell_type": "markdown",
   "id": "dbc05752",
   "metadata": {},
   "source": [
    "# Read the Files"
   ]
  },
  {
   "cell_type": "code",
   "execution_count": 30,
   "id": "dc2bf7a3",
   "metadata": {
    "ExecuteTime": {
     "end_time": "2023-05-25T19:25:19.162920Z",
     "start_time": "2023-05-25T19:25:18.934793Z"
    }
   },
   "outputs": [],
   "source": [
    "train_1 = pd.read_csv('../data/ML_Data/train_footsie_contains.csv')\n",
    "train_2 = pd.read_csv('../data/ML_Data/train_fortune100_contains.csv')\n",
    "train_3 = pd.read_csv('../data/ML_Data/train_DAX_contains.csv')\n",
    "\n",
    "train_df = pd.concat([train_1,train_2,train_3], axis=0)"
   ]
  },
  {
   "cell_type": "code",
   "execution_count": 33,
   "id": "fdc8401e",
   "metadata": {
    "ExecuteTime": {
     "end_time": "2023-05-25T19:30:33.261047Z",
     "start_time": "2023-05-25T19:30:33.214158Z"
    }
   },
   "outputs": [],
   "source": [
    "train_df['ESG Controversies Score Simple'] = train_df['ESG Controversies Score'].apply(lambda x: grade_calculation(x))"
   ]
  },
  {
   "cell_type": "code",
   "execution_count": 34,
   "id": "f658997c",
   "metadata": {
    "ExecuteTime": {
     "end_time": "2023-05-25T19:30:35.043398Z",
     "start_time": "2023-05-25T19:30:35.025488Z"
    }
   },
   "outputs": [
    {
     "data": {
      "text/plain": [
       "array(['A', 'B', 'D', 'C'], dtype=object)"
      ]
     },
     "execution_count": 34,
     "metadata": {},
     "output_type": "execute_result"
    }
   ],
   "source": [
    "train_df['ESG Controversies Score Simple'].unique()"
   ]
  },
  {
   "cell_type": "code",
   "execution_count": 35,
   "id": "3530609c",
   "metadata": {
    "ExecuteTime": {
     "end_time": "2023-05-25T19:30:42.299466Z",
     "start_time": "2023-05-25T19:30:42.277775Z"
    }
   },
   "outputs": [],
   "source": [
    "train_df = train_df.drop(['firm','year','ESG Controversies Score Grade','ESG Controversies Score Simple'], axis=1).reset_index(drop=True)"
   ]
  },
  {
   "cell_type": "code",
   "execution_count": 37,
   "id": "e8a18331",
   "metadata": {
    "ExecuteTime": {
     "end_time": "2023-05-25T19:30:52.497647Z",
     "start_time": "2023-05-25T19:30:52.464474Z"
    }
   },
   "outputs": [],
   "source": [
    "y = train_df.iloc[:,-1]\n",
    "X = train_df.iloc[:,:-1]"
   ]
  },
  {
   "cell_type": "markdown",
   "id": "9590cf77",
   "metadata": {},
   "source": [
    "# Principal Component Analysis"
   ]
  },
  {
   "cell_type": "code",
   "execution_count": 38,
   "id": "ca75e80a",
   "metadata": {
    "ExecuteTime": {
     "end_time": "2023-05-25T19:30:55.928415Z",
     "start_time": "2023-05-25T19:30:55.585530Z"
    }
   },
   "outputs": [
    {
     "data": {
      "image/png": "[encoded data removed]",
      "text/plain": [
       "<Figure size 640x480 with 1 Axes>"
      ]
     },
     "metadata": {},
     "output_type": "display_data"
    }
   ],
   "source": [
    "from sklearn.decomposition import PCA\n",
    "import matplotlib.pyplot as plt\n",
    "\n",
    "# Fit PCA to Xtrn_mn\n",
    "pca = PCA()\n",
    "\n",
    "pca.fit(X)\n",
    "\n",
    "# Calculate explained variance ratio\n",
    "explained_var_ratio = pca.explained_variance_ratio_\n",
    "\n",
    "# Calculate cumulative explained variance ratio\n",
    "cumulative_exp_var_ratio = np.cumsum(explained_var_ratio)\n",
    "\n",
    "# Plot the graph\n",
    "plt.plot(range(1, len(explained_var_ratio) + 1), cumulative_exp_var_ratio)\n",
    "plt.xlabel('Number of Principal Components')\n",
    "plt.ylabel('Cumulative Explained Variance Ratio')\n",
    "plt.show()"
   ]
  },
  {
   "cell_type": "code",
   "execution_count": 39,
   "id": "74aae2a1",
   "metadata": {
    "ExecuteTime": {
     "end_time": "2023-05-25T19:30:57.252940Z",
     "start_time": "2023-05-25T19:30:57.241057Z"
    }
   },
   "outputs": [
    {
     "name": "stdout",
     "output_type": "stream",
     "text": [
      "Minimum number of principal components to explain 50.0% of variance: 1\n",
      "Minimum number of principal components to explain 60.0% of variance: 1\n",
      "Minimum number of principal components to explain 70.0% of variance: 2\n",
      "Minimum number of principal components to explain 80.0% of variance: 2\n",
      "Minimum number of principal components to explain 90.0% of variance: 2\n",
      "Minimum number of principal components to explain 95.0% of variance: 3\n",
      "Minimum number of principal components to explain 99.0% of variance: 13\n"
     ]
    }
   ],
   "source": [
    "#(3) Your code goes here\n",
    "\n",
    "# Calculate the cumulative explained variance ratio\n",
    "cumulative_explained_var_ratio = np.cumsum(pca.explained_variance_ratio_)\n",
    "\n",
    "# Find the minimum number of principal components required to explain a certain percentage of the total variance\n",
    "for percent in [0.5, 0.6, 0.7, 0.8, 0.9, 0.95, 0.99]:\n",
    "    num_components = np.argmax(cumulative_explained_var_ratio >= percent) + 1\n",
    "    print(f\"Minimum number of principal components to explain {percent*100}% of variance: {num_components}\")"
   ]
  },
  {
   "cell_type": "code",
   "execution_count": 40,
   "id": "9b032cc0",
   "metadata": {
    "ExecuteTime": {
     "end_time": "2023-05-25T19:31:01.316699Z",
     "start_time": "2023-05-25T19:30:58.949479Z"
    }
   },
   "outputs": [],
   "source": [
    "pca = PCA(n_components=num_components)\n",
    "X_pca = pca.fit_transform(X)"
   ]
  },
  {
   "cell_type": "code",
   "execution_count": 41,
   "id": "e915357c",
   "metadata": {
    "ExecuteTime": {
     "end_time": "2023-05-25T19:31:07.635061Z",
     "start_time": "2023-05-25T19:31:07.612034Z"
    }
   },
   "outputs": [],
   "source": [
    "X_train, X_val, y_train, y_val = train_test_split(X_pca, y, test_size=0.15, random_state=12)"
   ]
  },
  {
   "cell_type": "markdown",
   "id": "6ac10dd0",
   "metadata": {},
   "source": [
    "# Regression Model"
   ]
  },
  {
   "cell_type": "markdown",
   "id": "9cb0c9c5",
   "metadata": {},
   "source": [
    "## XGBoost Regressor"
   ]
  },
  {
   "cell_type": "code",
   "execution_count": 62,
   "id": "0d425a07",
   "metadata": {
    "ExecuteTime": {
     "end_time": "2023-05-25T19:42:13.685948Z",
     "start_time": "2023-05-25T19:42:13.662874Z"
    }
   },
   "outputs": [],
   "source": [
    "# Create an XGBoostRegressor model\n",
    "XGB_model = XGBRegressor()\n",
    "\n",
    "# Define the parameter grid for grid search\n",
    "param_grid = {\n",
    "    'n_estimators': [100, 200, 300],  # Number of trees in the ensemble\n",
    "    'learning_rate': [0.1, 0.01, 0.001],  # Learning rate\n",
    "    'max_depth': [3, 4, 5]  # Maximum depth of each tree\n",
    "}"
   ]
  },
  {
   "cell_type": "markdown",
   "id": "4ccf7207",
   "metadata": {},
   "source": [
    "### GridSearch"
   ]
  },
  {
   "cell_type": "code",
   "execution_count": 63,
   "id": "a5cfd6ba",
   "metadata": {
    "ExecuteTime": {
     "end_time": "2023-05-25T19:42:20.227051Z",
     "start_time": "2023-05-25T19:42:13.843758Z"
    }
   },
   "outputs": [
    {
     "name": "stdout",
     "output_type": "stream",
     "text": [
      "Best Hyperparameters: {'learning_rate': 0.1, 'max_depth': 3, 'n_estimators': 100}\n",
      "Root Mean Squared Error: 32.35878474854929\n"
     ]
    }
   ],
   "source": [
    "grid_search = GridSearchCV(XGB_model, param_grid, cv=3)\n",
    "grid_search.fit(X_train, y_train)\n",
    "\n",
    "# Get the best model\n",
    "best_model = grid_search.best_estimator_\n",
    "\n",
    "# Evaluate the best model on the test set\n",
    "y_pred = best_model.predict(X_val)\n",
    "mse = mean_squared_error(y_val, y_pred)\n",
    "rmse = np.sqrt(mse)\n",
    "\n",
    "# Print the best hyperparameters and evaluation metric\n",
    "print(\"Best Hyperparameters:\", grid_search.best_params_)\n",
    "print(\"Root Mean Squared Error:\", rmse)"
   ]
  },
  {
   "cell_type": "markdown",
   "id": "ffd3c4ab",
   "metadata": {},
   "source": [
    "### Fit to Whole Training Data"
   ]
  },
  {
   "cell_type": "code",
   "execution_count": 67,
   "id": "60ef4178",
   "metadata": {
    "ExecuteTime": {
     "end_time": "2023-05-25T19:42:45.447204Z",
     "start_time": "2023-05-25T19:42:45.337103Z"
    }
   },
   "outputs": [],
   "source": [
    "XGB_model = XGBRegressor(**grid_search.best_params_)\n",
    "XGB_model.fit(X_train, y_train)\n",
    "\n",
    "y_pred = model.predict(X_val)"
   ]
  },
  {
   "cell_type": "code",
   "execution_count": 68,
   "id": "b4d1c9c8",
   "metadata": {
    "ExecuteTime": {
     "end_time": "2023-05-25T19:42:46.303173Z",
     "start_time": "2023-05-25T19:42:46.298877Z"
    }
   },
   "outputs": [],
   "source": [
    "y_pred_grade = [grade_calculation(sc) for sc in y_pred]\n",
    "y_val_grade = [grade_calculation(sc) for sc in y_val]"
   ]
  },
  {
   "cell_type": "markdown",
   "id": "14c1cf2e",
   "metadata": {},
   "source": [
    "### Performance or Classification"
   ]
  },
  {
   "cell_type": "code",
   "execution_count": 69,
   "id": "5a63ff20",
   "metadata": {
    "ExecuteTime": {
     "end_time": "2023-05-25T19:42:47.418816Z",
     "start_time": "2023-05-25T19:42:47.411901Z"
    }
   },
   "outputs": [
    {
     "name": "stdout",
     "output_type": "stream",
     "text": [
      "0.5\n",
      "['B', 'A', 'C', 'B', 'B', 'C', 'B', 'A', 'A', 'A', 'A', 'A']\n",
      "['A', 'A', 'B', 'D', 'B', 'A', 'A', 'A', 'A', 'A', 'C', 'A']\n"
     ]
    }
   ],
   "source": [
    "print(accuracy_score(y_pred_grade, y_val_grade))\n",
    "print(y_pred_grade)\n",
    "print(y_val_grade)"
   ]
  },
  {
   "cell_type": "markdown",
   "id": "d8f60416",
   "metadata": {},
   "source": [
    "## Random Forest Regressor"
   ]
  },
  {
   "cell_type": "code",
   "execution_count": 72,
   "id": "e8c748de",
   "metadata": {
    "ExecuteTime": {
     "end_time": "2023-05-25T19:44:13.674155Z",
     "start_time": "2023-05-25T19:44:13.664190Z"
    }
   },
   "outputs": [],
   "source": [
    "# Random Forest Regressor\n",
    "rf_model = RandomForestRegressor(random_state=42)\n",
    "\n",
    "# Define the parameter grid for grid search\n",
    "rf_param_grid = {\n",
    "    'n_estimators': [50, 100, 200, 300],  # Number of trees in the forest\n",
    "    'max_depth': [None, 3, 5, 10],  # Maximum depth of each tree\n",
    "    'min_samples_split': [2, 5, 10],  # Minimum number of samples required to split an internal node\n",
    "    'min_samples_leaf': [1, 2, 4],  # Minimum number of samples required to be at a leaf node\n",
    "    'max_features': ['sqrt', 'log2'],  # Number of features to consider when looking for the best split\n",
    "}"
   ]
  },
  {
   "cell_type": "code",
   "execution_count": 73,
   "id": "89f2dbd5",
   "metadata": {
    "ExecuteTime": {
     "end_time": "2023-05-25T19:45:16.707910Z",
     "start_time": "2023-05-25T19:44:14.144301Z"
    }
   },
   "outputs": [
    {
     "name": "stdout",
     "output_type": "stream",
     "text": [
      "Best Hyperparameters: {'max_depth': 3, 'max_features': 'sqrt', 'min_samples_leaf': 1, 'min_samples_split': 5, 'n_estimators': 50}\n",
      "Root Mean Squared Error: 30.763717619916108\n"
     ]
    }
   ],
   "source": [
    "grid_search = GridSearchCV(rf_model, rf_param_grid, cv=3)\n",
    "grid_search.fit(X_train, y_train)\n",
    "\n",
    "# Get the best model\n",
    "best_model = grid_search.best_estimator_\n",
    "\n",
    "# Evaluate the best model on the test set\n",
    "y_pred = best_model.predict(X_val)\n",
    "mse = mean_squared_error(y_val, y_pred)\n",
    "rmse = np.sqrt(mse)\n",
    "\n",
    "# Print the best hyperparameters and evaluation metric\n",
    "print(\"Best Hyperparameters:\", grid_search.best_params_)\n",
    "print(\"Root Mean Squared Error:\", rmse)"
   ]
  },
  {
   "cell_type": "code",
   "execution_count": 74,
   "id": "530bf4f5",
   "metadata": {
    "ExecuteTime": {
     "end_time": "2023-05-25T19:46:16.096032Z",
     "start_time": "2023-05-25T19:46:16.018656Z"
    }
   },
   "outputs": [],
   "source": [
    "rf_model = RandomForestRegressor(**grid_search.best_params_)\n",
    "rf_model.fit(X_train, y_train)\n",
    "\n",
    "y_pred = model.predict(X_val)"
   ]
  },
  {
   "cell_type": "code",
   "execution_count": 75,
   "id": "cfe5e66f",
   "metadata": {
    "ExecuteTime": {
     "end_time": "2023-05-25T19:46:27.051326Z",
     "start_time": "2023-05-25T19:46:27.016740Z"
    }
   },
   "outputs": [],
   "source": [
    "y_pred_grade = [grade_calculation(sc) for sc in y_pred]\n",
    "y_val_grade = [grade_calculation(sc) for sc in y_val]"
   ]
  },
  {
   "cell_type": "code",
   "execution_count": 76,
   "id": "3e4472a7",
   "metadata": {
    "ExecuteTime": {
     "end_time": "2023-05-25T19:46:28.332711Z",
     "start_time": "2023-05-25T19:46:28.323113Z"
    }
   },
   "outputs": [
    {
     "name": "stdout",
     "output_type": "stream",
     "text": [
      "0.5\n",
      "['B', 'A', 'C', 'B', 'B', 'C', 'B', 'A', 'A', 'A', 'A', 'A']\n",
      "['A', 'A', 'B', 'D', 'B', 'A', 'A', 'A', 'A', 'A', 'C', 'A']\n"
     ]
    }
   ],
   "source": [
    "print(accuracy_score(y_pred_grade, y_val_grade))\n",
    "print(y_pred_grade)\n",
    "print(y_val_grade)"
   ]
  },
  {
   "cell_type": "markdown",
   "id": "9eb2d720",
   "metadata": {},
   "source": [
    "## Support Vector Regressor"
   ]
  },
  {
   "cell_type": "code",
   "execution_count": 78,
   "id": "36731aee",
   "metadata": {
    "ExecuteTime": {
     "end_time": "2023-05-25T19:47:50.057638Z",
     "start_time": "2023-05-25T19:47:50.040834Z"
    }
   },
   "outputs": [],
   "source": [
    "# Support Vector Regressor\n",
    "svr_model = SVR()\n",
    "\n",
    "# Define the parameter grid for grid search\n",
    "svr_param_grid = {\n",
    "    'C': [0.1, 1, 10, 100],  # Penalty parameter C\n",
    "    'epsilon': [0.01, 0.1, 0.5, 1.0],  # Epsilon parameter\n",
    "    'kernel': ['linear', 'rbf', 'poly'],  # Kernel type\n",
    "    'gamma': ['scale', 'auto'],  # Kernel coefficient for 'rbf' and 'poly' kernels\n",
    "}"
   ]
  },
  {
   "cell_type": "code",
   "execution_count": 79,
   "id": "c0f844f5",
   "metadata": {
    "ExecuteTime": {
     "end_time": "2023-05-25T19:47:53.940599Z",
     "start_time": "2023-05-25T19:47:52.436949Z"
    }
   },
   "outputs": [
    {
     "name": "stdout",
     "output_type": "stream",
     "text": [
      "Best Hyperparameters: {'C': 100, 'epsilon': 1.0, 'gamma': 'scale', 'kernel': 'rbf'}\n",
      "Root Mean Squared Error: 34.06233962438234\n"
     ]
    }
   ],
   "source": [
    "grid_search = GridSearchCV(svr_model, svr_param_grid, cv=3)\n",
    "grid_search.fit(X_train, y_train)\n",
    "\n",
    "# Get the best model\n",
    "best_model = grid_search.best_estimator_\n",
    "\n",
    "# Evaluate the best model on the test set\n",
    "y_pred = best_model.predict(X_val)\n",
    "mse = mean_squared_error(y_val, y_pred)\n",
    "rmse = np.sqrt(mse)\n",
    "\n",
    "# Print the best hyperparameters and evaluation metric\n",
    "print(\"Best Hyperparameters:\", grid_search.best_params_)\n",
    "print(\"Root Mean Squared Error:\", rmse)"
   ]
  },
  {
   "cell_type": "code",
   "execution_count": 80,
   "id": "ffdcdae4",
   "metadata": {
    "ExecuteTime": {
     "end_time": "2023-05-25T19:48:32.910753Z",
     "start_time": "2023-05-25T19:48:32.859935Z"
    }
   },
   "outputs": [],
   "source": [
    "svr_model = SVR(**grid_search.best_params_)\n",
    "svr_model.fit(X_train, y_train)\n",
    "\n",
    "y_pred = model.predict(X_val)"
   ]
  },
  {
   "cell_type": "code",
   "execution_count": 81,
   "id": "5997e219",
   "metadata": {
    "ExecuteTime": {
     "end_time": "2023-05-25T19:48:35.292326Z",
     "start_time": "2023-05-25T19:48:35.283940Z"
    }
   },
   "outputs": [],
   "source": [
    "y_pred_grade = [grade_calculation(sc) for sc in y_pred]\n",
    "y_val_grade = [grade_calculation(sc) for sc in y_val]"
   ]
  },
  {
   "cell_type": "code",
   "execution_count": 82,
   "id": "5e150cdb",
   "metadata": {
    "ExecuteTime": {
     "end_time": "2023-05-25T19:48:35.921845Z",
     "start_time": "2023-05-25T19:48:35.914919Z"
    }
   },
   "outputs": [
    {
     "name": "stdout",
     "output_type": "stream",
     "text": [
      "0.5\n",
      "['B', 'A', 'C', 'B', 'B', 'C', 'B', 'A', 'A', 'A', 'A', 'A']\n",
      "['A', 'A', 'B', 'D', 'B', 'A', 'A', 'A', 'A', 'A', 'C', 'A']\n"
     ]
    }
   ],
   "source": [
    "print(accuracy_score(y_pred_grade, y_val_grade))\n",
    "print(y_pred_grade)\n",
    "print(y_val_grade)"
   ]
  },
  {
   "cell_type": "markdown",
   "id": "7912b9cc",
   "metadata": {},
   "source": [
    "# Archive Code"
   ]
  },
  {
   "cell_type": "code",
   "execution_count": 211,
   "id": "0556f01d",
   "metadata": {
    "ExecuteTime": {
     "end_time": "2023-05-25T01:34:39.046966Z",
     "start_time": "2023-05-25T01:34:30.677273Z"
    }
   },
   "outputs": [
    {
     "name": "stdout",
     "output_type": "stream",
     "text": [
      "Best Hyperparameters: {'learning_rate': 0.1, 'max_depth': 3, 'n_estimators': 200}\n",
      "Root Mean Squared Error: 22.841653795025273\n"
     ]
    }
   ],
   "source": [
    "grid_search = GridSearchCV(model, param_grid, cv=4)\n",
    "grid_search.fit(X_train, y_train)\n",
    "\n",
    "# Get the best model\n",
    "best_model = grid_search.best_estimator_\n",
    "\n",
    "# Evaluate the best model on the test set\n",
    "y_pred = best_model.predict(X_val)\n",
    "mse = mean_squared_error(y_val, y_pred)\n",
    "rmse = np.sqrt(mse)\n",
    "\n",
    "# Print the best hyperparameters and evaluation metric\n",
    "print(\"Best Hyperparameters:\", grid_search.best_params_)\n",
    "print(\"Root Mean Squared Error:\", rmse)"
   ]
  }
 ],
 "metadata": {
  "kernelspec": {
   "display_name": "Python 3.10 (tensorflow)",
   "language": "python",
   "name": "tensorflow"
  },
  "language_info": {
   "codemirror_mode": {
    "name": "ipython",
    "version": 3
   },
   "file_extension": ".py",
   "mimetype": "text/x-python",
   "name": "python",
   "nbconvert_exporter": "python",
   "pygments_lexer": "ipython3",
   "version": "3.10.8"
  },
  "toc": {
   "base_numbering": 1,
   "nav_menu": {},
   "number_sections": true,
   "sideBar": true,
   "skip_h1_title": false,
   "title_cell": "Table of Contents",
   "title_sidebar": "Contents",
   "toc_cell": true,
   "toc_position": {
    "height": "calc(100% - 180px)",
    "left": "10px",
    "top": "150px",
    "width": "276.884px"
   },
   "toc_section_display": true,
   "toc_window_display": true
  }
 },
 "nbformat": 4,
 "nbformat_minor": 5
}
