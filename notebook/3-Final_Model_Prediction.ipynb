{
 "cells": [
  {
   "cell_type": "markdown",
   "id": "33ac3157",
   "metadata": {
    "toc": true
   },
   "source": [
    "<h1>Table of Contents<span class=\"tocSkip\"></span></h1>\n",
    "<div class=\"toc\"><ul class=\"toc-item\"><li><span><a href=\"#Import-Libraries-&amp;-Functions\" data-toc-modified-id=\"Import-Libraries-&amp;-Functions-1\"><span class=\"toc-item-num\">1&nbsp;&nbsp;</span>Import Libraries &amp; Functions</a></span></li><li><span><a href=\"#Read-the-Files\" data-toc-modified-id=\"Read-the-Files-2\"><span class=\"toc-item-num\">2&nbsp;&nbsp;</span>Read the Files</a></span><ul class=\"toc-item\"><li><span><a href=\"#Mapping-Ticker-Data\" data-toc-modified-id=\"Mapping-Ticker-Data-2.1\"><span class=\"toc-item-num\">2.1&nbsp;&nbsp;</span>Mapping Ticker Data</a></span></li><li><span><a href=\"#Market-Psych\" data-toc-modified-id=\"Market-Psych-2.2\"><span class=\"toc-item-num\">2.2&nbsp;&nbsp;</span>Market Psych</a></span></li><li><span><a href=\"#Training-Data\" data-toc-modified-id=\"Training-Data-2.3\"><span class=\"toc-item-num\">2.3&nbsp;&nbsp;</span>Training Data</a></span></li></ul></li><li><span><a href=\"#Standard-Scaller\" data-toc-modified-id=\"Standard-Scaller-3\"><span class=\"toc-item-num\">3&nbsp;&nbsp;</span>Standard Scaller</a></span></li><li><span><a href=\"#Principal-Component-Analysis\" data-toc-modified-id=\"Principal-Component-Analysis-4\"><span class=\"toc-item-num\">4&nbsp;&nbsp;</span>Principal Component Analysis</a></span></li><li><span><a href=\"#Regression-Model\" data-toc-modified-id=\"Regression-Model-5\"><span class=\"toc-item-num\">5&nbsp;&nbsp;</span>Regression Model</a></span><ul class=\"toc-item\"><li><span><a href=\"#Ridge-Regression\" data-toc-modified-id=\"Ridge-Regression-5.1\"><span class=\"toc-item-num\">5.1&nbsp;&nbsp;</span>Ridge Regression</a></span></li><li><span><a href=\"#XGBoost-Regressor\" data-toc-modified-id=\"XGBoost-Regressor-5.2\"><span class=\"toc-item-num\">5.2&nbsp;&nbsp;</span>XGBoost Regressor</a></span><ul class=\"toc-item\"><li><span><a href=\"#GridSearch\" data-toc-modified-id=\"GridSearch-5.2.1\"><span class=\"toc-item-num\">5.2.1&nbsp;&nbsp;</span>GridSearch</a></span></li><li><span><a href=\"#Fit-to-Whole-Training-Data\" data-toc-modified-id=\"Fit-to-Whole-Training-Data-5.2.2\"><span class=\"toc-item-num\">5.2.2&nbsp;&nbsp;</span>Fit to Whole Training Data</a></span></li><li><span><a href=\"#Performance-or-Classification\" data-toc-modified-id=\"Performance-or-Classification-5.2.3\"><span class=\"toc-item-num\">5.2.3&nbsp;&nbsp;</span>Performance or Classification</a></span></li></ul></li><li><span><a href=\"#Random-Forest-Regressor\" data-toc-modified-id=\"Random-Forest-Regressor-5.3\"><span class=\"toc-item-num\">5.3&nbsp;&nbsp;</span>Random Forest Regressor</a></span></li><li><span><a href=\"#Support-Vector-Regressor\" data-toc-modified-id=\"Support-Vector-Regressor-5.4\"><span class=\"toc-item-num\">5.4&nbsp;&nbsp;</span>Support Vector Regressor</a></span></li><li><span><a href=\"#Ensemble\" data-toc-modified-id=\"Ensemble-5.5\"><span class=\"toc-item-num\">5.5&nbsp;&nbsp;</span>Ensemble</a></span></li></ul></li><li><span><a href=\"#Test-Data\" data-toc-modified-id=\"Test-Data-6\"><span class=\"toc-item-num\">6&nbsp;&nbsp;</span>Test Data</a></span></li><li><span><a href=\"#Standard-Scaller\" data-toc-modified-id=\"Standard-Scaller-7\"><span class=\"toc-item-num\">7&nbsp;&nbsp;</span>Standard Scaller</a></span></li><li><span><a href=\"#Principal-Component-Analysis\" data-toc-modified-id=\"Principal-Component-Analysis-8\"><span class=\"toc-item-num\">8&nbsp;&nbsp;</span>Principal Component Analysis</a></span></li><li><span><a href=\"#Archive-Code\" data-toc-modified-id=\"Archive-Code-9\"><span class=\"toc-item-num\">9&nbsp;&nbsp;</span>Archive Code</a></span></li></ul></div>"
   ]
  },
  {
   "cell_type": "markdown",
   "id": "a77fd522",
   "metadata": {},
   "source": [
    "# Import Libraries & Functions"
   ]
  },
  {
   "cell_type": "code",
   "execution_count": 157,
   "id": "4a507260",
   "metadata": {
    "ExecuteTime": {
     "end_time": "2023-05-26T01:57:09.250289Z",
     "start_time": "2023-05-26T01:57:09.236012Z"
    }
   },
   "outputs": [],
   "source": [
    "import numpy as np\n",
    "from sklearn.metrics import mean_squared_error\n",
    "from sklearn.model_selection import GridSearchCV\n",
    "from sklearn.model_selection import train_test_split\n",
    "from xgboost import XGBRegressor\n",
    "\n",
    "from sklearn.metrics import accuracy_score\n",
    "\n",
    "import numpy as np\n",
    "from sklearn.ensemble import RandomForestRegressor\n",
    "from sklearn.metrics import mean_squared_error\n",
    "from sklearn.model_selection import GridSearchCV\n",
    "from sklearn.model_selection import train_test_split\n",
    "from sklearn.svm import SVR\n",
    "\n",
    "import pandas as pd"
   ]
  },
  {
   "cell_type": "code",
   "execution_count": 158,
   "id": "a58e577e",
   "metadata": {
    "ExecuteTime": {
     "end_time": "2023-05-26T01:57:09.417928Z",
     "start_time": "2023-05-26T01:57:09.405530Z"
    }
   },
   "outputs": [],
   "source": [
    "def grade_calculation(score):\n",
    "    score = score / 100\n",
    "    \n",
    "    if score <= 0.250000:\n",
    "        val = 'D'\n",
    "    elif score <= 0.500000: \n",
    "        val = 'C'\n",
    "    elif score <= 0.750000: \n",
    "        val = 'B'\n",
    "    elif score > 0.75: \n",
    "        val = 'A'\n",
    "\n",
    "    return val"
   ]
  },
  {
   "cell_type": "markdown",
   "id": "358b48ad",
   "metadata": {},
   "source": [
    "# Read the Files"
   ]
  },
  {
   "cell_type": "markdown",
   "id": "9e5350e7",
   "metadata": {},
   "source": [
    "## Mapping Ticker Data"
   ]
  },
  {
   "cell_type": "code",
   "execution_count": 159,
   "id": "c5d36e86",
   "metadata": {
    "ExecuteTime": {
     "end_time": "2023-05-26T01:57:11.410384Z",
     "start_time": "2023-05-26T01:57:11.376102Z"
    }
   },
   "outputs": [],
   "source": [
    "fortune100 = pd.read_csv('../data/fortune100.csv')\n",
    "dax40 = pd.read_csv('../data/DAX40.csv')\n",
    "ftse100 = pd.read_csv('../data/FTSE100.csv')\n",
    "\n",
    "fortune100 = fortune100[['Symbol','RIC']]\n",
    "fortune100 = fortune100.rename(columns={'Symbol':'ticker_'})\n",
    "\n",
    "dax40 = dax40[['Ticker','RIC']]\n",
    "dax40 = dax40.rename(columns={'Ticker':'ticker_'})\n",
    "\n",
    "ftse100 = ftse100[['Ticker','Query']]\n",
    "ftse100 = ftse100.rename(columns={'Query':'RIC', 'Ticker':'ticker_'})"
   ]
  },
  {
   "cell_type": "code",
   "execution_count": 160,
   "id": "7cb69628",
   "metadata": {
    "ExecuteTime": {
     "end_time": "2023-05-26T01:57:12.613736Z",
     "start_time": "2023-05-26T01:57:12.604863Z"
    }
   },
   "outputs": [],
   "source": [
    "compile_indexes_df = pd.concat([fortune100, dax40, ftse100])"
   ]
  },
  {
   "cell_type": "markdown",
   "id": "014d9f3a",
   "metadata": {},
   "source": [
    "## Market Psych"
   ]
  },
  {
   "cell_type": "code",
   "execution_count": 165,
   "id": "27f2097e",
   "metadata": {
    "ExecuteTime": {
     "end_time": "2023-05-26T01:57:31.266388Z",
     "start_time": "2023-05-26T01:57:31.252455Z"
    }
   },
   "outputs": [],
   "source": [
    "MarketPsych_df = pd.read_csv('/Users/yogi/Desktop/MPsych.csv')\n",
    "MarketPsych_df = MarketPsych_df.rename(columns={'Y':'year'})"
   ]
  },
  {
   "cell_type": "code",
   "execution_count": 166,
   "id": "c8623301",
   "metadata": {
    "ExecuteTime": {
     "end_time": "2023-05-26T01:57:31.481053Z",
     "start_time": "2023-05-26T01:57:31.472116Z"
    }
   },
   "outputs": [],
   "source": [
    "MarketPsych_df = MarketPsych_df.iloc[:, 1:]\n",
    "MarketPsych_df = pd.concat([MarketPsych_df[['ticker_', 'year']] , MarketPsych_df.drop(['ticker_','year'], axis=1)], axis=1)"
   ]
  },
  {
   "cell_type": "code",
   "execution_count": 167,
   "id": "48707c3e",
   "metadata": {
    "ExecuteTime": {
     "end_time": "2023-05-26T01:57:34.139284Z",
     "start_time": "2023-05-26T01:57:34.113565Z"
    }
   },
   "outputs": [
    {
     "data": {
      "text/html": [
       "<div>\n",
       "<style scoped>\n",
       "    .dataframe tbody tr th:only-of-type {\n",
       "        vertical-align: middle;\n",
       "    }\n",
       "\n",
       "    .dataframe tbody tr th {\n",
       "        vertical-align: top;\n",
       "    }\n",
       "\n",
       "    .dataframe thead th {\n",
       "        text-align: right;\n",
       "    }\n",
       "</style>\n",
       "<table border=\"1\" class=\"dataframe\">\n",
       "  <thead>\n",
       "    <tr style=\"text-align: right;\">\n",
       "      <th></th>\n",
       "      <th>ticker_</th>\n",
       "      <th>year</th>\n",
       "      <th>buzz_News</th>\n",
       "      <th>buzz_News_Headline</th>\n",
       "      <th>buzz_News_Social</th>\n",
       "      <th>buzz_Social</th>\n",
       "      <th>innovation_News</th>\n",
       "      <th>innovation_News_Headline</th>\n",
       "      <th>innovation_News_Social</th>\n",
       "      <th>innovation_Social</th>\n",
       "      <th>...</th>\n",
       "      <th>layoffs_News_Social</th>\n",
       "      <th>layoffs_Social</th>\n",
       "      <th>managementTrust_News</th>\n",
       "      <th>managementTrust_News_Headline</th>\n",
       "      <th>managementTrust_News_Social</th>\n",
       "      <th>managementTrust_Social</th>\n",
       "      <th>mentions_News</th>\n",
       "      <th>mentions_News_Headline</th>\n",
       "      <th>mentions_News_Social</th>\n",
       "      <th>mentions_Social</th>\n",
       "    </tr>\n",
       "  </thead>\n",
       "  <tbody>\n",
       "    <tr>\n",
       "      <th>0</th>\n",
       "      <td>LAND</td>\n",
       "      <td>2022</td>\n",
       "      <td>1498.70</td>\n",
       "      <td>63.0</td>\n",
       "      <td>1879.70</td>\n",
       "      <td>381.0</td>\n",
       "      <td>0.000000</td>\n",
       "      <td>0.000000</td>\n",
       "      <td>0.000000</td>\n",
       "      <td>0.000000</td>\n",
       "      <td>...</td>\n",
       "      <td>0.000000</td>\n",
       "      <td>0.000000</td>\n",
       "      <td>0.166667</td>\n",
       "      <td>0.000000</td>\n",
       "      <td>0.166667</td>\n",
       "      <td>0.000000</td>\n",
       "      <td>620.0</td>\n",
       "      <td>47.0</td>\n",
       "      <td>982.0</td>\n",
       "      <td>362.0</td>\n",
       "    </tr>\n",
       "    <tr>\n",
       "      <th>1</th>\n",
       "      <td>LAND</td>\n",
       "      <td>2023</td>\n",
       "      <td>934.00</td>\n",
       "      <td>13.0</td>\n",
       "      <td>979.00</td>\n",
       "      <td>45.0</td>\n",
       "      <td>0.000000</td>\n",
       "      <td>0.000000</td>\n",
       "      <td>0.000000</td>\n",
       "      <td>0.000000</td>\n",
       "      <td>...</td>\n",
       "      <td>0.000000</td>\n",
       "      <td>0.000000</td>\n",
       "      <td>0.176471</td>\n",
       "      <td>0.000000</td>\n",
       "      <td>0.200000</td>\n",
       "      <td>0.200000</td>\n",
       "      <td>469.0</td>\n",
       "      <td>27.0</td>\n",
       "      <td>483.0</td>\n",
       "      <td>14.0</td>\n",
       "    </tr>\n",
       "    <tr>\n",
       "      <th>2</th>\n",
       "      <td>BLND</td>\n",
       "      <td>2022</td>\n",
       "      <td>15537.50</td>\n",
       "      <td>705.5</td>\n",
       "      <td>20170.60</td>\n",
       "      <td>4633.1</td>\n",
       "      <td>0.090909</td>\n",
       "      <td>0.142857</td>\n",
       "      <td>0.125000</td>\n",
       "      <td>0.142857</td>\n",
       "      <td>...</td>\n",
       "      <td>0.086957</td>\n",
       "      <td>0.095238</td>\n",
       "      <td>0.090909</td>\n",
       "      <td>0.000000</td>\n",
       "      <td>0.047619</td>\n",
       "      <td>0.041667</td>\n",
       "      <td>3712.0</td>\n",
       "      <td>317.0</td>\n",
       "      <td>5664.0</td>\n",
       "      <td>1952.0</td>\n",
       "    </tr>\n",
       "    <tr>\n",
       "      <th>3</th>\n",
       "      <td>BLND</td>\n",
       "      <td>2023</td>\n",
       "      <td>7463.60</td>\n",
       "      <td>236.5</td>\n",
       "      <td>8992.50</td>\n",
       "      <td>1528.9</td>\n",
       "      <td>0.333333</td>\n",
       "      <td>0.000000</td>\n",
       "      <td>0.072727</td>\n",
       "      <td>0.062500</td>\n",
       "      <td>...</td>\n",
       "      <td>0.013158</td>\n",
       "      <td>0.019231</td>\n",
       "      <td>0.047059</td>\n",
       "      <td>0.000000</td>\n",
       "      <td>0.042105</td>\n",
       "      <td>0.000000</td>\n",
       "      <td>1909.0</td>\n",
       "      <td>120.0</td>\n",
       "      <td>2382.0</td>\n",
       "      <td>473.0</td>\n",
       "    </tr>\n",
       "    <tr>\n",
       "      <th>4</th>\n",
       "      <td>HL.</td>\n",
       "      <td>2022</td>\n",
       "      <td>72534.15</td>\n",
       "      <td>1474.0</td>\n",
       "      <td>85237.55</td>\n",
       "      <td>12703.4</td>\n",
       "      <td>0.025316</td>\n",
       "      <td>0.000000</td>\n",
       "      <td>0.025000</td>\n",
       "      <td>0.080000</td>\n",
       "      <td>...</td>\n",
       "      <td>0.036851</td>\n",
       "      <td>0.000000</td>\n",
       "      <td>0.117073</td>\n",
       "      <td>0.066667</td>\n",
       "      <td>0.081911</td>\n",
       "      <td>0.060606</td>\n",
       "      <td>12377.0</td>\n",
       "      <td>583.0</td>\n",
       "      <td>16391.0</td>\n",
       "      <td>4014.0</td>\n",
       "    </tr>\n",
       "  </tbody>\n",
       "</table>\n",
       "<p>5 rows × 26 columns</p>\n",
       "</div>"
      ],
      "text/plain": [
       "  ticker_  year  buzz_News  buzz_News_Headline  buzz_News_Social  buzz_Social  \\\n",
       "0    LAND  2022    1498.70                63.0           1879.70        381.0   \n",
       "1    LAND  2023     934.00                13.0            979.00         45.0   \n",
       "2    BLND  2022   15537.50               705.5          20170.60       4633.1   \n",
       "3    BLND  2023    7463.60               236.5           8992.50       1528.9   \n",
       "4     HL.  2022   72534.15              1474.0          85237.55      12703.4   \n",
       "\n",
       "   innovation_News  innovation_News_Headline  innovation_News_Social  \\\n",
       "0         0.000000                  0.000000                0.000000   \n",
       "1         0.000000                  0.000000                0.000000   \n",
       "2         0.090909                  0.142857                0.125000   \n",
       "3         0.333333                  0.000000                0.072727   \n",
       "4         0.025316                  0.000000                0.025000   \n",
       "\n",
       "   innovation_Social  ...  layoffs_News_Social  layoffs_Social  \\\n",
       "0           0.000000  ...             0.000000        0.000000   \n",
       "1           0.000000  ...             0.000000        0.000000   \n",
       "2           0.142857  ...             0.086957        0.095238   \n",
       "3           0.062500  ...             0.013158        0.019231   \n",
       "4           0.080000  ...             0.036851        0.000000   \n",
       "\n",
       "   managementTrust_News  managementTrust_News_Headline  \\\n",
       "0              0.166667                       0.000000   \n",
       "1              0.176471                       0.000000   \n",
       "2              0.090909                       0.000000   \n",
       "3              0.047059                       0.000000   \n",
       "4              0.117073                       0.066667   \n",
       "\n",
       "   managementTrust_News_Social  managementTrust_Social  mentions_News  \\\n",
       "0                     0.166667                0.000000          620.0   \n",
       "1                     0.200000                0.200000          469.0   \n",
       "2                     0.047619                0.041667         3712.0   \n",
       "3                     0.042105                0.000000         1909.0   \n",
       "4                     0.081911                0.060606        12377.0   \n",
       "\n",
       "   mentions_News_Headline  mentions_News_Social  mentions_Social  \n",
       "0                    47.0                 982.0            362.0  \n",
       "1                    27.0                 483.0             14.0  \n",
       "2                   317.0                5664.0           1952.0  \n",
       "3                   120.0                2382.0            473.0  \n",
       "4                   583.0               16391.0           4014.0  \n",
       "\n",
       "[5 rows x 26 columns]"
      ]
     },
     "execution_count": 167,
     "metadata": {},
     "output_type": "execute_result"
    }
   ],
   "source": [
    "MarketPsych_df.head()"
   ]
  },
  {
   "cell_type": "markdown",
   "id": "371847cc",
   "metadata": {},
   "source": [
    "## Training Data"
   ]
  },
  {
   "cell_type": "code",
   "execution_count": 168,
   "id": "808db9e1",
   "metadata": {
    "ExecuteTime": {
     "end_time": "2023-05-26T01:57:46.420555Z",
     "start_time": "2023-05-26T01:57:46.334003Z"
    }
   },
   "outputs": [],
   "source": [
    "train_1 = pd.read_csv('../data/ML_Data/train_footsie_contains.csv')\n",
    "train_2 = pd.read_csv('../data/ML_Data/train_fortune100_contains.csv')\n",
    "train_3 = pd.read_csv('../data/ML_Data/train_DAX_contains.csv')\n",
    "\n",
    "train_df = pd.concat([train_1,train_2,train_3], axis=0)\n",
    "train_df = train_df.rename(columns={'firm':'RIC'})"
   ]
  },
  {
   "cell_type": "code",
   "execution_count": 169,
   "id": "a3c1a2ca",
   "metadata": {
    "ExecuteTime": {
     "end_time": "2023-05-26T01:57:53.350622Z",
     "start_time": "2023-05-26T01:57:53.333115Z"
    }
   },
   "outputs": [],
   "source": [
    "train_df = pd.merge(train_df, compile_indexes_df, how='left', on = 'RIC')"
   ]
  },
  {
   "cell_type": "code",
   "execution_count": 170,
   "id": "32062f7e",
   "metadata": {
    "ExecuteTime": {
     "end_time": "2023-05-26T01:57:53.855457Z",
     "start_time": "2023-05-26T01:57:53.845653Z"
    }
   },
   "outputs": [],
   "source": [
    "train_df = pd.concat([train_df[['RIC', 'year' ,'ticker_']], train_df.drop(['RIC', 'year' ,'ticker_'], axis=1)], axis=1)"
   ]
  },
  {
   "cell_type": "code",
   "execution_count": 171,
   "id": "87b09b62",
   "metadata": {
    "ExecuteTime": {
     "end_time": "2023-05-26T01:57:54.331434Z",
     "start_time": "2023-05-26T01:57:54.305706Z"
    }
   },
   "outputs": [
    {
     "data": {
      "text/html": [
       "<div>\n",
       "<style scoped>\n",
       "    .dataframe tbody tr th:only-of-type {\n",
       "        vertical-align: middle;\n",
       "    }\n",
       "\n",
       "    .dataframe tbody tr th {\n",
       "        vertical-align: top;\n",
       "    }\n",
       "\n",
       "    .dataframe thead th {\n",
       "        text-align: right;\n",
       "    }\n",
       "</style>\n",
       "<table border=\"1\" class=\"dataframe\">\n",
       "  <thead>\n",
       "    <tr style=\"text-align: right;\">\n",
       "      <th></th>\n",
       "      <th>RIC</th>\n",
       "      <th>year</th>\n",
       "      <th>ticker_</th>\n",
       "      <th>0</th>\n",
       "      <th>1</th>\n",
       "      <th>2</th>\n",
       "      <th>3</th>\n",
       "      <th>4</th>\n",
       "      <th>5</th>\n",
       "      <th>6</th>\n",
       "      <th>...</th>\n",
       "      <th>760</th>\n",
       "      <th>761</th>\n",
       "      <th>762</th>\n",
       "      <th>763</th>\n",
       "      <th>764</th>\n",
       "      <th>765</th>\n",
       "      <th>766</th>\n",
       "      <th>767</th>\n",
       "      <th>ESG Controversies Score</th>\n",
       "      <th>ESG Controversies Score Grade</th>\n",
       "    </tr>\n",
       "  </thead>\n",
       "  <tbody>\n",
       "    <tr>\n",
       "      <th>0</th>\n",
       "      <td>AAF.L</td>\n",
       "      <td>2022</td>\n",
       "      <td>AAF</td>\n",
       "      <td>-0.316090</td>\n",
       "      <td>0.325633</td>\n",
       "      <td>0.492556</td>\n",
       "      <td>-0.050070</td>\n",
       "      <td>0.381271</td>\n",
       "      <td>0.446845</td>\n",
       "      <td>-0.207054</td>\n",
       "      <td>...</td>\n",
       "      <td>0.180643</td>\n",
       "      <td>0.616740</td>\n",
       "      <td>-0.715521</td>\n",
       "      <td>0.880630</td>\n",
       "      <td>-0.490878</td>\n",
       "      <td>-0.111745</td>\n",
       "      <td>0.736818</td>\n",
       "      <td>0.420092</td>\n",
       "      <td>100.000000</td>\n",
       "      <td>A+</td>\n",
       "    </tr>\n",
       "    <tr>\n",
       "      <th>1</th>\n",
       "      <td>ABDN.L</td>\n",
       "      <td>2022</td>\n",
       "      <td>ABDN</td>\n",
       "      <td>-0.400195</td>\n",
       "      <td>-0.220467</td>\n",
       "      <td>-0.629772</td>\n",
       "      <td>0.436963</td>\n",
       "      <td>0.411417</td>\n",
       "      <td>-0.230281</td>\n",
       "      <td>0.104258</td>\n",
       "      <td>...</td>\n",
       "      <td>0.812860</td>\n",
       "      <td>0.249883</td>\n",
       "      <td>-0.261393</td>\n",
       "      <td>0.220430</td>\n",
       "      <td>-0.307368</td>\n",
       "      <td>-0.685380</td>\n",
       "      <td>-0.035406</td>\n",
       "      <td>0.278564</td>\n",
       "      <td>100.000000</td>\n",
       "      <td>A+</td>\n",
       "    </tr>\n",
       "    <tr>\n",
       "      <th>2</th>\n",
       "      <td>ABDN.L</td>\n",
       "      <td>2022</td>\n",
       "      <td>ABDN</td>\n",
       "      <td>-0.400195</td>\n",
       "      <td>-0.220467</td>\n",
       "      <td>-0.629772</td>\n",
       "      <td>0.436963</td>\n",
       "      <td>0.411417</td>\n",
       "      <td>-0.230281</td>\n",
       "      <td>0.104258</td>\n",
       "      <td>...</td>\n",
       "      <td>0.812860</td>\n",
       "      <td>0.249883</td>\n",
       "      <td>-0.261393</td>\n",
       "      <td>0.220430</td>\n",
       "      <td>-0.307368</td>\n",
       "      <td>-0.685380</td>\n",
       "      <td>-0.035406</td>\n",
       "      <td>0.278564</td>\n",
       "      <td>100.000000</td>\n",
       "      <td>A+</td>\n",
       "    </tr>\n",
       "    <tr>\n",
       "      <th>3</th>\n",
       "      <td>AHT.L</td>\n",
       "      <td>2022</td>\n",
       "      <td>AHT</td>\n",
       "      <td>-0.808410</td>\n",
       "      <td>0.125399</td>\n",
       "      <td>0.427910</td>\n",
       "      <td>0.202350</td>\n",
       "      <td>0.725803</td>\n",
       "      <td>0.359200</td>\n",
       "      <td>0.196529</td>\n",
       "      <td>...</td>\n",
       "      <td>0.937636</td>\n",
       "      <td>0.762159</td>\n",
       "      <td>-0.738225</td>\n",
       "      <td>0.972579</td>\n",
       "      <td>-0.804485</td>\n",
       "      <td>-0.530617</td>\n",
       "      <td>0.665348</td>\n",
       "      <td>0.749797</td>\n",
       "      <td>74.528302</td>\n",
       "      <td>B+</td>\n",
       "    </tr>\n",
       "    <tr>\n",
       "      <th>4</th>\n",
       "      <td>ANTO.L</td>\n",
       "      <td>2022</td>\n",
       "      <td>ANTO</td>\n",
       "      <td>-0.184318</td>\n",
       "      <td>-0.158951</td>\n",
       "      <td>-0.472866</td>\n",
       "      <td>0.285990</td>\n",
       "      <td>0.295325</td>\n",
       "      <td>-0.150287</td>\n",
       "      <td>-0.207242</td>\n",
       "      <td>...</td>\n",
       "      <td>0.642592</td>\n",
       "      <td>-0.064270</td>\n",
       "      <td>-0.249068</td>\n",
       "      <td>0.019297</td>\n",
       "      <td>0.019295</td>\n",
       "      <td>-0.622573</td>\n",
       "      <td>0.041856</td>\n",
       "      <td>-0.046189</td>\n",
       "      <td>100.000000</td>\n",
       "      <td>A+</td>\n",
       "    </tr>\n",
       "  </tbody>\n",
       "</table>\n",
       "<p>5 rows × 773 columns</p>\n",
       "</div>"
      ],
      "text/plain": [
       "      RIC  year ticker_         0         1         2         3         4  \\\n",
       "0   AAF.L  2022     AAF -0.316090  0.325633  0.492556 -0.050070  0.381271   \n",
       "1  ABDN.L  2022    ABDN -0.400195 -0.220467 -0.629772  0.436963  0.411417   \n",
       "2  ABDN.L  2022    ABDN -0.400195 -0.220467 -0.629772  0.436963  0.411417   \n",
       "3   AHT.L  2022     AHT -0.808410  0.125399  0.427910  0.202350  0.725803   \n",
       "4  ANTO.L  2022    ANTO -0.184318 -0.158951 -0.472866  0.285990  0.295325   \n",
       "\n",
       "          5         6  ...       760       761       762       763       764  \\\n",
       "0  0.446845 -0.207054  ...  0.180643  0.616740 -0.715521  0.880630 -0.490878   \n",
       "1 -0.230281  0.104258  ...  0.812860  0.249883 -0.261393  0.220430 -0.307368   \n",
       "2 -0.230281  0.104258  ...  0.812860  0.249883 -0.261393  0.220430 -0.307368   \n",
       "3  0.359200  0.196529  ...  0.937636  0.762159 -0.738225  0.972579 -0.804485   \n",
       "4 -0.150287 -0.207242  ...  0.642592 -0.064270 -0.249068  0.019297  0.019295   \n",
       "\n",
       "        765       766       767  ESG Controversies Score  \\\n",
       "0 -0.111745  0.736818  0.420092               100.000000   \n",
       "1 -0.685380 -0.035406  0.278564               100.000000   \n",
       "2 -0.685380 -0.035406  0.278564               100.000000   \n",
       "3 -0.530617  0.665348  0.749797                74.528302   \n",
       "4 -0.622573  0.041856 -0.046189               100.000000   \n",
       "\n",
       "   ESG Controversies Score Grade  \n",
       "0                             A+  \n",
       "1                             A+  \n",
       "2                             A+  \n",
       "3                             B+  \n",
       "4                             A+  \n",
       "\n",
       "[5 rows x 773 columns]"
      ]
     },
     "execution_count": 171,
     "metadata": {},
     "output_type": "execute_result"
    }
   ],
   "source": [
    "train_df.head()"
   ]
  },
  {
   "cell_type": "code",
   "execution_count": 172,
   "id": "8d315e9f",
   "metadata": {
    "ExecuteTime": {
     "end_time": "2023-05-26T01:58:03.033413Z",
     "start_time": "2023-05-26T01:58:02.991631Z"
    }
   },
   "outputs": [],
   "source": [
    "train_completed_df = pd.merge(train_df, MarketPsych_df, how = 'left', on=['ticker_','year'])"
   ]
  },
  {
   "cell_type": "code",
   "execution_count": 173,
   "id": "646df63e",
   "metadata": {
    "ExecuteTime": {
     "end_time": "2023-05-26T01:58:06.321018Z",
     "start_time": "2023-05-26T01:58:06.311214Z"
    }
   },
   "outputs": [],
   "source": [
    "train_completed_df = pd.concat([\n",
    "    train_completed_df.drop(['ESG Controversies Score', 'ESG Controversies Score Grade'], axis=1), \n",
    "    train_completed_df[['ESG Controversies Score', 'ESG Controversies Score Grade']]], axis=1)"
   ]
  },
  {
   "cell_type": "code",
   "execution_count": 174,
   "id": "0e31cafe",
   "metadata": {
    "ExecuteTime": {
     "end_time": "2023-05-26T01:58:07.650067Z",
     "start_time": "2023-05-26T01:58:07.641176Z"
    }
   },
   "outputs": [],
   "source": [
    "train_completed_df = train_completed_df[train_completed_df['managementTrust_News_Headline'].notnull()]\n",
    "train_completed_df = train_completed_df.reset_index(drop=True)"
   ]
  },
  {
   "cell_type": "code",
   "execution_count": 175,
   "id": "a078cd22",
   "metadata": {
    "ExecuteTime": {
     "end_time": "2023-05-26T01:58:08.608776Z",
     "start_time": "2023-05-26T01:58:08.597591Z"
    }
   },
   "outputs": [
    {
     "data": {
      "text/plain": [
       "(array(['A+', 'A-', 'B', 'B+', 'B-', 'C', 'C+', 'D', 'D+', 'D-'],\n",
       "       dtype=object),\n",
       " array([49,  1,  1,  8,  5,  3,  3,  4,  1,  4]))"
      ]
     },
     "execution_count": 175,
     "metadata": {},
     "output_type": "execute_result"
    }
   ],
   "source": [
    "np.unique(train_completed_df['ESG Controversies Score Grade'], return_counts=True)"
   ]
  },
  {
   "cell_type": "code",
   "execution_count": 305,
   "id": "956326b7",
   "metadata": {
    "ExecuteTime": {
     "end_time": "2023-05-26T03:02:47.393831Z",
     "start_time": "2023-05-26T03:02:47.226378Z"
    }
   },
   "outputs": [
    {
     "data": {
      "text/html": [
       "<div>\n",
       "<style scoped>\n",
       "    .dataframe tbody tr th:only-of-type {\n",
       "        vertical-align: middle;\n",
       "    }\n",
       "\n",
       "    .dataframe tbody tr th {\n",
       "        vertical-align: top;\n",
       "    }\n",
       "\n",
       "    .dataframe thead th {\n",
       "        text-align: right;\n",
       "    }\n",
       "</style>\n",
       "<table border=\"1\" class=\"dataframe\">\n",
       "  <thead>\n",
       "    <tr style=\"text-align: right;\">\n",
       "      <th></th>\n",
       "      <th>0</th>\n",
       "      <th>1</th>\n",
       "      <th>2</th>\n",
       "      <th>3</th>\n",
       "      <th>4</th>\n",
       "      <th>5</th>\n",
       "      <th>6</th>\n",
       "      <th>7</th>\n",
       "      <th>8</th>\n",
       "      <th>9</th>\n",
       "      <th>...</th>\n",
       "      <th>layoffs_Social</th>\n",
       "      <th>managementTrust_News</th>\n",
       "      <th>managementTrust_News_Headline</th>\n",
       "      <th>managementTrust_News_Social</th>\n",
       "      <th>managementTrust_Social</th>\n",
       "      <th>mentions_News</th>\n",
       "      <th>mentions_News_Headline</th>\n",
       "      <th>mentions_News_Social</th>\n",
       "      <th>mentions_Social</th>\n",
       "      <th>ESG Controversies Score</th>\n",
       "    </tr>\n",
       "  </thead>\n",
       "  <tbody>\n",
       "    <tr>\n",
       "      <th>0</th>\n",
       "      <td>-0.316090</td>\n",
       "      <td>0.325633</td>\n",
       "      <td>0.492556</td>\n",
       "      <td>-0.050070</td>\n",
       "      <td>0.381271</td>\n",
       "      <td>0.446845</td>\n",
       "      <td>-0.207054</td>\n",
       "      <td>-0.637495</td>\n",
       "      <td>0.801130</td>\n",
       "      <td>-0.353742</td>\n",
       "      <td>...</td>\n",
       "      <td>0.000000</td>\n",
       "      <td>0.133333</td>\n",
       "      <td>0.000000</td>\n",
       "      <td>0.133333</td>\n",
       "      <td>0.133333</td>\n",
       "      <td>7286.0</td>\n",
       "      <td>648.0</td>\n",
       "      <td>7830.0</td>\n",
       "      <td>544.0</td>\n",
       "      <td>100.0</td>\n",
       "    </tr>\n",
       "    <tr>\n",
       "      <th>1</th>\n",
       "      <td>-0.400195</td>\n",
       "      <td>-0.220467</td>\n",
       "      <td>-0.629772</td>\n",
       "      <td>0.436963</td>\n",
       "      <td>0.411417</td>\n",
       "      <td>-0.230281</td>\n",
       "      <td>0.104258</td>\n",
       "      <td>0.122388</td>\n",
       "      <td>-0.347592</td>\n",
       "      <td>-0.396832</td>\n",
       "      <td>...</td>\n",
       "      <td>0.022989</td>\n",
       "      <td>0.114286</td>\n",
       "      <td>0.000000</td>\n",
       "      <td>0.108108</td>\n",
       "      <td>0.101695</td>\n",
       "      <td>2841.0</td>\n",
       "      <td>372.0</td>\n",
       "      <td>4838.0</td>\n",
       "      <td>1997.0</td>\n",
       "      <td>100.0</td>\n",
       "    </tr>\n",
       "    <tr>\n",
       "      <th>2</th>\n",
       "      <td>-0.400195</td>\n",
       "      <td>-0.220467</td>\n",
       "      <td>-0.629772</td>\n",
       "      <td>0.436963</td>\n",
       "      <td>0.411417</td>\n",
       "      <td>-0.230281</td>\n",
       "      <td>0.104258</td>\n",
       "      <td>0.122388</td>\n",
       "      <td>-0.347592</td>\n",
       "      <td>-0.396832</td>\n",
       "      <td>...</td>\n",
       "      <td>0.022989</td>\n",
       "      <td>0.114286</td>\n",
       "      <td>0.000000</td>\n",
       "      <td>0.108108</td>\n",
       "      <td>0.101695</td>\n",
       "      <td>2841.0</td>\n",
       "      <td>372.0</td>\n",
       "      <td>4838.0</td>\n",
       "      <td>1997.0</td>\n",
       "      <td>100.0</td>\n",
       "    </tr>\n",
       "    <tr>\n",
       "      <th>3</th>\n",
       "      <td>-0.400195</td>\n",
       "      <td>-0.220467</td>\n",
       "      <td>-0.629772</td>\n",
       "      <td>0.436963</td>\n",
       "      <td>0.411417</td>\n",
       "      <td>-0.230281</td>\n",
       "      <td>0.104258</td>\n",
       "      <td>0.122388</td>\n",
       "      <td>-0.347592</td>\n",
       "      <td>-0.396832</td>\n",
       "      <td>...</td>\n",
       "      <td>0.022989</td>\n",
       "      <td>0.114286</td>\n",
       "      <td>0.000000</td>\n",
       "      <td>0.108108</td>\n",
       "      <td>0.101695</td>\n",
       "      <td>2841.0</td>\n",
       "      <td>372.0</td>\n",
       "      <td>4838.0</td>\n",
       "      <td>1997.0</td>\n",
       "      <td>100.0</td>\n",
       "    </tr>\n",
       "    <tr>\n",
       "      <th>4</th>\n",
       "      <td>-0.400195</td>\n",
       "      <td>-0.220467</td>\n",
       "      <td>-0.629772</td>\n",
       "      <td>0.436963</td>\n",
       "      <td>0.411417</td>\n",
       "      <td>-0.230281</td>\n",
       "      <td>0.104258</td>\n",
       "      <td>0.122388</td>\n",
       "      <td>-0.347592</td>\n",
       "      <td>-0.396832</td>\n",
       "      <td>...</td>\n",
       "      <td>0.022989</td>\n",
       "      <td>0.114286</td>\n",
       "      <td>0.000000</td>\n",
       "      <td>0.108108</td>\n",
       "      <td>0.101695</td>\n",
       "      <td>2841.0</td>\n",
       "      <td>372.0</td>\n",
       "      <td>4838.0</td>\n",
       "      <td>1997.0</td>\n",
       "      <td>100.0</td>\n",
       "    </tr>\n",
       "    <tr>\n",
       "      <th>...</th>\n",
       "      <td>...</td>\n",
       "      <td>...</td>\n",
       "      <td>...</td>\n",
       "      <td>...</td>\n",
       "      <td>...</td>\n",
       "      <td>...</td>\n",
       "      <td>...</td>\n",
       "      <td>...</td>\n",
       "      <td>...</td>\n",
       "      <td>...</td>\n",
       "      <td>...</td>\n",
       "      <td>...</td>\n",
       "      <td>...</td>\n",
       "      <td>...</td>\n",
       "      <td>...</td>\n",
       "      <td>...</td>\n",
       "      <td>...</td>\n",
       "      <td>...</td>\n",
       "      <td>...</td>\n",
       "      <td>...</td>\n",
       "      <td>...</td>\n",
       "    </tr>\n",
       "    <tr>\n",
       "      <th>74</th>\n",
       "      <td>-0.268584</td>\n",
       "      <td>0.051497</td>\n",
       "      <td>0.007844</td>\n",
       "      <td>0.024613</td>\n",
       "      <td>0.223107</td>\n",
       "      <td>0.163451</td>\n",
       "      <td>-0.160058</td>\n",
       "      <td>-0.251668</td>\n",
       "      <td>0.219104</td>\n",
       "      <td>-0.172581</td>\n",
       "      <td>...</td>\n",
       "      <td>0.108108</td>\n",
       "      <td>0.230769</td>\n",
       "      <td>0.003937</td>\n",
       "      <td>0.133333</td>\n",
       "      <td>0.187500</td>\n",
       "      <td>6529.0</td>\n",
       "      <td>722.0</td>\n",
       "      <td>9391.0</td>\n",
       "      <td>2862.0</td>\n",
       "      <td>100.0</td>\n",
       "    </tr>\n",
       "    <tr>\n",
       "      <th>75</th>\n",
       "      <td>-0.222348</td>\n",
       "      <td>0.097316</td>\n",
       "      <td>0.050808</td>\n",
       "      <td>-0.007150</td>\n",
       "      <td>0.325427</td>\n",
       "      <td>0.186515</td>\n",
       "      <td>-0.215515</td>\n",
       "      <td>-0.279082</td>\n",
       "      <td>0.286403</td>\n",
       "      <td>-0.073388</td>\n",
       "      <td>...</td>\n",
       "      <td>0.003571</td>\n",
       "      <td>0.210526</td>\n",
       "      <td>0.043478</td>\n",
       "      <td>0.133333</td>\n",
       "      <td>0.021505</td>\n",
       "      <td>10350.0</td>\n",
       "      <td>747.0</td>\n",
       "      <td>13134.0</td>\n",
       "      <td>2784.0</td>\n",
       "      <td>100.0</td>\n",
       "    </tr>\n",
       "    <tr>\n",
       "      <th>76</th>\n",
       "      <td>-0.464123</td>\n",
       "      <td>0.142668</td>\n",
       "      <td>0.312886</td>\n",
       "      <td>0.165592</td>\n",
       "      <td>0.470431</td>\n",
       "      <td>0.262848</td>\n",
       "      <td>-0.086061</td>\n",
       "      <td>-0.414470</td>\n",
       "      <td>0.518723</td>\n",
       "      <td>-0.170756</td>\n",
       "      <td>...</td>\n",
       "      <td>0.000000</td>\n",
       "      <td>0.107143</td>\n",
       "      <td>0.049505</td>\n",
       "      <td>0.107143</td>\n",
       "      <td>0.071429</td>\n",
       "      <td>12225.0</td>\n",
       "      <td>687.0</td>\n",
       "      <td>15759.0</td>\n",
       "      <td>3534.0</td>\n",
       "      <td>100.0</td>\n",
       "    </tr>\n",
       "    <tr>\n",
       "      <th>77</th>\n",
       "      <td>0.301456</td>\n",
       "      <td>0.452857</td>\n",
       "      <td>0.400814</td>\n",
       "      <td>-0.373105</td>\n",
       "      <td>-0.373304</td>\n",
       "      <td>0.404690</td>\n",
       "      <td>-0.543124</td>\n",
       "      <td>-0.520576</td>\n",
       "      <td>0.470350</td>\n",
       "      <td>0.465419</td>\n",
       "      <td>...</td>\n",
       "      <td>0.057143</td>\n",
       "      <td>0.075000</td>\n",
       "      <td>0.260870</td>\n",
       "      <td>0.073171</td>\n",
       "      <td>0.000000</td>\n",
       "      <td>5657.0</td>\n",
       "      <td>694.0</td>\n",
       "      <td>6905.0</td>\n",
       "      <td>1248.0</td>\n",
       "      <td>100.0</td>\n",
       "    </tr>\n",
       "    <tr>\n",
       "      <th>78</th>\n",
       "      <td>-0.108147</td>\n",
       "      <td>0.309773</td>\n",
       "      <td>0.329629</td>\n",
       "      <td>-0.180662</td>\n",
       "      <td>0.053357</td>\n",
       "      <td>0.376446</td>\n",
       "      <td>-0.364924</td>\n",
       "      <td>-0.473887</td>\n",
       "      <td>0.509108</td>\n",
       "      <td>0.164460</td>\n",
       "      <td>...</td>\n",
       "      <td>0.026316</td>\n",
       "      <td>0.151579</td>\n",
       "      <td>0.090909</td>\n",
       "      <td>0.138996</td>\n",
       "      <td>0.149254</td>\n",
       "      <td>53606.0</td>\n",
       "      <td>4978.0</td>\n",
       "      <td>68299.0</td>\n",
       "      <td>14693.0</td>\n",
       "      <td>100.0</td>\n",
       "    </tr>\n",
       "  </tbody>\n",
       "</table>\n",
       "<p>79 rows × 793 columns</p>\n",
       "</div>"
      ],
      "text/plain": [
       "           0         1         2         3         4         5         6  \\\n",
       "0  -0.316090  0.325633  0.492556 -0.050070  0.381271  0.446845 -0.207054   \n",
       "1  -0.400195 -0.220467 -0.629772  0.436963  0.411417 -0.230281  0.104258   \n",
       "2  -0.400195 -0.220467 -0.629772  0.436963  0.411417 -0.230281  0.104258   \n",
       "3  -0.400195 -0.220467 -0.629772  0.436963  0.411417 -0.230281  0.104258   \n",
       "4  -0.400195 -0.220467 -0.629772  0.436963  0.411417 -0.230281  0.104258   \n",
       "..       ...       ...       ...       ...       ...       ...       ...   \n",
       "74 -0.268584  0.051497  0.007844  0.024613  0.223107  0.163451 -0.160058   \n",
       "75 -0.222348  0.097316  0.050808 -0.007150  0.325427  0.186515 -0.215515   \n",
       "76 -0.464123  0.142668  0.312886  0.165592  0.470431  0.262848 -0.086061   \n",
       "77  0.301456  0.452857  0.400814 -0.373105 -0.373304  0.404690 -0.543124   \n",
       "78 -0.108147  0.309773  0.329629 -0.180662  0.053357  0.376446 -0.364924   \n",
       "\n",
       "           7         8         9  ...  layoffs_Social  managementTrust_News  \\\n",
       "0  -0.637495  0.801130 -0.353742  ...        0.000000              0.133333   \n",
       "1   0.122388 -0.347592 -0.396832  ...        0.022989              0.114286   \n",
       "2   0.122388 -0.347592 -0.396832  ...        0.022989              0.114286   \n",
       "3   0.122388 -0.347592 -0.396832  ...        0.022989              0.114286   \n",
       "4   0.122388 -0.347592 -0.396832  ...        0.022989              0.114286   \n",
       "..       ...       ...       ...  ...             ...                   ...   \n",
       "74 -0.251668  0.219104 -0.172581  ...        0.108108              0.230769   \n",
       "75 -0.279082  0.286403 -0.073388  ...        0.003571              0.210526   \n",
       "76 -0.414470  0.518723 -0.170756  ...        0.000000              0.107143   \n",
       "77 -0.520576  0.470350  0.465419  ...        0.057143              0.075000   \n",
       "78 -0.473887  0.509108  0.164460  ...        0.026316              0.151579   \n",
       "\n",
       "    managementTrust_News_Headline  managementTrust_News_Social  \\\n",
       "0                        0.000000                     0.133333   \n",
       "1                        0.000000                     0.108108   \n",
       "2                        0.000000                     0.108108   \n",
       "3                        0.000000                     0.108108   \n",
       "4                        0.000000                     0.108108   \n",
       "..                            ...                          ...   \n",
       "74                       0.003937                     0.133333   \n",
       "75                       0.043478                     0.133333   \n",
       "76                       0.049505                     0.107143   \n",
       "77                       0.260870                     0.073171   \n",
       "78                       0.090909                     0.138996   \n",
       "\n",
       "    managementTrust_Social  mentions_News  mentions_News_Headline  \\\n",
       "0                 0.133333         7286.0                   648.0   \n",
       "1                 0.101695         2841.0                   372.0   \n",
       "2                 0.101695         2841.0                   372.0   \n",
       "3                 0.101695         2841.0                   372.0   \n",
       "4                 0.101695         2841.0                   372.0   \n",
       "..                     ...            ...                     ...   \n",
       "74                0.187500         6529.0                   722.0   \n",
       "75                0.021505        10350.0                   747.0   \n",
       "76                0.071429        12225.0                   687.0   \n",
       "77                0.000000         5657.0                   694.0   \n",
       "78                0.149254        53606.0                  4978.0   \n",
       "\n",
       "    mentions_News_Social  mentions_Social  ESG Controversies Score  \n",
       "0                 7830.0            544.0                    100.0  \n",
       "1                 4838.0           1997.0                    100.0  \n",
       "2                 4838.0           1997.0                    100.0  \n",
       "3                 4838.0           1997.0                    100.0  \n",
       "4                 4838.0           1997.0                    100.0  \n",
       "..                   ...              ...                      ...  \n",
       "74                9391.0           2862.0                    100.0  \n",
       "75               13134.0           2784.0                    100.0  \n",
       "76               15759.0           3534.0                    100.0  \n",
       "77                6905.0           1248.0                    100.0  \n",
       "78               68299.0          14693.0                    100.0  \n",
       "\n",
       "[79 rows x 793 columns]"
      ]
     },
     "execution_count": 305,
     "metadata": {},
     "output_type": "execute_result"
    }
   ],
   "source": [
    "train_completed_df"
   ]
  },
  {
   "cell_type": "code",
   "execution_count": 176,
   "id": "03457588",
   "metadata": {
    "ExecuteTime": {
     "end_time": "2023-05-26T01:58:26.608623Z",
     "start_time": "2023-05-26T01:58:26.599169Z"
    }
   },
   "outputs": [],
   "source": [
    "def grade_calculation(score):\n",
    "    score = score / 100\n",
    "    \n",
    "    if score <= 0.250000:\n",
    "        val = 'D'\n",
    "    elif score <= 0.500000: \n",
    "        val = 'C'\n",
    "    elif score <= 0.750000: \n",
    "        val = 'B'\n",
    "    elif score > 0.75: \n",
    "        val = 'A'\n",
    "\n",
    "    return val"
   ]
  },
  {
   "cell_type": "code",
   "execution_count": 177,
   "id": "3c2c0a1c",
   "metadata": {
    "ExecuteTime": {
     "end_time": "2023-05-26T01:58:28.265983Z",
     "start_time": "2023-05-26T01:58:28.252782Z"
    }
   },
   "outputs": [],
   "source": [
    "y_simple = train_completed_df['ESG Controversies Score'].apply(lambda x: grade_calculation(x))"
   ]
  },
  {
   "cell_type": "code",
   "execution_count": 178,
   "id": "a1a883be",
   "metadata": {
    "ExecuteTime": {
     "end_time": "2023-05-26T01:58:28.462721Z",
     "start_time": "2023-05-26T01:58:28.453237Z"
    }
   },
   "outputs": [],
   "source": [
    "train_completed_df = train_completed_df.drop(['RIC','year', 'ticker_','ESG Controversies Score Grade','ESG Controversies Score Grade'], axis=1).reset_index(drop=True)"
   ]
  },
  {
   "cell_type": "code",
   "execution_count": 179,
   "id": "7c0cd93f",
   "metadata": {
    "ExecuteTime": {
     "end_time": "2023-05-26T01:58:28.696032Z",
     "start_time": "2023-05-26T01:58:28.689883Z"
    }
   },
   "outputs": [],
   "source": [
    "y = train_completed_df.iloc[:,-1]\n",
    "X = train_completed_df.iloc[:,:-1]"
   ]
  },
  {
   "cell_type": "markdown",
   "id": "df8261aa",
   "metadata": {},
   "source": [
    "# Standard Scaller"
   ]
  },
  {
   "cell_type": "code",
   "execution_count": 180,
   "id": "b1b062fd",
   "metadata": {
    "ExecuteTime": {
     "end_time": "2023-05-26T01:58:29.331738Z",
     "start_time": "2023-05-26T01:58:29.326004Z"
    }
   },
   "outputs": [],
   "source": [
    "from sklearn.preprocessing import StandardScaler"
   ]
  },
  {
   "cell_type": "code",
   "execution_count": 181,
   "id": "571c355b",
   "metadata": {
    "ExecuteTime": {
     "end_time": "2023-05-26T01:58:30.437479Z",
     "start_time": "2023-05-26T01:58:30.410143Z"
    }
   },
   "outputs": [],
   "source": [
    "stdscaller = StandardScaler()\n",
    "\n",
    "X_std_df = stdscaller.fit_transform(X)\n",
    "X_std_df = pd.DataFrame(X_std_df)"
   ]
  },
  {
   "cell_type": "markdown",
   "id": "dc927e48",
   "metadata": {},
   "source": [
    "# Principal Component Analysis"
   ]
  },
  {
   "cell_type": "code",
   "execution_count": 240,
   "id": "a84f75bb",
   "metadata": {
    "ExecuteTime": {
     "end_time": "2023-05-26T02:06:35.071440Z",
     "start_time": "2023-05-26T02:06:34.741700Z"
    }
   },
   "outputs": [
    {
     "data": {
      "image/png": "[encoded data removed]",
      "text/plain": [
       "<Figure size 640x480 with 1 Axes>"
      ]
     },
     "metadata": {},
     "output_type": "display_data"
    }
   ],
   "source": [
    "from sklearn.decomposition import PCA\n",
    "import matplotlib.pyplot as plt\n",
    "\n",
    "# Fit PCA to Xtrn_mn\n",
    "pca = PCA()\n",
    "\n",
    "pca.fit(X_std_df)\n",
    "\n",
    "# Calculate explained variance ratio\n",
    "explained_var_ratio = pca.explained_variance_ratio_\n",
    "\n",
    "# Calculate cumulative explained variance ratio\n",
    "cumulative_exp_var_ratio = np.cumsum(explained_var_ratio)\n",
    "\n",
    "# Plot the graph\n",
    "plt.plot(range(1, len(explained_var_ratio) + 1), cumulative_exp_var_ratio)\n",
    "plt.xlabel('Number of Principal Components')\n",
    "plt.ylabel('Cumulative Explained Variance Ratio')\n",
    "plt.show()"
   ]
  },
  {
   "cell_type": "code",
   "execution_count": 241,
   "id": "54c4f44c",
   "metadata": {
    "ExecuteTime": {
     "end_time": "2023-05-26T02:06:35.197547Z",
     "start_time": "2023-05-26T02:06:35.193337Z"
    }
   },
   "outputs": [
    {
     "name": "stdout",
     "output_type": "stream",
     "text": [
      "Minimum number of principal components to explain 50.0% of variance: 1\n",
      "Minimum number of principal components to explain 60.0% of variance: 1\n",
      "Minimum number of principal components to explain 70.0% of variance: 2\n",
      "Minimum number of principal components to explain 80.0% of variance: 2\n",
      "Minimum number of principal components to explain 90.0% of variance: 2\n",
      "Minimum number of principal components to explain 95.0% of variance: 5\n",
      "Minimum number of principal components to explain 99.0% of variance: 22\n"
     ]
    }
   ],
   "source": [
    "#(3) Your code goes here\n",
    "\n",
    "# Calculate the cumulative explained variance ratio\n",
    "cumulative_explained_var_ratio = np.cumsum(pca.explained_variance_ratio_)\n",
    "\n",
    "# Find the minimum number of principal components required to explain a certain percentage of the total variance\n",
    "for percent in [0.5, 0.6, 0.7, 0.8, 0.9, 0.95, 0.99]:\n",
    "    num_components = np.argmax(cumulative_explained_var_ratio >= percent) + 1\n",
    "    print(f\"Minimum number of principal components to explain {percent*100}% of variance: {num_components}\")"
   ]
  },
  {
   "cell_type": "code",
   "execution_count": 242,
   "id": "6abd0284",
   "metadata": {
    "ExecuteTime": {
     "end_time": "2023-05-26T02:06:38.759651Z",
     "start_time": "2023-05-26T02:06:36.165336Z"
    }
   },
   "outputs": [],
   "source": [
    "pca = PCA(n_components=num_components)\n",
    "X_pca = pca.fit_transform(X_std_df)"
   ]
  },
  {
   "cell_type": "code",
   "execution_count": 185,
   "id": "2a09af59",
   "metadata": {
    "ExecuteTime": {
     "end_time": "2023-05-26T01:58:37.298274Z",
     "start_time": "2023-05-26T01:58:37.286404Z"
    }
   },
   "outputs": [],
   "source": [
    "X_train, X_val, y_train, y_val = train_test_split(X_pca, y, test_size=0.15, random_state=42)"
   ]
  },
  {
   "cell_type": "code",
   "execution_count": 186,
   "id": "eb3c9e16",
   "metadata": {
    "ExecuteTime": {
     "end_time": "2023-05-26T01:58:37.306549Z",
     "start_time": "2023-05-26T01:58:37.302067Z"
    }
   },
   "outputs": [],
   "source": [
    "import seaborn as sns"
   ]
  },
  {
   "cell_type": "code",
   "execution_count": 187,
   "id": "9c2b7533",
   "metadata": {
    "ExecuteTime": {
     "end_time": "2023-05-26T01:58:37.319798Z",
     "start_time": "2023-05-26T01:58:37.314605Z"
    }
   },
   "outputs": [
    {
     "data": {
      "text/plain": [
       "(array(['A', 'B', 'C', 'D'], dtype=object), array([50, 14,  6,  9]))"
      ]
     },
     "execution_count": 187,
     "metadata": {},
     "output_type": "execute_result"
    }
   ],
   "source": [
    "np.unique(y_simple, return_counts=True)"
   ]
  },
  {
   "cell_type": "code",
   "execution_count": 188,
   "id": "74a5acea",
   "metadata": {
    "ExecuteTime": {
     "end_time": "2023-05-26T01:58:37.827601Z",
     "start_time": "2023-05-26T01:58:37.818532Z"
    }
   },
   "outputs": [],
   "source": [
    "cc = []\n",
    "for i in y_simple:\n",
    "    \n",
    "    if i == 'A':\n",
    "        cc.append(1)\n",
    "    elif i == 'B':\n",
    "        cc.append(2)\n",
    "    elif i == 'C':\n",
    "        cc.append(3)\n",
    "    elif i == 'D':\n",
    "        cc.append(4)"
   ]
  },
  {
   "cell_type": "code",
   "execution_count": 189,
   "id": "82ab73b2",
   "metadata": {
    "ExecuteTime": {
     "end_time": "2023-05-26T01:58:39.351918Z",
     "start_time": "2023-05-26T01:58:38.005722Z"
    }
   },
   "outputs": [
    {
     "data": {
      "image/png": "[encoded data removed]",
      "text/plain": [
       "<Figure size 1000x800 with 2 Axes>"
      ]
     },
     "metadata": {},
     "output_type": "display_data"
    }
   ],
   "source": [
    "import matplotlib.pyplot as plt\n",
    "from sklearn.decomposition import PCA\n",
    "\n",
    "# Perform PCA to reduce dimensionality to two dimensions\n",
    "pca = PCA(n_components=2, random_state=0)\n",
    "Xtrn_pca = pca.fit_transform(X_std_df)\n",
    "\n",
    "# Plot the dimensionality-reduced data on the two-dimensional plane\n",
    "fig, ax = plt.subplots(figsize=(10, 8))\n",
    "scatter = ax.scatter(Xtrn_pca[:, 0], Xtrn_pca[:, 1], c=cc, cmap=\"tab10\", s=75)\n",
    "plt.colorbar(scatter, ax=ax)\n",
    "\n",
    "ax.set_xlabel(\"PC1\")\n",
    "ax.set_ylabel(\"PC2\")\n",
    "ax.set_title(\"PCA Plot of Xtrn_mn [components = 2]\")\n",
    "plt.show()"
   ]
  },
  {
   "cell_type": "markdown",
   "id": "6ac10dd0",
   "metadata": {},
   "source": [
    "# Regression Model"
   ]
  },
  {
   "cell_type": "markdown",
   "id": "1acb8ffa",
   "metadata": {},
   "source": [
    "## Ridge Regression"
   ]
  },
  {
   "cell_type": "code",
   "execution_count": 190,
   "id": "2467db0c",
   "metadata": {
    "ExecuteTime": {
     "end_time": "2023-05-26T01:58:53.204052Z",
     "start_time": "2023-05-26T01:58:52.691944Z"
    }
   },
   "outputs": [
    {
     "name": "stderr",
     "output_type": "stream",
     "text": [
      "/Users/yogi/miniconda3/envs/tensorflow/lib/python3.10/site-packages/sklearn/linear_model/_sag.py:350: ConvergenceWarning: The max_iter was reached which means the coef_ did not converge\n",
      "  warnings.warn(\n",
      "/Users/yogi/miniconda3/envs/tensorflow/lib/python3.10/site-packages/sklearn/linear_model/_sag.py:350: ConvergenceWarning: The max_iter was reached which means the coef_ did not converge\n",
      "  warnings.warn(\n",
      "/Users/yogi/miniconda3/envs/tensorflow/lib/python3.10/site-packages/sklearn/linear_model/_sag.py:350: ConvergenceWarning: The max_iter was reached which means the coef_ did not converge\n",
      "  warnings.warn(\n",
      "/Users/yogi/miniconda3/envs/tensorflow/lib/python3.10/site-packages/sklearn/linear_model/_sag.py:350: ConvergenceWarning: The max_iter was reached which means the coef_ did not converge\n",
      "  warnings.warn(\n",
      "/Users/yogi/miniconda3/envs/tensorflow/lib/python3.10/site-packages/sklearn/linear_model/_sag.py:350: ConvergenceWarning: The max_iter was reached which means the coef_ did not converge\n",
      "  warnings.warn(\n",
      "/Users/yogi/miniconda3/envs/tensorflow/lib/python3.10/site-packages/sklearn/linear_model/_sag.py:350: ConvergenceWarning: The max_iter was reached which means the coef_ did not converge\n",
      "  warnings.warn(\n",
      "/Users/yogi/miniconda3/envs/tensorflow/lib/python3.10/site-packages/sklearn/linear_model/_sag.py:350: ConvergenceWarning: The max_iter was reached which means the coef_ did not converge\n",
      "  warnings.warn(\n",
      "/Users/yogi/miniconda3/envs/tensorflow/lib/python3.10/site-packages/sklearn/linear_model/_sag.py:350: ConvergenceWarning: The max_iter was reached which means the coef_ did not converge\n",
      "  warnings.warn(\n",
      "/Users/yogi/miniconda3/envs/tensorflow/lib/python3.10/site-packages/sklearn/linear_model/_sag.py:350: ConvergenceWarning: The max_iter was reached which means the coef_ did not converge\n",
      "  warnings.warn(\n",
      "/Users/yogi/miniconda3/envs/tensorflow/lib/python3.10/site-packages/sklearn/linear_model/_sag.py:350: ConvergenceWarning: The max_iter was reached which means the coef_ did not converge\n",
      "  warnings.warn(\n",
      "/Users/yogi/miniconda3/envs/tensorflow/lib/python3.10/site-packages/sklearn/linear_model/_sag.py:350: ConvergenceWarning: The max_iter was reached which means the coef_ did not converge\n",
      "  warnings.warn(\n",
      "/Users/yogi/miniconda3/envs/tensorflow/lib/python3.10/site-packages/sklearn/linear_model/_sag.py:350: ConvergenceWarning: The max_iter was reached which means the coef_ did not converge\n",
      "  warnings.warn(\n",
      "/Users/yogi/miniconda3/envs/tensorflow/lib/python3.10/site-packages/sklearn/linear_model/_sag.py:350: ConvergenceWarning: The max_iter was reached which means the coef_ did not converge\n",
      "  warnings.warn(\n",
      "/Users/yogi/miniconda3/envs/tensorflow/lib/python3.10/site-packages/sklearn/linear_model/_sag.py:350: ConvergenceWarning: The max_iter was reached which means the coef_ did not converge\n",
      "  warnings.warn(\n",
      "/Users/yogi/miniconda3/envs/tensorflow/lib/python3.10/site-packages/sklearn/linear_model/_sag.py:350: ConvergenceWarning: The max_iter was reached which means the coef_ did not converge\n",
      "  warnings.warn(\n",
      "/Users/yogi/miniconda3/envs/tensorflow/lib/python3.10/site-packages/sklearn/linear_model/_sag.py:350: ConvergenceWarning: The max_iter was reached which means the coef_ did not converge\n",
      "  warnings.warn(\n",
      "/Users/yogi/miniconda3/envs/tensorflow/lib/python3.10/site-packages/sklearn/linear_model/_sag.py:350: ConvergenceWarning: The max_iter was reached which means the coef_ did not converge\n",
      "  warnings.warn(\n",
      "/Users/yogi/miniconda3/envs/tensorflow/lib/python3.10/site-packages/sklearn/linear_model/_sag.py:350: ConvergenceWarning: The max_iter was reached which means the coef_ did not converge\n",
      "  warnings.warn(\n",
      "/Users/yogi/miniconda3/envs/tensorflow/lib/python3.10/site-packages/sklearn/linear_model/_sag.py:350: ConvergenceWarning: The max_iter was reached which means the coef_ did not converge\n",
      "  warnings.warn(\n",
      "/Users/yogi/miniconda3/envs/tensorflow/lib/python3.10/site-packages/sklearn/linear_model/_sag.py:350: ConvergenceWarning: The max_iter was reached which means the coef_ did not converge\n",
      "  warnings.warn(\n",
      "/Users/yogi/miniconda3/envs/tensorflow/lib/python3.10/site-packages/sklearn/linear_model/_sag.py:350: ConvergenceWarning: The max_iter was reached which means the coef_ did not converge\n",
      "  warnings.warn(\n",
      "/Users/yogi/miniconda3/envs/tensorflow/lib/python3.10/site-packages/sklearn/linear_model/_sag.py:350: ConvergenceWarning: The max_iter was reached which means the coef_ did not converge\n",
      "  warnings.warn(\n",
      "/Users/yogi/miniconda3/envs/tensorflow/lib/python3.10/site-packages/sklearn/linear_model/_sag.py:350: ConvergenceWarning: The max_iter was reached which means the coef_ did not converge\n",
      "  warnings.warn(\n",
      "/Users/yogi/miniconda3/envs/tensorflow/lib/python3.10/site-packages/sklearn/linear_model/_sag.py:350: ConvergenceWarning: The max_iter was reached which means the coef_ did not converge\n",
      "  warnings.warn(\n",
      "/Users/yogi/miniconda3/envs/tensorflow/lib/python3.10/site-packages/sklearn/linear_model/_sag.py:350: ConvergenceWarning: The max_iter was reached which means the coef_ did not converge\n",
      "  warnings.warn(\n",
      "/Users/yogi/miniconda3/envs/tensorflow/lib/python3.10/site-packages/sklearn/linear_model/_sag.py:350: ConvergenceWarning: The max_iter was reached which means the coef_ did not converge\n",
      "  warnings.warn(\n",
      "/Users/yogi/miniconda3/envs/tensorflow/lib/python3.10/site-packages/sklearn/linear_model/_sag.py:350: ConvergenceWarning: The max_iter was reached which means the coef_ did not converge\n",
      "  warnings.warn(\n",
      "/Users/yogi/miniconda3/envs/tensorflow/lib/python3.10/site-packages/sklearn/linear_model/_sag.py:350: ConvergenceWarning: The max_iter was reached which means the coef_ did not converge\n",
      "  warnings.warn(\n",
      "/Users/yogi/miniconda3/envs/tensorflow/lib/python3.10/site-packages/sklearn/linear_model/_sag.py:350: ConvergenceWarning: The max_iter was reached which means the coef_ did not converge\n",
      "  warnings.warn(\n",
      "/Users/yogi/miniconda3/envs/tensorflow/lib/python3.10/site-packages/sklearn/linear_model/_sag.py:350: ConvergenceWarning: The max_iter was reached which means the coef_ did not converge\n",
      "  warnings.warn(\n",
      "/Users/yogi/miniconda3/envs/tensorflow/lib/python3.10/site-packages/sklearn/linear_model/_sag.py:350: ConvergenceWarning: The max_iter was reached which means the coef_ did not converge\n",
      "  warnings.warn(\n",
      "/Users/yogi/miniconda3/envs/tensorflow/lib/python3.10/site-packages/sklearn/linear_model/_sag.py:350: ConvergenceWarning: The max_iter was reached which means the coef_ did not converge\n",
      "  warnings.warn(\n",
      "/Users/yogi/miniconda3/envs/tensorflow/lib/python3.10/site-packages/sklearn/linear_model/_sag.py:350: ConvergenceWarning: The max_iter was reached which means the coef_ did not converge\n",
      "  warnings.warn(\n",
      "/Users/yogi/miniconda3/envs/tensorflow/lib/python3.10/site-packages/sklearn/linear_model/_sag.py:350: ConvergenceWarning: The max_iter was reached which means the coef_ did not converge\n",
      "  warnings.warn(\n",
      "/Users/yogi/miniconda3/envs/tensorflow/lib/python3.10/site-packages/sklearn/linear_model/_sag.py:350: ConvergenceWarning: The max_iter was reached which means the coef_ did not converge\n",
      "  warnings.warn(\n",
      "/Users/yogi/miniconda3/envs/tensorflow/lib/python3.10/site-packages/sklearn/linear_model/_sag.py:350: ConvergenceWarning: The max_iter was reached which means the coef_ did not converge\n",
      "  warnings.warn(\n",
      "/Users/yogi/miniconda3/envs/tensorflow/lib/python3.10/site-packages/sklearn/linear_model/_sag.py:350: ConvergenceWarning: The max_iter was reached which means the coef_ did not converge\n",
      "  warnings.warn(\n",
      "/Users/yogi/miniconda3/envs/tensorflow/lib/python3.10/site-packages/sklearn/linear_model/_sag.py:350: ConvergenceWarning: The max_iter was reached which means the coef_ did not converge\n",
      "  warnings.warn(\n",
      "/Users/yogi/miniconda3/envs/tensorflow/lib/python3.10/site-packages/sklearn/linear_model/_sag.py:350: ConvergenceWarning: The max_iter was reached which means the coef_ did not converge\n",
      "  warnings.warn(\n",
      "/Users/yogi/miniconda3/envs/tensorflow/lib/python3.10/site-packages/sklearn/linear_model/_sag.py:350: ConvergenceWarning: The max_iter was reached which means the coef_ did not converge\n",
      "  warnings.warn(\n"
     ]
    },
    {
     "data": {
      "text/html": [
       "<style>#sk-container-id-4 {color: black;background-color: white;}#sk-container-id-4 pre{padding: 0;}#sk-container-id-4 div.sk-toggleable {background-color: white;}#sk-container-id-4 label.sk-toggleable__label {cursor: pointer;display: block;width: 100%;margin-bottom: 0;padding: 0.3em;box-sizing: border-box;text-align: center;}#sk-container-id-4 label.sk-toggleable__label-arrow:before {content: \"▸\";float: left;margin-right: 0.25em;color: #696969;}#sk-container-id-4 label.sk-toggleable__label-arrow:hover:before {color: black;}#sk-container-id-4 div.sk-estimator:hover label.sk-toggleable__label-arrow:before {color: black;}#sk-container-id-4 div.sk-toggleable__content {max-height: 0;max-width: 0;overflow: hidden;text-align: left;background-color: #f0f8ff;}#sk-container-id-4 div.sk-toggleable__content pre {margin: 0.2em;color: black;border-radius: 0.25em;background-color: #f0f8ff;}#sk-container-id-4 input.sk-toggleable__control:checked~div.sk-toggleable__content {max-height: 200px;max-width: 100%;overflow: auto;}#sk-container-id-4 input.sk-toggleable__control:checked~label.sk-toggleable__label-arrow:before {content: \"▾\";}#sk-container-id-4 div.sk-estimator input.sk-toggleable__control:checked~label.sk-toggleable__label {background-color: #d4ebff;}#sk-container-id-4 div.sk-label input.sk-toggleable__control:checked~label.sk-toggleable__label {background-color: #d4ebff;}#sk-container-id-4 input.sk-hidden--visually {border: 0;clip: rect(1px 1px 1px 1px);clip: rect(1px, 1px, 1px, 1px);height: 1px;margin: -1px;overflow: hidden;padding: 0;position: absolute;width: 1px;}#sk-container-id-4 div.sk-estimator {font-family: monospace;background-color: #f0f8ff;border: 1px dotted black;border-radius: 0.25em;box-sizing: border-box;margin-bottom: 0.5em;}#sk-container-id-4 div.sk-estimator:hover {background-color: #d4ebff;}#sk-container-id-4 div.sk-parallel-item::after {content: \"\";width: 100%;border-bottom: 1px solid gray;flex-grow: 1;}#sk-container-id-4 div.sk-label:hover label.sk-toggleable__label {background-color: #d4ebff;}#sk-container-id-4 div.sk-serial::before {content: \"\";position: absolute;border-left: 1px solid gray;box-sizing: border-box;top: 0;bottom: 0;left: 50%;z-index: 0;}#sk-container-id-4 div.sk-serial {display: flex;flex-direction: column;align-items: center;background-color: white;padding-right: 0.2em;padding-left: 0.2em;position: relative;}#sk-container-id-4 div.sk-item {position: relative;z-index: 1;}#sk-container-id-4 div.sk-parallel {display: flex;align-items: stretch;justify-content: center;background-color: white;position: relative;}#sk-container-id-4 div.sk-item::before, #sk-container-id-4 div.sk-parallel-item::before {content: \"\";position: absolute;border-left: 1px solid gray;box-sizing: border-box;top: 0;bottom: 0;left: 50%;z-index: -1;}#sk-container-id-4 div.sk-parallel-item {display: flex;flex-direction: column;z-index: 1;position: relative;background-color: white;}#sk-container-id-4 div.sk-parallel-item:first-child::after {align-self: flex-end;width: 50%;}#sk-container-id-4 div.sk-parallel-item:last-child::after {align-self: flex-start;width: 50%;}#sk-container-id-4 div.sk-parallel-item:only-child::after {width: 0;}#sk-container-id-4 div.sk-dashed-wrapped {border: 1px dashed gray;margin: 0 0.4em 0.5em 0.4em;box-sizing: border-box;padding-bottom: 0.4em;background-color: white;}#sk-container-id-4 div.sk-label label {font-family: monospace;font-weight: bold;display: inline-block;line-height: 1.2em;}#sk-container-id-4 div.sk-label-container {text-align: center;}#sk-container-id-4 div.sk-container {/* jupyter's `normalize.less` sets `[hidden] { display: none; }` but bootstrap.min.css set `[hidden] { display: none !important; }` so we also need the `!important` here to be able to override the default hidden behavior on the sphinx rendered scikit-learn.org. See: https://github.com/scikit-learn/scikit-learn/issues/21755 */display: inline-block !important;position: relative;}#sk-container-id-4 div.sk-text-repr-fallback {display: none;}</style><div id=\"sk-container-id-4\" class=\"sk-top-container\"><div class=\"sk-text-repr-fallback\"><pre>GridSearchCV(cv=5, estimator=Ridge(),\n",
       "             param_grid={&#x27;alpha&#x27;: [0.1, 1.0, 10.0],\n",
       "                         &#x27;fit_intercept&#x27;: [True, False],\n",
       "                         &#x27;solver&#x27;: [&#x27;auto&#x27;, &#x27;svd&#x27;, &#x27;cholesky&#x27;, &#x27;lsqr&#x27;,\n",
       "                                    &#x27;sparse_cg&#x27;, &#x27;sag&#x27;, &#x27;saga&#x27;]})</pre><b>In a Jupyter environment, please rerun this cell to show the HTML representation or trust the notebook. <br />On GitHub, the HTML representation is unable to render, please try loading this page with nbviewer.org.</b></div><div class=\"sk-container\" hidden><div class=\"sk-item sk-dashed-wrapped\"><div class=\"sk-label-container\"><div class=\"sk-label sk-toggleable\"><input class=\"sk-toggleable__control sk-hidden--visually\" id=\"sk-estimator-id-12\" type=\"checkbox\" ><label for=\"sk-estimator-id-12\" class=\"sk-toggleable__label sk-toggleable__label-arrow\">GridSearchCV</label><div class=\"sk-toggleable__content\"><pre>GridSearchCV(cv=5, estimator=Ridge(),\n",
       "             param_grid={&#x27;alpha&#x27;: [0.1, 1.0, 10.0],\n",
       "                         &#x27;fit_intercept&#x27;: [True, False],\n",
       "                         &#x27;solver&#x27;: [&#x27;auto&#x27;, &#x27;svd&#x27;, &#x27;cholesky&#x27;, &#x27;lsqr&#x27;,\n",
       "                                    &#x27;sparse_cg&#x27;, &#x27;sag&#x27;, &#x27;saga&#x27;]})</pre></div></div></div><div class=\"sk-parallel\"><div class=\"sk-parallel-item\"><div class=\"sk-item\"><div class=\"sk-label-container\"><div class=\"sk-label sk-toggleable\"><input class=\"sk-toggleable__control sk-hidden--visually\" id=\"sk-estimator-id-13\" type=\"checkbox\" ><label for=\"sk-estimator-id-13\" class=\"sk-toggleable__label sk-toggleable__label-arrow\">estimator: Ridge</label><div class=\"sk-toggleable__content\"><pre>Ridge()</pre></div></div></div><div class=\"sk-serial\"><div class=\"sk-item\"><div class=\"sk-estimator sk-toggleable\"><input class=\"sk-toggleable__control sk-hidden--visually\" id=\"sk-estimator-id-14\" type=\"checkbox\" ><label for=\"sk-estimator-id-14\" class=\"sk-toggleable__label sk-toggleable__label-arrow\">Ridge</label><div class=\"sk-toggleable__content\"><pre>Ridge()</pre></div></div></div></div></div></div></div></div></div></div>"
      ],
      "text/plain": [
       "GridSearchCV(cv=5, estimator=Ridge(),\n",
       "             param_grid={'alpha': [0.1, 1.0, 10.0],\n",
       "                         'fit_intercept': [True, False],\n",
       "                         'solver': ['auto', 'svd', 'cholesky', 'lsqr',\n",
       "                                    'sparse_cg', 'sag', 'saga']})"
      ]
     },
     "execution_count": 190,
     "metadata": {},
     "output_type": "execute_result"
    }
   ],
   "source": [
    "from sklearn.linear_model import Ridge\n",
    "\n",
    "# Ridge regression\n",
    "ridge_model = Ridge()\n",
    "\n",
    "param_grid = {\n",
    "    'alpha': [0.1, 1.0, 10.0],  # Regularization parameter alpha\n",
    "    'fit_intercept': [True, False],  # Whether to calculate the intercept for the model\n",
    "    'solver': ['auto', 'svd', 'cholesky', 'lsqr', 'sparse_cg', 'sag', 'saga'],  # Solver for computing the weights\n",
    "}\n",
    "\n",
    "# Perform grid search with cross-validation\n",
    "grid_search = GridSearchCV(ridge_model, param_grid, cv=5)\n",
    "grid_search.fit(X_train, y_train)"
   ]
  },
  {
   "cell_type": "code",
   "execution_count": 191,
   "id": "bfcb8621",
   "metadata": {
    "ExecuteTime": {
     "end_time": "2023-05-26T01:59:00.879531Z",
     "start_time": "2023-05-26T01:59:00.872708Z"
    }
   },
   "outputs": [],
   "source": [
    "# def caps(x):\n",
    "    \n",
    "#     return min(x, 100)"
   ]
  },
  {
   "cell_type": "code",
   "execution_count": 192,
   "id": "a39549d9",
   "metadata": {
    "ExecuteTime": {
     "end_time": "2023-05-26T01:59:01.198625Z",
     "start_time": "2023-05-26T01:59:01.182361Z"
    }
   },
   "outputs": [
    {
     "name": "stdout",
     "output_type": "stream",
     "text": [
      "Best Hyperparameters: {'alpha': 10.0, 'fit_intercept': True, 'solver': 'saga'}\n",
      "Root Mean Squared Error: 22.24992701273162\n"
     ]
    }
   ],
   "source": [
    "best_model = grid_search.best_estimator_\n",
    "y_train_pred = best_model.predict(X_train)\n",
    "# y_train_pred = [cap(val) for val in y_train_pred]\n",
    "\n",
    "mse = mean_squared_error(y_train, y_train_pred)\n",
    "rmse = np.sqrt(mse)\n",
    "\n",
    "# Print the best hyperparameters and evaluation metric\n",
    "print(\"Best Hyperparameters:\", grid_search.best_params_)\n",
    "print(\"Root Mean Squared Error:\", rmse)"
   ]
  },
  {
   "cell_type": "code",
   "execution_count": 193,
   "id": "5453b6aa",
   "metadata": {
    "ExecuteTime": {
     "end_time": "2023-05-26T01:59:02.856958Z",
     "start_time": "2023-05-26T01:59:02.847927Z"
    }
   },
   "outputs": [
    {
     "name": "stdout",
     "output_type": "stream",
     "text": [
      "Best Hyperparameters: {'alpha': 10.0, 'fit_intercept': True, 'solver': 'saga'}\n",
      "Root Mean Squared Error: 28.11268892668706\n"
     ]
    }
   ],
   "source": [
    "# Evaluate the best model on the test set\n",
    "y_pred = best_model.predict(X_val)\n",
    "y_pred = [caps(val) for val in y_pred]\n",
    "mse = mean_squared_error(y_val, y_pred)\n",
    "rmse = np.sqrt(mse)\n",
    "\n",
    "# Print the best hyperparameters and evaluation metric\n",
    "print(\"Best Hyperparameters:\", grid_search.best_params_)\n",
    "print(\"Root Mean Squared Error:\", rmse)"
   ]
  },
  {
   "cell_type": "markdown",
   "id": "9085da16",
   "metadata": {},
   "source": [
    "## XGBoost Regressor"
   ]
  },
  {
   "cell_type": "code",
   "execution_count": 194,
   "id": "60cd403c",
   "metadata": {
    "ExecuteTime": {
     "end_time": "2023-05-26T01:59:05.202292Z",
     "start_time": "2023-05-26T01:59:05.188109Z"
    }
   },
   "outputs": [],
   "source": [
    "# Create an XGBoostRegressor model\n",
    "XGB_model = XGBRegressor()\n",
    "\n",
    "# Define the parameter grid for grid search\n",
    "param_grid = {\n",
    "    'n_estimators': [100, 200, 300],  # Number of trees in the ensemble\n",
    "    'learning_rate': [0.1, 0.01, 0.001],  # Learning rate\n",
    "    'max_depth': [3, 4, 5]  # Maximum depth of each tree\n",
    "}"
   ]
  },
  {
   "cell_type": "markdown",
   "id": "3e11be28",
   "metadata": {},
   "source": [
    "### GridSearch"
   ]
  },
  {
   "cell_type": "code",
   "execution_count": 195,
   "id": "a2f8f19c",
   "metadata": {
    "ExecuteTime": {
     "end_time": "2023-05-26T01:59:10.820361Z",
     "start_time": "2023-05-26T01:59:06.791544Z"
    }
   },
   "outputs": [
    {
     "name": "stdout",
     "output_type": "stream",
     "text": [
      "Best Hyperparameters: {'learning_rate': 0.1, 'max_depth': 3, 'n_estimators': 100}\n",
      "Root Mean Squared Error: 1.091083675979251\n"
     ]
    }
   ],
   "source": [
    "grid_search = GridSearchCV(XGB_model, param_grid, cv=3)\n",
    "grid_search.fit(X_train, y_train)\n",
    "\n",
    "# Get the best model\n",
    "best_model = grid_search.best_estimator_\n",
    "\n",
    "y_train_pred = best_model.predict(X_train)\n",
    "# y_train_pred = [caps(val) for val in y_train_pred]\n",
    "mse = mean_squared_error(y_train, y_train_pred)\n",
    "rmse = np.sqrt(mse)\n",
    "\n",
    "# Print the best hyperparameters and evaluation metric\n",
    "print(\"Best Hyperparameters:\", grid_search.best_params_)\n",
    "print(\"Root Mean Squared Error:\", rmse)"
   ]
  },
  {
   "cell_type": "code",
   "execution_count": 196,
   "id": "e69f30ba",
   "metadata": {
    "ExecuteTime": {
     "end_time": "2023-05-26T01:59:14.025313Z",
     "start_time": "2023-05-26T01:59:14.008532Z"
    }
   },
   "outputs": [
    {
     "name": "stdout",
     "output_type": "stream",
     "text": [
      "Best Hyperparameters: {'learning_rate': 0.1, 'max_depth': 3, 'n_estimators': 100}\n",
      "Root Mean Squared Error: 24.7136750555709\n"
     ]
    }
   ],
   "source": [
    "# Evaluate the best model on the test set\n",
    "y_pred = best_model.predict(X_val)\n",
    "# y_pred = [caps(val) for val in y_pred]\n",
    "mse = mean_squared_error(y_val, y_pred)\n",
    "rmse = np.sqrt(mse)\n",
    "\n",
    "# Print the best hyperparameters and evaluation metric\n",
    "print(\"Best Hyperparameters:\", grid_search.best_params_)\n",
    "print(\"Root Mean Squared Error:\", rmse)"
   ]
  },
  {
   "cell_type": "code",
   "execution_count": 197,
   "id": "a45de380",
   "metadata": {
    "ExecuteTime": {
     "end_time": "2023-05-26T01:59:27.833481Z",
     "start_time": "2023-05-26T01:59:19.827394Z"
    }
   },
   "outputs": [
    {
     "name": "stdout",
     "output_type": "stream",
     "text": [
      "Best Hyperparameters: {'learning_rate': 0.1, 'max_depth': 3, 'n_estimators': 100}\n",
      "Root Mean Squared Error: 24.7136750555709\n"
     ]
    }
   ],
   "source": [
    "grid_search = GridSearchCV(XGB_model, param_grid, cv=3)\n",
    "grid_search.fit(X_train, y_train)\n",
    "\n",
    "# Get the best model\n",
    "best_model = grid_search.best_estimator_\n",
    "\n",
    "# Evaluate the best model on the test set\n",
    "y_pred = best_model.predict(X_val)\n",
    "mse = mean_squared_error(y_val, y_pred)\n",
    "rmse = np.sqrt(mse)\n",
    "\n",
    "# Print the best hyperparameters and evaluation metric\n",
    "print(\"Best Hyperparameters:\", grid_search.best_params_)\n",
    "print(\"Root Mean Squared Error:\", rmse)"
   ]
  },
  {
   "cell_type": "markdown",
   "id": "fdac7209",
   "metadata": {},
   "source": [
    "### Fit to Whole Training Data"
   ]
  },
  {
   "cell_type": "code",
   "execution_count": 198,
   "id": "241b3647",
   "metadata": {
    "ExecuteTime": {
     "end_time": "2023-05-26T01:59:30.365437Z",
     "start_time": "2023-05-26T01:59:30.290839Z"
    }
   },
   "outputs": [],
   "source": [
    "XGB_model = XGBRegressor(**grid_search.best_params_)\n",
    "XGB_model.fit(X_train, y_train)\n",
    "\n",
    "y_pred = XGB_model.predict(X_val)"
   ]
  },
  {
   "cell_type": "code",
   "execution_count": 199,
   "id": "e046a3bc",
   "metadata": {
    "ExecuteTime": {
     "end_time": "2023-05-26T01:59:31.454383Z",
     "start_time": "2023-05-26T01:59:31.448718Z"
    }
   },
   "outputs": [],
   "source": [
    "y_pred_grade = [grade_calculation(sc) for sc in y_pred]\n",
    "y_val_grade = [grade_calculation(sc) for sc in y_val]"
   ]
  },
  {
   "cell_type": "markdown",
   "id": "8e34c5f3",
   "metadata": {},
   "source": [
    "### Performance or Classification"
   ]
  },
  {
   "cell_type": "code",
   "execution_count": 200,
   "id": "388b04b0",
   "metadata": {
    "ExecuteTime": {
     "end_time": "2023-05-26T01:59:32.940978Z",
     "start_time": "2023-05-26T01:59:32.932120Z"
    }
   },
   "outputs": [
    {
     "name": "stdout",
     "output_type": "stream",
     "text": [
      "0.75\n",
      "['B', 'A', 'A', 'A', 'A', 'B', 'B', 'A', 'A', 'A', 'A', 'A']\n",
      "['A', 'A', 'A', 'A', 'A', 'A', 'D', 'A', 'A', 'A', 'A', 'A']\n"
     ]
    }
   ],
   "source": [
    "print(accuracy_score(y_pred_grade, y_val_grade))\n",
    "print(y_pred_grade)\n",
    "print(y_val_grade)"
   ]
  },
  {
   "cell_type": "markdown",
   "id": "970a6ea7",
   "metadata": {},
   "source": [
    "## Random Forest Regressor"
   ]
  },
  {
   "cell_type": "code",
   "execution_count": 201,
   "id": "4981d158",
   "metadata": {
    "ExecuteTime": {
     "end_time": "2023-05-26T01:59:40.370864Z",
     "start_time": "2023-05-26T01:59:40.360832Z"
    }
   },
   "outputs": [],
   "source": [
    "# Random Forest Regressor\n",
    "rf_model = RandomForestRegressor(random_state=42)\n",
    "\n",
    "# Define the parameter grid for grid search\n",
    "rf_param_grid = {\n",
    "    'n_estimators': [50, 100, 200, 300],  # Number of trees in the forest\n",
    "    'max_depth': [None, 3, 5, 10],  # Maximum depth of each tree\n",
    "    'min_samples_split': [2, 5, 10],  # Minimum number of samples required to split an internal node\n",
    "    'min_samples_leaf': [1, 2, 4],  # Minimum number of samples required to be at a leaf node\n",
    "    'max_features': ['sqrt', 'log2'],  # Number of features to consider when looking for the best split\n",
    "}"
   ]
  },
  {
   "cell_type": "code",
   "execution_count": 202,
   "id": "8cc0d9fa",
   "metadata": {
    "ExecuteTime": {
     "end_time": "2023-05-26T02:00:49.738917Z",
     "start_time": "2023-05-26T01:59:43.891605Z"
    }
   },
   "outputs": [
    {
     "name": "stdout",
     "output_type": "stream",
     "text": [
      "Best Hyperparameters: {'max_depth': 10, 'max_features': 'sqrt', 'min_samples_leaf': 1, 'min_samples_split': 2, 'n_estimators': 100}\n",
      "Root Mean Squared Error: 11.295182655869862\n"
     ]
    }
   ],
   "source": [
    "grid_search = GridSearchCV(rf_model, rf_param_grid, cv=3)\n",
    "grid_search.fit(X_train, y_train)\n",
    "\n",
    "# Get the best model\n",
    "best_model = grid_search.best_estimator_\n",
    "\n",
    "y_train_pred = best_model.predict(X_train)\n",
    "mse = mean_squared_error(y_train, y_train_pred)\n",
    "rmse = np.sqrt(mse)\n",
    "\n",
    "# Print the best hyperparameters and evaluation metric\n",
    "print(\"Best Hyperparameters:\", grid_search.best_params_)\n",
    "print(\"Root Mean Squared Error:\", rmse)"
   ]
  },
  {
   "cell_type": "code",
   "execution_count": 203,
   "id": "286b7b38",
   "metadata": {
    "ExecuteTime": {
     "end_time": "2023-05-26T02:01:34.338084Z",
     "start_time": "2023-05-26T02:01:34.301514Z"
    }
   },
   "outputs": [
    {
     "name": "stdout",
     "output_type": "stream",
     "text": [
      "Best Hyperparameters: {'max_depth': 10, 'max_features': 'sqrt', 'min_samples_leaf': 1, 'min_samples_split': 2, 'n_estimators': 100}\n",
      "Root Mean Squared Error: 26.364363132415207\n"
     ]
    }
   ],
   "source": [
    "# Get the best model\n",
    "best_model = grid_search.best_estimator_\n",
    "\n",
    "# Evaluate the best model on the test set\n",
    "y_pred = best_model.predict(X_val)\n",
    "mse = mean_squared_error(y_val, y_pred)\n",
    "rmse = np.sqrt(mse)\n",
    "\n",
    "# Print the best hyperparameters and evaluation metric\n",
    "print(\"Best Hyperparameters:\", grid_search.best_params_)\n",
    "print(\"Root Mean Squared Error:\", rmse)"
   ]
  },
  {
   "cell_type": "code",
   "execution_count": 73,
   "id": "8635a5ae",
   "metadata": {
    "ExecuteTime": {
     "end_time": "2023-05-25T19:45:16.707910Z",
     "start_time": "2023-05-25T19:44:14.144301Z"
    }
   },
   "outputs": [
    {
     "name": "stdout",
     "output_type": "stream",
     "text": [
      "Best Hyperparameters: {'max_depth': 3, 'max_features': 'sqrt', 'min_samples_leaf': 1, 'min_samples_split': 5, 'n_estimators': 50}\n",
      "Root Mean Squared Error: 30.763717619916108\n"
     ]
    }
   ],
   "source": [
    "grid_search = GridSearchCV(rf_model, rf_param_grid, cv=3)\n",
    "grid_search.fit(X_train, y_train)\n",
    "\n",
    "# Get the best model\n",
    "best_model = grid_search.best_estimator_\n",
    "\n",
    "# Evaluate the best model on the test set\n",
    "y_pred = best_model.predict(X_val)\n",
    "mse = mean_squared_error(y_val, y_pred)\n",
    "rmse = np.sqrt(mse)\n",
    "\n",
    "# Print the best hyperparameters and evaluation metric\n",
    "print(\"Best Hyperparameters:\", grid_search.best_params_)\n",
    "print(\"Root Mean Squared Error:\", rmse)"
   ]
  },
  {
   "cell_type": "code",
   "execution_count": 204,
   "id": "84df2fef",
   "metadata": {
    "ExecuteTime": {
     "end_time": "2023-05-26T02:02:03.025973Z",
     "start_time": "2023-05-26T02:02:02.935917Z"
    }
   },
   "outputs": [],
   "source": [
    "rf_model = RandomForestRegressor(**grid_search.best_params_)\n",
    "rf_model.fit(X_train, y_train)\n",
    "\n",
    "y_pred = rf_model.predict(X_val)"
   ]
  },
  {
   "cell_type": "code",
   "execution_count": 205,
   "id": "73d1e3ce",
   "metadata": {
    "ExecuteTime": {
     "end_time": "2023-05-26T02:02:03.095816Z",
     "start_time": "2023-05-26T02:02:03.092504Z"
    }
   },
   "outputs": [],
   "source": [
    "y_pred_grade = [grade_calculation(sc) for sc in y_pred]\n",
    "y_val_grade = [grade_calculation(sc) for sc in y_val]"
   ]
  },
  {
   "cell_type": "code",
   "execution_count": 206,
   "id": "ec4601d8",
   "metadata": {
    "ExecuteTime": {
     "end_time": "2023-05-26T02:02:03.509139Z",
     "start_time": "2023-05-26T02:02:03.501645Z"
    }
   },
   "outputs": [
    {
     "name": "stdout",
     "output_type": "stream",
     "text": [
      "0.8333333333333334\n",
      "['B', 'A', 'A', 'A', 'A', 'A', 'B', 'A', 'A', 'A', 'A', 'A']\n",
      "['A', 'A', 'A', 'A', 'A', 'A', 'D', 'A', 'A', 'A', 'A', 'A']\n"
     ]
    }
   ],
   "source": [
    "print(accuracy_score(y_pred_grade, y_val_grade))\n",
    "print(y_pred_grade)\n",
    "print(y_val_grade)"
   ]
  },
  {
   "cell_type": "markdown",
   "id": "ee3226b0",
   "metadata": {},
   "source": [
    "## Support Vector Regressor"
   ]
  },
  {
   "cell_type": "code",
   "execution_count": 207,
   "id": "0041a8b5",
   "metadata": {
    "ExecuteTime": {
     "end_time": "2023-05-26T02:02:21.288772Z",
     "start_time": "2023-05-26T02:02:21.278377Z"
    }
   },
   "outputs": [],
   "source": [
    "# Support Vector Regressor\n",
    "svr_model = SVR()\n",
    "\n",
    "# Define the parameter grid for grid search\n",
    "svr_param_grid = {\n",
    "    'C': [0.1, 1, 10, 100],  # Penalty parameter C\n",
    "    'epsilon': [0.01, 0.1, 0.5, 1.0],  # Epsilon parameter\n",
    "    'kernel': ['linear', 'rbf', 'poly'],  # Kernel type\n",
    "    'gamma': ['scale', 'auto'],  # Kernel coefficient for 'rbf' and 'poly' kernels\n",
    "}"
   ]
  },
  {
   "cell_type": "code",
   "execution_count": 208,
   "id": "a171ef08",
   "metadata": {
    "ExecuteTime": {
     "end_time": "2023-05-26T02:02:25.275063Z",
     "start_time": "2023-05-26T02:02:22.882853Z"
    }
   },
   "outputs": [
    {
     "name": "stdout",
     "output_type": "stream",
     "text": [
      "Best Hyperparameters: {'C': 100, 'epsilon': 1.0, 'gamma': 'auto', 'kernel': 'rbf'}\n",
      "Root Mean Squared Error Training: 1.0000030079920814\n",
      "Best Hyperparameters: {'C': 100, 'epsilon': 1.0, 'gamma': 'auto', 'kernel': 'rbf'}\n",
      "Root Mean Squared Error Test: 28.90794294698123\n"
     ]
    }
   ],
   "source": [
    "grid_search = GridSearchCV(svr_model, svr_param_grid, cv=3)\n",
    "grid_search.fit(X_train, y_train)\n",
    "\n",
    "# Get the best model\n",
    "best_model = grid_search.best_estimator_\n",
    "\n",
    "y_train_pred = best_model.predict(X_train)\n",
    "mse = mean_squared_error(y_train, y_train_pred)\n",
    "rmse = np.sqrt(mse)\n",
    "\n",
    "# Print the best hyperparameters and evaluation metric\n",
    "print(\"Best Hyperparameters:\", grid_search.best_params_)\n",
    "print(\"Root Mean Squared Error Training:\", rmse)\n",
    "\n",
    "# Evaluate the best model on the test set\n",
    "y_pred = best_model.predict(X_val)\n",
    "mse = mean_squared_error(y_val, y_pred)\n",
    "rmse = np.sqrt(mse)\n",
    "\n",
    "# Print the best hyperparameters and evaluation metric\n",
    "print(\"Best Hyperparameters:\", grid_search.best_params_)\n",
    "print(\"Root Mean Squared Error Test:\", rmse)"
   ]
  },
  {
   "cell_type": "code",
   "execution_count": 79,
   "id": "76212265",
   "metadata": {
    "ExecuteTime": {
     "end_time": "2023-05-25T19:47:53.940599Z",
     "start_time": "2023-05-25T19:47:52.436949Z"
    }
   },
   "outputs": [
    {
     "name": "stdout",
     "output_type": "stream",
     "text": [
      "Best Hyperparameters: {'C': 100, 'epsilon': 1.0, 'gamma': 'scale', 'kernel': 'rbf'}\n",
      "Root Mean Squared Error: 34.06233962438234\n"
     ]
    }
   ],
   "source": [
    "grid_search = GridSearchCV(svr_model, svr_param_grid, cv=3)\n",
    "grid_search.fit(X_train, y_train)\n",
    "\n",
    "# Get the best model\n",
    "best_model = grid_search.best_estimator_\n",
    "\n",
    "# Evaluate the best model on the test set\n",
    "y_pred = best_model.predict(X_val)\n",
    "mse = mean_squared_error(y_val, y_pred)\n",
    "rmse = np.sqrt(mse)\n",
    "\n",
    "# Print the best hyperparameters and evaluation metric\n",
    "print(\"Best Hyperparameters:\", grid_search.best_params_)\n",
    "print(\"Root Mean Squared Error:\", rmse)"
   ]
  },
  {
   "cell_type": "code",
   "execution_count": 209,
   "id": "f9d8771d",
   "metadata": {
    "ExecuteTime": {
     "end_time": "2023-05-26T02:02:39.238161Z",
     "start_time": "2023-05-26T02:02:39.224450Z"
    }
   },
   "outputs": [],
   "source": [
    "svr_model = SVR(**grid_search.best_params_)\n",
    "svr_model.fit(X_train, y_train)\n",
    "\n",
    "y_pred = svr_model.predict(X_val)"
   ]
  },
  {
   "cell_type": "code",
   "execution_count": 210,
   "id": "568987a7",
   "metadata": {
    "ExecuteTime": {
     "end_time": "2023-05-26T02:02:39.414910Z",
     "start_time": "2023-05-26T02:02:39.409714Z"
    }
   },
   "outputs": [],
   "source": [
    "y_pred_grade = [grade_calculation(sc) for sc in y_pred]\n",
    "y_val_grade = [grade_calculation(sc) for sc in y_val]"
   ]
  },
  {
   "cell_type": "code",
   "execution_count": 211,
   "id": "d158fec9",
   "metadata": {
    "ExecuteTime": {
     "end_time": "2023-05-26T02:02:39.742473Z",
     "start_time": "2023-05-26T02:02:39.734705Z"
    }
   },
   "outputs": [
    {
     "name": "stdout",
     "output_type": "stream",
     "text": [
      "0.8333333333333334\n",
      "['A', 'A', 'A', 'A', 'A', 'A', 'A', 'A', 'A', 'A', 'A', 'B']\n",
      "['A', 'A', 'A', 'A', 'A', 'A', 'D', 'A', 'A', 'A', 'A', 'A']\n"
     ]
    }
   ],
   "source": [
    "print(accuracy_score(y_pred_grade, y_val_grade))\n",
    "print(y_pred_grade)\n",
    "print(y_val_grade)"
   ]
  },
  {
   "cell_type": "markdown",
   "id": "e9fc588a",
   "metadata": {},
   "source": [
    "## Ensemble"
   ]
  },
  {
   "cell_type": "code",
   "execution_count": 212,
   "id": "98a00fed",
   "metadata": {
    "ExecuteTime": {
     "end_time": "2023-05-26T02:03:08.286572Z",
     "start_time": "2023-05-26T02:03:08.276961Z"
    }
   },
   "outputs": [],
   "source": [
    "from sklearn.ensemble import VotingRegressor"
   ]
  },
  {
   "cell_type": "code",
   "execution_count": 213,
   "id": "7f5826b0",
   "metadata": {
    "ExecuteTime": {
     "end_time": "2023-05-26T02:03:09.580323Z",
     "start_time": "2023-05-26T02:03:09.568945Z"
    }
   },
   "outputs": [],
   "source": [
    "# Define the individual regression models\n",
    "model1 = Ridge(**{'alpha': 10.0, 'fit_intercept': True, 'solver': 'saga'})\n",
    "model2 = RandomForestRegressor(**{'max_depth': None, 'max_features': 'sqrt', 'min_samples_leaf': 2, 'min_samples_split': 2, 'n_estimators': 200})\n",
    "model3 = SVR(**{'C': 100, 'epsilon': 1.0, 'gamma': 'scale', 'kernel': 'rbf'})\n",
    "\n",
    "# Create the ensemble model using VotingRegressor\n",
    "ensemble_model = VotingRegressor([('ridge', model1), ('RFR', model2), ('svr', model3)])"
   ]
  },
  {
   "cell_type": "code",
   "execution_count": 214,
   "id": "bd811eed",
   "metadata": {
    "ExecuteTime": {
     "end_time": "2023-05-26T02:03:10.732680Z",
     "start_time": "2023-05-26T02:03:10.586263Z"
    }
   },
   "outputs": [
    {
     "data": {
      "text/html": [
       "<style>#sk-container-id-5 {color: black;background-color: white;}#sk-container-id-5 pre{padding: 0;}#sk-container-id-5 div.sk-toggleable {background-color: white;}#sk-container-id-5 label.sk-toggleable__label {cursor: pointer;display: block;width: 100%;margin-bottom: 0;padding: 0.3em;box-sizing: border-box;text-align: center;}#sk-container-id-5 label.sk-toggleable__label-arrow:before {content: \"▸\";float: left;margin-right: 0.25em;color: #696969;}#sk-container-id-5 label.sk-toggleable__label-arrow:hover:before {color: black;}#sk-container-id-5 div.sk-estimator:hover label.sk-toggleable__label-arrow:before {color: black;}#sk-container-id-5 div.sk-toggleable__content {max-height: 0;max-width: 0;overflow: hidden;text-align: left;background-color: #f0f8ff;}#sk-container-id-5 div.sk-toggleable__content pre {margin: 0.2em;color: black;border-radius: 0.25em;background-color: #f0f8ff;}#sk-container-id-5 input.sk-toggleable__control:checked~div.sk-toggleable__content {max-height: 200px;max-width: 100%;overflow: auto;}#sk-container-id-5 input.sk-toggleable__control:checked~label.sk-toggleable__label-arrow:before {content: \"▾\";}#sk-container-id-5 div.sk-estimator input.sk-toggleable__control:checked~label.sk-toggleable__label {background-color: #d4ebff;}#sk-container-id-5 div.sk-label input.sk-toggleable__control:checked~label.sk-toggleable__label {background-color: #d4ebff;}#sk-container-id-5 input.sk-hidden--visually {border: 0;clip: rect(1px 1px 1px 1px);clip: rect(1px, 1px, 1px, 1px);height: 1px;margin: -1px;overflow: hidden;padding: 0;position: absolute;width: 1px;}#sk-container-id-5 div.sk-estimator {font-family: monospace;background-color: #f0f8ff;border: 1px dotted black;border-radius: 0.25em;box-sizing: border-box;margin-bottom: 0.5em;}#sk-container-id-5 div.sk-estimator:hover {background-color: #d4ebff;}#sk-container-id-5 div.sk-parallel-item::after {content: \"\";width: 100%;border-bottom: 1px solid gray;flex-grow: 1;}#sk-container-id-5 div.sk-label:hover label.sk-toggleable__label {background-color: #d4ebff;}#sk-container-id-5 div.sk-serial::before {content: \"\";position: absolute;border-left: 1px solid gray;box-sizing: border-box;top: 0;bottom: 0;left: 50%;z-index: 0;}#sk-container-id-5 div.sk-serial {display: flex;flex-direction: column;align-items: center;background-color: white;padding-right: 0.2em;padding-left: 0.2em;position: relative;}#sk-container-id-5 div.sk-item {position: relative;z-index: 1;}#sk-container-id-5 div.sk-parallel {display: flex;align-items: stretch;justify-content: center;background-color: white;position: relative;}#sk-container-id-5 div.sk-item::before, #sk-container-id-5 div.sk-parallel-item::before {content: \"\";position: absolute;border-left: 1px solid gray;box-sizing: border-box;top: 0;bottom: 0;left: 50%;z-index: -1;}#sk-container-id-5 div.sk-parallel-item {display: flex;flex-direction: column;z-index: 1;position: relative;background-color: white;}#sk-container-id-5 div.sk-parallel-item:first-child::after {align-self: flex-end;width: 50%;}#sk-container-id-5 div.sk-parallel-item:last-child::after {align-self: flex-start;width: 50%;}#sk-container-id-5 div.sk-parallel-item:only-child::after {width: 0;}#sk-container-id-5 div.sk-dashed-wrapped {border: 1px dashed gray;margin: 0 0.4em 0.5em 0.4em;box-sizing: border-box;padding-bottom: 0.4em;background-color: white;}#sk-container-id-5 div.sk-label label {font-family: monospace;font-weight: bold;display: inline-block;line-height: 1.2em;}#sk-container-id-5 div.sk-label-container {text-align: center;}#sk-container-id-5 div.sk-container {/* jupyter's `normalize.less` sets `[hidden] { display: none; }` but bootstrap.min.css set `[hidden] { display: none !important; }` so we also need the `!important` here to be able to override the default hidden behavior on the sphinx rendered scikit-learn.org. See: https://github.com/scikit-learn/scikit-learn/issues/21755 */display: inline-block !important;position: relative;}#sk-container-id-5 div.sk-text-repr-fallback {display: none;}</style><div id=\"sk-container-id-5\" class=\"sk-top-container\"><div class=\"sk-text-repr-fallback\"><pre>VotingRegressor(estimators=[(&#x27;ridge&#x27;, Ridge(alpha=10.0, solver=&#x27;saga&#x27;)),\n",
       "                            (&#x27;RFR&#x27;,\n",
       "                             RandomForestRegressor(max_features=&#x27;sqrt&#x27;,\n",
       "                                                   min_samples_leaf=2,\n",
       "                                                   n_estimators=200)),\n",
       "                            (&#x27;svr&#x27;, SVR(C=100, epsilon=1.0))])</pre><b>In a Jupyter environment, please rerun this cell to show the HTML representation or trust the notebook. <br />On GitHub, the HTML representation is unable to render, please try loading this page with nbviewer.org.</b></div><div class=\"sk-container\" hidden><div class=\"sk-item sk-dashed-wrapped\"><div class=\"sk-label-container\"><div class=\"sk-label sk-toggleable\"><input class=\"sk-toggleable__control sk-hidden--visually\" id=\"sk-estimator-id-15\" type=\"checkbox\" ><label for=\"sk-estimator-id-15\" class=\"sk-toggleable__label sk-toggleable__label-arrow\">VotingRegressor</label><div class=\"sk-toggleable__content\"><pre>VotingRegressor(estimators=[(&#x27;ridge&#x27;, Ridge(alpha=10.0, solver=&#x27;saga&#x27;)),\n",
       "                            (&#x27;RFR&#x27;,\n",
       "                             RandomForestRegressor(max_features=&#x27;sqrt&#x27;,\n",
       "                                                   min_samples_leaf=2,\n",
       "                                                   n_estimators=200)),\n",
       "                            (&#x27;svr&#x27;, SVR(C=100, epsilon=1.0))])</pre></div></div></div><div class=\"sk-parallel\"><div class=\"sk-parallel-item\"><div class=\"sk-item\"><div class=\"sk-label-container\"><div class=\"sk-label sk-toggleable\"><label>ridge</label></div></div><div class=\"sk-serial\"><div class=\"sk-item\"><div class=\"sk-estimator sk-toggleable\"><input class=\"sk-toggleable__control sk-hidden--visually\" id=\"sk-estimator-id-16\" type=\"checkbox\" ><label for=\"sk-estimator-id-16\" class=\"sk-toggleable__label sk-toggleable__label-arrow\">Ridge</label><div class=\"sk-toggleable__content\"><pre>Ridge(alpha=10.0, solver=&#x27;saga&#x27;)</pre></div></div></div></div></div></div><div class=\"sk-parallel-item\"><div class=\"sk-item\"><div class=\"sk-label-container\"><div class=\"sk-label sk-toggleable\"><label>RFR</label></div></div><div class=\"sk-serial\"><div class=\"sk-item\"><div class=\"sk-estimator sk-toggleable\"><input class=\"sk-toggleable__control sk-hidden--visually\" id=\"sk-estimator-id-17\" type=\"checkbox\" ><label for=\"sk-estimator-id-17\" class=\"sk-toggleable__label sk-toggleable__label-arrow\">RandomForestRegressor</label><div class=\"sk-toggleable__content\"><pre>RandomForestRegressor(max_features=&#x27;sqrt&#x27;, min_samples_leaf=2, n_estimators=200)</pre></div></div></div></div></div></div><div class=\"sk-parallel-item\"><div class=\"sk-item\"><div class=\"sk-label-container\"><div class=\"sk-label sk-toggleable\"><label>svr</label></div></div><div class=\"sk-serial\"><div class=\"sk-item\"><div class=\"sk-estimator sk-toggleable\"><input class=\"sk-toggleable__control sk-hidden--visually\" id=\"sk-estimator-id-18\" type=\"checkbox\" ><label for=\"sk-estimator-id-18\" class=\"sk-toggleable__label sk-toggleable__label-arrow\">SVR</label><div class=\"sk-toggleable__content\"><pre>SVR(C=100, epsilon=1.0)</pre></div></div></div></div></div></div></div></div></div></div>"
      ],
      "text/plain": [
       "VotingRegressor(estimators=[('ridge', Ridge(alpha=10.0, solver='saga')),\n",
       "                            ('RFR',\n",
       "                             RandomForestRegressor(max_features='sqrt',\n",
       "                                                   min_samples_leaf=2,\n",
       "                                                   n_estimators=200)),\n",
       "                            ('svr', SVR(C=100, epsilon=1.0))])"
      ]
     },
     "execution_count": 214,
     "metadata": {},
     "output_type": "execute_result"
    }
   ],
   "source": [
    "ensemble_model.fit(X_train, y_train)"
   ]
  },
  {
   "cell_type": "code",
   "execution_count": 215,
   "id": "4ab1fe63",
   "metadata": {
    "ExecuteTime": {
     "end_time": "2023-05-26T02:03:11.898057Z",
     "start_time": "2023-05-26T02:03:11.873446Z"
    }
   },
   "outputs": [],
   "source": [
    "y_train_pred = ensemble_model.predict(X_train)\n",
    "# y_train_pred = [caps(val) for val in y_train_pred]\n",
    "mse = mean_squared_error(y_train, y_train_pred)\n",
    "rmse = np.sqrt(mse)"
   ]
  },
  {
   "cell_type": "code",
   "execution_count": 216,
   "id": "499bbc1e",
   "metadata": {
    "ExecuteTime": {
     "end_time": "2023-05-26T02:03:14.218851Z",
     "start_time": "2023-05-26T02:03:14.212517Z"
    }
   },
   "outputs": [
    {
     "name": "stdout",
     "output_type": "stream",
     "text": [
      "Root Mean Squared Error: 18.38214343321353\n"
     ]
    }
   ],
   "source": [
    "# evaluation metrics\n",
    "print(\"Root Mean Squared Error:\", rmse)"
   ]
  },
  {
   "cell_type": "code",
   "execution_count": 217,
   "id": "af0e20fb",
   "metadata": {
    "ExecuteTime": {
     "end_time": "2023-05-26T02:03:15.481399Z",
     "start_time": "2023-05-26T02:03:15.454953Z"
    }
   },
   "outputs": [
    {
     "name": "stdout",
     "output_type": "stream",
     "text": [
      "Best Hyperparameters: {'C': 100, 'epsilon': 1.0, 'gamma': 'auto', 'kernel': 'rbf'}\n",
      "Root Mean Squared Error: 23.397557407170666\n"
     ]
    }
   ],
   "source": [
    "# Evaluate the best model on the test set\n",
    "y_pred = ensemble_model.predict(X_val)\n",
    "mse = mean_squared_error(y_val, y_pred)\n",
    "rmse = np.sqrt(mse)\n",
    "\n",
    "# Print the best hyperparameters and evaluation metric\n",
    "print(\"Best Hyperparameters:\", grid_search.best_params_)\n",
    "print(\"Root Mean Squared Error:\", rmse)"
   ]
  },
  {
   "cell_type": "code",
   "execution_count": null,
   "id": "b0952901",
   "metadata": {},
   "outputs": [],
   "source": []
  },
  {
   "cell_type": "markdown",
   "id": "2235e1ef",
   "metadata": {},
   "source": [
    "# Test Data"
   ]
  },
  {
   "cell_type": "code",
   "execution_count": 259,
   "id": "26f817ac",
   "metadata": {
    "ExecuteTime": {
     "end_time": "2023-05-26T02:10:17.960556Z",
     "start_time": "2023-05-26T02:10:17.835007Z"
    }
   },
   "outputs": [],
   "source": [
    "test_1 = pd.read_csv('../data/ML_Data/test_footsie_contains.csv')\n",
    "test_2 = pd.read_csv('../data/ML_Data/test_fortune100_contains.csv')\n",
    "test_3 = pd.read_csv('../data/ML_Data/test_DAX_contains.csv')\n",
    "\n",
    "test_df = pd.concat([test_1,test_2,test_3], axis=0)\n",
    "test_df = test_df.rename(columns={'firm':'RIC'})"
   ]
  },
  {
   "cell_type": "code",
   "execution_count": 260,
   "id": "5ab9b021",
   "metadata": {
    "ExecuteTime": {
     "end_time": "2023-05-26T02:10:18.021925Z",
     "start_time": "2023-05-26T02:10:18.013448Z"
    }
   },
   "outputs": [],
   "source": [
    "test_df = pd.merge(test_df, compile_indexes_df, how='left', on = 'RIC')"
   ]
  },
  {
   "cell_type": "code",
   "execution_count": 261,
   "id": "aeab56a0",
   "metadata": {
    "ExecuteTime": {
     "end_time": "2023-05-26T02:10:18.324948Z",
     "start_time": "2023-05-26T02:10:18.312789Z"
    }
   },
   "outputs": [],
   "source": [
    "test_df = pd.concat([test_df[['RIC', 'year' ,'ticker_']], test_df.drop(['RIC', 'year' ,'ticker_'], axis=1)], axis=1)"
   ]
  },
  {
   "cell_type": "code",
   "execution_count": 262,
   "id": "9d60a533",
   "metadata": {
    "ExecuteTime": {
     "end_time": "2023-05-26T02:10:18.507209Z",
     "start_time": "2023-05-26T02:10:18.503448Z"
    }
   },
   "outputs": [],
   "source": [
    "# test_completed_df = test_df.drop(['RIC','year', 'ticker_','ESG Controversies Score Grade','ESG Controversies Score Grade'], axis=1).reset_index(drop=True)"
   ]
  },
  {
   "cell_type": "code",
   "execution_count": 263,
   "id": "d16fd8ef",
   "metadata": {
    "ExecuteTime": {
     "end_time": "2023-05-26T02:10:18.761785Z",
     "start_time": "2023-05-26T02:10:18.728228Z"
    }
   },
   "outputs": [
    {
     "data": {
      "text/html": [
       "<div>\n",
       "<style scoped>\n",
       "    .dataframe tbody tr th:only-of-type {\n",
       "        vertical-align: middle;\n",
       "    }\n",
       "\n",
       "    .dataframe tbody tr th {\n",
       "        vertical-align: top;\n",
       "    }\n",
       "\n",
       "    .dataframe thead th {\n",
       "        text-align: right;\n",
       "    }\n",
       "</style>\n",
       "<table border=\"1\" class=\"dataframe\">\n",
       "  <thead>\n",
       "    <tr style=\"text-align: right;\">\n",
       "      <th></th>\n",
       "      <th>RIC</th>\n",
       "      <th>year</th>\n",
       "      <th>ticker_</th>\n",
       "      <th>0</th>\n",
       "      <th>1</th>\n",
       "      <th>2</th>\n",
       "      <th>3</th>\n",
       "      <th>4</th>\n",
       "      <th>5</th>\n",
       "      <th>6</th>\n",
       "      <th>...</th>\n",
       "      <th>760</th>\n",
       "      <th>761</th>\n",
       "      <th>762</th>\n",
       "      <th>763</th>\n",
       "      <th>764</th>\n",
       "      <th>765</th>\n",
       "      <th>766</th>\n",
       "      <th>767</th>\n",
       "      <th>ESG Controversies Score</th>\n",
       "      <th>ESG Controversies Score Grade</th>\n",
       "    </tr>\n",
       "  </thead>\n",
       "  <tbody>\n",
       "    <tr>\n",
       "      <th>0</th>\n",
       "      <td>AAF.L</td>\n",
       "      <td>2022</td>\n",
       "      <td>AAF</td>\n",
       "      <td>-0.316090</td>\n",
       "      <td>0.325633</td>\n",
       "      <td>0.492556</td>\n",
       "      <td>-0.050070</td>\n",
       "      <td>0.381271</td>\n",
       "      <td>0.446845</td>\n",
       "      <td>-0.207054</td>\n",
       "      <td>...</td>\n",
       "      <td>0.180643</td>\n",
       "      <td>0.616740</td>\n",
       "      <td>-0.715521</td>\n",
       "      <td>0.880630</td>\n",
       "      <td>-0.490878</td>\n",
       "      <td>-0.111745</td>\n",
       "      <td>0.736818</td>\n",
       "      <td>0.420092</td>\n",
       "      <td>100.000000</td>\n",
       "      <td>A+</td>\n",
       "    </tr>\n",
       "    <tr>\n",
       "      <th>1</th>\n",
       "      <td>ABDN.L</td>\n",
       "      <td>2022</td>\n",
       "      <td>ABDN</td>\n",
       "      <td>-0.400195</td>\n",
       "      <td>-0.220467</td>\n",
       "      <td>-0.629772</td>\n",
       "      <td>0.436963</td>\n",
       "      <td>0.411417</td>\n",
       "      <td>-0.230281</td>\n",
       "      <td>0.104258</td>\n",
       "      <td>...</td>\n",
       "      <td>0.812860</td>\n",
       "      <td>0.249883</td>\n",
       "      <td>-0.261393</td>\n",
       "      <td>0.220430</td>\n",
       "      <td>-0.307368</td>\n",
       "      <td>-0.685380</td>\n",
       "      <td>-0.035406</td>\n",
       "      <td>0.278564</td>\n",
       "      <td>100.000000</td>\n",
       "      <td>A+</td>\n",
       "    </tr>\n",
       "    <tr>\n",
       "      <th>2</th>\n",
       "      <td>ABDN.L</td>\n",
       "      <td>2022</td>\n",
       "      <td>ABDN</td>\n",
       "      <td>-0.400195</td>\n",
       "      <td>-0.220467</td>\n",
       "      <td>-0.629772</td>\n",
       "      <td>0.436963</td>\n",
       "      <td>0.411417</td>\n",
       "      <td>-0.230281</td>\n",
       "      <td>0.104258</td>\n",
       "      <td>...</td>\n",
       "      <td>0.812860</td>\n",
       "      <td>0.249883</td>\n",
       "      <td>-0.261393</td>\n",
       "      <td>0.220430</td>\n",
       "      <td>-0.307368</td>\n",
       "      <td>-0.685380</td>\n",
       "      <td>-0.035406</td>\n",
       "      <td>0.278564</td>\n",
       "      <td>100.000000</td>\n",
       "      <td>A+</td>\n",
       "    </tr>\n",
       "    <tr>\n",
       "      <th>3</th>\n",
       "      <td>AHT.L</td>\n",
       "      <td>2022</td>\n",
       "      <td>AHT</td>\n",
       "      <td>-0.808410</td>\n",
       "      <td>0.125399</td>\n",
       "      <td>0.427910</td>\n",
       "      <td>0.202350</td>\n",
       "      <td>0.725803</td>\n",
       "      <td>0.359200</td>\n",
       "      <td>0.196529</td>\n",
       "      <td>...</td>\n",
       "      <td>0.937636</td>\n",
       "      <td>0.762159</td>\n",
       "      <td>-0.738225</td>\n",
       "      <td>0.972579</td>\n",
       "      <td>-0.804485</td>\n",
       "      <td>-0.530617</td>\n",
       "      <td>0.665348</td>\n",
       "      <td>0.749797</td>\n",
       "      <td>74.528302</td>\n",
       "      <td>B+</td>\n",
       "    </tr>\n",
       "    <tr>\n",
       "      <th>4</th>\n",
       "      <td>ANTO.L</td>\n",
       "      <td>2022</td>\n",
       "      <td>ANTO</td>\n",
       "      <td>-0.184318</td>\n",
       "      <td>-0.158951</td>\n",
       "      <td>-0.472866</td>\n",
       "      <td>0.285990</td>\n",
       "      <td>0.295325</td>\n",
       "      <td>-0.150287</td>\n",
       "      <td>-0.207242</td>\n",
       "      <td>...</td>\n",
       "      <td>0.642592</td>\n",
       "      <td>-0.064270</td>\n",
       "      <td>-0.249068</td>\n",
       "      <td>0.019297</td>\n",
       "      <td>0.019295</td>\n",
       "      <td>-0.622573</td>\n",
       "      <td>0.041856</td>\n",
       "      <td>-0.046189</td>\n",
       "      <td>100.000000</td>\n",
       "      <td>A+</td>\n",
       "    </tr>\n",
       "    <tr>\n",
       "      <th>...</th>\n",
       "      <td>...</td>\n",
       "      <td>...</td>\n",
       "      <td>...</td>\n",
       "      <td>...</td>\n",
       "      <td>...</td>\n",
       "      <td>...</td>\n",
       "      <td>...</td>\n",
       "      <td>...</td>\n",
       "      <td>...</td>\n",
       "      <td>...</td>\n",
       "      <td>...</td>\n",
       "      <td>...</td>\n",
       "      <td>...</td>\n",
       "      <td>...</td>\n",
       "      <td>...</td>\n",
       "      <td>...</td>\n",
       "      <td>...</td>\n",
       "      <td>...</td>\n",
       "      <td>...</td>\n",
       "      <td>...</td>\n",
       "      <td>...</td>\n",
       "    </tr>\n",
       "    <tr>\n",
       "      <th>76</th>\n",
       "      <td>PSHG_p.DE</td>\n",
       "      <td>2022</td>\n",
       "      <td>PAH3</td>\n",
       "      <td>-0.222348</td>\n",
       "      <td>0.097316</td>\n",
       "      <td>0.050808</td>\n",
       "      <td>-0.007150</td>\n",
       "      <td>0.325427</td>\n",
       "      <td>0.186515</td>\n",
       "      <td>-0.215515</td>\n",
       "      <td>...</td>\n",
       "      <td>0.361140</td>\n",
       "      <td>0.399913</td>\n",
       "      <td>-0.621653</td>\n",
       "      <td>0.601319</td>\n",
       "      <td>-0.352938</td>\n",
       "      <td>-0.309498</td>\n",
       "      <td>0.405238</td>\n",
       "      <td>0.210632</td>\n",
       "      <td>100.000000</td>\n",
       "      <td>A+</td>\n",
       "    </tr>\n",
       "    <tr>\n",
       "      <th>77</th>\n",
       "      <td>SAPG.DE</td>\n",
       "      <td>2022</td>\n",
       "      <td>SAP</td>\n",
       "      <td>-0.464123</td>\n",
       "      <td>0.142668</td>\n",
       "      <td>0.312886</td>\n",
       "      <td>0.165592</td>\n",
       "      <td>0.470431</td>\n",
       "      <td>0.262848</td>\n",
       "      <td>-0.086061</td>\n",
       "      <td>...</td>\n",
       "      <td>0.418643</td>\n",
       "      <td>0.614941</td>\n",
       "      <td>-0.773510</td>\n",
       "      <td>0.737327</td>\n",
       "      <td>-0.495086</td>\n",
       "      <td>-0.337927</td>\n",
       "      <td>0.405820</td>\n",
       "      <td>0.368355</td>\n",
       "      <td>100.000000</td>\n",
       "      <td>A+</td>\n",
       "    </tr>\n",
       "    <tr>\n",
       "      <th>78</th>\n",
       "      <td>SHLG.DE</td>\n",
       "      <td>2022</td>\n",
       "      <td>SHL</td>\n",
       "      <td>0.301456</td>\n",
       "      <td>0.452857</td>\n",
       "      <td>0.400814</td>\n",
       "      <td>-0.373105</td>\n",
       "      <td>-0.373304</td>\n",
       "      <td>0.404690</td>\n",
       "      <td>-0.543124</td>\n",
       "      <td>...</td>\n",
       "      <td>-0.341012</td>\n",
       "      <td>-0.107846</td>\n",
       "      <td>-0.360340</td>\n",
       "      <td>0.244296</td>\n",
       "      <td>0.187627</td>\n",
       "      <td>0.282849</td>\n",
       "      <td>0.646825</td>\n",
       "      <td>-0.237698</td>\n",
       "      <td>100.000000</td>\n",
       "      <td>A+</td>\n",
       "    </tr>\n",
       "    <tr>\n",
       "      <th>79</th>\n",
       "      <td>SIEGn.DE</td>\n",
       "      <td>2022</td>\n",
       "      <td>SIE</td>\n",
       "      <td>-0.108147</td>\n",
       "      <td>0.309773</td>\n",
       "      <td>0.329629</td>\n",
       "      <td>-0.180662</td>\n",
       "      <td>0.053357</td>\n",
       "      <td>0.376446</td>\n",
       "      <td>-0.364924</td>\n",
       "      <td>...</td>\n",
       "      <td>0.014925</td>\n",
       "      <td>0.402534</td>\n",
       "      <td>-0.613357</td>\n",
       "      <td>0.673536</td>\n",
       "      <td>-0.296167</td>\n",
       "      <td>0.021844</td>\n",
       "      <td>0.580495</td>\n",
       "      <td>0.111222</td>\n",
       "      <td>100.000000</td>\n",
       "      <td>A+</td>\n",
       "    </tr>\n",
       "    <tr>\n",
       "      <th>80</th>\n",
       "      <td>VOWG_p.DE</td>\n",
       "      <td>2022</td>\n",
       "      <td>VOW</td>\n",
       "      <td>-0.113795</td>\n",
       "      <td>0.097400</td>\n",
       "      <td>0.027078</td>\n",
       "      <td>-0.023447</td>\n",
       "      <td>0.097289</td>\n",
       "      <td>0.132528</td>\n",
       "      <td>-0.284805</td>\n",
       "      <td>...</td>\n",
       "      <td>0.259272</td>\n",
       "      <td>0.171249</td>\n",
       "      <td>-0.439047</td>\n",
       "      <td>0.362464</td>\n",
       "      <td>-0.104383</td>\n",
       "      <td>-0.229595</td>\n",
       "      <td>0.337414</td>\n",
       "      <td>0.055789</td>\n",
       "      <td>100.000000</td>\n",
       "      <td>A+</td>\n",
       "    </tr>\n",
       "  </tbody>\n",
       "</table>\n",
       "<p>80 rows × 773 columns</p>\n",
       "</div>"
      ],
      "text/plain": [
       "          RIC  year ticker_         0         1         2         3         4  \\\n",
       "0       AAF.L  2022     AAF -0.316090  0.325633  0.492556 -0.050070  0.381271   \n",
       "1      ABDN.L  2022    ABDN -0.400195 -0.220467 -0.629772  0.436963  0.411417   \n",
       "2      ABDN.L  2022    ABDN -0.400195 -0.220467 -0.629772  0.436963  0.411417   \n",
       "3       AHT.L  2022     AHT -0.808410  0.125399  0.427910  0.202350  0.725803   \n",
       "4      ANTO.L  2022    ANTO -0.184318 -0.158951 -0.472866  0.285990  0.295325   \n",
       "..        ...   ...     ...       ...       ...       ...       ...       ...   \n",
       "76  PSHG_p.DE  2022    PAH3 -0.222348  0.097316  0.050808 -0.007150  0.325427   \n",
       "77    SAPG.DE  2022     SAP -0.464123  0.142668  0.312886  0.165592  0.470431   \n",
       "78    SHLG.DE  2022     SHL  0.301456  0.452857  0.400814 -0.373105 -0.373304   \n",
       "79   SIEGn.DE  2022     SIE -0.108147  0.309773  0.329629 -0.180662  0.053357   \n",
       "80  VOWG_p.DE  2022     VOW -0.113795  0.097400  0.027078 -0.023447  0.097289   \n",
       "\n",
       "           5         6  ...       760       761       762       763       764  \\\n",
       "0   0.446845 -0.207054  ...  0.180643  0.616740 -0.715521  0.880630 -0.490878   \n",
       "1  -0.230281  0.104258  ...  0.812860  0.249883 -0.261393  0.220430 -0.307368   \n",
       "2  -0.230281  0.104258  ...  0.812860  0.249883 -0.261393  0.220430 -0.307368   \n",
       "3   0.359200  0.196529  ...  0.937636  0.762159 -0.738225  0.972579 -0.804485   \n",
       "4  -0.150287 -0.207242  ...  0.642592 -0.064270 -0.249068  0.019297  0.019295   \n",
       "..       ...       ...  ...       ...       ...       ...       ...       ...   \n",
       "76  0.186515 -0.215515  ...  0.361140  0.399913 -0.621653  0.601319 -0.352938   \n",
       "77  0.262848 -0.086061  ...  0.418643  0.614941 -0.773510  0.737327 -0.495086   \n",
       "78  0.404690 -0.543124  ... -0.341012 -0.107846 -0.360340  0.244296  0.187627   \n",
       "79  0.376446 -0.364924  ...  0.014925  0.402534 -0.613357  0.673536 -0.296167   \n",
       "80  0.132528 -0.284805  ...  0.259272  0.171249 -0.439047  0.362464 -0.104383   \n",
       "\n",
       "         765       766       767  ESG Controversies Score  \\\n",
       "0  -0.111745  0.736818  0.420092               100.000000   \n",
       "1  -0.685380 -0.035406  0.278564               100.000000   \n",
       "2  -0.685380 -0.035406  0.278564               100.000000   \n",
       "3  -0.530617  0.665348  0.749797                74.528302   \n",
       "4  -0.622573  0.041856 -0.046189               100.000000   \n",
       "..       ...       ...       ...                      ...   \n",
       "76 -0.309498  0.405238  0.210632               100.000000   \n",
       "77 -0.337927  0.405820  0.368355               100.000000   \n",
       "78  0.282849  0.646825 -0.237698               100.000000   \n",
       "79  0.021844  0.580495  0.111222               100.000000   \n",
       "80 -0.229595  0.337414  0.055789               100.000000   \n",
       "\n",
       "    ESG Controversies Score Grade  \n",
       "0                              A+  \n",
       "1                              A+  \n",
       "2                              A+  \n",
       "3                              B+  \n",
       "4                              A+  \n",
       "..                            ...  \n",
       "76                             A+  \n",
       "77                             A+  \n",
       "78                             A+  \n",
       "79                             A+  \n",
       "80                             A+  \n",
       "\n",
       "[80 rows x 773 columns]"
      ]
     },
     "execution_count": 263,
     "metadata": {},
     "output_type": "execute_result"
    }
   ],
   "source": [
    "train_df[train_df['year'] == 2022]"
   ]
  },
  {
   "cell_type": "code",
   "execution_count": 264,
   "id": "1028d117",
   "metadata": {
    "ExecuteTime": {
     "end_time": "2023-05-26T02:10:19.285227Z",
     "start_time": "2023-05-26T02:10:19.257772Z"
    }
   },
   "outputs": [
    {
     "data": {
      "text/html": [
       "<div>\n",
       "<style scoped>\n",
       "    .dataframe tbody tr th:only-of-type {\n",
       "        vertical-align: middle;\n",
       "    }\n",
       "\n",
       "    .dataframe tbody tr th {\n",
       "        vertical-align: top;\n",
       "    }\n",
       "\n",
       "    .dataframe thead th {\n",
       "        text-align: right;\n",
       "    }\n",
       "</style>\n",
       "<table border=\"1\" class=\"dataframe\">\n",
       "  <thead>\n",
       "    <tr style=\"text-align: right;\">\n",
       "      <th></th>\n",
       "      <th>RIC</th>\n",
       "      <th>year</th>\n",
       "      <th>ticker_</th>\n",
       "      <th>0</th>\n",
       "      <th>1</th>\n",
       "      <th>2</th>\n",
       "      <th>3</th>\n",
       "      <th>4</th>\n",
       "      <th>5</th>\n",
       "      <th>6</th>\n",
       "      <th>...</th>\n",
       "      <th>760</th>\n",
       "      <th>761</th>\n",
       "      <th>762</th>\n",
       "      <th>763</th>\n",
       "      <th>764</th>\n",
       "      <th>765</th>\n",
       "      <th>766</th>\n",
       "      <th>767</th>\n",
       "      <th>ESG Controversies Score</th>\n",
       "      <th>ESG Controversies Score Grade</th>\n",
       "    </tr>\n",
       "  </thead>\n",
       "  <tbody>\n",
       "    <tr>\n",
       "      <th>2</th>\n",
       "      <td>ABF.L</td>\n",
       "      <td>2022</td>\n",
       "      <td>ABF</td>\n",
       "      <td>0.079495</td>\n",
       "      <td>0.208908</td>\n",
       "      <td>-0.001545</td>\n",
       "      <td>-0.075916</td>\n",
       "      <td>-0.067437</td>\n",
       "      <td>0.150376</td>\n",
       "      <td>-0.245490</td>\n",
       "      <td>...</td>\n",
       "      <td>0.177665</td>\n",
       "      <td>-0.041616</td>\n",
       "      <td>-0.420090</td>\n",
       "      <td>0.121705</td>\n",
       "      <td>0.094707</td>\n",
       "      <td>-0.125057</td>\n",
       "      <td>0.414923</td>\n",
       "      <td>-0.061691</td>\n",
       "      <td>-1.0</td>\n",
       "      <td>Unknown</td>\n",
       "    </tr>\n",
       "    <tr>\n",
       "      <th>5</th>\n",
       "      <td>AV.L</td>\n",
       "      <td>2022</td>\n",
       "      <td>AV.</td>\n",
       "      <td>-0.219500</td>\n",
       "      <td>-0.136893</td>\n",
       "      <td>-0.318340</td>\n",
       "      <td>0.276178</td>\n",
       "      <td>0.206854</td>\n",
       "      <td>-0.094615</td>\n",
       "      <td>-0.094100</td>\n",
       "      <td>...</td>\n",
       "      <td>0.603580</td>\n",
       "      <td>0.190491</td>\n",
       "      <td>-0.218694</td>\n",
       "      <td>0.243476</td>\n",
       "      <td>-0.114896</td>\n",
       "      <td>-0.525202</td>\n",
       "      <td>-0.013693</td>\n",
       "      <td>0.039196</td>\n",
       "      <td>-1.0</td>\n",
       "      <td>Unknown</td>\n",
       "    </tr>\n",
       "    <tr>\n",
       "      <th>11</th>\n",
       "      <td>BDEV.L</td>\n",
       "      <td>2022</td>\n",
       "      <td>BDEV</td>\n",
       "      <td>-0.067985</td>\n",
       "      <td>0.046161</td>\n",
       "      <td>0.013485</td>\n",
       "      <td>0.099338</td>\n",
       "      <td>-0.064675</td>\n",
       "      <td>0.040927</td>\n",
       "      <td>-0.125454</td>\n",
       "      <td>...</td>\n",
       "      <td>0.373116</td>\n",
       "      <td>0.066545</td>\n",
       "      <td>-0.319083</td>\n",
       "      <td>0.254135</td>\n",
       "      <td>-0.098028</td>\n",
       "      <td>-0.146167</td>\n",
       "      <td>0.161238</td>\n",
       "      <td>-0.096547</td>\n",
       "      <td>-1.0</td>\n",
       "      <td>Unknown</td>\n",
       "    </tr>\n",
       "    <tr>\n",
       "      <th>13</th>\n",
       "      <td>BEZG.L</td>\n",
       "      <td>2022</td>\n",
       "      <td>BEZ</td>\n",
       "      <td>-0.226246</td>\n",
       "      <td>0.330224</td>\n",
       "      <td>0.088294</td>\n",
       "      <td>-0.037042</td>\n",
       "      <td>0.282240</td>\n",
       "      <td>0.355931</td>\n",
       "      <td>0.047793</td>\n",
       "      <td>...</td>\n",
       "      <td>0.301942</td>\n",
       "      <td>0.522198</td>\n",
       "      <td>-0.798775</td>\n",
       "      <td>0.710784</td>\n",
       "      <td>-0.291345</td>\n",
       "      <td>-0.151040</td>\n",
       "      <td>0.638644</td>\n",
       "      <td>0.343670</td>\n",
       "      <td>-1.0</td>\n",
       "      <td>Unknown</td>\n",
       "    </tr>\n",
       "    <tr>\n",
       "      <th>16</th>\n",
       "      <td>BMEB.L</td>\n",
       "      <td>2022</td>\n",
       "      <td>BME</td>\n",
       "      <td>0.426704</td>\n",
       "      <td>0.385576</td>\n",
       "      <td>0.095243</td>\n",
       "      <td>-0.211303</td>\n",
       "      <td>-0.326621</td>\n",
       "      <td>0.289741</td>\n",
       "      <td>-0.486000</td>\n",
       "      <td>...</td>\n",
       "      <td>-0.015909</td>\n",
       "      <td>-0.388616</td>\n",
       "      <td>-0.090816</td>\n",
       "      <td>-0.139044</td>\n",
       "      <td>0.444137</td>\n",
       "      <td>0.072914</td>\n",
       "      <td>0.501320</td>\n",
       "      <td>-0.393860</td>\n",
       "      <td>-1.0</td>\n",
       "      <td>Unknown</td>\n",
       "    </tr>\n",
       "    <tr>\n",
       "      <th>...</th>\n",
       "      <td>...</td>\n",
       "      <td>...</td>\n",
       "      <td>...</td>\n",
       "      <td>...</td>\n",
       "      <td>...</td>\n",
       "      <td>...</td>\n",
       "      <td>...</td>\n",
       "      <td>...</td>\n",
       "      <td>...</td>\n",
       "      <td>...</td>\n",
       "      <td>...</td>\n",
       "      <td>...</td>\n",
       "      <td>...</td>\n",
       "      <td>...</td>\n",
       "      <td>...</td>\n",
       "      <td>...</td>\n",
       "      <td>...</td>\n",
       "      <td>...</td>\n",
       "      <td>...</td>\n",
       "      <td>...</td>\n",
       "      <td>...</td>\n",
       "    </tr>\n",
       "    <tr>\n",
       "      <th>353</th>\n",
       "      <td>RWEG.DE</td>\n",
       "      <td>2022</td>\n",
       "      <td>RWE</td>\n",
       "      <td>-0.135386</td>\n",
       "      <td>0.215728</td>\n",
       "      <td>0.278423</td>\n",
       "      <td>-0.158881</td>\n",
       "      <td>0.169290</td>\n",
       "      <td>0.287615</td>\n",
       "      <td>-0.417279</td>\n",
       "      <td>...</td>\n",
       "      <td>0.096573</td>\n",
       "      <td>0.364614</td>\n",
       "      <td>-0.612170</td>\n",
       "      <td>0.593199</td>\n",
       "      <td>-0.311669</td>\n",
       "      <td>-0.105749</td>\n",
       "      <td>0.483702</td>\n",
       "      <td>0.098077</td>\n",
       "      <td>-1.0</td>\n",
       "      <td>Unknown</td>\n",
       "    </tr>\n",
       "    <tr>\n",
       "      <th>356</th>\n",
       "      <td>SATG.DE</td>\n",
       "      <td>2022</td>\n",
       "      <td>SRT3</td>\n",
       "      <td>0.118079</td>\n",
       "      <td>0.268742</td>\n",
       "      <td>0.223600</td>\n",
       "      <td>-0.153730</td>\n",
       "      <td>-0.314112</td>\n",
       "      <td>0.088584</td>\n",
       "      <td>-0.508140</td>\n",
       "      <td>...</td>\n",
       "      <td>-0.137213</td>\n",
       "      <td>-0.084722</td>\n",
       "      <td>-0.397276</td>\n",
       "      <td>0.168750</td>\n",
       "      <td>0.107837</td>\n",
       "      <td>-0.000551</td>\n",
       "      <td>0.318891</td>\n",
       "      <td>-0.125730</td>\n",
       "      <td>-1.0</td>\n",
       "      <td>Unknown</td>\n",
       "    </tr>\n",
       "    <tr>\n",
       "      <th>360</th>\n",
       "      <td>SY1G.DE</td>\n",
       "      <td>2022</td>\n",
       "      <td>SY1</td>\n",
       "      <td>0.318193</td>\n",
       "      <td>0.644791</td>\n",
       "      <td>0.712463</td>\n",
       "      <td>-0.529344</td>\n",
       "      <td>-0.447008</td>\n",
       "      <td>0.586059</td>\n",
       "      <td>-0.554148</td>\n",
       "      <td>...</td>\n",
       "      <td>-0.563769</td>\n",
       "      <td>0.172915</td>\n",
       "      <td>-0.577114</td>\n",
       "      <td>0.655510</td>\n",
       "      <td>0.001915</td>\n",
       "      <td>0.454247</td>\n",
       "      <td>0.802643</td>\n",
       "      <td>-0.083253</td>\n",
       "      <td>-1.0</td>\n",
       "      <td>Unknown</td>\n",
       "    </tr>\n",
       "    <tr>\n",
       "      <th>362</th>\n",
       "      <td>VNAn.DE</td>\n",
       "      <td>2022</td>\n",
       "      <td>VNA</td>\n",
       "      <td>-0.458432</td>\n",
       "      <td>0.224775</td>\n",
       "      <td>0.441897</td>\n",
       "      <td>0.042122</td>\n",
       "      <td>0.574230</td>\n",
       "      <td>0.450847</td>\n",
       "      <td>-0.035398</td>\n",
       "      <td>...</td>\n",
       "      <td>0.558620</td>\n",
       "      <td>0.713998</td>\n",
       "      <td>-0.826342</td>\n",
       "      <td>0.931602</td>\n",
       "      <td>-0.616887</td>\n",
       "      <td>-0.315025</td>\n",
       "      <td>0.659054</td>\n",
       "      <td>0.533574</td>\n",
       "      <td>-1.0</td>\n",
       "      <td>Unknown</td>\n",
       "    </tr>\n",
       "    <tr>\n",
       "      <th>365</th>\n",
       "      <td>ZALG.DE</td>\n",
       "      <td>2022</td>\n",
       "      <td>ZAL</td>\n",
       "      <td>0.538483</td>\n",
       "      <td>0.398434</td>\n",
       "      <td>0.273476</td>\n",
       "      <td>-0.297657</td>\n",
       "      <td>-0.788681</td>\n",
       "      <td>0.263089</td>\n",
       "      <td>-0.454107</td>\n",
       "      <td>...</td>\n",
       "      <td>-0.348995</td>\n",
       "      <td>-0.335089</td>\n",
       "      <td>-0.136227</td>\n",
       "      <td>0.048843</td>\n",
       "      <td>0.429615</td>\n",
       "      <td>0.526453</td>\n",
       "      <td>0.395979</td>\n",
       "      <td>-0.348018</td>\n",
       "      <td>-1.0</td>\n",
       "      <td>Unknown</td>\n",
       "    </tr>\n",
       "  </tbody>\n",
       "</table>\n",
       "<p>151 rows × 773 columns</p>\n",
       "</div>"
      ],
      "text/plain": [
       "         RIC  year ticker_         0         1         2         3         4  \\\n",
       "2      ABF.L  2022     ABF  0.079495  0.208908 -0.001545 -0.075916 -0.067437   \n",
       "5       AV.L  2022     AV. -0.219500 -0.136893 -0.318340  0.276178  0.206854   \n",
       "11    BDEV.L  2022    BDEV -0.067985  0.046161  0.013485  0.099338 -0.064675   \n",
       "13    BEZG.L  2022     BEZ -0.226246  0.330224  0.088294 -0.037042  0.282240   \n",
       "16    BMEB.L  2022     BME  0.426704  0.385576  0.095243 -0.211303 -0.326621   \n",
       "..       ...   ...     ...       ...       ...       ...       ...       ...   \n",
       "353  RWEG.DE  2022     RWE -0.135386  0.215728  0.278423 -0.158881  0.169290   \n",
       "356  SATG.DE  2022    SRT3  0.118079  0.268742  0.223600 -0.153730 -0.314112   \n",
       "360  SY1G.DE  2022     SY1  0.318193  0.644791  0.712463 -0.529344 -0.447008   \n",
       "362  VNAn.DE  2022     VNA -0.458432  0.224775  0.441897  0.042122  0.574230   \n",
       "365  ZALG.DE  2022     ZAL  0.538483  0.398434  0.273476 -0.297657 -0.788681   \n",
       "\n",
       "            5         6  ...       760       761       762       763  \\\n",
       "2    0.150376 -0.245490  ...  0.177665 -0.041616 -0.420090  0.121705   \n",
       "5   -0.094615 -0.094100  ...  0.603580  0.190491 -0.218694  0.243476   \n",
       "11   0.040927 -0.125454  ...  0.373116  0.066545 -0.319083  0.254135   \n",
       "13   0.355931  0.047793  ...  0.301942  0.522198 -0.798775  0.710784   \n",
       "16   0.289741 -0.486000  ... -0.015909 -0.388616 -0.090816 -0.139044   \n",
       "..        ...       ...  ...       ...       ...       ...       ...   \n",
       "353  0.287615 -0.417279  ...  0.096573  0.364614 -0.612170  0.593199   \n",
       "356  0.088584 -0.508140  ... -0.137213 -0.084722 -0.397276  0.168750   \n",
       "360  0.586059 -0.554148  ... -0.563769  0.172915 -0.577114  0.655510   \n",
       "362  0.450847 -0.035398  ...  0.558620  0.713998 -0.826342  0.931602   \n",
       "365  0.263089 -0.454107  ... -0.348995 -0.335089 -0.136227  0.048843   \n",
       "\n",
       "          764       765       766       767  ESG Controversies Score  \\\n",
       "2    0.094707 -0.125057  0.414923 -0.061691                     -1.0   \n",
       "5   -0.114896 -0.525202 -0.013693  0.039196                     -1.0   \n",
       "11  -0.098028 -0.146167  0.161238 -0.096547                     -1.0   \n",
       "13  -0.291345 -0.151040  0.638644  0.343670                     -1.0   \n",
       "16   0.444137  0.072914  0.501320 -0.393860                     -1.0   \n",
       "..        ...       ...       ...       ...                      ...   \n",
       "353 -0.311669 -0.105749  0.483702  0.098077                     -1.0   \n",
       "356  0.107837 -0.000551  0.318891 -0.125730                     -1.0   \n",
       "360  0.001915  0.454247  0.802643 -0.083253                     -1.0   \n",
       "362 -0.616887 -0.315025  0.659054  0.533574                     -1.0   \n",
       "365  0.429615  0.526453  0.395979 -0.348018                     -1.0   \n",
       "\n",
       "     ESG Controversies Score Grade  \n",
       "2                          Unknown  \n",
       "5                          Unknown  \n",
       "11                         Unknown  \n",
       "13                         Unknown  \n",
       "16                         Unknown  \n",
       "..                             ...  \n",
       "353                        Unknown  \n",
       "356                        Unknown  \n",
       "360                        Unknown  \n",
       "362                        Unknown  \n",
       "365                        Unknown  \n",
       "\n",
       "[151 rows x 773 columns]"
      ]
     },
     "execution_count": 264,
     "metadata": {},
     "output_type": "execute_result"
    }
   ],
   "source": [
    "test_df[test_df['year'] == 2022]"
   ]
  },
  {
   "cell_type": "code",
   "execution_count": 265,
   "id": "b34e0abb",
   "metadata": {
    "ExecuteTime": {
     "end_time": "2023-05-26T02:10:19.490147Z",
     "start_time": "2023-05-26T02:10:19.485055Z"
    }
   },
   "outputs": [
    {
     "data": {
      "text/plain": [
       "0.34632034632034636"
      ]
     },
     "execution_count": 265,
     "metadata": {},
     "output_type": "execute_result"
    }
   ],
   "source": [
    "1-(151/231)"
   ]
  },
  {
   "cell_type": "code",
   "execution_count": 266,
   "id": "85e3e629",
   "metadata": {
    "ExecuteTime": {
     "end_time": "2023-05-26T02:10:19.761614Z",
     "start_time": "2023-05-26T02:10:19.737910Z"
    }
   },
   "outputs": [
    {
     "data": {
      "text/html": [
       "<div>\n",
       "<style scoped>\n",
       "    .dataframe tbody tr th:only-of-type {\n",
       "        vertical-align: middle;\n",
       "    }\n",
       "\n",
       "    .dataframe tbody tr th {\n",
       "        vertical-align: top;\n",
       "    }\n",
       "\n",
       "    .dataframe thead th {\n",
       "        text-align: right;\n",
       "    }\n",
       "</style>\n",
       "<table border=\"1\" class=\"dataframe\">\n",
       "  <thead>\n",
       "    <tr style=\"text-align: right;\">\n",
       "      <th></th>\n",
       "      <th>RIC</th>\n",
       "      <th>year</th>\n",
       "      <th>ticker_</th>\n",
       "      <th>0</th>\n",
       "      <th>1</th>\n",
       "      <th>2</th>\n",
       "      <th>3</th>\n",
       "      <th>4</th>\n",
       "      <th>5</th>\n",
       "      <th>6</th>\n",
       "      <th>...</th>\n",
       "      <th>760</th>\n",
       "      <th>761</th>\n",
       "      <th>762</th>\n",
       "      <th>763</th>\n",
       "      <th>764</th>\n",
       "      <th>765</th>\n",
       "      <th>766</th>\n",
       "      <th>767</th>\n",
       "      <th>ESG Controversies Score</th>\n",
       "      <th>ESG Controversies Score Grade</th>\n",
       "    </tr>\n",
       "  </thead>\n",
       "  <tbody>\n",
       "    <tr>\n",
       "      <th>2</th>\n",
       "      <td>ABF.L</td>\n",
       "      <td>2022</td>\n",
       "      <td>ABF</td>\n",
       "      <td>0.079495</td>\n",
       "      <td>0.208908</td>\n",
       "      <td>-0.001545</td>\n",
       "      <td>-0.075916</td>\n",
       "      <td>-0.067437</td>\n",
       "      <td>0.150376</td>\n",
       "      <td>-0.245490</td>\n",
       "      <td>...</td>\n",
       "      <td>0.177665</td>\n",
       "      <td>-0.041616</td>\n",
       "      <td>-0.420090</td>\n",
       "      <td>0.121705</td>\n",
       "      <td>0.094707</td>\n",
       "      <td>-0.125057</td>\n",
       "      <td>0.414923</td>\n",
       "      <td>-0.061691</td>\n",
       "      <td>-1.0</td>\n",
       "      <td>Unknown</td>\n",
       "    </tr>\n",
       "    <tr>\n",
       "      <th>5</th>\n",
       "      <td>AV.L</td>\n",
       "      <td>2022</td>\n",
       "      <td>AV.</td>\n",
       "      <td>-0.219500</td>\n",
       "      <td>-0.136893</td>\n",
       "      <td>-0.318340</td>\n",
       "      <td>0.276178</td>\n",
       "      <td>0.206854</td>\n",
       "      <td>-0.094615</td>\n",
       "      <td>-0.094100</td>\n",
       "      <td>...</td>\n",
       "      <td>0.603580</td>\n",
       "      <td>0.190491</td>\n",
       "      <td>-0.218694</td>\n",
       "      <td>0.243476</td>\n",
       "      <td>-0.114896</td>\n",
       "      <td>-0.525202</td>\n",
       "      <td>-0.013693</td>\n",
       "      <td>0.039196</td>\n",
       "      <td>-1.0</td>\n",
       "      <td>Unknown</td>\n",
       "    </tr>\n",
       "    <tr>\n",
       "      <th>11</th>\n",
       "      <td>BDEV.L</td>\n",
       "      <td>2022</td>\n",
       "      <td>BDEV</td>\n",
       "      <td>-0.067985</td>\n",
       "      <td>0.046161</td>\n",
       "      <td>0.013485</td>\n",
       "      <td>0.099338</td>\n",
       "      <td>-0.064675</td>\n",
       "      <td>0.040927</td>\n",
       "      <td>-0.125454</td>\n",
       "      <td>...</td>\n",
       "      <td>0.373116</td>\n",
       "      <td>0.066545</td>\n",
       "      <td>-0.319083</td>\n",
       "      <td>0.254135</td>\n",
       "      <td>-0.098028</td>\n",
       "      <td>-0.146167</td>\n",
       "      <td>0.161238</td>\n",
       "      <td>-0.096547</td>\n",
       "      <td>-1.0</td>\n",
       "      <td>Unknown</td>\n",
       "    </tr>\n",
       "    <tr>\n",
       "      <th>13</th>\n",
       "      <td>BEZG.L</td>\n",
       "      <td>2022</td>\n",
       "      <td>BEZ</td>\n",
       "      <td>-0.226246</td>\n",
       "      <td>0.330224</td>\n",
       "      <td>0.088294</td>\n",
       "      <td>-0.037042</td>\n",
       "      <td>0.282240</td>\n",
       "      <td>0.355931</td>\n",
       "      <td>0.047793</td>\n",
       "      <td>...</td>\n",
       "      <td>0.301942</td>\n",
       "      <td>0.522198</td>\n",
       "      <td>-0.798775</td>\n",
       "      <td>0.710784</td>\n",
       "      <td>-0.291345</td>\n",
       "      <td>-0.151040</td>\n",
       "      <td>0.638644</td>\n",
       "      <td>0.343670</td>\n",
       "      <td>-1.0</td>\n",
       "      <td>Unknown</td>\n",
       "    </tr>\n",
       "    <tr>\n",
       "      <th>16</th>\n",
       "      <td>BMEB.L</td>\n",
       "      <td>2022</td>\n",
       "      <td>BME</td>\n",
       "      <td>0.426704</td>\n",
       "      <td>0.385576</td>\n",
       "      <td>0.095243</td>\n",
       "      <td>-0.211303</td>\n",
       "      <td>-0.326621</td>\n",
       "      <td>0.289741</td>\n",
       "      <td>-0.486000</td>\n",
       "      <td>...</td>\n",
       "      <td>-0.015909</td>\n",
       "      <td>-0.388616</td>\n",
       "      <td>-0.090816</td>\n",
       "      <td>-0.139044</td>\n",
       "      <td>0.444137</td>\n",
       "      <td>0.072914</td>\n",
       "      <td>0.501320</td>\n",
       "      <td>-0.393860</td>\n",
       "      <td>-1.0</td>\n",
       "      <td>Unknown</td>\n",
       "    </tr>\n",
       "    <tr>\n",
       "      <th>...</th>\n",
       "      <td>...</td>\n",
       "      <td>...</td>\n",
       "      <td>...</td>\n",
       "      <td>...</td>\n",
       "      <td>...</td>\n",
       "      <td>...</td>\n",
       "      <td>...</td>\n",
       "      <td>...</td>\n",
       "      <td>...</td>\n",
       "      <td>...</td>\n",
       "      <td>...</td>\n",
       "      <td>...</td>\n",
       "      <td>...</td>\n",
       "      <td>...</td>\n",
       "      <td>...</td>\n",
       "      <td>...</td>\n",
       "      <td>...</td>\n",
       "      <td>...</td>\n",
       "      <td>...</td>\n",
       "      <td>...</td>\n",
       "      <td>...</td>\n",
       "    </tr>\n",
       "    <tr>\n",
       "      <th>353</th>\n",
       "      <td>RWEG.DE</td>\n",
       "      <td>2022</td>\n",
       "      <td>RWE</td>\n",
       "      <td>-0.135386</td>\n",
       "      <td>0.215728</td>\n",
       "      <td>0.278423</td>\n",
       "      <td>-0.158881</td>\n",
       "      <td>0.169290</td>\n",
       "      <td>0.287615</td>\n",
       "      <td>-0.417279</td>\n",
       "      <td>...</td>\n",
       "      <td>0.096573</td>\n",
       "      <td>0.364614</td>\n",
       "      <td>-0.612170</td>\n",
       "      <td>0.593199</td>\n",
       "      <td>-0.311669</td>\n",
       "      <td>-0.105749</td>\n",
       "      <td>0.483702</td>\n",
       "      <td>0.098077</td>\n",
       "      <td>-1.0</td>\n",
       "      <td>Unknown</td>\n",
       "    </tr>\n",
       "    <tr>\n",
       "      <th>356</th>\n",
       "      <td>SATG.DE</td>\n",
       "      <td>2022</td>\n",
       "      <td>SRT3</td>\n",
       "      <td>0.118079</td>\n",
       "      <td>0.268742</td>\n",
       "      <td>0.223600</td>\n",
       "      <td>-0.153730</td>\n",
       "      <td>-0.314112</td>\n",
       "      <td>0.088584</td>\n",
       "      <td>-0.508140</td>\n",
       "      <td>...</td>\n",
       "      <td>-0.137213</td>\n",
       "      <td>-0.084722</td>\n",
       "      <td>-0.397276</td>\n",
       "      <td>0.168750</td>\n",
       "      <td>0.107837</td>\n",
       "      <td>-0.000551</td>\n",
       "      <td>0.318891</td>\n",
       "      <td>-0.125730</td>\n",
       "      <td>-1.0</td>\n",
       "      <td>Unknown</td>\n",
       "    </tr>\n",
       "    <tr>\n",
       "      <th>360</th>\n",
       "      <td>SY1G.DE</td>\n",
       "      <td>2022</td>\n",
       "      <td>SY1</td>\n",
       "      <td>0.318193</td>\n",
       "      <td>0.644791</td>\n",
       "      <td>0.712463</td>\n",
       "      <td>-0.529344</td>\n",
       "      <td>-0.447008</td>\n",
       "      <td>0.586059</td>\n",
       "      <td>-0.554148</td>\n",
       "      <td>...</td>\n",
       "      <td>-0.563769</td>\n",
       "      <td>0.172915</td>\n",
       "      <td>-0.577114</td>\n",
       "      <td>0.655510</td>\n",
       "      <td>0.001915</td>\n",
       "      <td>0.454247</td>\n",
       "      <td>0.802643</td>\n",
       "      <td>-0.083253</td>\n",
       "      <td>-1.0</td>\n",
       "      <td>Unknown</td>\n",
       "    </tr>\n",
       "    <tr>\n",
       "      <th>362</th>\n",
       "      <td>VNAn.DE</td>\n",
       "      <td>2022</td>\n",
       "      <td>VNA</td>\n",
       "      <td>-0.458432</td>\n",
       "      <td>0.224775</td>\n",
       "      <td>0.441897</td>\n",
       "      <td>0.042122</td>\n",
       "      <td>0.574230</td>\n",
       "      <td>0.450847</td>\n",
       "      <td>-0.035398</td>\n",
       "      <td>...</td>\n",
       "      <td>0.558620</td>\n",
       "      <td>0.713998</td>\n",
       "      <td>-0.826342</td>\n",
       "      <td>0.931602</td>\n",
       "      <td>-0.616887</td>\n",
       "      <td>-0.315025</td>\n",
       "      <td>0.659054</td>\n",
       "      <td>0.533574</td>\n",
       "      <td>-1.0</td>\n",
       "      <td>Unknown</td>\n",
       "    </tr>\n",
       "    <tr>\n",
       "      <th>365</th>\n",
       "      <td>ZALG.DE</td>\n",
       "      <td>2022</td>\n",
       "      <td>ZAL</td>\n",
       "      <td>0.538483</td>\n",
       "      <td>0.398434</td>\n",
       "      <td>0.273476</td>\n",
       "      <td>-0.297657</td>\n",
       "      <td>-0.788681</td>\n",
       "      <td>0.263089</td>\n",
       "      <td>-0.454107</td>\n",
       "      <td>...</td>\n",
       "      <td>-0.348995</td>\n",
       "      <td>-0.335089</td>\n",
       "      <td>-0.136227</td>\n",
       "      <td>0.048843</td>\n",
       "      <td>0.429615</td>\n",
       "      <td>0.526453</td>\n",
       "      <td>0.395979</td>\n",
       "      <td>-0.348018</td>\n",
       "      <td>-1.0</td>\n",
       "      <td>Unknown</td>\n",
       "    </tr>\n",
       "  </tbody>\n",
       "</table>\n",
       "<p>151 rows × 773 columns</p>\n",
       "</div>"
      ],
      "text/plain": [
       "         RIC  year ticker_         0         1         2         3         4  \\\n",
       "2      ABF.L  2022     ABF  0.079495  0.208908 -0.001545 -0.075916 -0.067437   \n",
       "5       AV.L  2022     AV. -0.219500 -0.136893 -0.318340  0.276178  0.206854   \n",
       "11    BDEV.L  2022    BDEV -0.067985  0.046161  0.013485  0.099338 -0.064675   \n",
       "13    BEZG.L  2022     BEZ -0.226246  0.330224  0.088294 -0.037042  0.282240   \n",
       "16    BMEB.L  2022     BME  0.426704  0.385576  0.095243 -0.211303 -0.326621   \n",
       "..       ...   ...     ...       ...       ...       ...       ...       ...   \n",
       "353  RWEG.DE  2022     RWE -0.135386  0.215728  0.278423 -0.158881  0.169290   \n",
       "356  SATG.DE  2022    SRT3  0.118079  0.268742  0.223600 -0.153730 -0.314112   \n",
       "360  SY1G.DE  2022     SY1  0.318193  0.644791  0.712463 -0.529344 -0.447008   \n",
       "362  VNAn.DE  2022     VNA -0.458432  0.224775  0.441897  0.042122  0.574230   \n",
       "365  ZALG.DE  2022     ZAL  0.538483  0.398434  0.273476 -0.297657 -0.788681   \n",
       "\n",
       "            5         6  ...       760       761       762       763  \\\n",
       "2    0.150376 -0.245490  ...  0.177665 -0.041616 -0.420090  0.121705   \n",
       "5   -0.094615 -0.094100  ...  0.603580  0.190491 -0.218694  0.243476   \n",
       "11   0.040927 -0.125454  ...  0.373116  0.066545 -0.319083  0.254135   \n",
       "13   0.355931  0.047793  ...  0.301942  0.522198 -0.798775  0.710784   \n",
       "16   0.289741 -0.486000  ... -0.015909 -0.388616 -0.090816 -0.139044   \n",
       "..        ...       ...  ...       ...       ...       ...       ...   \n",
       "353  0.287615 -0.417279  ...  0.096573  0.364614 -0.612170  0.593199   \n",
       "356  0.088584 -0.508140  ... -0.137213 -0.084722 -0.397276  0.168750   \n",
       "360  0.586059 -0.554148  ... -0.563769  0.172915 -0.577114  0.655510   \n",
       "362  0.450847 -0.035398  ...  0.558620  0.713998 -0.826342  0.931602   \n",
       "365  0.263089 -0.454107  ... -0.348995 -0.335089 -0.136227  0.048843   \n",
       "\n",
       "          764       765       766       767  ESG Controversies Score  \\\n",
       "2    0.094707 -0.125057  0.414923 -0.061691                     -1.0   \n",
       "5   -0.114896 -0.525202 -0.013693  0.039196                     -1.0   \n",
       "11  -0.098028 -0.146167  0.161238 -0.096547                     -1.0   \n",
       "13  -0.291345 -0.151040  0.638644  0.343670                     -1.0   \n",
       "16   0.444137  0.072914  0.501320 -0.393860                     -1.0   \n",
       "..        ...       ...       ...       ...                      ...   \n",
       "353 -0.311669 -0.105749  0.483702  0.098077                     -1.0   \n",
       "356  0.107837 -0.000551  0.318891 -0.125730                     -1.0   \n",
       "360  0.001915  0.454247  0.802643 -0.083253                     -1.0   \n",
       "362 -0.616887 -0.315025  0.659054  0.533574                     -1.0   \n",
       "365  0.429615  0.526453  0.395979 -0.348018                     -1.0   \n",
       "\n",
       "     ESG Controversies Score Grade  \n",
       "2                          Unknown  \n",
       "5                          Unknown  \n",
       "11                         Unknown  \n",
       "13                         Unknown  \n",
       "16                         Unknown  \n",
       "..                             ...  \n",
       "353                        Unknown  \n",
       "356                        Unknown  \n",
       "360                        Unknown  \n",
       "362                        Unknown  \n",
       "365                        Unknown  \n",
       "\n",
       "[151 rows x 773 columns]"
      ]
     },
     "execution_count": 266,
     "metadata": {},
     "output_type": "execute_result"
    }
   ],
   "source": [
    "test_df[test_df['year'] == 2022]"
   ]
  },
  {
   "cell_type": "code",
   "execution_count": null,
   "id": "d60c6575",
   "metadata": {},
   "outputs": [],
   "source": []
  },
  {
   "cell_type": "code",
   "execution_count": 267,
   "id": "f010b8ee",
   "metadata": {
    "ExecuteTime": {
     "end_time": "2023-05-26T02:10:20.239031Z",
     "start_time": "2023-05-26T02:10:20.231807Z"
    }
   },
   "outputs": [
    {
     "data": {
      "text/plain": [
       "(367, 773)"
      ]
     },
     "execution_count": 267,
     "metadata": {},
     "output_type": "execute_result"
    }
   ],
   "source": [
    "test_df.shape"
   ]
  },
  {
   "cell_type": "code",
   "execution_count": 268,
   "id": "b00c90b2",
   "metadata": {
    "ExecuteTime": {
     "end_time": "2023-05-26T02:10:20.478142Z",
     "start_time": "2023-05-26T02:10:20.462025Z"
    }
   },
   "outputs": [],
   "source": [
    "test_completed_df = pd.merge(test_df, MarketPsych_df, how = 'left', on=['ticker_','year'])"
   ]
  },
  {
   "cell_type": "code",
   "execution_count": 269,
   "id": "c363c9bd",
   "metadata": {
    "ExecuteTime": {
     "end_time": "2023-05-26T02:10:22.577789Z",
     "start_time": "2023-05-26T02:10:22.544022Z"
    }
   },
   "outputs": [
    {
     "data": {
      "text/html": [
       "<div>\n",
       "<style scoped>\n",
       "    .dataframe tbody tr th:only-of-type {\n",
       "        vertical-align: middle;\n",
       "    }\n",
       "\n",
       "    .dataframe tbody tr th {\n",
       "        vertical-align: top;\n",
       "    }\n",
       "\n",
       "    .dataframe thead th {\n",
       "        text-align: right;\n",
       "    }\n",
       "</style>\n",
       "<table border=\"1\" class=\"dataframe\">\n",
       "  <thead>\n",
       "    <tr style=\"text-align: right;\">\n",
       "      <th></th>\n",
       "      <th>RIC</th>\n",
       "      <th>year</th>\n",
       "      <th>ticker_</th>\n",
       "      <th>0</th>\n",
       "      <th>1</th>\n",
       "      <th>2</th>\n",
       "      <th>3</th>\n",
       "      <th>4</th>\n",
       "      <th>5</th>\n",
       "      <th>6</th>\n",
       "      <th>...</th>\n",
       "      <th>layoffs_News_Social</th>\n",
       "      <th>layoffs_Social</th>\n",
       "      <th>managementTrust_News</th>\n",
       "      <th>managementTrust_News_Headline</th>\n",
       "      <th>managementTrust_News_Social</th>\n",
       "      <th>managementTrust_Social</th>\n",
       "      <th>mentions_News</th>\n",
       "      <th>mentions_News_Headline</th>\n",
       "      <th>mentions_News_Social</th>\n",
       "      <th>mentions_Social</th>\n",
       "    </tr>\n",
       "  </thead>\n",
       "  <tbody>\n",
       "    <tr>\n",
       "      <th>0</th>\n",
       "      <td>ABDN.L</td>\n",
       "      <td>2023</td>\n",
       "      <td>ABDN</td>\n",
       "      <td>-0.622167</td>\n",
       "      <td>0.061416</td>\n",
       "      <td>0.075657</td>\n",
       "      <td>0.221786</td>\n",
       "      <td>0.514692</td>\n",
       "      <td>0.215489</td>\n",
       "      <td>0.116194</td>\n",
       "      <td>...</td>\n",
       "      <td>0.000000</td>\n",
       "      <td>0.000000</td>\n",
       "      <td>0.046512</td>\n",
       "      <td>0.000000</td>\n",
       "      <td>0.060000</td>\n",
       "      <td>0.085714</td>\n",
       "      <td>1323.0</td>\n",
       "      <td>108.0</td>\n",
       "      <td>1628.0</td>\n",
       "      <td>305.0</td>\n",
       "    </tr>\n",
       "    <tr>\n",
       "      <th>1</th>\n",
       "      <td>ABDN.L</td>\n",
       "      <td>2023</td>\n",
       "      <td>ABDN</td>\n",
       "      <td>-0.622167</td>\n",
       "      <td>0.061416</td>\n",
       "      <td>0.075657</td>\n",
       "      <td>0.221786</td>\n",
       "      <td>0.514692</td>\n",
       "      <td>0.215489</td>\n",
       "      <td>0.116194</td>\n",
       "      <td>...</td>\n",
       "      <td>0.000000</td>\n",
       "      <td>0.000000</td>\n",
       "      <td>0.046512</td>\n",
       "      <td>0.000000</td>\n",
       "      <td>0.060000</td>\n",
       "      <td>0.085714</td>\n",
       "      <td>1323.0</td>\n",
       "      <td>108.0</td>\n",
       "      <td>1628.0</td>\n",
       "      <td>305.0</td>\n",
       "    </tr>\n",
       "    <tr>\n",
       "      <th>2</th>\n",
       "      <td>ABDN.L</td>\n",
       "      <td>2023</td>\n",
       "      <td>ABDN</td>\n",
       "      <td>-0.622167</td>\n",
       "      <td>0.061416</td>\n",
       "      <td>0.075657</td>\n",
       "      <td>0.221786</td>\n",
       "      <td>0.514692</td>\n",
       "      <td>0.215489</td>\n",
       "      <td>0.116194</td>\n",
       "      <td>...</td>\n",
       "      <td>0.000000</td>\n",
       "      <td>0.000000</td>\n",
       "      <td>0.046512</td>\n",
       "      <td>0.000000</td>\n",
       "      <td>0.060000</td>\n",
       "      <td>0.085714</td>\n",
       "      <td>1323.0</td>\n",
       "      <td>108.0</td>\n",
       "      <td>1628.0</td>\n",
       "      <td>305.0</td>\n",
       "    </tr>\n",
       "    <tr>\n",
       "      <th>3</th>\n",
       "      <td>ABDN.L</td>\n",
       "      <td>2023</td>\n",
       "      <td>ABDN</td>\n",
       "      <td>-0.622167</td>\n",
       "      <td>0.061416</td>\n",
       "      <td>0.075657</td>\n",
       "      <td>0.221786</td>\n",
       "      <td>0.514692</td>\n",
       "      <td>0.215489</td>\n",
       "      <td>0.116194</td>\n",
       "      <td>...</td>\n",
       "      <td>0.000000</td>\n",
       "      <td>0.000000</td>\n",
       "      <td>0.046512</td>\n",
       "      <td>0.000000</td>\n",
       "      <td>0.060000</td>\n",
       "      <td>0.085714</td>\n",
       "      <td>1323.0</td>\n",
       "      <td>108.0</td>\n",
       "      <td>1628.0</td>\n",
       "      <td>305.0</td>\n",
       "    </tr>\n",
       "    <tr>\n",
       "      <th>4</th>\n",
       "      <td>ABF.L</td>\n",
       "      <td>2022</td>\n",
       "      <td>ABF</td>\n",
       "      <td>0.079495</td>\n",
       "      <td>0.208908</td>\n",
       "      <td>-0.001545</td>\n",
       "      <td>-0.075916</td>\n",
       "      <td>-0.067437</td>\n",
       "      <td>0.150376</td>\n",
       "      <td>-0.245490</td>\n",
       "      <td>...</td>\n",
       "      <td>0.003442</td>\n",
       "      <td>0.006079</td>\n",
       "      <td>0.098361</td>\n",
       "      <td>0.000000</td>\n",
       "      <td>0.092308</td>\n",
       "      <td>0.000000</td>\n",
       "      <td>3084.0</td>\n",
       "      <td>148.0</td>\n",
       "      <td>3748.0</td>\n",
       "      <td>664.0</td>\n",
       "    </tr>\n",
       "    <tr>\n",
       "      <th>...</th>\n",
       "      <td>...</td>\n",
       "      <td>...</td>\n",
       "      <td>...</td>\n",
       "      <td>...</td>\n",
       "      <td>...</td>\n",
       "      <td>...</td>\n",
       "      <td>...</td>\n",
       "      <td>...</td>\n",
       "      <td>...</td>\n",
       "      <td>...</td>\n",
       "      <td>...</td>\n",
       "      <td>...</td>\n",
       "      <td>...</td>\n",
       "      <td>...</td>\n",
       "      <td>...</td>\n",
       "      <td>...</td>\n",
       "      <td>...</td>\n",
       "      <td>...</td>\n",
       "      <td>...</td>\n",
       "      <td>...</td>\n",
       "      <td>...</td>\n",
       "    </tr>\n",
       "    <tr>\n",
       "      <th>380</th>\n",
       "      <td>VNAn.DE</td>\n",
       "      <td>2022</td>\n",
       "      <td>VNA</td>\n",
       "      <td>-0.458432</td>\n",
       "      <td>0.224775</td>\n",
       "      <td>0.441897</td>\n",
       "      <td>0.042122</td>\n",
       "      <td>0.574230</td>\n",
       "      <td>0.450847</td>\n",
       "      <td>-0.035398</td>\n",
       "      <td>...</td>\n",
       "      <td>0.000000</td>\n",
       "      <td>0.000000</td>\n",
       "      <td>0.100840</td>\n",
       "      <td>0.000000</td>\n",
       "      <td>0.210526</td>\n",
       "      <td>0.260870</td>\n",
       "      <td>4808.0</td>\n",
       "      <td>503.0</td>\n",
       "      <td>5869.0</td>\n",
       "      <td>1061.0</td>\n",
       "    </tr>\n",
       "    <tr>\n",
       "      <th>381</th>\n",
       "      <td>VNAn.DE</td>\n",
       "      <td>2023</td>\n",
       "      <td>VNA</td>\n",
       "      <td>-0.426725</td>\n",
       "      <td>-0.331284</td>\n",
       "      <td>-0.601485</td>\n",
       "      <td>0.470781</td>\n",
       "      <td>0.380567</td>\n",
       "      <td>-0.303744</td>\n",
       "      <td>0.142052</td>\n",
       "      <td>...</td>\n",
       "      <td>0.000000</td>\n",
       "      <td>0.000000</td>\n",
       "      <td>0.020202</td>\n",
       "      <td>0.066667</td>\n",
       "      <td>0.020202</td>\n",
       "      <td>0.000000</td>\n",
       "      <td>3780.0</td>\n",
       "      <td>383.0</td>\n",
       "      <td>3974.0</td>\n",
       "      <td>194.0</td>\n",
       "    </tr>\n",
       "    <tr>\n",
       "      <th>382</th>\n",
       "      <td>VOWG_p.DE</td>\n",
       "      <td>2023</td>\n",
       "      <td>VOW</td>\n",
       "      <td>-0.114527</td>\n",
       "      <td>0.131344</td>\n",
       "      <td>0.054209</td>\n",
       "      <td>-0.040414</td>\n",
       "      <td>0.159482</td>\n",
       "      <td>0.184122</td>\n",
       "      <td>-0.320473</td>\n",
       "      <td>...</td>\n",
       "      <td>NaN</td>\n",
       "      <td>NaN</td>\n",
       "      <td>NaN</td>\n",
       "      <td>NaN</td>\n",
       "      <td>NaN</td>\n",
       "      <td>NaN</td>\n",
       "      <td>NaN</td>\n",
       "      <td>NaN</td>\n",
       "      <td>NaN</td>\n",
       "      <td>NaN</td>\n",
       "    </tr>\n",
       "    <tr>\n",
       "      <th>383</th>\n",
       "      <td>ZALG.DE</td>\n",
       "      <td>2022</td>\n",
       "      <td>ZAL</td>\n",
       "      <td>0.538483</td>\n",
       "      <td>0.398434</td>\n",
       "      <td>0.273476</td>\n",
       "      <td>-0.297657</td>\n",
       "      <td>-0.788681</td>\n",
       "      <td>0.263089</td>\n",
       "      <td>-0.454107</td>\n",
       "      <td>...</td>\n",
       "      <td>0.014842</td>\n",
       "      <td>0.000000</td>\n",
       "      <td>0.153846</td>\n",
       "      <td>0.000000</td>\n",
       "      <td>0.153846</td>\n",
       "      <td>0.000000</td>\n",
       "      <td>6705.0</td>\n",
       "      <td>685.0</td>\n",
       "      <td>7397.0</td>\n",
       "      <td>692.0</td>\n",
       "    </tr>\n",
       "    <tr>\n",
       "      <th>384</th>\n",
       "      <td>ZALG.DE</td>\n",
       "      <td>2023</td>\n",
       "      <td>ZAL</td>\n",
       "      <td>-0.114495</td>\n",
       "      <td>0.216485</td>\n",
       "      <td>0.211789</td>\n",
       "      <td>0.058026</td>\n",
       "      <td>0.067814</td>\n",
       "      <td>0.167814</td>\n",
       "      <td>-0.222088</td>\n",
       "      <td>...</td>\n",
       "      <td>0.040816</td>\n",
       "      <td>0.033333</td>\n",
       "      <td>0.111111</td>\n",
       "      <td>0.000000</td>\n",
       "      <td>0.111111</td>\n",
       "      <td>0.000000</td>\n",
       "      <td>3526.0</td>\n",
       "      <td>541.0</td>\n",
       "      <td>3670.0</td>\n",
       "      <td>144.0</td>\n",
       "    </tr>\n",
       "  </tbody>\n",
       "</table>\n",
       "<p>385 rows × 797 columns</p>\n",
       "</div>"
      ],
      "text/plain": [
       "           RIC  year ticker_         0         1         2         3  \\\n",
       "0       ABDN.L  2023    ABDN -0.622167  0.061416  0.075657  0.221786   \n",
       "1       ABDN.L  2023    ABDN -0.622167  0.061416  0.075657  0.221786   \n",
       "2       ABDN.L  2023    ABDN -0.622167  0.061416  0.075657  0.221786   \n",
       "3       ABDN.L  2023    ABDN -0.622167  0.061416  0.075657  0.221786   \n",
       "4        ABF.L  2022     ABF  0.079495  0.208908 -0.001545 -0.075916   \n",
       "..         ...   ...     ...       ...       ...       ...       ...   \n",
       "380    VNAn.DE  2022     VNA -0.458432  0.224775  0.441897  0.042122   \n",
       "381    VNAn.DE  2023     VNA -0.426725 -0.331284 -0.601485  0.470781   \n",
       "382  VOWG_p.DE  2023     VOW -0.114527  0.131344  0.054209 -0.040414   \n",
       "383    ZALG.DE  2022     ZAL  0.538483  0.398434  0.273476 -0.297657   \n",
       "384    ZALG.DE  2023     ZAL -0.114495  0.216485  0.211789  0.058026   \n",
       "\n",
       "            4         5         6  ...  layoffs_News_Social  layoffs_Social  \\\n",
       "0    0.514692  0.215489  0.116194  ...             0.000000        0.000000   \n",
       "1    0.514692  0.215489  0.116194  ...             0.000000        0.000000   \n",
       "2    0.514692  0.215489  0.116194  ...             0.000000        0.000000   \n",
       "3    0.514692  0.215489  0.116194  ...             0.000000        0.000000   \n",
       "4   -0.067437  0.150376 -0.245490  ...             0.003442        0.006079   \n",
       "..        ...       ...       ...  ...                  ...             ...   \n",
       "380  0.574230  0.450847 -0.035398  ...             0.000000        0.000000   \n",
       "381  0.380567 -0.303744  0.142052  ...             0.000000        0.000000   \n",
       "382  0.159482  0.184122 -0.320473  ...                  NaN             NaN   \n",
       "383 -0.788681  0.263089 -0.454107  ...             0.014842        0.000000   \n",
       "384  0.067814  0.167814 -0.222088  ...             0.040816        0.033333   \n",
       "\n",
       "     managementTrust_News  managementTrust_News_Headline  \\\n",
       "0                0.046512                       0.000000   \n",
       "1                0.046512                       0.000000   \n",
       "2                0.046512                       0.000000   \n",
       "3                0.046512                       0.000000   \n",
       "4                0.098361                       0.000000   \n",
       "..                    ...                            ...   \n",
       "380              0.100840                       0.000000   \n",
       "381              0.020202                       0.066667   \n",
       "382                   NaN                            NaN   \n",
       "383              0.153846                       0.000000   \n",
       "384              0.111111                       0.000000   \n",
       "\n",
       "     managementTrust_News_Social  managementTrust_Social  mentions_News  \\\n",
       "0                       0.060000                0.085714         1323.0   \n",
       "1                       0.060000                0.085714         1323.0   \n",
       "2                       0.060000                0.085714         1323.0   \n",
       "3                       0.060000                0.085714         1323.0   \n",
       "4                       0.092308                0.000000         3084.0   \n",
       "..                           ...                     ...            ...   \n",
       "380                     0.210526                0.260870         4808.0   \n",
       "381                     0.020202                0.000000         3780.0   \n",
       "382                          NaN                     NaN            NaN   \n",
       "383                     0.153846                0.000000         6705.0   \n",
       "384                     0.111111                0.000000         3526.0   \n",
       "\n",
       "     mentions_News_Headline  mentions_News_Social  mentions_Social  \n",
       "0                     108.0                1628.0            305.0  \n",
       "1                     108.0                1628.0            305.0  \n",
       "2                     108.0                1628.0            305.0  \n",
       "3                     108.0                1628.0            305.0  \n",
       "4                     148.0                3748.0            664.0  \n",
       "..                      ...                   ...              ...  \n",
       "380                   503.0                5869.0           1061.0  \n",
       "381                   383.0                3974.0            194.0  \n",
       "382                     NaN                   NaN              NaN  \n",
       "383                   685.0                7397.0            692.0  \n",
       "384                   541.0                3670.0            144.0  \n",
       "\n",
       "[385 rows x 797 columns]"
      ]
     },
     "execution_count": 269,
     "metadata": {},
     "output_type": "execute_result"
    }
   ],
   "source": [
    "test_completed_df"
   ]
  },
  {
   "cell_type": "code",
   "execution_count": 270,
   "id": "bb82716d",
   "metadata": {
    "ExecuteTime": {
     "end_time": "2023-05-26T02:10:23.438825Z",
     "start_time": "2023-05-26T02:10:23.418836Z"
    }
   },
   "outputs": [],
   "source": [
    "test_ready_df = pd.concat([\n",
    "    test_completed_df.drop(['ESG Controversies Score', 'ESG Controversies Score Grade'], axis=1), \n",
    "    test_completed_df[['ESG Controversies Score', 'ESG Controversies Score Grade']]], axis=1)"
   ]
  },
  {
   "cell_type": "code",
   "execution_count": 271,
   "id": "2f46924d",
   "metadata": {
    "ExecuteTime": {
     "end_time": "2023-05-26T02:10:24.185090Z",
     "start_time": "2023-05-26T02:10:24.168875Z"
    }
   },
   "outputs": [],
   "source": [
    "test_ready_df = test_ready_df[test_ready_df['managementTrust_News_Headline'].notnull()]\n",
    "test_ready_df = test_ready_df.reset_index(drop=True)"
   ]
  },
  {
   "cell_type": "code",
   "execution_count": 232,
   "id": "d349b02c",
   "metadata": {
    "ExecuteTime": {
     "end_time": "2023-05-26T02:05:08.772530Z",
     "start_time": "2023-05-26T02:05:08.758924Z"
    }
   },
   "outputs": [
    {
     "data": {
      "text/plain": [
       "(array(['Unknown'], dtype=object), array([357]))"
      ]
     },
     "execution_count": 232,
     "metadata": {},
     "output_type": "execute_result"
    }
   ],
   "source": [
    "np.unique(test_ready_df['ESG Controversies Score Grade'], return_counts=True)"
   ]
  },
  {
   "cell_type": "code",
   "execution_count": 272,
   "id": "3bddd7ff",
   "metadata": {
    "ExecuteTime": {
     "end_time": "2023-05-26T02:10:30.358153Z",
     "start_time": "2023-05-26T02:10:30.349062Z"
    }
   },
   "outputs": [],
   "source": [
    "def grade_calculation(score):\n",
    "    score = score / 100\n",
    "    \n",
    "    if score <= 0.250000:\n",
    "        val = 'D'\n",
    "    elif score <= 0.500000: \n",
    "        val = 'C'\n",
    "    elif score <= 0.750000: \n",
    "        val = 'B'\n",
    "    elif score > 0.75: \n",
    "        val = 'A'\n",
    "\n",
    "    return val"
   ]
  },
  {
   "cell_type": "code",
   "execution_count": 273,
   "id": "efc43feb",
   "metadata": {
    "ExecuteTime": {
     "end_time": "2023-05-26T02:10:59.513903Z",
     "start_time": "2023-05-26T02:10:59.497583Z"
    }
   },
   "outputs": [],
   "source": [
    "test_ready_clean_df = test_ready_df.drop(['RIC','year', 'ticker_','ESG Controversies Score Grade','ESG Controversies Score Grade'], axis=1).reset_index(drop=True)"
   ]
  },
  {
   "cell_type": "code",
   "execution_count": 274,
   "id": "bd8cce35",
   "metadata": {
    "ExecuteTime": {
     "end_time": "2023-05-26T02:11:06.189423Z",
     "start_time": "2023-05-26T02:11:06.180110Z"
    }
   },
   "outputs": [],
   "source": [
    "y = test_ready_clean_df.iloc[:,-1]\n",
    "X = test_ready_clean_df.iloc[:,:-1]"
   ]
  },
  {
   "cell_type": "code",
   "execution_count": null,
   "id": "146d9883",
   "metadata": {},
   "outputs": [],
   "source": []
  },
  {
   "cell_type": "code",
   "execution_count": null,
   "id": "1980d2f0",
   "metadata": {},
   "outputs": [],
   "source": []
  },
  {
   "cell_type": "markdown",
   "id": "d2221e70",
   "metadata": {},
   "source": [
    "# Standard Scaller"
   ]
  },
  {
   "cell_type": "code",
   "execution_count": 275,
   "id": "7154fd2c",
   "metadata": {
    "ExecuteTime": {
     "end_time": "2023-05-26T02:11:14.499083Z",
     "start_time": "2023-05-26T02:11:14.465706Z"
    }
   },
   "outputs": [],
   "source": [
    "X_test_std_df = stdscaller.transform(X)"
   ]
  },
  {
   "cell_type": "markdown",
   "id": "f0d2bc39",
   "metadata": {},
   "source": [
    "# Principal Component Analysis"
   ]
  },
  {
   "cell_type": "code",
   "execution_count": 276,
   "id": "86107cb2",
   "metadata": {
    "ExecuteTime": {
     "end_time": "2023-05-26T02:11:14.864255Z",
     "start_time": "2023-05-26T02:11:14.827001Z"
    }
   },
   "outputs": [],
   "source": [
    "X_test_std_df = pca.transform(X_test_std_df)"
   ]
  },
  {
   "cell_type": "code",
   "execution_count": 277,
   "id": "aa382be7",
   "metadata": {
    "ExecuteTime": {
     "end_time": "2023-05-26T02:11:15.184408Z",
     "start_time": "2023-05-26T02:11:15.169267Z"
    }
   },
   "outputs": [],
   "source": [
    "y_test_pred = ensemble_model.predict(X_test_std_df)"
   ]
  },
  {
   "cell_type": "code",
   "execution_count": 278,
   "id": "80e5ce13",
   "metadata": {
    "ExecuteTime": {
     "end_time": "2023-05-26T02:11:16.378856Z",
     "start_time": "2023-05-26T02:11:16.368517Z"
    }
   },
   "outputs": [],
   "source": [
    "def grade_calculation_og(score):\n",
    "    val = 'A+'\n",
    "    \n",
    "    score = score/100\n",
    "\n",
    "    if score <= 0.083333:\n",
    "        val = 'D-'\n",
    "    elif 0.083333 < score <= 0.166666: \n",
    "        val = 'D'\n",
    "    elif 0.166666 < score <= 0.250000: \n",
    "        val = 'D+'\n",
    "    elif 0.250000 < score <= 0.333333: \n",
    "        val = 'C-'\n",
    "    elif 0.333333 < score <= 0.416666: \n",
    "        val = 'C'\n",
    "    elif 0.416666 < score <= 0.500000: \n",
    "        val = 'C+'\n",
    "    elif 0.500000 < score <= 0.583333: \n",
    "        val = 'B-'\n",
    "    elif 0.583333 < score <= 0.666666: \n",
    "        val = 'B'\n",
    "    elif 0.666666 < score <= 0.750000: \n",
    "        val = 'B+'\n",
    "    elif 0.750000 < score <= 0.833333: \n",
    "        val = 'A-'\n",
    "    elif 0.833333 < score <= 0.916666: \n",
    "        val = 'A'\n",
    "\n",
    "    return val"
   ]
  },
  {
   "cell_type": "code",
   "execution_count": 279,
   "id": "e549042d",
   "metadata": {
    "ExecuteTime": {
     "end_time": "2023-05-26T02:11:19.585476Z",
     "start_time": "2023-05-26T02:11:19.579810Z"
    }
   },
   "outputs": [],
   "source": [
    "y_test_prediction_list = [grade_calculation_og(rates) for rates in y_test_pred]"
   ]
  },
  {
   "cell_type": "code",
   "execution_count": 285,
   "id": "79c9f747",
   "metadata": {
    "ExecuteTime": {
     "end_time": "2023-05-26T02:12:54.421382Z",
     "start_time": "2023-05-26T02:12:54.389194Z"
    }
   },
   "outputs": [],
   "source": [
    "test_ready_df['controversy_prediction'] = y_test_prediction_list"
   ]
  },
  {
   "cell_type": "code",
   "execution_count": 292,
   "id": "cec4aca8",
   "metadata": {
    "ExecuteTime": {
     "end_time": "2023-05-26T02:14:08.039086Z",
     "start_time": "2023-05-26T02:14:08.008378Z"
    }
   },
   "outputs": [
    {
     "data": {
      "text/html": [
       "<div>\n",
       "<style scoped>\n",
       "    .dataframe tbody tr th:only-of-type {\n",
       "        vertical-align: middle;\n",
       "    }\n",
       "\n",
       "    .dataframe tbody tr th {\n",
       "        vertical-align: top;\n",
       "    }\n",
       "\n",
       "    .dataframe thead th {\n",
       "        text-align: right;\n",
       "    }\n",
       "</style>\n",
       "<table border=\"1\" class=\"dataframe\">\n",
       "  <thead>\n",
       "    <tr style=\"text-align: right;\">\n",
       "      <th></th>\n",
       "      <th>RIC</th>\n",
       "      <th>year</th>\n",
       "      <th>ticker_</th>\n",
       "      <th>0</th>\n",
       "      <th>1</th>\n",
       "      <th>2</th>\n",
       "      <th>3</th>\n",
       "      <th>4</th>\n",
       "      <th>5</th>\n",
       "      <th>6</th>\n",
       "      <th>...</th>\n",
       "      <th>managementTrust_News_Headline</th>\n",
       "      <th>managementTrust_News_Social</th>\n",
       "      <th>managementTrust_Social</th>\n",
       "      <th>mentions_News</th>\n",
       "      <th>mentions_News_Headline</th>\n",
       "      <th>mentions_News_Social</th>\n",
       "      <th>mentions_Social</th>\n",
       "      <th>ESG Controversies Score</th>\n",
       "      <th>ESG Controversies Score Grade</th>\n",
       "      <th>controversy_prediction</th>\n",
       "    </tr>\n",
       "  </thead>\n",
       "  <tbody>\n",
       "    <tr>\n",
       "      <th>79</th>\n",
       "      <td>NWG.L</td>\n",
       "      <td>2022</td>\n",
       "      <td>NWG</td>\n",
       "      <td>-0.155423</td>\n",
       "      <td>0.100798</td>\n",
       "      <td>-0.129626</td>\n",
       "      <td>0.107184</td>\n",
       "      <td>0.278870</td>\n",
       "      <td>0.069916</td>\n",
       "      <td>-0.229708</td>\n",
       "      <td>...</td>\n",
       "      <td>0.0</td>\n",
       "      <td>0.045802</td>\n",
       "      <td>0.051724</td>\n",
       "      <td>6231.0</td>\n",
       "      <td>534.0</td>\n",
       "      <td>18327.0</td>\n",
       "      <td>12096.0</td>\n",
       "      <td>-1.0</td>\n",
       "      <td>Unknown</td>\n",
       "      <td>B+</td>\n",
       "    </tr>\n",
       "    <tr>\n",
       "      <th>80</th>\n",
       "      <td>NWG.L</td>\n",
       "      <td>2023</td>\n",
       "      <td>NWG</td>\n",
       "      <td>0.032429</td>\n",
       "      <td>-0.152313</td>\n",
       "      <td>-0.328742</td>\n",
       "      <td>0.271574</td>\n",
       "      <td>0.202565</td>\n",
       "      <td>-0.261855</td>\n",
       "      <td>-0.145319</td>\n",
       "      <td>...</td>\n",
       "      <td>0.0</td>\n",
       "      <td>0.006415</td>\n",
       "      <td>0.010204</td>\n",
       "      <td>4182.0</td>\n",
       "      <td>317.0</td>\n",
       "      <td>8374.0</td>\n",
       "      <td>4192.0</td>\n",
       "      <td>-1.0</td>\n",
       "      <td>Unknown</td>\n",
       "      <td>B</td>\n",
       "    </tr>\n",
       "  </tbody>\n",
       "</table>\n",
       "<p>2 rows × 798 columns</p>\n",
       "</div>"
      ],
      "text/plain": [
       "      RIC  year ticker_         0         1         2         3         4  \\\n",
       "79  NWG.L  2022     NWG -0.155423  0.100798 -0.129626  0.107184  0.278870   \n",
       "80  NWG.L  2023     NWG  0.032429 -0.152313 -0.328742  0.271574  0.202565   \n",
       "\n",
       "           5         6  ...  managementTrust_News_Headline  \\\n",
       "79  0.069916 -0.229708  ...                            0.0   \n",
       "80 -0.261855 -0.145319  ...                            0.0   \n",
       "\n",
       "    managementTrust_News_Social  managementTrust_Social  mentions_News  \\\n",
       "79                     0.045802                0.051724         6231.0   \n",
       "80                     0.006415                0.010204         4182.0   \n",
       "\n",
       "    mentions_News_Headline  mentions_News_Social  mentions_Social  \\\n",
       "79                   534.0               18327.0          12096.0   \n",
       "80                   317.0                8374.0           4192.0   \n",
       "\n",
       "    ESG Controversies Score  ESG Controversies Score Grade  \\\n",
       "79                     -1.0                        Unknown   \n",
       "80                     -1.0                        Unknown   \n",
       "\n",
       "    controversy_prediction  \n",
       "79                      B+  \n",
       "80                       B  \n",
       "\n",
       "[2 rows x 798 columns]"
      ]
     },
     "execution_count": 292,
     "metadata": {},
     "output_type": "execute_result"
    }
   ],
   "source": [
    "test_ready_df[test_ready_df['ticker_'] == 'NWG']"
   ]
  },
  {
   "cell_type": "code",
   "execution_count": 304,
   "id": "85986874",
   "metadata": {
    "ExecuteTime": {
     "end_time": "2023-05-26T02:20:47.298333Z",
     "start_time": "2023-05-26T02:20:47.259689Z"
    }
   },
   "outputs": [
    {
     "data": {
      "text/html": [
       "<div>\n",
       "<style scoped>\n",
       "    .dataframe tbody tr th:only-of-type {\n",
       "        vertical-align: middle;\n",
       "    }\n",
       "\n",
       "    .dataframe tbody tr th {\n",
       "        vertical-align: top;\n",
       "    }\n",
       "\n",
       "    .dataframe thead th {\n",
       "        text-align: right;\n",
       "    }\n",
       "</style>\n",
       "<table border=\"1\" class=\"dataframe\">\n",
       "  <thead>\n",
       "    <tr style=\"text-align: right;\">\n",
       "      <th></th>\n",
       "      <th>RIC</th>\n",
       "      <th>year</th>\n",
       "      <th>ticker_</th>\n",
       "      <th>0</th>\n",
       "      <th>1</th>\n",
       "      <th>2</th>\n",
       "      <th>3</th>\n",
       "      <th>4</th>\n",
       "      <th>5</th>\n",
       "      <th>6</th>\n",
       "      <th>...</th>\n",
       "      <th>managementTrust_News_Headline</th>\n",
       "      <th>managementTrust_News_Social</th>\n",
       "      <th>managementTrust_Social</th>\n",
       "      <th>mentions_News</th>\n",
       "      <th>mentions_News_Headline</th>\n",
       "      <th>mentions_News_Social</th>\n",
       "      <th>mentions_Social</th>\n",
       "      <th>ESG Controversies Score</th>\n",
       "      <th>ESG Controversies Score Grade</th>\n",
       "      <th>controversy_prediction</th>\n",
       "    </tr>\n",
       "  </thead>\n",
       "  <tbody>\n",
       "    <tr>\n",
       "      <th>73</th>\n",
       "      <td>LLOY.L</td>\n",
       "      <td>2023</td>\n",
       "      <td>LLOY</td>\n",
       "      <td>-0.092123</td>\n",
       "      <td>-0.140694</td>\n",
       "      <td>-0.310449</td>\n",
       "      <td>0.086024</td>\n",
       "      <td>0.199039</td>\n",
       "      <td>-0.169557</td>\n",
       "      <td>-0.087483</td>\n",
       "      <td>...</td>\n",
       "      <td>0.0</td>\n",
       "      <td>0.036072</td>\n",
       "      <td>0.033333</td>\n",
       "      <td>15622.0</td>\n",
       "      <td>499.0</td>\n",
       "      <td>17251.0</td>\n",
       "      <td>1629.0</td>\n",
       "      <td>-1.0</td>\n",
       "      <td>Unknown</td>\n",
       "      <td>A-</td>\n",
       "    </tr>\n",
       "  </tbody>\n",
       "</table>\n",
       "<p>1 rows × 798 columns</p>\n",
       "</div>"
      ],
      "text/plain": [
       "       RIC  year ticker_         0         1         2         3         4  \\\n",
       "73  LLOY.L  2023    LLOY -0.092123 -0.140694 -0.310449  0.086024  0.199039   \n",
       "\n",
       "           5         6  ...  managementTrust_News_Headline  \\\n",
       "73 -0.169557 -0.087483  ...                            0.0   \n",
       "\n",
       "    managementTrust_News_Social  managementTrust_Social  mentions_News  \\\n",
       "73                     0.036072                0.033333        15622.0   \n",
       "\n",
       "    mentions_News_Headline  mentions_News_Social  mentions_Social  \\\n",
       "73                   499.0               17251.0           1629.0   \n",
       "\n",
       "    ESG Controversies Score  ESG Controversies Score Grade  \\\n",
       "73                     -1.0                        Unknown   \n",
       "\n",
       "    controversy_prediction  \n",
       "73                      A-  \n",
       "\n",
       "[1 rows x 798 columns]"
      ]
     },
     "execution_count": 304,
     "metadata": {},
     "output_type": "execute_result"
    }
   ],
   "source": [
    "test_ready_df[test_ready_df['ticker_'].str.contains('LLOY')]"
   ]
  },
  {
   "cell_type": "code",
   "execution_count": 302,
   "id": "4ab6a7b5",
   "metadata": {
    "ExecuteTime": {
     "end_time": "2023-05-26T02:20:33.283471Z",
     "start_time": "2023-05-26T02:20:33.193434Z"
    }
   },
   "outputs": [
    {
     "data": {
      "text/html": [
       "<div>\n",
       "<style scoped>\n",
       "    .dataframe tbody tr th:only-of-type {\n",
       "        vertical-align: middle;\n",
       "    }\n",
       "\n",
       "    .dataframe tbody tr th {\n",
       "        vertical-align: top;\n",
       "    }\n",
       "\n",
       "    .dataframe thead th {\n",
       "        text-align: right;\n",
       "    }\n",
       "</style>\n",
       "<table border=\"1\" class=\"dataframe\">\n",
       "  <thead>\n",
       "    <tr style=\"text-align: right;\">\n",
       "      <th></th>\n",
       "      <th>RIC</th>\n",
       "      <th>year</th>\n",
       "      <th>ticker_</th>\n",
       "      <th>0</th>\n",
       "      <th>1</th>\n",
       "      <th>2</th>\n",
       "      <th>3</th>\n",
       "      <th>4</th>\n",
       "      <th>5</th>\n",
       "      <th>6</th>\n",
       "      <th>...</th>\n",
       "      <th>managementTrust_News_Headline</th>\n",
       "      <th>managementTrust_News_Social</th>\n",
       "      <th>managementTrust_Social</th>\n",
       "      <th>mentions_News</th>\n",
       "      <th>mentions_News_Headline</th>\n",
       "      <th>mentions_News_Social</th>\n",
       "      <th>mentions_Social</th>\n",
       "      <th>ESG Controversies Score</th>\n",
       "      <th>ESG Controversies Score Grade</th>\n",
       "      <th>controversy_prediction</th>\n",
       "    </tr>\n",
       "  </thead>\n",
       "  <tbody>\n",
       "    <tr>\n",
       "      <th>132</th>\n",
       "      <td>AAPL.O</td>\n",
       "      <td>2022</td>\n",
       "      <td>AAPL</td>\n",
       "      <td>-0.252581</td>\n",
       "      <td>-0.135790</td>\n",
       "      <td>-0.332085</td>\n",
       "      <td>0.252557</td>\n",
       "      <td>0.245949</td>\n",
       "      <td>-0.097391</td>\n",
       "      <td>-0.102318</td>\n",
       "      <td>...</td>\n",
       "      <td>0.040000</td>\n",
       "      <td>0.006016</td>\n",
       "      <td>0.010556</td>\n",
       "      <td>870377.0</td>\n",
       "      <td>56645.0</td>\n",
       "      <td>1892394.0</td>\n",
       "      <td>1022017.0</td>\n",
       "      <td>-1.0</td>\n",
       "      <td>Unknown</td>\n",
       "      <td>D-</td>\n",
       "    </tr>\n",
       "    <tr>\n",
       "      <th>133</th>\n",
       "      <td>AAPL.O</td>\n",
       "      <td>2023</td>\n",
       "      <td>AAPL</td>\n",
       "      <td>-0.263734</td>\n",
       "      <td>-0.011593</td>\n",
       "      <td>-0.043778</td>\n",
       "      <td>0.098905</td>\n",
       "      <td>0.132369</td>\n",
       "      <td>-0.010248</td>\n",
       "      <td>-0.134274</td>\n",
       "      <td>...</td>\n",
       "      <td>0.018433</td>\n",
       "      <td>0.003090</td>\n",
       "      <td>0.006448</td>\n",
       "      <td>427204.0</td>\n",
       "      <td>26588.0</td>\n",
       "      <td>767406.0</td>\n",
       "      <td>340202.0</td>\n",
       "      <td>-1.0</td>\n",
       "      <td>Unknown</td>\n",
       "      <td>D+</td>\n",
       "    </tr>\n",
       "  </tbody>\n",
       "</table>\n",
       "<p>2 rows × 798 columns</p>\n",
       "</div>"
      ],
      "text/plain": [
       "        RIC  year ticker_         0         1         2         3         4  \\\n",
       "132  AAPL.O  2022    AAPL -0.252581 -0.135790 -0.332085  0.252557  0.245949   \n",
       "133  AAPL.O  2023    AAPL -0.263734 -0.011593 -0.043778  0.098905  0.132369   \n",
       "\n",
       "            5         6  ...  managementTrust_News_Headline  \\\n",
       "132 -0.097391 -0.102318  ...                       0.040000   \n",
       "133 -0.010248 -0.134274  ...                       0.018433   \n",
       "\n",
       "     managementTrust_News_Social  managementTrust_Social  mentions_News  \\\n",
       "132                     0.006016                0.010556       870377.0   \n",
       "133                     0.003090                0.006448       427204.0   \n",
       "\n",
       "     mentions_News_Headline  mentions_News_Social  mentions_Social  \\\n",
       "132                 56645.0             1892394.0        1022017.0   \n",
       "133                 26588.0              767406.0         340202.0   \n",
       "\n",
       "     ESG Controversies Score  ESG Controversies Score Grade  \\\n",
       "132                     -1.0                        Unknown   \n",
       "133                     -1.0                        Unknown   \n",
       "\n",
       "     controversy_prediction  \n",
       "132                      D-  \n",
       "133                      D+  \n",
       "\n",
       "[2 rows x 798 columns]"
      ]
     },
     "execution_count": 302,
     "metadata": {},
     "output_type": "execute_result"
    }
   ],
   "source": [
    "test_ready_df[test_ready_df['ticker_'].str.contains('AAPL')]"
   ]
  },
  {
   "cell_type": "code",
   "execution_count": 301,
   "id": "e5d3e357",
   "metadata": {
    "ExecuteTime": {
     "end_time": "2023-05-26T02:18:31.748586Z",
     "start_time": "2023-05-26T02:18:31.671962Z"
    }
   },
   "outputs": [
    {
     "data": {
      "text/html": [
       "<div>\n",
       "<style scoped>\n",
       "    .dataframe tbody tr th:only-of-type {\n",
       "        vertical-align: middle;\n",
       "    }\n",
       "\n",
       "    .dataframe tbody tr th {\n",
       "        vertical-align: top;\n",
       "    }\n",
       "\n",
       "    .dataframe thead th {\n",
       "        text-align: right;\n",
       "    }\n",
       "</style>\n",
       "<table border=\"1\" class=\"dataframe\">\n",
       "  <thead>\n",
       "    <tr style=\"text-align: right;\">\n",
       "      <th></th>\n",
       "      <th>RIC</th>\n",
       "      <th>year</th>\n",
       "      <th>ticker_</th>\n",
       "      <th>0</th>\n",
       "      <th>1</th>\n",
       "      <th>2</th>\n",
       "      <th>3</th>\n",
       "      <th>4</th>\n",
       "      <th>5</th>\n",
       "      <th>6</th>\n",
       "      <th>...</th>\n",
       "      <th>managementTrust_News_Headline</th>\n",
       "      <th>managementTrust_News_Social</th>\n",
       "      <th>managementTrust_Social</th>\n",
       "      <th>mentions_News</th>\n",
       "      <th>mentions_News_Headline</th>\n",
       "      <th>mentions_News_Social</th>\n",
       "      <th>mentions_Social</th>\n",
       "      <th>ESG Controversies Score</th>\n",
       "      <th>ESG Controversies Score Grade</th>\n",
       "      <th>controversy_prediction</th>\n",
       "    </tr>\n",
       "  </thead>\n",
       "  <tbody>\n",
       "    <tr>\n",
       "      <th>207</th>\n",
       "      <td>JPM</td>\n",
       "      <td>2022</td>\n",
       "      <td>JPM</td>\n",
       "      <td>-0.250138</td>\n",
       "      <td>0.050052</td>\n",
       "      <td>0.005996</td>\n",
       "      <td>0.002215</td>\n",
       "      <td>0.391149</td>\n",
       "      <td>0.174031</td>\n",
       "      <td>-0.175302</td>\n",
       "      <td>...</td>\n",
       "      <td>0.049383</td>\n",
       "      <td>0.040134</td>\n",
       "      <td>0.054590</td>\n",
       "      <td>58861.0</td>\n",
       "      <td>12838.0</td>\n",
       "      <td>136738.0</td>\n",
       "      <td>77877.0</td>\n",
       "      <td>-1.0</td>\n",
       "      <td>Unknown</td>\n",
       "      <td>C</td>\n",
       "    </tr>\n",
       "    <tr>\n",
       "      <th>208</th>\n",
       "      <td>JPM</td>\n",
       "      <td>2023</td>\n",
       "      <td>JPM</td>\n",
       "      <td>-0.245801</td>\n",
       "      <td>-0.116275</td>\n",
       "      <td>-0.175638</td>\n",
       "      <td>0.104146</td>\n",
       "      <td>0.372662</td>\n",
       "      <td>-0.021278</td>\n",
       "      <td>-0.209366</td>\n",
       "      <td>...</td>\n",
       "      <td>0.091255</td>\n",
       "      <td>0.011406</td>\n",
       "      <td>0.009604</td>\n",
       "      <td>58463.0</td>\n",
       "      <td>7767.0</td>\n",
       "      <td>104025.0</td>\n",
       "      <td>45562.0</td>\n",
       "      <td>-1.0</td>\n",
       "      <td>Unknown</td>\n",
       "      <td>B-</td>\n",
       "    </tr>\n",
       "  </tbody>\n",
       "</table>\n",
       "<p>2 rows × 798 columns</p>\n",
       "</div>"
      ],
      "text/plain": [
       "     RIC  year ticker_         0         1         2         3         4  \\\n",
       "207  JPM  2022     JPM -0.250138  0.050052  0.005996  0.002215  0.391149   \n",
       "208  JPM  2023     JPM -0.245801 -0.116275 -0.175638  0.104146  0.372662   \n",
       "\n",
       "            5         6  ...  managementTrust_News_Headline  \\\n",
       "207  0.174031 -0.175302  ...                       0.049383   \n",
       "208 -0.021278 -0.209366  ...                       0.091255   \n",
       "\n",
       "     managementTrust_News_Social  managementTrust_Social  mentions_News  \\\n",
       "207                     0.040134                0.054590        58861.0   \n",
       "208                     0.011406                0.009604        58463.0   \n",
       "\n",
       "     mentions_News_Headline  mentions_News_Social  mentions_Social  \\\n",
       "207                 12838.0              136738.0          77877.0   \n",
       "208                  7767.0              104025.0          45562.0   \n",
       "\n",
       "     ESG Controversies Score  ESG Controversies Score Grade  \\\n",
       "207                     -1.0                        Unknown   \n",
       "208                     -1.0                        Unknown   \n",
       "\n",
       "     controversy_prediction  \n",
       "207                       C  \n",
       "208                      B-  \n",
       "\n",
       "[2 rows x 798 columns]"
      ]
     },
     "execution_count": 301,
     "metadata": {},
     "output_type": "execute_result"
    }
   ],
   "source": [
    "test_ready_df[test_ready_df['ticker_'].str.contains('JPM')]"
   ]
  },
  {
   "cell_type": "code",
   "execution_count": null,
   "id": "5425f3c5",
   "metadata": {},
   "outputs": [],
   "source": []
  },
  {
   "cell_type": "code",
   "execution_count": null,
   "id": "aed02b51",
   "metadata": {},
   "outputs": [],
   "source": []
  },
  {
   "cell_type": "code",
   "execution_count": null,
   "id": "b1fb0bda",
   "metadata": {},
   "outputs": [],
   "source": []
  },
  {
   "cell_type": "code",
   "execution_count": 246,
   "id": "6b1004c6",
   "metadata": {
    "ExecuteTime": {
     "end_time": "2023-05-26T02:06:52.487916Z",
     "start_time": "2023-05-26T02:06:52.480291Z"
    }
   },
   "outputs": [
    {
     "data": {
      "text/plain": [
       "357"
      ]
     },
     "execution_count": 246,
     "metadata": {},
     "output_type": "execute_result"
    }
   ],
   "source": [
    "len(y_test_pred)"
   ]
  },
  {
   "cell_type": "code",
   "execution_count": 135,
   "id": "38411287",
   "metadata": {
    "ExecuteTime": {
     "end_time": "2023-05-26T01:49:10.749205Z",
     "start_time": "2023-05-26T01:49:10.714735Z"
    }
   },
   "outputs": [
    {
     "data": {
      "text/html": [
       "<div>\n",
       "<style scoped>\n",
       "    .dataframe tbody tr th:only-of-type {\n",
       "        vertical-align: middle;\n",
       "    }\n",
       "\n",
       "    .dataframe tbody tr th {\n",
       "        vertical-align: top;\n",
       "    }\n",
       "\n",
       "    .dataframe thead th {\n",
       "        text-align: right;\n",
       "    }\n",
       "</style>\n",
       "<table border=\"1\" class=\"dataframe\">\n",
       "  <thead>\n",
       "    <tr style=\"text-align: right;\">\n",
       "      <th></th>\n",
       "      <th>RIC</th>\n",
       "      <th>year</th>\n",
       "      <th>ticker_</th>\n",
       "      <th>0</th>\n",
       "      <th>1</th>\n",
       "      <th>2</th>\n",
       "      <th>3</th>\n",
       "      <th>4</th>\n",
       "      <th>5</th>\n",
       "      <th>6</th>\n",
       "      <th>...</th>\n",
       "      <th>760</th>\n",
       "      <th>761</th>\n",
       "      <th>762</th>\n",
       "      <th>763</th>\n",
       "      <th>764</th>\n",
       "      <th>765</th>\n",
       "      <th>766</th>\n",
       "      <th>767</th>\n",
       "      <th>ESG Controversies Score</th>\n",
       "      <th>ESG Controversies Score Grade</th>\n",
       "    </tr>\n",
       "  </thead>\n",
       "  <tbody>\n",
       "    <tr>\n",
       "      <th>0</th>\n",
       "      <td>ABDN.L</td>\n",
       "      <td>2023</td>\n",
       "      <td>ABDN</td>\n",
       "      <td>-0.622167</td>\n",
       "      <td>0.061416</td>\n",
       "      <td>0.075657</td>\n",
       "      <td>0.221786</td>\n",
       "      <td>0.514692</td>\n",
       "      <td>0.215489</td>\n",
       "      <td>0.116194</td>\n",
       "      <td>...</td>\n",
       "      <td>0.529174</td>\n",
       "      <td>0.836835</td>\n",
       "      <td>-0.773441</td>\n",
       "      <td>0.950753</td>\n",
       "      <td>-0.706480</td>\n",
       "      <td>-0.342184</td>\n",
       "      <td>0.481820</td>\n",
       "      <td>0.504579</td>\n",
       "      <td>-1.0</td>\n",
       "      <td>Unknown</td>\n",
       "    </tr>\n",
       "    <tr>\n",
       "      <th>1</th>\n",
       "      <td>ABDN.L</td>\n",
       "      <td>2023</td>\n",
       "      <td>ABDN</td>\n",
       "      <td>-0.622167</td>\n",
       "      <td>0.061416</td>\n",
       "      <td>0.075657</td>\n",
       "      <td>0.221786</td>\n",
       "      <td>0.514692</td>\n",
       "      <td>0.215489</td>\n",
       "      <td>0.116194</td>\n",
       "      <td>...</td>\n",
       "      <td>0.529174</td>\n",
       "      <td>0.836835</td>\n",
       "      <td>-0.773441</td>\n",
       "      <td>0.950753</td>\n",
       "      <td>-0.706480</td>\n",
       "      <td>-0.342184</td>\n",
       "      <td>0.481820</td>\n",
       "      <td>0.504579</td>\n",
       "      <td>-1.0</td>\n",
       "      <td>Unknown</td>\n",
       "    </tr>\n",
       "    <tr>\n",
       "      <th>2</th>\n",
       "      <td>ABF.L</td>\n",
       "      <td>2022</td>\n",
       "      <td>ABF</td>\n",
       "      <td>0.079495</td>\n",
       "      <td>0.208908</td>\n",
       "      <td>-0.001545</td>\n",
       "      <td>-0.075916</td>\n",
       "      <td>-0.067437</td>\n",
       "      <td>0.150376</td>\n",
       "      <td>-0.245490</td>\n",
       "      <td>...</td>\n",
       "      <td>0.177665</td>\n",
       "      <td>-0.041616</td>\n",
       "      <td>-0.420090</td>\n",
       "      <td>0.121705</td>\n",
       "      <td>0.094707</td>\n",
       "      <td>-0.125057</td>\n",
       "      <td>0.414923</td>\n",
       "      <td>-0.061691</td>\n",
       "      <td>-1.0</td>\n",
       "      <td>Unknown</td>\n",
       "    </tr>\n",
       "    <tr>\n",
       "      <th>3</th>\n",
       "      <td>ABF.L</td>\n",
       "      <td>2023</td>\n",
       "      <td>ABF</td>\n",
       "      <td>0.471378</td>\n",
       "      <td>0.578414</td>\n",
       "      <td>0.503334</td>\n",
       "      <td>-0.415728</td>\n",
       "      <td>-0.622020</td>\n",
       "      <td>0.484474</td>\n",
       "      <td>-0.518261</td>\n",
       "      <td>...</td>\n",
       "      <td>-0.528482</td>\n",
       "      <td>-0.341907</td>\n",
       "      <td>-0.361139</td>\n",
       "      <td>0.002399</td>\n",
       "      <td>0.471494</td>\n",
       "      <td>0.395574</td>\n",
       "      <td>0.699590</td>\n",
       "      <td>-0.351493</td>\n",
       "      <td>-1.0</td>\n",
       "      <td>Unknown</td>\n",
       "    </tr>\n",
       "    <tr>\n",
       "      <th>4</th>\n",
       "      <td>ANTO.L</td>\n",
       "      <td>2023</td>\n",
       "      <td>ANTO</td>\n",
       "      <td>-0.207083</td>\n",
       "      <td>0.098974</td>\n",
       "      <td>-0.018102</td>\n",
       "      <td>0.109681</td>\n",
       "      <td>0.103605</td>\n",
       "      <td>0.126039</td>\n",
       "      <td>-0.193426</td>\n",
       "      <td>...</td>\n",
       "      <td>0.266537</td>\n",
       "      <td>0.131140</td>\n",
       "      <td>-0.417251</td>\n",
       "      <td>0.355238</td>\n",
       "      <td>-0.009992</td>\n",
       "      <td>-0.315782</td>\n",
       "      <td>0.290232</td>\n",
       "      <td>0.114649</td>\n",
       "      <td>-1.0</td>\n",
       "      <td>Unknown</td>\n",
       "    </tr>\n",
       "    <tr>\n",
       "      <th>...</th>\n",
       "      <td>...</td>\n",
       "      <td>...</td>\n",
       "      <td>...</td>\n",
       "      <td>...</td>\n",
       "      <td>...</td>\n",
       "      <td>...</td>\n",
       "      <td>...</td>\n",
       "      <td>...</td>\n",
       "      <td>...</td>\n",
       "      <td>...</td>\n",
       "      <td>...</td>\n",
       "      <td>...</td>\n",
       "      <td>...</td>\n",
       "      <td>...</td>\n",
       "      <td>...</td>\n",
       "      <td>...</td>\n",
       "      <td>...</td>\n",
       "      <td>...</td>\n",
       "      <td>...</td>\n",
       "      <td>...</td>\n",
       "      <td>...</td>\n",
       "    </tr>\n",
       "    <tr>\n",
       "      <th>362</th>\n",
       "      <td>VNAn.DE</td>\n",
       "      <td>2022</td>\n",
       "      <td>VNA</td>\n",
       "      <td>-0.458432</td>\n",
       "      <td>0.224775</td>\n",
       "      <td>0.441897</td>\n",
       "      <td>0.042122</td>\n",
       "      <td>0.574230</td>\n",
       "      <td>0.450847</td>\n",
       "      <td>-0.035398</td>\n",
       "      <td>...</td>\n",
       "      <td>0.558620</td>\n",
       "      <td>0.713998</td>\n",
       "      <td>-0.826342</td>\n",
       "      <td>0.931602</td>\n",
       "      <td>-0.616887</td>\n",
       "      <td>-0.315025</td>\n",
       "      <td>0.659054</td>\n",
       "      <td>0.533574</td>\n",
       "      <td>-1.0</td>\n",
       "      <td>Unknown</td>\n",
       "    </tr>\n",
       "    <tr>\n",
       "      <th>363</th>\n",
       "      <td>VNAn.DE</td>\n",
       "      <td>2023</td>\n",
       "      <td>VNA</td>\n",
       "      <td>-0.426725</td>\n",
       "      <td>-0.331284</td>\n",
       "      <td>-0.601485</td>\n",
       "      <td>0.470781</td>\n",
       "      <td>0.380567</td>\n",
       "      <td>-0.303744</td>\n",
       "      <td>0.142052</td>\n",
       "      <td>...</td>\n",
       "      <td>0.723857</td>\n",
       "      <td>-0.154673</td>\n",
       "      <td>-0.090014</td>\n",
       "      <td>-0.209176</td>\n",
       "      <td>0.246936</td>\n",
       "      <td>-0.571731</td>\n",
       "      <td>-0.299094</td>\n",
       "      <td>0.004010</td>\n",
       "      <td>-1.0</td>\n",
       "      <td>Unknown</td>\n",
       "    </tr>\n",
       "    <tr>\n",
       "      <th>364</th>\n",
       "      <td>VOWG_p.DE</td>\n",
       "      <td>2023</td>\n",
       "      <td>VOW</td>\n",
       "      <td>-0.114527</td>\n",
       "      <td>0.131344</td>\n",
       "      <td>0.054209</td>\n",
       "      <td>-0.040414</td>\n",
       "      <td>0.159482</td>\n",
       "      <td>0.184122</td>\n",
       "      <td>-0.320473</td>\n",
       "      <td>...</td>\n",
       "      <td>0.241463</td>\n",
       "      <td>0.218997</td>\n",
       "      <td>-0.520443</td>\n",
       "      <td>0.448413</td>\n",
       "      <td>-0.182298</td>\n",
       "      <td>-0.242219</td>\n",
       "      <td>0.413743</td>\n",
       "      <td>0.066313</td>\n",
       "      <td>-1.0</td>\n",
       "      <td>Unknown</td>\n",
       "    </tr>\n",
       "    <tr>\n",
       "      <th>365</th>\n",
       "      <td>ZALG.DE</td>\n",
       "      <td>2022</td>\n",
       "      <td>ZAL</td>\n",
       "      <td>0.538483</td>\n",
       "      <td>0.398434</td>\n",
       "      <td>0.273476</td>\n",
       "      <td>-0.297657</td>\n",
       "      <td>-0.788681</td>\n",
       "      <td>0.263089</td>\n",
       "      <td>-0.454107</td>\n",
       "      <td>...</td>\n",
       "      <td>-0.348995</td>\n",
       "      <td>-0.335089</td>\n",
       "      <td>-0.136227</td>\n",
       "      <td>0.048843</td>\n",
       "      <td>0.429615</td>\n",
       "      <td>0.526453</td>\n",
       "      <td>0.395979</td>\n",
       "      <td>-0.348018</td>\n",
       "      <td>-1.0</td>\n",
       "      <td>Unknown</td>\n",
       "    </tr>\n",
       "    <tr>\n",
       "      <th>366</th>\n",
       "      <td>ZALG.DE</td>\n",
       "      <td>2023</td>\n",
       "      <td>ZAL</td>\n",
       "      <td>-0.114495</td>\n",
       "      <td>0.216485</td>\n",
       "      <td>0.211789</td>\n",
       "      <td>0.058026</td>\n",
       "      <td>0.067814</td>\n",
       "      <td>0.167814</td>\n",
       "      <td>-0.222088</td>\n",
       "      <td>...</td>\n",
       "      <td>0.296418</td>\n",
       "      <td>0.055808</td>\n",
       "      <td>-0.394147</td>\n",
       "      <td>0.342075</td>\n",
       "      <td>0.061685</td>\n",
       "      <td>-0.105140</td>\n",
       "      <td>0.319424</td>\n",
       "      <td>-0.010914</td>\n",
       "      <td>-1.0</td>\n",
       "      <td>Unknown</td>\n",
       "    </tr>\n",
       "  </tbody>\n",
       "</table>\n",
       "<p>367 rows × 773 columns</p>\n",
       "</div>"
      ],
      "text/plain": [
       "           RIC  year ticker_         0         1         2         3  \\\n",
       "0       ABDN.L  2023    ABDN -0.622167  0.061416  0.075657  0.221786   \n",
       "1       ABDN.L  2023    ABDN -0.622167  0.061416  0.075657  0.221786   \n",
       "2        ABF.L  2022     ABF  0.079495  0.208908 -0.001545 -0.075916   \n",
       "3        ABF.L  2023     ABF  0.471378  0.578414  0.503334 -0.415728   \n",
       "4       ANTO.L  2023    ANTO -0.207083  0.098974 -0.018102  0.109681   \n",
       "..         ...   ...     ...       ...       ...       ...       ...   \n",
       "362    VNAn.DE  2022     VNA -0.458432  0.224775  0.441897  0.042122   \n",
       "363    VNAn.DE  2023     VNA -0.426725 -0.331284 -0.601485  0.470781   \n",
       "364  VOWG_p.DE  2023     VOW -0.114527  0.131344  0.054209 -0.040414   \n",
       "365    ZALG.DE  2022     ZAL  0.538483  0.398434  0.273476 -0.297657   \n",
       "366    ZALG.DE  2023     ZAL -0.114495  0.216485  0.211789  0.058026   \n",
       "\n",
       "            4         5         6  ...       760       761       762  \\\n",
       "0    0.514692  0.215489  0.116194  ...  0.529174  0.836835 -0.773441   \n",
       "1    0.514692  0.215489  0.116194  ...  0.529174  0.836835 -0.773441   \n",
       "2   -0.067437  0.150376 -0.245490  ...  0.177665 -0.041616 -0.420090   \n",
       "3   -0.622020  0.484474 -0.518261  ... -0.528482 -0.341907 -0.361139   \n",
       "4    0.103605  0.126039 -0.193426  ...  0.266537  0.131140 -0.417251   \n",
       "..        ...       ...       ...  ...       ...       ...       ...   \n",
       "362  0.574230  0.450847 -0.035398  ...  0.558620  0.713998 -0.826342   \n",
       "363  0.380567 -0.303744  0.142052  ...  0.723857 -0.154673 -0.090014   \n",
       "364  0.159482  0.184122 -0.320473  ...  0.241463  0.218997 -0.520443   \n",
       "365 -0.788681  0.263089 -0.454107  ... -0.348995 -0.335089 -0.136227   \n",
       "366  0.067814  0.167814 -0.222088  ...  0.296418  0.055808 -0.394147   \n",
       "\n",
       "          763       764       765       766       767  \\\n",
       "0    0.950753 -0.706480 -0.342184  0.481820  0.504579   \n",
       "1    0.950753 -0.706480 -0.342184  0.481820  0.504579   \n",
       "2    0.121705  0.094707 -0.125057  0.414923 -0.061691   \n",
       "3    0.002399  0.471494  0.395574  0.699590 -0.351493   \n",
       "4    0.355238 -0.009992 -0.315782  0.290232  0.114649   \n",
       "..        ...       ...       ...       ...       ...   \n",
       "362  0.931602 -0.616887 -0.315025  0.659054  0.533574   \n",
       "363 -0.209176  0.246936 -0.571731 -0.299094  0.004010   \n",
       "364  0.448413 -0.182298 -0.242219  0.413743  0.066313   \n",
       "365  0.048843  0.429615  0.526453  0.395979 -0.348018   \n",
       "366  0.342075  0.061685 -0.105140  0.319424 -0.010914   \n",
       "\n",
       "     ESG Controversies Score  ESG Controversies Score Grade  \n",
       "0                       -1.0                        Unknown  \n",
       "1                       -1.0                        Unknown  \n",
       "2                       -1.0                        Unknown  \n",
       "3                       -1.0                        Unknown  \n",
       "4                       -1.0                        Unknown  \n",
       "..                       ...                            ...  \n",
       "362                     -1.0                        Unknown  \n",
       "363                     -1.0                        Unknown  \n",
       "364                     -1.0                        Unknown  \n",
       "365                     -1.0                        Unknown  \n",
       "366                     -1.0                        Unknown  \n",
       "\n",
       "[367 rows x 773 columns]"
      ]
     },
     "execution_count": 135,
     "metadata": {},
     "output_type": "execute_result"
    }
   ],
   "source": [
    "test_df"
   ]
  },
  {
   "cell_type": "code",
   "execution_count": null,
   "id": "cb700a48",
   "metadata": {},
   "outputs": [],
   "source": []
  },
  {
   "cell_type": "markdown",
   "id": "a42e7263",
   "metadata": {},
   "source": [
    "# Archive Code"
   ]
  },
  {
   "cell_type": "code",
   "execution_count": 211,
   "id": "21239131",
   "metadata": {
    "ExecuteTime": {
     "end_time": "2023-05-25T01:34:39.046966Z",
     "start_time": "2023-05-25T01:34:30.677273Z"
    }
   },
   "outputs": [
    {
     "name": "stdout",
     "output_type": "stream",
     "text": [
      "Best Hyperparameters: {'learning_rate': 0.1, 'max_depth': 3, 'n_estimators': 200}\n",
      "Root Mean Squared Error: 22.841653795025273\n"
     ]
    }
   ],
   "source": [
    "grid_search = GridSearchCV(model, param_grid, cv=4)\n",
    "grid_search.fit(X_train, y_train)\n",
    "\n",
    "# Get the best model\n",
    "best_model = grid_search.best_estimator_\n",
    "\n",
    "# Evaluate the best model on the test set\n",
    "y_pred = best_model.predict(X_val)\n",
    "mse = mean_squared_error(y_val, y_pred)\n",
    "rmse = np.sqrt(mse)\n",
    "\n",
    "# Print the best hyperparameters and evaluation metric\n",
    "print(\"Best Hyperparameters:\", grid_search.best_params_)\n",
    "print(\"Root Mean Squared Error:\", rmse)"
   ]
  }
 ],
 "metadata": {
  "kernelspec": {
   "display_name": "Python 3.10 (tensorflow)",
   "language": "python",
   "name": "tensorflow"
  },
  "language_info": {
   "codemirror_mode": {
    "name": "ipython",
    "version": 3
   },
   "file_extension": ".py",
   "mimetype": "text/x-python",
   "name": "python",
   "nbconvert_exporter": "python",
   "pygments_lexer": "ipython3",
   "version": "3.10.8"
  },
  "toc": {
   "base_numbering": 1,
   "nav_menu": {},
   "number_sections": true,
   "sideBar": true,
   "skip_h1_title": false,
   "title_cell": "Table of Contents",
   "title_sidebar": "Contents",
   "toc_cell": true,
   "toc_position": {
    "height": "calc(100% - 180px)",
    "left": "10px",
    "top": "150px",
    "width": "276.884px"
   },
   "toc_section_display": true,
   "toc_window_display": true
  }
 },
 "nbformat": 4,
 "nbformat_minor": 5
}
