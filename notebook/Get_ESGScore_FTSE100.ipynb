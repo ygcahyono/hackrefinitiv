{
 "cells": [
  {
   "cell_type": "code",
   "execution_count": 1,
   "id": "eabe293d-e993-4b6f-9e36-bcb470b7d92d",
   "metadata": {},
   "outputs": [],
   "source": [
    "import refinitiv.data.eikon as ek\n",
    "from IPython.display import HTML\n",
    "from datetime import datetime, timedelta\n",
    "import pandas as pd\n",
    "\n",
    "ek.set_app_key('006f112652724224b9a6c0befae87ced9c033945')"
   ]
  },
  {
   "cell_type": "code",
   "execution_count": 2,
   "id": "1de481c1-f30c-40b0-ad17-1f27e6ec9a4c",
   "metadata": {},
   "outputs": [],
   "source": [
    "footsie_df = pd.read_csv('FTSE100.csv')"
   ]
  },
  {
   "cell_type": "code",
   "execution_count": 3,
   "id": "1dcf3443-17c6-4898-ad62-06ae131eaab9",
   "metadata": {},
   "outputs": [],
   "source": [
    "firm_lists = [firm for firm in footsie_df['Query']]"
   ]
  },
  {
   "cell_type": "code",
   "execution_count": 17,
   "id": "e260a833-3ee9-415c-ae46-a1bb3e618cb7",
   "metadata": {},
   "outputs": [
    {
     "data": {
      "text/plain": [
       "1"
      ]
     },
     "execution_count": 17,
     "metadata": {},
     "output_type": "execute_result"
    }
   ],
   "source": [
    "df.shape[0] != 1"
   ]
  },
  {
   "cell_type": "code",
   "execution_count": 29,
   "id": "84ba929e-6549-405c-aa64-626e22245876",
   "metadata": {},
   "outputs": [
    {
     "name": "stdout",
     "output_type": "stream",
     "text": [
      "LAND.L :  2012-03-31 2022-03-31\n",
      "BLND.L :  2012-03-31 2022-03-31\n",
      "HRGV.L :  2012-06-30 2022-06-30\n",
      "MNDI.L :  2012-12-31 2022-12-31\n",
      "KGF.L :  2012-01-28 2022-01-31\n",
      "BARC.L :  2012-12-31 2022-12-31\n",
      "SKG.L :  2012-12-31 2022-12-31\n",
      "UTG.L :  2011-12-31 2021-12-31\n",
      "JMAT.L :  2012-03-31 2022-03-31\n",
      "VOD.L :  2012-03-31 2022-03-31\n",
      "STAN.L :  2012-12-31 2022-12-31\n",
      "BATS.L :  2012-12-31 2022-12-31\n",
      "OCDO.L :  2012-12-02 2022-11-27\n",
      "WTB.L :  2011-03-03 2021-02-25\n",
      "AV.L :  2010-12-31 2020-12-31\n",
      "SMT.L :  2012-03-31 2022-03-31\n",
      "AAF.L :  2012-03-31 2022-03-31\n",
      "IMB.L :  2011-09-30 2021-09-30\n",
      "ITRK.L :  2012-12-31 2022-12-31\n",
      "NWG.L :  2011-12-31 2021-12-31\n",
      "LLOY.L :  2012-12-31 2022-12-31\n",
      "SSE.L :  2012-03-31 2022-03-31\n",
      "NG.L :  2012-03-31 2022-03-31\n",
      "SGRO.L :  2012-12-31 2022-12-31\n",
      "LGEN.L :  2011-12-31 2021-12-31\n",
      "PHNX.L :  2012-12-31 2022-12-31\n",
      "BEZG.L :  2011-12-31 2021-12-31\n",
      "AZN.L :  2012-12-31 2022-12-31\n",
      "PSH.AS :  2011-12-31 2021-12-31\n",
      "GSK.L :  2011-12-31 2021-12-31\n",
      "PSON.L :  2011-12-31 2021-12-31\n",
      "BT.L :  2012-03-31 2022-03-31\n",
      "SHEL.L :  2011-12-31 2021-12-31\n",
      "DGE.L :  2012-06-30 2022-06-30\n",
      "III.L :  2011-03-31 2021-03-31\n",
      "ENT.L :  2011-12-31 2021-12-31\n",
      "PRU.L :  2011-12-31 2021-12-31\n",
      "SMDS.L :  2012-04-30 2022-04-30\n",
      "ABDN.L :  2012-12-31 2022-12-31\n",
      "SJP.L :  2011-12-31 2021-12-31\n",
      "UU.L :  2011-03-31 2021-03-31\n",
      "BP.L :  2011-12-31 2021-12-31\n",
      "SMDS.L :  2012-04-30 2022-04-30\n",
      "ABDN.L :  2012-12-31 2022-12-31\n",
      "SDR.L :  2011-12-31 2021-12-31\n",
      "CCH.L :  2011-12-31 2021-12-31\n",
      "SVT.L :  2012-03-31 2022-03-31\n",
      "PSN.L :  2011-12-31 2021-12-31\n",
      "REL.L :  2012-12-31 2022-12-31\n",
      "MNG.L :  2011-12-31 2021-12-31\n",
      "SGE.L :  2012-09-30 2022-09-30\n",
      "FCIT.L :  2012-12-31 2022-12-31\n",
      "BKGH.L :  2012-04-30 2022-04-30\n",
      "INF.L :  2011-12-31 2021-12-31\n",
      "ICAG.L :  2011-12-31 2021-12-31\n",
      "PRU.L :  2011-12-31 2021-12-31\n",
      "CPG.L :  2011-09-30 2021-09-30\n",
      "WEIR.L :  2011-12-30 2021-12-31\n",
      "BT.L :  2012-03-31 2022-03-31\n",
      "EXPN.L :  2012-03-31 2022-03-31\n",
      "SN.L :  2012-12-31 2022-12-31\n",
      "DCC.L :  2012-03-31 2022-03-31\n",
      "WPP.L :  2012-12-31 2022-12-31\n",
      "TSCO.L :  2012-02-25 2022-02-26\n",
      "IHG.L :  2011-12-31 2021-12-31\n",
      "III.L :  2011-03-31 2021-03-31\n",
      "RIO.L :  2012-12-31 2022-12-31\n",
      "SPX.L :  2011-12-31 2021-12-31\n",
      "FRES.L :  2011-12-31 2021-12-31\n",
      "SBRY.L :  2011-03-19 2021-03-06\n",
      "CRDA.L :  2011-12-31 2021-12-31\n",
      "AUTOA.L :  2012-03-31 2022-03-31\n",
      "TW.L :  2012-12-31 2022-12-31\n",
      "LSEG.L :  2012-03-31 2022-12-31\n",
      "ULVR.L :  2011-12-31 2021-12-31\n",
      "RTO.L :  2012-12-31 2022-12-31\n",
      "HSBA.L :  2012-12-31 2022-12-31\n",
      "BNZL.L :  2011-12-31 2021-12-31\n",
      "RKT.L :  2011-12-31 2021-12-31\n",
      "CRH.L :  2012-12-31 2022-12-31\n",
      "HSX.L :  2011-12-31 2021-12-31\n",
      "BDEV.L :  2011-06-30 2021-06-30\n",
      "GLEN.L :  2011-12-31 2021-12-31\n",
      "RMV.L :  2012-12-31 2022-12-31\n",
      "FLTRF.L :  2012-12-31 2022-12-31\n",
      "SMIN.L :  2011-07-31 2021-07-31\n",
      "CTEC.L :  2012-12-31 2022-12-31\n",
      "ABF.L :  2011-09-17 2021-09-18\n",
      "HLN.L does not have ESG controversy score.\n",
      "ANTO.L :  2012-12-31 2022-12-31\n",
      "RR.L :  2011-12-31 2021-12-31\n",
      "HLMA.L :  2011-04-02 2021-03-31\n",
      "AHT.L :  2012-04-30 2022-04-30\n",
      "NXT.L :  2013-01-26 2023-01-28\n",
      "BAES.L :  2012-12-31 2022-12-31\n",
      "BRBY.L :  2011-03-31 2021-03-27\n",
      "JD.L :  2011-01-31 2021-01-30\n",
      "FRAS.L :  2012-04-29 2022-04-24\n",
      "RS1R.L :  2012-03-31 2022-03-31\n",
      "BMEB.L :  2011-03-31 2021-03-27\n"
     ]
    }
   ],
   "source": [
    "# list_of_date = []\n",
    "master_df = pd.DataFrame()\n",
    "    \n",
    "for ticker in firm_lists: \n",
    "    \n",
    "    \n",
    "    df, errors = ek.get_data(f\"{ticker}\", [\"TR.TRESGCControversiesScoreGrade\", \"TR.TRESGCControversiesScore\", 'TR.TRESGCControversiesScore.date'],\n",
    "                             parameters = {\"SDate\": \"0\", \"EDate\":\"-10\"})\n",
    "    \n",
    "    master_df = pd.concat([master_df, df])\n",
    "    \n",
    "    try:\n",
    "        print(ticker, ': ', df.Date.min()[:10], df.Date.max()[:10])\n",
    "    except:\n",
    "        print(ticker, 'does not have ESG controversy score.')"
   ]
  },
  {
   "cell_type": "code",
   "execution_count": 33,
   "id": "a3df6b12-4514-4a28-8eb9-ec52420bcc04",
   "metadata": {},
   "outputs": [],
   "source": [
    "master_df[master_df['ESG Controversies Score Grade'] != ''].to_csv('output_ESGControversyScore_FTSE100.csv')"
   ]
  }
 ],
 "metadata": {
  "kernelspec": {
   "display_name": "Python 3",
   "language": "python",
   "name": "python3"
  },
  "language_info": {
   "codemirror_mode": {
    "name": "ipython",
    "version": 3
   },
   "file_extension": ".py",
   "mimetype": "text/x-python",
   "name": "python",
   "nbconvert_exporter": "python",
   "pygments_lexer": "ipython3",
   "version": "3.8.15"
  },
  "widgets": {
   "application/vnd.jupyter.widget-state+json": {
    "state": {},
    "version_major": 2,
    "version_minor": 0
   }
  }
 },
 "nbformat": 4,
 "nbformat_minor": 5
}
