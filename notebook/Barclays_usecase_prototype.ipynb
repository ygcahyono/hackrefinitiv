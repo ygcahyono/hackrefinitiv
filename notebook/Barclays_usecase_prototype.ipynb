{
 "cells": [
  {
   "cell_type": "markdown",
   "metadata": {},
   "source": [
    "# Writer's Notes"
   ]
  },
  {
   "cell_type": "markdown",
   "metadata": {},
   "source": [
    "- Adding more datasource (twitter, mediastack)\n",
    "- Predicting based on classification algorithm (not using the rule based), actually we don't know yet which one is better no?\n",
    "- Improving the ESG News Filter (does what we have right now is not good enough?)\n",
    "- Not relying on FinBert? Developing our own new ESG Sentiment?\n",
    "- give weight on different industries? by integrating MarketPsyched on different industries"
   ]
  },
  {
   "cell_type": "markdown",
   "metadata": {},
   "source": [
    "---"
   ]
  },
  {
   "cell_type": "markdown",
   "metadata": {},
   "source": [
    "FinBERT (Financial Bidirectional Encoder Representations from Transformer) is a pretrained transformer model trained on financial corpora. Some of the objective of the Fin-BERT: Sentiment analysis, financial question-answering, and financial document classification.\n",
    "\n",
    "The typical large dataset of financial documents are news article, datasets of financial documents, regulatory filings, and earning reports.\n",
    "\n",
    "The model is developed by NVIDIA that is specifically designed to analyse financial text\n",
    "\n",
    "Reference: [link](https://medium.com/codex/stocks-news-sentiment-analysis-with-deep-learning-transformers-and-machine-learning-cdcdb827fc06#:~:text=Sentiment%20Analysis%20and%20Transformers,model%20trained%20on%20financial%20corpora.)"
   ]
  },
  {
   "cell_type": "markdown",
   "metadata": {},
   "source": [
    "# 1. Import Libraries"
   ]
  },
  {
   "cell_type": "code",
   "execution_count": 1,
   "metadata": {
    "ExecuteTime": {
     "end_time": "2023-05-23T11:19:20.600580Z",
     "start_time": "2023-05-23T11:19:12.974196Z"
    }
   },
   "outputs": [],
   "source": [
    "from datetime import datetime\n",
    "from transformers import AutoTokenizer, AutoModelForSequenceClassification\n",
    "\n",
    "import pandas as pd\n",
    "import string\n",
    "import torch\n",
    "import warnings\n",
    "\n",
    "warnings.filterwarnings('ignore')"
   ]
  },
  {
   "cell_type": "code",
   "execution_count": 2,
   "metadata": {
    "ExecuteTime": {
     "end_time": "2023-05-23T11:19:20.620918Z",
     "start_time": "2023-05-23T11:19:20.604468Z"
    }
   },
   "outputs": [],
   "source": [
    "# dummy dataframe of headline for sentiment result\n",
    "df_barc = pd.read_csv('../data/Barclays.csv')                 "
   ]
  },
  {
   "cell_type": "code",
   "execution_count": 3,
   "metadata": {
    "ExecuteTime": {
     "end_time": "2023-05-19T07:48:51.322110Z",
     "start_time": "2023-05-19T07:48:51.313438Z"
    }
   },
   "outputs": [
    {
     "data": {
      "text/plain": [
       "(1351, 4)"
      ]
     },
     "execution_count": 3,
     "metadata": {},
     "output_type": "execute_result"
    }
   ],
   "source": [
    "df_barc.shape"
   ]
  },
  {
   "cell_type": "markdown",
   "metadata": {},
   "source": [
    "# 2. Filter ESG News"
   ]
  },
  {
   "cell_type": "code",
   "execution_count": 4,
   "metadata": {
    "ExecuteTime": {
     "end_time": "2023-05-19T07:48:52.175943Z",
     "start_time": "2023-05-19T07:48:52.153375Z"
    }
   },
   "outputs": [],
   "source": [
    "# dummy dataframe of headline for sentiment result\n",
    "esg_glossaries = pd.read_csv('../data/ESG Score Compile - Glossary.csv')                 \n",
    "\n",
    "# remove unused row number\n",
    "esg_glossaries = esg_glossaries.drop(['No'], axis=1)\n",
    "\n",
    "# lower the glossaries\n",
    "esg_glossaries['Keywords'] = esg_glossaries['Keywords'].str.lower()\n",
    "\n",
    "# remove duplicates\n",
    "esg_glossaries = esg_glossaries.drop_duplicates(['Keywords'])"
   ]
  },
  {
   "cell_type": "code",
   "execution_count": 5,
   "metadata": {
    "ExecuteTime": {
     "end_time": "2023-05-19T07:48:53.155162Z",
     "start_time": "2023-05-19T07:48:53.150252Z"
    }
   },
   "outputs": [],
   "source": [
    "def filter_esg_news(df, esg_glossaries, column, verbose = False):\n",
    "\n",
    "    ESG_news_filter = pd.DataFrame()\n",
    "    cnt = 0\n",
    "    for key in esg_glossaries.Keywords:\n",
    "        cnt+=1\n",
    "        ESG_news_filter = pd.concat([ESG_news_filter, df[df[column].str.contains(key)]])\n",
    "\n",
    "        if verbose:\n",
    "            if cnt % 10 == 0:\n",
    "                print(cnt)\n",
    "            \n",
    "    return ESG_news_filter"
   ]
  },
  {
   "cell_type": "markdown",
   "metadata": {},
   "source": [
    "# 3. Barclays"
   ]
  },
  {
   "cell_type": "markdown",
   "metadata": {},
   "source": [
    "## 3.1 Pre-Processing"
   ]
  },
  {
   "cell_type": "markdown",
   "metadata": {},
   "source": [
    "### 3.1.1 Headline"
   ]
  },
  {
   "cell_type": "code",
   "execution_count": 6,
   "metadata": {
    "ExecuteTime": {
     "end_time": "2023-05-19T07:48:55.401219Z",
     "start_time": "2023-05-19T07:48:55.393043Z"
    }
   },
   "outputs": [],
   "source": [
    "def text_preprocessing(df, esg_glossaries, firm='barclays'):\n",
    "    df_copy = df.copy()\n",
    "\n",
    "    # assign a new seperate column text_pp for preprocessing\n",
    "    df_copy['text_pp'] = df_copy.text\n",
    "\n",
    "    # make the string lower\n",
    "    df_copy['text_pp'] = df_copy['text_pp'].apply(lambda x: x.lower())\n",
    "\n",
    "    # remove the punctuation\n",
    "    translator = str.maketrans(string.punctuation, ' '*len(string.punctuation)) #map punctuation to space\n",
    "    df_copy['text_pp'] = df_copy['text_pp'].apply(lambda x: x.translate(translator))\n",
    "\n",
    "    # remove unnecessary word\n",
    "    df_copy['text_pp'] = df_copy['text_pp'].apply(lambda x: x.replace('rpt',''))\n",
    "\n",
    "    # delete unnecessary double-space\n",
    "    df_copy['text_pp'] = df_copy['text_pp'].apply(lambda x: ' '.join(x.split()))\n",
    "\n",
    "    # filterout news that contains barclays in the headline news.\n",
    "    df_copy = df_copy[df_copy.text_pp.str.contains(firm)]\n",
    "    \n",
    "    # remove duplicates of headers\n",
    "    df_copy = df_copy.drop_duplicates(['text_pp'])\n",
    "    print('preprocessing and drop duplicates news:', df_copy.shape[0])\n",
    "    \n",
    "    # filter out only ESG news\n",
    "    df_copy = filter_esg_news(df_copy, esg_glossaries, 'text_pp')\n",
    "    print('filter out non-esg news:', df_copy.shape[0])\n",
    "\n",
    "    return df_copy"
   ]
  },
  {
   "cell_type": "code",
   "execution_count": 7,
   "metadata": {
    "ExecuteTime": {
     "end_time": "2023-05-19T07:48:56.777381Z",
     "start_time": "2023-05-19T07:48:56.657269Z"
    }
   },
   "outputs": [
    {
     "name": "stdout",
     "output_type": "stream",
     "text": [
      "preprocessing and drop duplicates news: 670\n",
      "filter out non-esg news: 45\n"
     ]
    }
   ],
   "source": [
    "df_barc_pp = text_preprocessing(df_barc, esg_glossaries, 'barclays')"
   ]
  },
  {
   "cell_type": "code",
   "execution_count": 8,
   "metadata": {
    "ExecuteTime": {
     "end_time": "2023-05-19T07:48:57.578598Z",
     "start_time": "2023-05-19T07:48:57.557825Z"
    }
   },
   "outputs": [
    {
     "data": {
      "text/html": [
       "<div>\n",
       "<style scoped>\n",
       "    .dataframe tbody tr th:only-of-type {\n",
       "        vertical-align: middle;\n",
       "    }\n",
       "\n",
       "    .dataframe tbody tr th {\n",
       "        vertical-align: top;\n",
       "    }\n",
       "\n",
       "    .dataframe thead th {\n",
       "        text-align: right;\n",
       "    }\n",
       "</style>\n",
       "<table border=\"1\" class=\"dataframe\">\n",
       "  <thead>\n",
       "    <tr style=\"text-align: right;\">\n",
       "      <th></th>\n",
       "      <th>versionCreated</th>\n",
       "      <th>text</th>\n",
       "      <th>storyId</th>\n",
       "      <th>sourceCode</th>\n",
       "      <th>text_pp</th>\n",
       "    </tr>\n",
       "  </thead>\n",
       "  <tbody>\n",
       "    <tr>\n",
       "      <th>972</th>\n",
       "      <td>2023-05-03 09:29:15+00:00</td>\n",
       "      <td>UPDATE 1-Barclays toughens deforestation rules...</td>\n",
       "      <td>urn:newsml:newswire.refinitiv.com:20230503:nL1...</td>\n",
       "      <td>NS:RTRS</td>\n",
       "      <td>update 1 barclays toughens deforestation rules...</td>\n",
       "    </tr>\n",
       "    <tr>\n",
       "      <th>973</th>\n",
       "      <td>2023-05-03 07:36:47+00:00</td>\n",
       "      <td>Barclays toughens deforestation rules for beef...</td>\n",
       "      <td>urn:newsml:newswire.refinitiv.com:20230503:nL8...</td>\n",
       "      <td>NS:RTRS</td>\n",
       "      <td>barclays toughens deforestation rules for beef...</td>\n",
       "    </tr>\n",
       "    <tr>\n",
       "      <th>974</th>\n",
       "      <td>2023-05-03 07:36:33+00:00</td>\n",
       "      <td>BARCLAYS TELLS BEEF COMPANIES THEY MUST HAVE A...</td>\n",
       "      <td>urn:newsml:newswire.refinitiv.com:20230503:nL8...</td>\n",
       "      <td>NS:RTRS</td>\n",
       "      <td>barclays tells beef companies they must have a...</td>\n",
       "    </tr>\n",
       "    <tr>\n",
       "      <th>868</th>\n",
       "      <td>2022-03-15 18:06:46+00:00</td>\n",
       "      <td>Barclays hires from Moelis for activism defens...</td>\n",
       "      <td>urn:newsml:newswire.refinitiv.com:20220315:nL2...</td>\n",
       "      <td>NS:RTRS</td>\n",
       "      <td>barclays hires from moelis for activism defens...</td>\n",
       "    </tr>\n",
       "    <tr>\n",
       "      <th>856</th>\n",
       "      <td>2022-03-22 09:46:59+00:00</td>\n",
       "      <td>BARCLAYS SETS FINAL EXIT DATES ON 'PROGRESSIVE...</td>\n",
       "      <td>urn:newsml:newswire.refinitiv.com:20220322:nL5...</td>\n",
       "      <td>NS:RTRS</td>\n",
       "      <td>barclays sets final exit dates on progressive ...</td>\n",
       "    </tr>\n",
       "  </tbody>\n",
       "</table>\n",
       "</div>"
      ],
      "text/plain": [
       "                versionCreated  \\\n",
       "972  2023-05-03 09:29:15+00:00   \n",
       "973  2023-05-03 07:36:47+00:00   \n",
       "974  2023-05-03 07:36:33+00:00   \n",
       "868  2022-03-15 18:06:46+00:00   \n",
       "856  2022-03-22 09:46:59+00:00   \n",
       "\n",
       "                                                  text  \\\n",
       "972  UPDATE 1-Barclays toughens deforestation rules...   \n",
       "973  Barclays toughens deforestation rules for beef...   \n",
       "974  BARCLAYS TELLS BEEF COMPANIES THEY MUST HAVE A...   \n",
       "868  Barclays hires from Moelis for activism defens...   \n",
       "856  BARCLAYS SETS FINAL EXIT DATES ON 'PROGRESSIVE...   \n",
       "\n",
       "                                               storyId sourceCode  \\\n",
       "972  urn:newsml:newswire.refinitiv.com:20230503:nL1...    NS:RTRS   \n",
       "973  urn:newsml:newswire.refinitiv.com:20230503:nL8...    NS:RTRS   \n",
       "974  urn:newsml:newswire.refinitiv.com:20230503:nL8...    NS:RTRS   \n",
       "868  urn:newsml:newswire.refinitiv.com:20220315:nL2...    NS:RTRS   \n",
       "856  urn:newsml:newswire.refinitiv.com:20220322:nL5...    NS:RTRS   \n",
       "\n",
       "                                               text_pp  \n",
       "972  update 1 barclays toughens deforestation rules...  \n",
       "973  barclays toughens deforestation rules for beef...  \n",
       "974  barclays tells beef companies they must have a...  \n",
       "868  barclays hires from moelis for activism defens...  \n",
       "856  barclays sets final exit dates on progressive ...  "
      ]
     },
     "execution_count": 8,
     "metadata": {},
     "output_type": "execute_result"
    }
   ],
   "source": [
    "df_barc_pp.head()"
   ]
  },
  {
   "cell_type": "code",
   "execution_count": 9,
   "metadata": {
    "ExecuteTime": {
     "end_time": "2023-05-19T07:48:58.482869Z",
     "start_time": "2023-05-19T07:48:58.479475Z"
    }
   },
   "outputs": [],
   "source": [
    "df_barc_pp = df_barc_pp.reset_index(drop=True)"
   ]
  },
  {
   "cell_type": "markdown",
   "metadata": {},
   "source": [
    "Preprocessing\n",
    "\n",
    "- Fix the timestamp\n",
    "- Look up at the text"
   ]
  },
  {
   "cell_type": "markdown",
   "metadata": {},
   "source": [
    "### 3.1.2 Fix the timestamp"
   ]
  },
  {
   "cell_type": "code",
   "execution_count": 10,
   "metadata": {
    "ExecuteTime": {
     "end_time": "2023-05-19T07:49:04.198321Z",
     "start_time": "2023-05-19T07:49:04.190867Z"
    }
   },
   "outputs": [],
   "source": [
    "def timestamp_preprocessing(df):\n",
    "    \n",
    "    df_copy = df.copy()\n",
    "    \n",
    "    df_copy.versionCreated = df_copy.versionCreated.apply(lambda x: x[:19])\n",
    "    df_copy.versionCreated = pd.to_datetime(df_copy.versionCreated)\n",
    "    \n",
    "    df_copy['year_month'] = df_copy['versionCreated'].apply(lambda x: datetime.strftime(x, '%Y-%m'))\n",
    "    df_copy['year'] = df_copy['versionCreated'].apply(lambda x: datetime.strftime(x, '%Y'))\n",
    "\n",
    "    return df_copy"
   ]
  },
  {
   "cell_type": "code",
   "execution_count": 11,
   "metadata": {
    "ExecuteTime": {
     "end_time": "2023-05-19T07:49:06.816504Z",
     "start_time": "2023-05-19T07:49:06.795420Z"
    }
   },
   "outputs": [],
   "source": [
    "df_barc_pp = timestamp_preprocessing(df_barc_pp)\n",
    "df_barc_pp = df_barc_pp.sort_values('versionCreated')"
   ]
  },
  {
   "cell_type": "markdown",
   "metadata": {},
   "source": [
    "## 3.2 Produce sentiment"
   ]
  },
  {
   "cell_type": "code",
   "execution_count": 12,
   "metadata": {
    "ExecuteTime": {
     "end_time": "2023-05-19T07:49:10.069587Z",
     "start_time": "2023-05-19T07:49:08.021880Z"
    }
   },
   "outputs": [],
   "source": [
    "# create a tokenizer object\n",
    "tokenizer = AutoTokenizer.from_pretrained(\"ProsusAI/finbert\")\n",
    "\n",
    "# fetch the pretrained model \n",
    "model = AutoModelForSequenceClassification.from_pretrained(\"ProsusAI/finbert\")"
   ]
  },
  {
   "cell_type": "code",
   "execution_count": 13,
   "metadata": {
    "ExecuteTime": {
     "end_time": "2023-05-19T07:49:11.082206Z",
     "start_time": "2023-05-19T07:49:11.068852Z"
    }
   },
   "outputs": [],
   "source": [
    "def sentim_analyzer(df, tokenizer, model, headline_colum = 'headline'):\n",
    "    ''' Given a df that contains a column 'headline' with article healine texts, it runs inference on the healine with the 'model' (FinBert) \n",
    "       and inserts output sentiment features into the dataframe in the respective columns (Positive_sentim, Negative_sentim, Neutral_sentim)\n",
    "       \n",
    "        Parameters :\n",
    "          df : A dataframe that contains headlines in a column called 'headline' . \n",
    "          tokenizer(AutoTokenizer object) : A pre-processing tokenizer object from Hugging Face lib. \n",
    "          model (AutoModelForSequenceClassification object) : A hugging face transformer model.     \n",
    "          \n",
    "          returns df : The initial dataframe with the 3 sentiment features as columns for each headline'''\n",
    "    \n",
    "    for i in df.index:\n",
    "        try:\n",
    "            headline = df.loc[i, headline_colum]\n",
    "        except:\n",
    "            return print(f' \\'{headline_colum}\\' column might be missing from dataframe')\n",
    "        # Pre-process input phrase\n",
    "        \n",
    "        input = tokenizer(headline, padding = True, truncation = True, return_tensors='pt')\n",
    "        \n",
    "        # Estimate output\n",
    "        output = model(**input)\n",
    "        # Pass model output logits through a softmax layer.\n",
    "        predictions = torch.nn.functional.softmax(output.logits, dim=-1)\n",
    "        df.loc[i, 'Positive'] = predictions[0][0].tolist()\n",
    "        df.loc[i, 'Negative'] = predictions[0][1].tolist()\n",
    "        df.loc[i, 'Neutral']  = predictions[0][2].tolist()\n",
    "    # rearrange column order\n",
    "    try:\n",
    "        df = df[['date', 'stock', 'Open', 'Close', 'Volume',  'headline', 'Positive', 'Negative', 'Neutral','Price_change']]\n",
    "    except:\n",
    "        pass\n",
    "    return df"
   ]
  },
  {
   "cell_type": "markdown",
   "metadata": {},
   "source": [
    "### 3.2.1 Run the Sentiment"
   ]
  },
  {
   "cell_type": "code",
   "execution_count": 14,
   "metadata": {
    "ExecuteTime": {
     "end_time": "2023-05-19T07:49:17.669068Z",
     "start_time": "2023-05-19T07:49:14.185071Z"
    }
   },
   "outputs": [],
   "source": [
    "df_barc_pp = sentim_analyzer(df_barc_pp, tokenizer, model, headline_colum= 'text_pp')"
   ]
  },
  {
   "cell_type": "code",
   "execution_count": 15,
   "metadata": {
    "ExecuteTime": {
     "end_time": "2023-05-19T07:50:59.505333Z",
     "start_time": "2023-05-19T07:50:59.454033Z"
    }
   },
   "outputs": [
    {
     "data": {
      "text/html": [
       "<div>\n",
       "<style scoped>\n",
       "    .dataframe tbody tr th:only-of-type {\n",
       "        vertical-align: middle;\n",
       "    }\n",
       "\n",
       "    .dataframe tbody tr th {\n",
       "        vertical-align: top;\n",
       "    }\n",
       "\n",
       "    .dataframe thead th {\n",
       "        text-align: right;\n",
       "    }\n",
       "</style>\n",
       "<table border=\"1\" class=\"dataframe\">\n",
       "  <thead>\n",
       "    <tr style=\"text-align: right;\">\n",
       "      <th></th>\n",
       "      <th>versionCreated</th>\n",
       "      <th>text</th>\n",
       "      <th>storyId</th>\n",
       "      <th>sourceCode</th>\n",
       "      <th>text_pp</th>\n",
       "      <th>year_month</th>\n",
       "      <th>year</th>\n",
       "      <th>Positive</th>\n",
       "      <th>Negative</th>\n",
       "      <th>Neutral</th>\n",
       "    </tr>\n",
       "  </thead>\n",
       "  <tbody>\n",
       "    <tr>\n",
       "      <th>21</th>\n",
       "      <td>2022-02-28 10:02:47</td>\n",
       "      <td>UK'S FCA: FINANCIAL PENALTY ACCOUNTS THAT BARC...</td>\n",
       "      <td>urn:newsml:newswire.refinitiv.com:20220228:nFW...</td>\n",
       "      <td>NS:RTRS</td>\n",
       "      <td>uk s fca financial penalty accounts that barcl...</td>\n",
       "      <td>2022-02</td>\n",
       "      <td>2022</td>\n",
       "      <td>0.667625</td>\n",
       "      <td>0.218301</td>\n",
       "      <td>0.114074</td>\n",
       "    </tr>\n",
       "    <tr>\n",
       "      <th>3</th>\n",
       "      <td>2022-03-15 18:06:46</td>\n",
       "      <td>Barclays hires from Moelis for activism defens...</td>\n",
       "      <td>urn:newsml:newswire.refinitiv.com:20220315:nL2...</td>\n",
       "      <td>NS:RTRS</td>\n",
       "      <td>barclays hires from moelis for activism defens...</td>\n",
       "      <td>2022-03</td>\n",
       "      <td>2022</td>\n",
       "      <td>0.105249</td>\n",
       "      <td>0.016328</td>\n",
       "      <td>0.878423</td>\n",
       "    </tr>\n",
       "    <tr>\n",
       "      <th>4</th>\n",
       "      <td>2022-03-22 09:46:59</td>\n",
       "      <td>BARCLAYS SETS FINAL EXIT DATES ON 'PROGRESSIVE...</td>\n",
       "      <td>urn:newsml:newswire.refinitiv.com:20220322:nL5...</td>\n",
       "      <td>NS:RTRS</td>\n",
       "      <td>barclays sets final exit dates on progressive ...</td>\n",
       "      <td>2022-03</td>\n",
       "      <td>2022</td>\n",
       "      <td>0.023519</td>\n",
       "      <td>0.034666</td>\n",
       "      <td>0.941815</td>\n",
       "    </tr>\n",
       "    <tr>\n",
       "      <th>12</th>\n",
       "      <td>2022-03-28 13:15:01</td>\n",
       "      <td>BUZZ-Barclays shares take a knock from $590 ml...</td>\n",
       "      <td>urn:newsml:newswire.refinitiv.com:20220328:nL3...</td>\n",
       "      <td>NS:RTRS</td>\n",
       "      <td>buzz barclays shares take a knock from 590 mln...</td>\n",
       "      <td>2022-03</td>\n",
       "      <td>2022</td>\n",
       "      <td>0.256782</td>\n",
       "      <td>0.699804</td>\n",
       "      <td>0.043414</td>\n",
       "    </tr>\n",
       "    <tr>\n",
       "      <th>44</th>\n",
       "      <td>2022-03-31 12:00:00</td>\n",
       "      <td>EXCLUSIVE-ASCENT RESOURCES LLC WORKING WITH CI...</td>\n",
       "      <td>urn:newsml:newswire.refinitiv.com:20220331:nL2...</td>\n",
       "      <td>NS:RTRS</td>\n",
       "      <td>exclusive ascent resources llc working with ci...</td>\n",
       "      <td>2022-03</td>\n",
       "      <td>2022</td>\n",
       "      <td>0.806450</td>\n",
       "      <td>0.011091</td>\n",
       "      <td>0.182459</td>\n",
       "    </tr>\n",
       "  </tbody>\n",
       "</table>\n",
       "</div>"
      ],
      "text/plain": [
       "        versionCreated                                               text  \\\n",
       "21 2022-02-28 10:02:47  UK'S FCA: FINANCIAL PENALTY ACCOUNTS THAT BARC...   \n",
       "3  2022-03-15 18:06:46  Barclays hires from Moelis for activism defens...   \n",
       "4  2022-03-22 09:46:59  BARCLAYS SETS FINAL EXIT DATES ON 'PROGRESSIVE...   \n",
       "12 2022-03-28 13:15:01  BUZZ-Barclays shares take a knock from $590 ml...   \n",
       "44 2022-03-31 12:00:00  EXCLUSIVE-ASCENT RESOURCES LLC WORKING WITH CI...   \n",
       "\n",
       "                                              storyId sourceCode  \\\n",
       "21  urn:newsml:newswire.refinitiv.com:20220228:nFW...    NS:RTRS   \n",
       "3   urn:newsml:newswire.refinitiv.com:20220315:nL2...    NS:RTRS   \n",
       "4   urn:newsml:newswire.refinitiv.com:20220322:nL5...    NS:RTRS   \n",
       "12  urn:newsml:newswire.refinitiv.com:20220328:nL3...    NS:RTRS   \n",
       "44  urn:newsml:newswire.refinitiv.com:20220331:nL2...    NS:RTRS   \n",
       "\n",
       "                                              text_pp year_month  year  \\\n",
       "21  uk s fca financial penalty accounts that barcl...    2022-02  2022   \n",
       "3   barclays hires from moelis for activism defens...    2022-03  2022   \n",
       "4   barclays sets final exit dates on progressive ...    2022-03  2022   \n",
       "12  buzz barclays shares take a knock from 590 mln...    2022-03  2022   \n",
       "44  exclusive ascent resources llc working with ci...    2022-03  2022   \n",
       "\n",
       "    Positive  Negative   Neutral  \n",
       "21  0.667625  0.218301  0.114074  \n",
       "3   0.105249  0.016328  0.878423  \n",
       "4   0.023519  0.034666  0.941815  \n",
       "12  0.256782  0.699804  0.043414  \n",
       "44  0.806450  0.011091  0.182459  "
      ]
     },
     "execution_count": 15,
     "metadata": {},
     "output_type": "execute_result"
    }
   ],
   "source": [
    "df_barc_pp.head()"
   ]
  },
  {
   "cell_type": "code",
   "execution_count": 16,
   "metadata": {
    "ExecuteTime": {
     "end_time": "2023-05-19T07:51:01.638718Z",
     "start_time": "2023-05-19T07:51:01.632661Z"
    }
   },
   "outputs": [
    {
     "data": {
      "text/plain": [
       "(45, 10)"
      ]
     },
     "execution_count": 16,
     "metadata": {},
     "output_type": "execute_result"
    }
   ],
   "source": [
    "df_barc_pp.shape"
   ]
  },
  {
   "cell_type": "code",
   "execution_count": 17,
   "metadata": {
    "ExecuteTime": {
     "end_time": "2023-05-19T07:51:03.650611Z",
     "start_time": "2023-05-19T07:51:03.641930Z"
    }
   },
   "outputs": [],
   "source": [
    "columns = ['year_month','year', 'versionCreated','storyId','text_pp', 'Positive', 'Negative', 'Neutral']"
   ]
  },
  {
   "cell_type": "code",
   "execution_count": 18,
   "metadata": {
    "ExecuteTime": {
     "end_time": "2023-05-19T07:51:04.549286Z",
     "start_time": "2023-05-19T07:51:04.538448Z"
    }
   },
   "outputs": [],
   "source": [
    "df_barc_pp = df_barc_pp[columns]\n",
    "# df_barc_pp['Positive_Neutral'] = df_barc_pp['Positive'] + df_barc_pp['Neutral']"
   ]
  },
  {
   "cell_type": "markdown",
   "metadata": {},
   "source": [
    "## 3.3 Aggregate"
   ]
  },
  {
   "cell_type": "code",
   "execution_count": 19,
   "metadata": {
    "ExecuteTime": {
     "end_time": "2023-05-19T07:51:12.847665Z",
     "start_time": "2023-05-19T07:51:12.831964Z"
    }
   },
   "outputs": [],
   "source": [
    "def grade_calculation(negative):\n",
    "    pos_ntrl = 1 - negative \n",
    "    val = 'A+'\n",
    "\n",
    "    if pos_ntrl <= 0.083333:\n",
    "        val = 'D-'\n",
    "    elif 0.083333 < pos_ntrl <= 0.166666: \n",
    "        val = 'D'\n",
    "    elif 0.166666 < pos_ntrl <= 0.250000: \n",
    "        val = 'D+'\n",
    "    elif 0.250000 < pos_ntrl <= 0.333333: \n",
    "        val = 'C-'\n",
    "    elif 0.333333 < pos_ntrl <= 0.416666: \n",
    "        val = 'C'\n",
    "    elif 0.416666 < pos_ntrl <= 0.500000: \n",
    "        val = 'C+'\n",
    "    elif 0.500000 < pos_ntrl <= 0.583333: \n",
    "        val = 'B-'\n",
    "    elif 0.583333 < pos_ntrl <= 0.666666: \n",
    "        val = 'B'\n",
    "    elif 0.666666 < pos_ntrl <= 0.750000: \n",
    "        val = 'B+'\n",
    "    elif 0.750000 < pos_ntrl <= 0.833333: \n",
    "        val = 'A-'\n",
    "    elif 0.833333 < pos_ntrl <= 0.916666: \n",
    "        val = 'A'\n",
    "\n",
    "    return val"
   ]
  },
  {
   "cell_type": "markdown",
   "metadata": {},
   "source": [
    "### 3.3.1 Yearly"
   ]
  },
  {
   "cell_type": "code",
   "execution_count": 20,
   "metadata": {
    "ExecuteTime": {
     "end_time": "2023-05-19T07:51:16.153244Z",
     "start_time": "2023-05-19T07:51:16.108955Z"
    }
   },
   "outputs": [],
   "source": [
    "agg_score_barclays_yearly = df_barc_pp[['year', 'Negative']].groupby(['year']).mean()\n",
    "agg_score_barclays_yearly['ESG_Controversy'] = agg_score_barclays_yearly.Negative.apply(lambda x: grade_calculation(x))"
   ]
  },
  {
   "cell_type": "code",
   "execution_count": 21,
   "metadata": {
    "ExecuteTime": {
     "end_time": "2023-05-19T07:51:18.994130Z",
     "start_time": "2023-05-19T07:51:18.958147Z"
    }
   },
   "outputs": [
    {
     "data": {
      "text/html": [
       "<div>\n",
       "<style scoped>\n",
       "    .dataframe tbody tr th:only-of-type {\n",
       "        vertical-align: middle;\n",
       "    }\n",
       "\n",
       "    .dataframe tbody tr th {\n",
       "        vertical-align: top;\n",
       "    }\n",
       "\n",
       "    .dataframe thead th {\n",
       "        text-align: right;\n",
       "    }\n",
       "</style>\n",
       "<table border=\"1\" class=\"dataframe\">\n",
       "  <thead>\n",
       "    <tr style=\"text-align: right;\">\n",
       "      <th></th>\n",
       "      <th>Negative</th>\n",
       "      <th>ESG_Controversy</th>\n",
       "    </tr>\n",
       "    <tr>\n",
       "      <th>year</th>\n",
       "      <th></th>\n",
       "      <th></th>\n",
       "    </tr>\n",
       "  </thead>\n",
       "  <tbody>\n",
       "    <tr>\n",
       "      <th>2023</th>\n",
       "      <td>0.308205</td>\n",
       "      <td>B+</td>\n",
       "    </tr>\n",
       "  </tbody>\n",
       "</table>\n",
       "</div>"
      ],
      "text/plain": [
       "      Negative ESG_Controversy\n",
       "year                          \n",
       "2023  0.308205              B+"
      ]
     },
     "execution_count": 21,
     "metadata": {},
     "output_type": "execute_result"
    }
   ],
   "source": [
    "agg_score_barclays_yearly.iloc[1:]"
   ]
  },
  {
   "cell_type": "markdown",
   "metadata": {},
   "source": [
    "### 3.3.2 Monthly"
   ]
  },
  {
   "cell_type": "code",
   "execution_count": 22,
   "metadata": {
    "ExecuteTime": {
     "end_time": "2023-05-19T07:51:20.861831Z",
     "start_time": "2023-05-19T07:51:20.851304Z"
    }
   },
   "outputs": [],
   "source": [
    "agg_score_barclays_monthly = df_barc_pp[['year_month', 'Negative']].groupby(['year_month']).mean()"
   ]
  },
  {
   "cell_type": "code",
   "execution_count": 23,
   "metadata": {
    "ExecuteTime": {
     "end_time": "2023-05-19T07:51:21.436981Z",
     "start_time": "2023-05-19T07:51:21.431442Z"
    }
   },
   "outputs": [],
   "source": [
    "agg_score_barclays_monthly['ESG_Controversy'] = agg_score_barclays_monthly.Negative.apply(lambda x: grade_calculation(x))"
   ]
  },
  {
   "cell_type": "code",
   "execution_count": 24,
   "metadata": {
    "ExecuteTime": {
     "end_time": "2023-05-19T07:51:21.801345Z",
     "start_time": "2023-05-19T07:51:21.791756Z"
    }
   },
   "outputs": [
    {
     "data": {
      "text/html": [
       "<div>\n",
       "<style scoped>\n",
       "    .dataframe tbody tr th:only-of-type {\n",
       "        vertical-align: middle;\n",
       "    }\n",
       "\n",
       "    .dataframe tbody tr th {\n",
       "        vertical-align: top;\n",
       "    }\n",
       "\n",
       "    .dataframe thead th {\n",
       "        text-align: right;\n",
       "    }\n",
       "</style>\n",
       "<table border=\"1\" class=\"dataframe\">\n",
       "  <thead>\n",
       "    <tr style=\"text-align: right;\">\n",
       "      <th></th>\n",
       "      <th>Negative</th>\n",
       "      <th>ESG_Controversy</th>\n",
       "    </tr>\n",
       "    <tr>\n",
       "      <th>year_month</th>\n",
       "      <th></th>\n",
       "      <th></th>\n",
       "    </tr>\n",
       "  </thead>\n",
       "  <tbody>\n",
       "    <tr>\n",
       "      <th>2022-02</th>\n",
       "      <td>0.218301</td>\n",
       "      <td>A-</td>\n",
       "    </tr>\n",
       "    <tr>\n",
       "      <th>2022-03</th>\n",
       "      <td>0.177214</td>\n",
       "      <td>A-</td>\n",
       "    </tr>\n",
       "    <tr>\n",
       "      <th>2022-04</th>\n",
       "      <td>0.008771</td>\n",
       "      <td>A+</td>\n",
       "    </tr>\n",
       "    <tr>\n",
       "      <th>2022-06</th>\n",
       "      <td>0.037077</td>\n",
       "      <td>A+</td>\n",
       "    </tr>\n",
       "    <tr>\n",
       "      <th>2022-07</th>\n",
       "      <td>0.367655</td>\n",
       "      <td>B</td>\n",
       "    </tr>\n",
       "    <tr>\n",
       "      <th>2022-09</th>\n",
       "      <td>0.322622</td>\n",
       "      <td>B+</td>\n",
       "    </tr>\n",
       "    <tr>\n",
       "      <th>2022-10</th>\n",
       "      <td>0.671028</td>\n",
       "      <td>C-</td>\n",
       "    </tr>\n",
       "    <tr>\n",
       "      <th>2022-11</th>\n",
       "      <td>0.794297</td>\n",
       "      <td>D+</td>\n",
       "    </tr>\n",
       "    <tr>\n",
       "      <th>2023-01</th>\n",
       "      <td>0.350465</td>\n",
       "      <td>B</td>\n",
       "    </tr>\n",
       "    <tr>\n",
       "      <th>2023-02</th>\n",
       "      <td>0.097250</td>\n",
       "      <td>A</td>\n",
       "    </tr>\n",
       "    <tr>\n",
       "      <th>2023-03</th>\n",
       "      <td>0.928920</td>\n",
       "      <td>D-</td>\n",
       "    </tr>\n",
       "    <tr>\n",
       "      <th>2023-04</th>\n",
       "      <td>0.296751</td>\n",
       "      <td>B+</td>\n",
       "    </tr>\n",
       "    <tr>\n",
       "      <th>2023-05</th>\n",
       "      <td>0.369086</td>\n",
       "      <td>B</td>\n",
       "    </tr>\n",
       "  </tbody>\n",
       "</table>\n",
       "</div>"
      ],
      "text/plain": [
       "            Negative ESG_Controversy\n",
       "year_month                          \n",
       "2022-02     0.218301              A-\n",
       "2022-03     0.177214              A-\n",
       "2022-04     0.008771              A+\n",
       "2022-06     0.037077              A+\n",
       "2022-07     0.367655               B\n",
       "2022-09     0.322622              B+\n",
       "2022-10     0.671028              C-\n",
       "2022-11     0.794297              D+\n",
       "2023-01     0.350465               B\n",
       "2023-02     0.097250               A\n",
       "2023-03     0.928920              D-\n",
       "2023-04     0.296751              B+\n",
       "2023-05     0.369086               B"
      ]
     },
     "execution_count": 24,
     "metadata": {},
     "output_type": "execute_result"
    }
   ],
   "source": [
    "agg_score_barclays_monthly"
   ]
  },
  {
   "cell_type": "markdown",
   "metadata": {},
   "source": [
    "## 3.4 Proof"
   ]
  },
  {
   "cell_type": "code",
   "execution_count": 25,
   "metadata": {
    "ExecuteTime": {
     "end_time": "2023-05-19T07:51:23.914763Z",
     "start_time": "2023-05-19T07:51:23.898153Z"
    }
   },
   "outputs": [],
   "source": [
    "proof_df_1 = df_barc_pp[df_barc_pp['year_month'] == '2022-03']"
   ]
  },
  {
   "cell_type": "code",
   "execution_count": 26,
   "metadata": {
    "ExecuteTime": {
     "end_time": "2023-05-19T07:51:24.582798Z",
     "start_time": "2023-05-19T07:51:24.577559Z"
    }
   },
   "outputs": [],
   "source": [
    "proof_df_1 = proof_df_1[['year_month', 'text_pp', 'Positive', 'Negative', 'Neutral']]"
   ]
  },
  {
   "cell_type": "code",
   "execution_count": 27,
   "metadata": {
    "ExecuteTime": {
     "end_time": "2023-05-19T07:51:26.389747Z",
     "start_time": "2023-05-19T07:51:26.383221Z"
    }
   },
   "outputs": [
    {
     "name": "stdout",
     "output_type": "stream",
     "text": [
      "barclays hires from moelis for activism defense esg group\n",
      "barclays sets final exit dates on progressive phase out of thermal coal financing\n",
      "buzz barclays shares take a knock from 590 mln loss from mishandled product sales\n",
      "exclusive ascent resources llc working with citigroup inc c n and barclays plc barc l on potential ipo that may value u s gas producer at 6 bln sources\n",
      "barclays raises u s minimum hourly wage to 20 50\n"
     ]
    }
   ],
   "source": [
    "for i in range(proof_df_1.shape[0]):\n",
    "    print(proof_df_1.iloc[i, 1])"
   ]
  },
  {
   "cell_type": "markdown",
   "metadata": {},
   "source": [
    "## 3.5 Caveat"
   ]
  },
  {
   "cell_type": "markdown",
   "metadata": {},
   "source": [
    "---"
   ]
  },
  {
   "cell_type": "code",
   "execution_count": 28,
   "metadata": {
    "ExecuteTime": {
     "end_time": "2023-05-19T07:51:28.225578Z",
     "start_time": "2023-05-19T07:51:28.209590Z"
    }
   },
   "outputs": [
    {
     "data": {
      "text/html": [
       "<div>\n",
       "<style scoped>\n",
       "    .dataframe tbody tr th:only-of-type {\n",
       "        vertical-align: middle;\n",
       "    }\n",
       "\n",
       "    .dataframe tbody tr th {\n",
       "        vertical-align: top;\n",
       "    }\n",
       "\n",
       "    .dataframe thead th {\n",
       "        text-align: right;\n",
       "    }\n",
       "</style>\n",
       "<table border=\"1\" class=\"dataframe\">\n",
       "  <thead>\n",
       "    <tr style=\"text-align: right;\">\n",
       "      <th></th>\n",
       "      <th>year_month</th>\n",
       "      <th>year</th>\n",
       "      <th>versionCreated</th>\n",
       "      <th>storyId</th>\n",
       "      <th>text_pp</th>\n",
       "      <th>Positive</th>\n",
       "      <th>Negative</th>\n",
       "      <th>Neutral</th>\n",
       "    </tr>\n",
       "  </thead>\n",
       "  <tbody>\n",
       "    <tr>\n",
       "      <th>44</th>\n",
       "      <td>2022-03</td>\n",
       "      <td>2022</td>\n",
       "      <td>2022-03-31 12:00:00</td>\n",
       "      <td>urn:newsml:newswire.refinitiv.com:20220331:nL2...</td>\n",
       "      <td>exclusive ascent resources llc working with ci...</td>\n",
       "      <td>0.806450</td>\n",
       "      <td>0.011091</td>\n",
       "      <td>0.182459</td>\n",
       "    </tr>\n",
       "    <tr>\n",
       "      <th>15</th>\n",
       "      <td>2022-04</td>\n",
       "      <td>2022</td>\n",
       "      <td>2022-04-28 06:01:47</td>\n",
       "      <td>urn:newsml:newswire.refinitiv.com:20220428:nTU...</td>\n",
       "      <td>barclays barc l legacy loan portfolio a custom...</td>\n",
       "      <td>0.796807</td>\n",
       "      <td>0.009103</td>\n",
       "      <td>0.194089</td>\n",
       "    </tr>\n",
       "    <tr>\n",
       "      <th>20</th>\n",
       "      <td>2022-04</td>\n",
       "      <td>2022</td>\n",
       "      <td>2022-04-28 06:01:47</td>\n",
       "      <td>urn:newsml:newswire.refinitiv.com:20220428:nTU...</td>\n",
       "      <td>barclays barc l legacy loan portfolio a custom...</td>\n",
       "      <td>0.796807</td>\n",
       "      <td>0.009103</td>\n",
       "      <td>0.194089</td>\n",
       "    </tr>\n",
       "    <tr>\n",
       "      <th>10</th>\n",
       "      <td>2022-06</td>\n",
       "      <td>2022</td>\n",
       "      <td>2022-06-24 06:00:36</td>\n",
       "      <td>urn:newsml:newswire.refinitiv.com:20220624:nTU...</td>\n",
       "      <td>barclays acquisition will enable barclays to b...</td>\n",
       "      <td>0.898236</td>\n",
       "      <td>0.006863</td>\n",
       "      <td>0.094901</td>\n",
       "    </tr>\n",
       "    <tr>\n",
       "      <th>40</th>\n",
       "      <td>2022-06</td>\n",
       "      <td>2022</td>\n",
       "      <td>2022-06-30 12:15:08</td>\n",
       "      <td>urn:newsml:newswire.refinitiv.com:20220630:nL8...</td>\n",
       "      <td>corrected unite increase targeted towards lowe...</td>\n",
       "      <td>0.871343</td>\n",
       "      <td>0.050939</td>\n",
       "      <td>0.077718</td>\n",
       "    </tr>\n",
       "  </tbody>\n",
       "</table>\n",
       "</div>"
      ],
      "text/plain": [
       "   year_month  year      versionCreated  \\\n",
       "44    2022-03  2022 2022-03-31 12:00:00   \n",
       "15    2022-04  2022 2022-04-28 06:01:47   \n",
       "20    2022-04  2022 2022-04-28 06:01:47   \n",
       "10    2022-06  2022 2022-06-24 06:00:36   \n",
       "40    2022-06  2022 2022-06-30 12:15:08   \n",
       "\n",
       "                                              storyId  \\\n",
       "44  urn:newsml:newswire.refinitiv.com:20220331:nL2...   \n",
       "15  urn:newsml:newswire.refinitiv.com:20220428:nTU...   \n",
       "20  urn:newsml:newswire.refinitiv.com:20220428:nTU...   \n",
       "10  urn:newsml:newswire.refinitiv.com:20220624:nTU...   \n",
       "40  urn:newsml:newswire.refinitiv.com:20220630:nL8...   \n",
       "\n",
       "                                              text_pp  Positive  Negative  \\\n",
       "44  exclusive ascent resources llc working with ci...  0.806450  0.011091   \n",
       "15  barclays barc l legacy loan portfolio a custom...  0.796807  0.009103   \n",
       "20  barclays barc l legacy loan portfolio a custom...  0.796807  0.009103   \n",
       "10  barclays acquisition will enable barclays to b...  0.898236  0.006863   \n",
       "40  corrected unite increase targeted towards lowe...  0.871343  0.050939   \n",
       "\n",
       "     Neutral  \n",
       "44  0.182459  \n",
       "15  0.194089  \n",
       "20  0.194089  \n",
       "10  0.094901  \n",
       "40  0.077718  "
      ]
     },
     "execution_count": 28,
     "metadata": {},
     "output_type": "execute_result"
    }
   ],
   "source": [
    "df_barc_pp[df_barc_pp['Positive'] > 0.7].head()"
   ]
  },
  {
   "cell_type": "code",
   "execution_count": 29,
   "metadata": {
    "ExecuteTime": {
     "end_time": "2023-05-19T07:51:29.878050Z",
     "start_time": "2023-05-19T07:51:29.863742Z"
    }
   },
   "outputs": [
    {
     "data": {
      "text/html": [
       "<div>\n",
       "<style scoped>\n",
       "    .dataframe tbody tr th:only-of-type {\n",
       "        vertical-align: middle;\n",
       "    }\n",
       "\n",
       "    .dataframe tbody tr th {\n",
       "        vertical-align: top;\n",
       "    }\n",
       "\n",
       "    .dataframe thead th {\n",
       "        text-align: right;\n",
       "    }\n",
       "</style>\n",
       "<table border=\"1\" class=\"dataframe\">\n",
       "  <thead>\n",
       "    <tr style=\"text-align: right;\">\n",
       "      <th></th>\n",
       "      <th>year_month</th>\n",
       "      <th>year</th>\n",
       "      <th>versionCreated</th>\n",
       "      <th>storyId</th>\n",
       "      <th>text_pp</th>\n",
       "      <th>Positive</th>\n",
       "      <th>Negative</th>\n",
       "      <th>Neutral</th>\n",
       "    </tr>\n",
       "  </thead>\n",
       "  <tbody>\n",
       "    <tr>\n",
       "      <th>2</th>\n",
       "      <td>2023-05</td>\n",
       "      <td>2023</td>\n",
       "      <td>2023-05-03 07:36:33</td>\n",
       "      <td>urn:newsml:newswire.refinitiv.com:20230503:nL8...</td>\n",
       "      <td>barclays tells beef companies they must have a...</td>\n",
       "      <td>0.295584</td>\n",
       "      <td>0.016970</td>\n",
       "      <td>0.687446</td>\n",
       "    </tr>\n",
       "    <tr>\n",
       "      <th>1</th>\n",
       "      <td>2023-05</td>\n",
       "      <td>2023</td>\n",
       "      <td>2023-05-03 07:36:47</td>\n",
       "      <td>urn:newsml:newswire.refinitiv.com:20230503:nL8...</td>\n",
       "      <td>barclays toughens deforestation rules for beef...</td>\n",
       "      <td>0.187678</td>\n",
       "      <td>0.101993</td>\n",
       "      <td>0.710329</td>\n",
       "    </tr>\n",
       "    <tr>\n",
       "      <th>0</th>\n",
       "      <td>2023-05</td>\n",
       "      <td>2023</td>\n",
       "      <td>2023-05-03 09:29:15</td>\n",
       "      <td>urn:newsml:newswire.refinitiv.com:20230503:nL1...</td>\n",
       "      <td>update 1 barclays toughens deforestation rules...</td>\n",
       "      <td>0.262882</td>\n",
       "      <td>0.182026</td>\n",
       "      <td>0.555093</td>\n",
       "    </tr>\n",
       "    <tr>\n",
       "      <th>6</th>\n",
       "      <td>2023-05</td>\n",
       "      <td>2023</td>\n",
       "      <td>2023-05-03 11:47:43</td>\n",
       "      <td>urn:newsml:newswire.refinitiv.com:20230503:nFW...</td>\n",
       "      <td>barclays tightened thermal coal policy now in ...</td>\n",
       "      <td>0.572601</td>\n",
       "      <td>0.054436</td>\n",
       "      <td>0.372963</td>\n",
       "    </tr>\n",
       "    <tr>\n",
       "      <th>5</th>\n",
       "      <td>2023-05</td>\n",
       "      <td>2023</td>\n",
       "      <td>2023-05-03 12:34:25</td>\n",
       "      <td>urn:newsml:newswire.refinitiv.com:20230503:nFW...</td>\n",
       "      <td>brief barclays says it has tightened its therm...</td>\n",
       "      <td>0.050023</td>\n",
       "      <td>0.821592</td>\n",
       "      <td>0.128385</td>\n",
       "    </tr>\n",
       "  </tbody>\n",
       "</table>\n",
       "</div>"
      ],
      "text/plain": [
       "  year_month  year      versionCreated  \\\n",
       "2    2023-05  2023 2023-05-03 07:36:33   \n",
       "1    2023-05  2023 2023-05-03 07:36:47   \n",
       "0    2023-05  2023 2023-05-03 09:29:15   \n",
       "6    2023-05  2023 2023-05-03 11:47:43   \n",
       "5    2023-05  2023 2023-05-03 12:34:25   \n",
       "\n",
       "                                             storyId  \\\n",
       "2  urn:newsml:newswire.refinitiv.com:20230503:nL8...   \n",
       "1  urn:newsml:newswire.refinitiv.com:20230503:nL8...   \n",
       "0  urn:newsml:newswire.refinitiv.com:20230503:nL1...   \n",
       "6  urn:newsml:newswire.refinitiv.com:20230503:nFW...   \n",
       "5  urn:newsml:newswire.refinitiv.com:20230503:nFW...   \n",
       "\n",
       "                                             text_pp  Positive  Negative  \\\n",
       "2  barclays tells beef companies they must have a...  0.295584  0.016970   \n",
       "1  barclays toughens deforestation rules for beef...  0.187678  0.101993   \n",
       "0  update 1 barclays toughens deforestation rules...  0.262882  0.182026   \n",
       "6  barclays tightened thermal coal policy now in ...  0.572601  0.054436   \n",
       "5  brief barclays says it has tightened its therm...  0.050023  0.821592   \n",
       "\n",
       "    Neutral  \n",
       "2  0.687446  \n",
       "1  0.710329  \n",
       "0  0.555093  \n",
       "6  0.372963  \n",
       "5  0.128385  "
      ]
     },
     "execution_count": 29,
     "metadata": {},
     "output_type": "execute_result"
    }
   ],
   "source": [
    "df_barc_pp.tail()"
   ]
  },
  {
   "cell_type": "code",
   "execution_count": null,
   "metadata": {
    "ExecuteTime": {
     "end_time": "2023-05-19T07:51:32.047006Z",
     "start_time": "2023-05-19T07:51:30.066138Z"
    }
   },
   "outputs": [],
   "source": [
    "df_barc_pp.loc[931]['text_pp'][0]"
   ]
  },
  {
   "cell_type": "code",
   "execution_count": null,
   "metadata": {
    "ExecuteTime": {
     "end_time": "2023-05-19T07:51:32.047867Z",
     "start_time": "2023-05-19T07:51:32.047861Z"
    }
   },
   "outputs": [],
   "source": [
    "df_barc_pp.loc[931]['Positive']"
   ]
  },
  {
   "cell_type": "code",
   "execution_count": null,
   "metadata": {
    "ExecuteTime": {
     "end_time": "2023-05-18T15:02:57.353445Z",
     "start_time": "2023-05-18T15:02:57.343639Z"
    }
   },
   "outputs": [],
   "source": [
    "df_barc_pp.loc[931]['Negative']"
   ]
  },
  {
   "cell_type": "code",
   "execution_count": null,
   "metadata": {
    "ExecuteTime": {
     "end_time": "2023-05-18T15:02:57.697222Z",
     "start_time": "2023-05-18T15:02:57.691214Z"
    }
   },
   "outputs": [],
   "source": [
    "df_barc_pp.loc[931]['Neutral']"
   ]
  },
  {
   "cell_type": "markdown",
   "metadata": {},
   "source": [
    "---"
   ]
  }
 ],
 "metadata": {
  "kernelspec": {
   "display_name": "Python 3 (ipykernel)",
   "language": "python",
   "name": "python3"
  },
  "language_info": {
   "codemirror_mode": {
    "name": "ipython",
    "version": 3
   },
   "file_extension": ".py",
   "mimetype": "text/x-python",
   "name": "python",
   "nbconvert_exporter": "python",
   "pygments_lexer": "ipython3",
   "version": "3.10.8"
  },
  "toc": {
   "base_numbering": 1,
   "nav_menu": {},
   "number_sections": false,
   "sideBar": true,
   "skip_h1_title": false,
   "title_cell": "Table of Contents",
   "title_sidebar": "Contents",
   "toc_cell": false,
   "toc_position": {
    "height": "calc(100% - 180px)",
    "left": "10px",
    "top": "150px",
    "width": "248.75px"
   },
   "toc_section_display": true,
   "toc_window_display": true
  }
 },
 "nbformat": 4,
 "nbformat_minor": 2
}
